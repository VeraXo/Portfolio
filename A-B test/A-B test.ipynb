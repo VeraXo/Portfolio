{
 "cells": [
  {
   "cell_type": "markdown",
   "metadata": {},
   "source": [
    "**Анализ результатов А/В теста по изучению влияния  улучшенной рекомендательной  системы на метрики деятельности интернет-магазина.**"
   ]
  },
  {
   "cell_type": "markdown",
   "metadata": {},
   "source": [
    "Некий интернет магазин (характер деятельности не раскрыт) провёл тестирование изменений, связанных с внедрением улучшенной рекомендательной системы. \n",
    "Техническое задание:\n",
    "* Название теста: recommender_system_test ;\n",
    "* группы: А — контрольная, B — новая платёжная воронка;\n",
    "* дата запуска: 2020-12-07;\n",
    "* дата остановки набора новых пользователей: 2020-12-21;\n",
    "* дата остановки: 2021-01-04;\n",
    "* аудитория: 15% новых пользователей из региона EU;\n",
    "* назначение теста: тестирование изменений, связанных с внедрением улучшенной рекомендательной системы;\n",
    "* ожидаемое количество участников теста: 6000;\n",
    "* ожидаемый эффект: за 14 дней с момента регистрации пользователи покажут улучшение каждой метрики не менее, чем на 10%:\n",
    "- конверсии в просмотр карточек товаров — событие product_page ,\n",
    "- просмотры корзины — product_cart ,\n",
    "- покупки — purchase ."
   ]
  },
  {
   "cell_type": "markdown",
   "metadata": {},
   "source": [
    "## Предварительная обработка данных"
   ]
  },
  {
   "cell_type": "code",
   "execution_count": 1,
   "metadata": {},
   "outputs": [],
   "source": [
    "# импортировали все использованные в проекте библиотеки\n",
    "import pandas as pd\n",
    "import numpy as np\n",
    "import datetime as dt\n",
    "from datetime import timedelta\n",
    "import matplotlib.pyplot as plt\n",
    "import seaborn as sns\n",
    "import math as mth\n",
    "from plotly import graph_objects as go\n",
    "from scipy import stats as st\n",
    "import math as mth"
   ]
  },
  {
   "cell_type": "code",
   "execution_count": 2,
   "metadata": {},
   "outputs": [],
   "source": [
    "# прочитали все файлы\n",
    "participants = pd.read_csv('/datasets/final_ab_participants.csv')\n",
    "new_users = pd.read_csv('/datasets/final_ab_new_users.csv')\n",
    "events = pd.read_csv('/datasets/final_ab_events.csv')\n",
    "marketing_events = pd.read_csv('/datasets/ab_project_marketing_events.csv')"
   ]
  },
  {
   "cell_type": "markdown",
   "metadata": {},
   "source": [
    "### Сведения о участниках теста"
   ]
  },
  {
   "cell_type": "code",
   "execution_count": 3,
   "metadata": {},
   "outputs": [
    {
     "name": "stdout",
     "output_type": "stream",
     "text": [
      "<class 'pandas.core.frame.DataFrame'>\n",
      "RangeIndex: 18268 entries, 0 to 18267\n",
      "Data columns (total 3 columns):\n",
      " #   Column   Non-Null Count  Dtype \n",
      "---  ------   --------------  ----- \n",
      " 0   user_id  18268 non-null  object\n",
      " 1   group    18268 non-null  object\n",
      " 2   ab_test  18268 non-null  object\n",
      "dtypes: object(3)\n",
      "memory usage: 428.3+ KB\n"
     ]
    },
    {
     "data": {
      "text/html": [
       "<div>\n",
       "<style scoped>\n",
       "    .dataframe tbody tr th:only-of-type {\n",
       "        vertical-align: middle;\n",
       "    }\n",
       "\n",
       "    .dataframe tbody tr th {\n",
       "        vertical-align: top;\n",
       "    }\n",
       "\n",
       "    .dataframe thead th {\n",
       "        text-align: right;\n",
       "    }\n",
       "</style>\n",
       "<table border=\"1\" class=\"dataframe\">\n",
       "  <thead>\n",
       "    <tr style=\"text-align: right;\">\n",
       "      <th></th>\n",
       "      <th>user_id</th>\n",
       "      <th>group</th>\n",
       "      <th>ab_test</th>\n",
       "    </tr>\n",
       "  </thead>\n",
       "  <tbody>\n",
       "    <tr>\n",
       "      <th>0</th>\n",
       "      <td>D1ABA3E2887B6A73</td>\n",
       "      <td>A</td>\n",
       "      <td>recommender_system_test</td>\n",
       "    </tr>\n",
       "    <tr>\n",
       "      <th>1</th>\n",
       "      <td>A7A3664BD6242119</td>\n",
       "      <td>A</td>\n",
       "      <td>recommender_system_test</td>\n",
       "    </tr>\n",
       "    <tr>\n",
       "      <th>2</th>\n",
       "      <td>DABC14FDDFADD29E</td>\n",
       "      <td>A</td>\n",
       "      <td>recommender_system_test</td>\n",
       "    </tr>\n",
       "    <tr>\n",
       "      <th>3</th>\n",
       "      <td>04988C5DF189632E</td>\n",
       "      <td>A</td>\n",
       "      <td>recommender_system_test</td>\n",
       "    </tr>\n",
       "    <tr>\n",
       "      <th>4</th>\n",
       "      <td>482F14783456D21B</td>\n",
       "      <td>B</td>\n",
       "      <td>recommender_system_test</td>\n",
       "    </tr>\n",
       "  </tbody>\n",
       "</table>\n",
       "</div>"
      ],
      "text/plain": [
       "            user_id group                  ab_test\n",
       "0  D1ABA3E2887B6A73     A  recommender_system_test\n",
       "1  A7A3664BD6242119     A  recommender_system_test\n",
       "2  DABC14FDDFADD29E     A  recommender_system_test\n",
       "3  04988C5DF189632E     A  recommender_system_test\n",
       "4  482F14783456D21B     B  recommender_system_test"
      ]
     },
     "execution_count": 3,
     "metadata": {},
     "output_type": "execute_result"
    }
   ],
   "source": [
    "# ознакомились с данными \n",
    "participants.info()\n",
    "participants.head()"
   ]
  },
  {
   "cell_type": "code",
   "execution_count": 4,
   "metadata": {},
   "outputs": [
    {
     "name": "stdout",
     "output_type": "stream",
     "text": [
      "user_id    0.0\n",
      "group      0.0\n",
      "ab_test    0.0\n",
      "dtype: float64\n",
      "0\n",
      "16666\n"
     ]
    }
   ],
   "source": [
    "# проверили на пропуски\n",
    "print(participants.isna().mean())\n",
    "# проверили на явные дубликаты\n",
    "print(participants.duplicated().sum())\n",
    "# посмотрели количество уникальных пользователей\n",
    "print(participants['user_id'].nunique())"
   ]
  },
  {
   "cell_type": "code",
   "execution_count": 5,
   "metadata": {},
   "outputs": [
    {
     "data": {
      "text/plain": [
       "array(['recommender_system_test', 'interface_eu_test'], dtype=object)"
      ]
     },
     "execution_count": 5,
     "metadata": {},
     "output_type": "execute_result"
    }
   ],
   "source": [
    "# какие тесты представлены в файле\n",
    "participants['ab_test'].unique()"
   ]
  },
  {
   "cell_type": "markdown",
   "metadata": {},
   "source": [
    "В датафрейме имеются данные о проведении двух тестов."
   ]
  },
  {
   "cell_type": "code",
   "execution_count": 6,
   "metadata": {},
   "outputs": [
    {
     "data": {
      "text/html": [
       "<div>\n",
       "<style scoped>\n",
       "    .dataframe tbody tr th:only-of-type {\n",
       "        vertical-align: middle;\n",
       "    }\n",
       "\n",
       "    .dataframe tbody tr th {\n",
       "        vertical-align: top;\n",
       "    }\n",
       "\n",
       "    .dataframe thead th {\n",
       "        text-align: right;\n",
       "    }\n",
       "</style>\n",
       "<table border=\"1\" class=\"dataframe\">\n",
       "  <thead>\n",
       "    <tr style=\"text-align: right;\">\n",
       "      <th>ab_test</th>\n",
       "      <th>group</th>\n",
       "      <th>interface_eu_test</th>\n",
       "      <th>recommender_system_test</th>\n",
       "    </tr>\n",
       "  </thead>\n",
       "  <tbody>\n",
       "    <tr>\n",
       "      <th>0</th>\n",
       "      <td>A</td>\n",
       "      <td>5831</td>\n",
       "      <td>3824</td>\n",
       "    </tr>\n",
       "    <tr>\n",
       "      <th>1</th>\n",
       "      <td>B</td>\n",
       "      <td>5736</td>\n",
       "      <td>2877</td>\n",
       "    </tr>\n",
       "  </tbody>\n",
       "</table>\n",
       "</div>"
      ],
      "text/plain": [
       "ab_test group  interface_eu_test  recommender_system_test\n",
       "0           A               5831                     3824\n",
       "1           B               5736                     2877"
      ]
     },
     "execution_count": 6,
     "metadata": {},
     "output_type": "execute_result"
    }
   ],
   "source": [
    "# распределение пользователей по группам в разных тестах\n",
    "participants.pivot_table(index='group', columns='ab_test', values='user_id', aggfunc='nunique',).reset_index()"
   ]
  },
  {
   "cell_type": "markdown",
   "metadata": {},
   "source": [
    "Оказалось, что в таблице сведения о тестировании двух новшеств: изменение интерфуйса и изменения рекомендательной системы. Интерфейс - тест более мощный и группы равномерно распределены. Проверили наличие пользователей, которые участвуют сразу в двух экспериментах."
   ]
  },
  {
   "cell_type": "code",
   "execution_count": 7,
   "metadata": {},
   "outputs": [
    {
     "data": {
      "text/plain": [
       "1602"
      ]
     },
     "execution_count": 7,
     "metadata": {},
     "output_type": "execute_result"
    }
   ],
   "source": [
    "# количество пользователей, попавших в оба теста\n",
    "participants.groupby('user_id').agg({'ab_test':'nunique'}).query('ab_test > 1').shape[0]\n"
   ]
  },
  {
   "cell_type": "markdown",
   "metadata": {},
   "source": [
    "Участие пользователей в двух тестах не критично, если тесты проводились в разное время. Разделили таблицу на две, для каждого теста свою. Проверили наличие пользователей, которые попали в две группы внутри одного теста."
   ]
  },
  {
   "cell_type": "code",
   "execution_count": 8,
   "metadata": {},
   "outputs": [
    {
     "name": "stdout",
     "output_type": "stream",
     "text": [
      "Одновременно в двух группах тест interface 0\n",
      "Одновременно в двух группах тест recommender 0\n",
      "Количество пользователей, участвующих в интерфейс-тесте 11567\n",
      "Количество пользователей, участвующих в рекомендации-тесте 6701\n"
     ]
    }
   ],
   "source": [
    "interface = participants.query('ab_test == \"interface_eu_test\"')\n",
    "interface = interface.drop('ab_test', axis=1)\n",
    "\n",
    "recommender = participants.query('ab_test == \"recommender_system_test\"')\n",
    "recommender = recommender.drop('ab_test', axis=1)\n",
    "# проверили наличие пользователей, которые включены в две группы в пределах одного теста\n",
    "print('Одновременно в двух группах тест interface', interface.groupby('user_id').agg({'group':'nunique'}).query('group > 1').shape[0])\n",
    "print('Одновременно в двух группах тест recommender', recommender.groupby('user_id').agg({'group':'nunique'}).query('group > 1').shape[0])\n",
    "print('Количество пользователей, участвующих в интерфейс-тесте', interface['user_id'].nunique())\n",
    "print('Количество пользователей, участвующих в рекомендации-тесте', recommender['user_id'].nunique())"
   ]
  },
  {
   "cell_type": "code",
   "execution_count": 9,
   "metadata": {},
   "outputs": [
    {
     "data": {
      "text/html": [
       "<div>\n",
       "<style scoped>\n",
       "    .dataframe tbody tr th:only-of-type {\n",
       "        vertical-align: middle;\n",
       "    }\n",
       "\n",
       "    .dataframe tbody tr th {\n",
       "        vertical-align: top;\n",
       "    }\n",
       "\n",
       "    .dataframe thead th {\n",
       "        text-align: right;\n",
       "    }\n",
       "</style>\n",
       "<table border=\"1\" class=\"dataframe\">\n",
       "  <thead>\n",
       "    <tr style=\"text-align: right;\">\n",
       "      <th></th>\n",
       "      <th>user_id</th>\n",
       "      <th>ab_test</th>\n",
       "    </tr>\n",
       "  </thead>\n",
       "  <tbody>\n",
       "    <tr>\n",
       "      <th>0</th>\n",
       "      <td>001064FEAAB631A1</td>\n",
       "      <td>2</td>\n",
       "    </tr>\n",
       "    <tr>\n",
       "      <th>1</th>\n",
       "      <td>010DB4614355A4BB</td>\n",
       "      <td>2</td>\n",
       "    </tr>\n",
       "    <tr>\n",
       "      <th>2</th>\n",
       "      <td>020A95B66F363AFB</td>\n",
       "      <td>2</td>\n",
       "    </tr>\n",
       "    <tr>\n",
       "      <th>3</th>\n",
       "      <td>022A97E4F285BD73</td>\n",
       "      <td>2</td>\n",
       "    </tr>\n",
       "    <tr>\n",
       "      <th>4</th>\n",
       "      <td>02A553C0C9716E82</td>\n",
       "      <td>2</td>\n",
       "    </tr>\n",
       "    <tr>\n",
       "      <th>...</th>\n",
       "      <td>...</td>\n",
       "      <td>...</td>\n",
       "    </tr>\n",
       "    <tr>\n",
       "      <th>339</th>\n",
       "      <td>FC37CBE8211E02A8</td>\n",
       "      <td>2</td>\n",
       "    </tr>\n",
       "    <tr>\n",
       "      <th>340</th>\n",
       "      <td>FD2E811B409ADB85</td>\n",
       "      <td>2</td>\n",
       "    </tr>\n",
       "    <tr>\n",
       "      <th>341</th>\n",
       "      <td>FF7BE2897FC0380D</td>\n",
       "      <td>2</td>\n",
       "    </tr>\n",
       "    <tr>\n",
       "      <th>342</th>\n",
       "      <td>FF9A81323FA67D6E</td>\n",
       "      <td>2</td>\n",
       "    </tr>\n",
       "    <tr>\n",
       "      <th>343</th>\n",
       "      <td>FFED90241D04503F</td>\n",
       "      <td>2</td>\n",
       "    </tr>\n",
       "  </tbody>\n",
       "</table>\n",
       "<p>344 rows × 2 columns</p>\n",
       "</div>"
      ],
      "text/plain": [
       "              user_id  ab_test\n",
       "0    001064FEAAB631A1        2\n",
       "1    010DB4614355A4BB        2\n",
       "2    020A95B66F363AFB        2\n",
       "3    022A97E4F285BD73        2\n",
       "4    02A553C0C9716E82        2\n",
       "..                ...      ...\n",
       "339  FC37CBE8211E02A8        2\n",
       "340  FD2E811B409ADB85        2\n",
       "341  FF7BE2897FC0380D        2\n",
       "342  FF9A81323FA67D6E        2\n",
       "343  FFED90241D04503F        2\n",
       "\n",
       "[344 rows x 2 columns]"
      ]
     },
     "execution_count": 9,
     "metadata": {},
     "output_type": "execute_result"
    }
   ],
   "source": [
    "# количество пользователей, участвующих в двух тестах в группе \"B\" \n",
    "bb = participants.query('group == \"B\"').groupby('user_id').agg({'ab_test':'nunique'}).query('ab_test > 1').reset_index()\n",
    "bb"
   ]
  },
  {
   "cell_type": "markdown",
   "metadata": {},
   "source": [
    "Если тесты проводятся в одно время, то попадание пользователя в группу \"В\" в двух тестах одновременно будет означать, что на изменение его поведения одновременно влияют 2 фактора и разделить это влияние невозможно. Полагаем, что в группе \"А\" всегда находятся пользователи, которым не предлагают никаких новшеств. В принципе, группа \"А\" может быть общей для нескольких испытаний."
   ]
  },
  {
   "cell_type": "markdown",
   "metadata": {},
   "source": [
    "**Вывод**\n",
    "\n",
    "    Данные о участниках теста содержат сведения о проведении двух тестов, 1602 пользователя приняли участие в двух тестах одновременно. Если тесты проводили в разное время, то на результаты тестирования это не повлияет. Нет участников, включенных в обе группы внутри одного теста. Название интерфейс-теста `interface_eu_test` намекает, что его проводили среди пользователей из Евросоюза.\n",
    "    \n",
    "    Вопрос о исключении из исследования пользователей, оказавшихся в двух тестах, целесообразно решить после присоединения сведений о регистрации новых пользователей.     "
   ]
  },
  {
   "cell_type": "markdown",
   "metadata": {},
   "source": [
    "### Сведения о новых пользователях, зарегистрировавшихся с начала теста."
   ]
  },
  {
   "cell_type": "code",
   "execution_count": 10,
   "metadata": {},
   "outputs": [
    {
     "name": "stdout",
     "output_type": "stream",
     "text": [
      "<class 'pandas.core.frame.DataFrame'>\n",
      "RangeIndex: 61733 entries, 0 to 61732\n",
      "Data columns (total 4 columns):\n",
      " #   Column      Non-Null Count  Dtype \n",
      "---  ------      --------------  ----- \n",
      " 0   user_id     61733 non-null  object\n",
      " 1   first_date  61733 non-null  object\n",
      " 2   region      61733 non-null  object\n",
      " 3   device      61733 non-null  object\n",
      "dtypes: object(4)\n",
      "memory usage: 1.9+ MB\n"
     ]
    },
    {
     "data": {
      "text/html": [
       "<div>\n",
       "<style scoped>\n",
       "    .dataframe tbody tr th:only-of-type {\n",
       "        vertical-align: middle;\n",
       "    }\n",
       "\n",
       "    .dataframe tbody tr th {\n",
       "        vertical-align: top;\n",
       "    }\n",
       "\n",
       "    .dataframe thead th {\n",
       "        text-align: right;\n",
       "    }\n",
       "</style>\n",
       "<table border=\"1\" class=\"dataframe\">\n",
       "  <thead>\n",
       "    <tr style=\"text-align: right;\">\n",
       "      <th></th>\n",
       "      <th>user_id</th>\n",
       "      <th>first_date</th>\n",
       "      <th>region</th>\n",
       "      <th>device</th>\n",
       "    </tr>\n",
       "  </thead>\n",
       "  <tbody>\n",
       "    <tr>\n",
       "      <th>0</th>\n",
       "      <td>D72A72121175D8BE</td>\n",
       "      <td>2020-12-07</td>\n",
       "      <td>EU</td>\n",
       "      <td>PC</td>\n",
       "    </tr>\n",
       "    <tr>\n",
       "      <th>1</th>\n",
       "      <td>F1C668619DFE6E65</td>\n",
       "      <td>2020-12-07</td>\n",
       "      <td>N.America</td>\n",
       "      <td>Android</td>\n",
       "    </tr>\n",
       "    <tr>\n",
       "      <th>2</th>\n",
       "      <td>2E1BF1D4C37EA01F</td>\n",
       "      <td>2020-12-07</td>\n",
       "      <td>EU</td>\n",
       "      <td>PC</td>\n",
       "    </tr>\n",
       "    <tr>\n",
       "      <th>3</th>\n",
       "      <td>50734A22C0C63768</td>\n",
       "      <td>2020-12-07</td>\n",
       "      <td>EU</td>\n",
       "      <td>iPhone</td>\n",
       "    </tr>\n",
       "    <tr>\n",
       "      <th>4</th>\n",
       "      <td>E1BDDCE0DAFA2679</td>\n",
       "      <td>2020-12-07</td>\n",
       "      <td>N.America</td>\n",
       "      <td>iPhone</td>\n",
       "    </tr>\n",
       "  </tbody>\n",
       "</table>\n",
       "</div>"
      ],
      "text/plain": [
       "            user_id  first_date     region   device\n",
       "0  D72A72121175D8BE  2020-12-07         EU       PC\n",
       "1  F1C668619DFE6E65  2020-12-07  N.America  Android\n",
       "2  2E1BF1D4C37EA01F  2020-12-07         EU       PC\n",
       "3  50734A22C0C63768  2020-12-07         EU   iPhone\n",
       "4  E1BDDCE0DAFA2679  2020-12-07  N.America   iPhone"
      ]
     },
     "execution_count": 10,
     "metadata": {},
     "output_type": "execute_result"
    }
   ],
   "source": [
    "new_users.info()\n",
    "new_users.head()"
   ]
  },
  {
   "cell_type": "markdown",
   "metadata": {},
   "source": [
    "структура файла neW_users новые пользователи, зарегистрировавшиеся с начала теста\n",
    "- user_id — идентификатор пользователя;\n",
    "- first_date — дата регистрации;\n",
    "- region — регион пользователя;\n",
    "- device — устройство, с которого происходила регистрация."
   ]
  },
  {
   "cell_type": "code",
   "execution_count": 11,
   "metadata": {},
   "outputs": [
    {
     "data": {
      "text/plain": [
       "array(['EU', 'N.America', 'APAC', 'CIS'], dtype=object)"
      ]
     },
     "execution_count": 11,
     "metadata": {},
     "output_type": "execute_result"
    }
   ],
   "source": [
    "# посмотрели регионы проведения теста\n",
    "new_users['region'].unique()"
   ]
  },
  {
   "cell_type": "code",
   "execution_count": 12,
   "metadata": {},
   "outputs": [],
   "source": [
    "# По техническому заданию \"аудитория: 15% новых пользователей из региона EU\", оставили для исследования\n",
    "# пользователей из 'EU'.\n",
    "new_users = new_users.query('region == \"EU\"')"
   ]
  },
  {
   "cell_type": "code",
   "execution_count": 13,
   "metadata": {},
   "outputs": [
    {
     "name": "stdout",
     "output_type": "stream",
     "text": [
      "user_id       0.0\n",
      "first_date    0.0\n",
      "region        0.0\n",
      "device        0.0\n",
      "dtype: float64\n",
      "0\n",
      "46270\n"
     ]
    }
   ],
   "source": [
    "# проверили на пропуски\n",
    "print(new_users.isna().mean())\n",
    "# проверили на явные дубликаты\n",
    "print(new_users.duplicated().sum())\n",
    "# посмотрели количество уникальных пользователей\n",
    "print(new_users['user_id'].nunique())"
   ]
  },
  {
   "cell_type": "code",
   "execution_count": 14,
   "metadata": {},
   "outputs": [
    {
     "name": "stdout",
     "output_type": "stream",
     "text": [
      "6940.5\n"
     ]
    }
   ],
   "source": [
    "print(new_users['user_id'].nunique()*0.15)"
   ]
  },
  {
   "cell_type": "markdown",
   "metadata": {},
   "source": [
    "Для выполнения условия  ТЗ, что аудитория теста: 15% новых пользователей из региона EU, размер выборки 6000 выполняется. Удалили колонки region (оставили только один регион) и device (для выполнения ТЗ сведения об устройстве не понадобятся), поменяли тип данных о времени."
   ]
  },
  {
   "cell_type": "code",
   "execution_count": 15,
   "metadata": {},
   "outputs": [
    {
     "name": "stdout",
     "output_type": "stream",
     "text": [
      "<class 'pandas.core.frame.DataFrame'>\n",
      "Int64Index: 46270 entries, 0 to 61732\n",
      "Data columns (total 2 columns):\n",
      " #   Column      Non-Null Count  Dtype         \n",
      "---  ------      --------------  -----         \n",
      " 0   user_id     46270 non-null  object        \n",
      " 1   first_date  46270 non-null  datetime64[ns]\n",
      "dtypes: datetime64[ns](1), object(1)\n",
      "memory usage: 1.1+ MB\n"
     ]
    }
   ],
   "source": [
    "new_users = new_users.drop(columns=['region', 'device'])\n",
    "# поменяли тип данных first_date\n",
    "new_users['first_date'] = new_users['first_date'].astype('datetime64')\n",
    "new_users.info()"
   ]
  },
  {
   "cell_type": "markdown",
   "metadata": {},
   "source": [
    "Проверили на соответствие ТЗ времени регистрации пользователей: дата запуска 07.12.2020, дата остановки набора новых пользователей 21.12.2020 года "
   ]
  },
  {
   "cell_type": "code",
   "execution_count": 16,
   "metadata": {},
   "outputs": [
    {
     "name": "stdout",
     "output_type": "stream",
     "text": [
      "2020-12-07 00:00:00\n",
      "2020-12-23 00:00:00\n"
     ]
    }
   ],
   "source": [
    "print(new_users['first_date'].min())\n",
    "print(new_users['first_date'].max())"
   ]
  },
  {
   "cell_type": "markdown",
   "metadata": {},
   "source": [
    "Два дня набора новых пользователей выпадают из условия ТЗ. Исключили тех, кто зарегистрировался позже срока, установленного ТЗ  "
   ]
  },
  {
   "cell_type": "code",
   "execution_count": 17,
   "metadata": {},
   "outputs": [
    {
     "data": {
      "text/plain": [
       "42340"
      ]
     },
     "execution_count": 17,
     "metadata": {},
     "output_type": "execute_result"
    }
   ],
   "source": [
    "new_users = new_users.query('first_date <= \"2020-12-21\"')\n",
    "new_users['user_id'].nunique()"
   ]
  },
  {
   "cell_type": "code",
   "execution_count": 18,
   "metadata": {},
   "outputs": [
    {
     "name": "stdout",
     "output_type": "stream",
     "text": [
      "2020-12-07 00:00:00\n",
      "2020-12-21 00:00:00\n"
     ]
    }
   ],
   "source": [
    "print(new_users['first_date'].min())\n",
    "print(new_users['first_date'].max())"
   ]
  },
  {
   "cell_type": "markdown",
   "metadata": {},
   "source": [
    "Удаление пользователей, зарегистрированных в Евросоюзе за два предрождественских  дня 22 и 23 декабря уменьшило выборку до 42340 пользователей."
   ]
  },
  {
   "cell_type": "code",
   "execution_count": 19,
   "metadata": {},
   "outputs": [
    {
     "data": {
      "text/plain": [
       "42340"
      ]
     },
     "execution_count": 19,
     "metadata": {},
     "output_type": "execute_result"
    }
   ],
   "source": [
    "# количество пользователей после удаления зарегистрированных вне диапзона, установленного ТЗ\n",
    "new_users['user_id'].nunique()"
   ]
  },
  {
   "cell_type": "markdown",
   "metadata": {},
   "source": [
    "**Вывод**\n",
    "\n",
    "В датафрейме о регистрации новых пользователей поменяли тип данных о времени. Пропусков и дубликатов не обнаружили.\n",
    "Руководствуясь условиями ТЗ из таблицы исключили пользователей из других регионов кроме Евросоюза, пользователей, зарегистрированных после даты остановки набора, установленной ТЗ, и колонки region и device. Получили сведения о 42340 пользователях."
   ]
  },
  {
   "cell_type": "markdown",
   "metadata": {},
   "source": [
    "### Cведения о событиях"
   ]
  },
  {
   "cell_type": "code",
   "execution_count": 20,
   "metadata": {},
   "outputs": [
    {
     "name": "stdout",
     "output_type": "stream",
     "text": [
      "<class 'pandas.core.frame.DataFrame'>\n",
      "RangeIndex: 440317 entries, 0 to 440316\n",
      "Data columns (total 4 columns):\n",
      " #   Column      Non-Null Count   Dtype  \n",
      "---  ------      --------------   -----  \n",
      " 0   user_id     440317 non-null  object \n",
      " 1   event_dt    440317 non-null  object \n",
      " 2   event_name  440317 non-null  object \n",
      " 3   details     62740 non-null   float64\n",
      "dtypes: float64(1), object(3)\n",
      "memory usage: 13.4+ MB\n"
     ]
    },
    {
     "data": {
      "text/html": [
       "<div>\n",
       "<style scoped>\n",
       "    .dataframe tbody tr th:only-of-type {\n",
       "        vertical-align: middle;\n",
       "    }\n",
       "\n",
       "    .dataframe tbody tr th {\n",
       "        vertical-align: top;\n",
       "    }\n",
       "\n",
       "    .dataframe thead th {\n",
       "        text-align: right;\n",
       "    }\n",
       "</style>\n",
       "<table border=\"1\" class=\"dataframe\">\n",
       "  <thead>\n",
       "    <tr style=\"text-align: right;\">\n",
       "      <th></th>\n",
       "      <th>user_id</th>\n",
       "      <th>event_dt</th>\n",
       "      <th>event_name</th>\n",
       "      <th>details</th>\n",
       "    </tr>\n",
       "  </thead>\n",
       "  <tbody>\n",
       "    <tr>\n",
       "      <th>0</th>\n",
       "      <td>E1BDDCE0DAFA2679</td>\n",
       "      <td>2020-12-07 20:22:03</td>\n",
       "      <td>purchase</td>\n",
       "      <td>99.99</td>\n",
       "    </tr>\n",
       "    <tr>\n",
       "      <th>1</th>\n",
       "      <td>7B6452F081F49504</td>\n",
       "      <td>2020-12-07 09:22:53</td>\n",
       "      <td>purchase</td>\n",
       "      <td>9.99</td>\n",
       "    </tr>\n",
       "    <tr>\n",
       "      <th>2</th>\n",
       "      <td>9CD9F34546DF254C</td>\n",
       "      <td>2020-12-07 12:59:29</td>\n",
       "      <td>purchase</td>\n",
       "      <td>4.99</td>\n",
       "    </tr>\n",
       "    <tr>\n",
       "      <th>3</th>\n",
       "      <td>96F27A054B191457</td>\n",
       "      <td>2020-12-07 04:02:40</td>\n",
       "      <td>purchase</td>\n",
       "      <td>4.99</td>\n",
       "    </tr>\n",
       "    <tr>\n",
       "      <th>4</th>\n",
       "      <td>1FD7660FDF94CA1F</td>\n",
       "      <td>2020-12-07 10:15:09</td>\n",
       "      <td>purchase</td>\n",
       "      <td>4.99</td>\n",
       "    </tr>\n",
       "  </tbody>\n",
       "</table>\n",
       "</div>"
      ],
      "text/plain": [
       "            user_id             event_dt event_name  details\n",
       "0  E1BDDCE0DAFA2679  2020-12-07 20:22:03   purchase    99.99\n",
       "1  7B6452F081F49504  2020-12-07 09:22:53   purchase     9.99\n",
       "2  9CD9F34546DF254C  2020-12-07 12:59:29   purchase     4.99\n",
       "3  96F27A054B191457  2020-12-07 04:02:40   purchase     4.99\n",
       "4  1FD7660FDF94CA1F  2020-12-07 10:15:09   purchase     4.99"
      ]
     },
     "execution_count": 20,
     "metadata": {},
     "output_type": "execute_result"
    }
   ],
   "source": [
    "events.info()\n",
    "events.head()"
   ]
  },
  {
   "cell_type": "markdown",
   "metadata": {},
   "source": [
    "Структура файла events\n",
    "- user_id — идентификатор пользователя;\n",
    "- event_dt — дата и время покупки;\n",
    "- event_name — тип события;\n",
    "- details — дополнительные данные о событии. Например, для покупок, purchase, в этом поле хранится стоимость покупки в долларах."
   ]
  },
  {
   "cell_type": "code",
   "execution_count": 21,
   "metadata": {},
   "outputs": [
    {
     "name": "stdout",
     "output_type": "stream",
     "text": [
      "<class 'pandas.core.frame.DataFrame'>\n",
      "RangeIndex: 440317 entries, 0 to 440316\n",
      "Data columns (total 3 columns):\n",
      " #   Column      Non-Null Count   Dtype         \n",
      "---  ------      --------------   -----         \n",
      " 0   user_id     440317 non-null  object        \n",
      " 1   event_dt    440317 non-null  datetime64[ns]\n",
      " 2   event_name  440317 non-null  object        \n",
      "dtypes: datetime64[ns](1), object(2)\n",
      "memory usage: 10.1+ MB\n"
     ]
    }
   ],
   "source": [
    "# поменяли тип данных events_dt\n",
    "events['event_dt'] = events['event_dt'].astype('datetime64')\n",
    "# избавились от колонки details, изучение данных о подробностях стоимости покупки не входят в задачу\n",
    "events = events.drop('details', axis=1)\n",
    "events.info()"
   ]
  },
  {
   "cell_type": "code",
   "execution_count": 22,
   "metadata": {},
   "outputs": [
    {
     "name": "stdout",
     "output_type": "stream",
     "text": [
      "user_id       0.0\n",
      "event_dt      0.0\n",
      "event_name    0.0\n",
      "dtype: float64\n",
      "0\n",
      "58703\n"
     ]
    }
   ],
   "source": [
    "# проверили на пропуски и дубликаты\n",
    "print(events.isna().mean())\n",
    "print(events.duplicated().sum())\n",
    "# количество уникальных пользователей\n",
    "print(events['user_id'].nunique())"
   ]
  },
  {
   "cell_type": "code",
   "execution_count": 23,
   "metadata": {},
   "outputs": [
    {
     "name": "stdout",
     "output_type": "stream",
     "text": [
      "2020-12-07 00:00:33\n",
      "2020-12-30 23:36:33\n"
     ]
    }
   ],
   "source": [
    "print(events['event_dt'].min())\n",
    "print(events['event_dt'].max())"
   ]
  },
  {
   "cell_type": "markdown",
   "metadata": {},
   "source": [
    "Согласно ТЗ дата остановки  2021-01-04. Фактически сведения о событиях представлены по 30 декабря 2020 года. Мы не можем изменить данные, чтобы они соотвествовали условию ТЗ и сообщим, что фактически дата остановки наблюдений - полночь 2020-12-30."
   ]
  },
  {
   "cell_type": "code",
   "execution_count": 24,
   "metadata": {},
   "outputs": [
    {
     "data": {
      "text/plain": [
       "array(['purchase', 'product_cart', 'product_page', 'login'], dtype=object)"
      ]
     },
     "execution_count": 24,
     "metadata": {},
     "output_type": "execute_result"
    }
   ],
   "source": [
    "# какие события совершали пользователи\n",
    "events['event_name'].unique()"
   ]
  },
  {
   "cell_type": "markdown",
   "metadata": {},
   "source": [
    "В логе всего 4 вида событий:\n",
    "- 'login' вход в сиситему,\n",
    "- 'product_page' продуктовая страница,\n",
    "- 'product_cart' продуктовая корзина,\n",
    "- 'purchase' поупка."
   ]
  },
  {
   "cell_type": "markdown",
   "metadata": {},
   "source": [
    "**Выводы**\n",
    "\n",
    "Данные о событиях содержат сведения о событиях, совершенных 58703 пользователями в период с 7 декабря по 30 декабря 2020 года. Поменяли тип данных о времени события. пропусков и дубликатов на обнаружили."
   ]
  },
  {
   "cell_type": "markdown",
   "metadata": {},
   "source": [
    "### Сведения о маркетинговых событиях    "
   ]
  },
  {
   "cell_type": "code",
   "execution_count": 25,
   "metadata": {
    "scrolled": true
   },
   "outputs": [
    {
     "name": "stdout",
     "output_type": "stream",
     "text": [
      "<class 'pandas.core.frame.DataFrame'>\n",
      "RangeIndex: 14 entries, 0 to 13\n",
      "Data columns (total 4 columns):\n",
      " #   Column     Non-Null Count  Dtype \n",
      "---  ------     --------------  ----- \n",
      " 0   name       14 non-null     object\n",
      " 1   regions    14 non-null     object\n",
      " 2   start_dt   14 non-null     object\n",
      " 3   finish_dt  14 non-null     object\n",
      "dtypes: object(4)\n",
      "memory usage: 576.0+ bytes\n"
     ]
    },
    {
     "data": {
      "text/html": [
       "<div>\n",
       "<style scoped>\n",
       "    .dataframe tbody tr th:only-of-type {\n",
       "        vertical-align: middle;\n",
       "    }\n",
       "\n",
       "    .dataframe tbody tr th {\n",
       "        vertical-align: top;\n",
       "    }\n",
       "\n",
       "    .dataframe thead th {\n",
       "        text-align: right;\n",
       "    }\n",
       "</style>\n",
       "<table border=\"1\" class=\"dataframe\">\n",
       "  <thead>\n",
       "    <tr style=\"text-align: right;\">\n",
       "      <th></th>\n",
       "      <th>name</th>\n",
       "      <th>regions</th>\n",
       "      <th>start_dt</th>\n",
       "      <th>finish_dt</th>\n",
       "    </tr>\n",
       "  </thead>\n",
       "  <tbody>\n",
       "    <tr>\n",
       "      <th>0</th>\n",
       "      <td>Christmas&amp;New Year Promo</td>\n",
       "      <td>EU, N.America</td>\n",
       "      <td>2020-12-25</td>\n",
       "      <td>2021-01-03</td>\n",
       "    </tr>\n",
       "    <tr>\n",
       "      <th>1</th>\n",
       "      <td>St. Valentine's Day Giveaway</td>\n",
       "      <td>EU, CIS, APAC, N.America</td>\n",
       "      <td>2020-02-14</td>\n",
       "      <td>2020-02-16</td>\n",
       "    </tr>\n",
       "    <tr>\n",
       "      <th>2</th>\n",
       "      <td>St. Patric's Day Promo</td>\n",
       "      <td>EU, N.America</td>\n",
       "      <td>2020-03-17</td>\n",
       "      <td>2020-03-19</td>\n",
       "    </tr>\n",
       "    <tr>\n",
       "      <th>3</th>\n",
       "      <td>Easter Promo</td>\n",
       "      <td>EU, CIS, APAC, N.America</td>\n",
       "      <td>2020-04-12</td>\n",
       "      <td>2020-04-19</td>\n",
       "    </tr>\n",
       "    <tr>\n",
       "      <th>4</th>\n",
       "      <td>4th of July Promo</td>\n",
       "      <td>N.America</td>\n",
       "      <td>2020-07-04</td>\n",
       "      <td>2020-07-11</td>\n",
       "    </tr>\n",
       "  </tbody>\n",
       "</table>\n",
       "</div>"
      ],
      "text/plain": [
       "                           name                   regions    start_dt  \\\n",
       "0      Christmas&New Year Promo             EU, N.America  2020-12-25   \n",
       "1  St. Valentine's Day Giveaway  EU, CIS, APAC, N.America  2020-02-14   \n",
       "2        St. Patric's Day Promo             EU, N.America  2020-03-17   \n",
       "3                  Easter Promo  EU, CIS, APAC, N.America  2020-04-12   \n",
       "4             4th of July Promo                 N.America  2020-07-04   \n",
       "\n",
       "    finish_dt  \n",
       "0  2021-01-03  \n",
       "1  2020-02-16  \n",
       "2  2020-03-19  \n",
       "3  2020-04-19  \n",
       "4  2020-07-11  "
      ]
     },
     "execution_count": 25,
     "metadata": {},
     "output_type": "execute_result"
    }
   ],
   "source": [
    "marketing_events.info()\n",
    "marketing_events.head()"
   ]
  },
  {
   "cell_type": "markdown",
   "metadata": {},
   "source": [
    "Сруктура файла маркетинговых событий:\n",
    "- name — название маркетингового события; \n",
    "- regions — регионы, в которых будет проводиться рекламная кампания; \n",
    "- start_dt — дата начала кампании; \n",
    "- finish_dt — дата завершения кампании."
   ]
  },
  {
   "cell_type": "markdown",
   "metadata": {},
   "source": [
    "На поведение пользователей, включенных в наше исследование,  могут повлиять маркетинговые ходы, действие которых приходится на время проведения теста и  распространяется на Евросоюз.  Исключив из рассмотрения периоды, когда проводились акции, можно неоправдано урезать массив данных. Время проведения теста выбрано не очень удачно, оно совпадает с кануном Рождества и Нового года, это период максимальной маркетинговой активности."
   ]
  },
  {
   "cell_type": "markdown",
   "metadata": {},
   "source": [
    "**Выводы**\n",
    "\n",
    "Имея в виду, что влияние маркетинговых событий на поведение пользователей в различных группах статистически будет одинаковым, отказались связывать маркетинговые события и данные о результатах теста. Иными словами маркетинговые события могут изменять поведение пользователей в одинаковой мере для группы А и группы В. "
   ]
  },
  {
   "cell_type": "markdown",
   "metadata": {},
   "source": [
    "## Исследовательский анализ данных"
   ]
  },
  {
   "cell_type": "markdown",
   "metadata": {},
   "source": [
    "### Объеднение таблиц. Проверка соблюдения технического задания и корректности проведения теста."
   ]
  },
  {
   "cell_type": "markdown",
   "metadata": {},
   "source": [
    "Подготовили данные о пользователях из трех таблиц. Сведения о уникальных номерах пользователей, участвующих в тесте recommender, и группе теста, содержатся в таблице `recommender`, данные о регистрации новых пользователей в таблице `new_users`, сведения о событиях содержатся в таблице `events`. Последовательно объединили данные из трех источников по user_id методом `merge`. По умолчанию объединение идёт только по совпадающим `user_id`. Таким образом, отсеяли пользователей с неполным набором данных, необходимых для анализа результатов теста."
   ]
  },
  {
   "cell_type": "code",
   "execution_count": 26,
   "metadata": {},
   "outputs": [
    {
     "name": "stdout",
     "output_type": "stream",
     "text": [
      "Количество пользователей в тесте recommender после присоединения даты регистрации 6351\n"
     ]
    },
    {
     "data": {
      "text/html": [
       "<div>\n",
       "<style scoped>\n",
       "    .dataframe tbody tr th:only-of-type {\n",
       "        vertical-align: middle;\n",
       "    }\n",
       "\n",
       "    .dataframe tbody tr th {\n",
       "        vertical-align: top;\n",
       "    }\n",
       "\n",
       "    .dataframe thead th {\n",
       "        text-align: right;\n",
       "    }\n",
       "</style>\n",
       "<table border=\"1\" class=\"dataframe\">\n",
       "  <thead>\n",
       "    <tr style=\"text-align: right;\">\n",
       "      <th></th>\n",
       "      <th>user_id</th>\n",
       "      <th>group</th>\n",
       "      <th>first_date</th>\n",
       "    </tr>\n",
       "  </thead>\n",
       "  <tbody>\n",
       "    <tr>\n",
       "      <th>0</th>\n",
       "      <td>D1ABA3E2887B6A73</td>\n",
       "      <td>A</td>\n",
       "      <td>2020-12-07</td>\n",
       "    </tr>\n",
       "    <tr>\n",
       "      <th>1</th>\n",
       "      <td>A7A3664BD6242119</td>\n",
       "      <td>A</td>\n",
       "      <td>2020-12-20</td>\n",
       "    </tr>\n",
       "    <tr>\n",
       "      <th>2</th>\n",
       "      <td>DABC14FDDFADD29E</td>\n",
       "      <td>A</td>\n",
       "      <td>2020-12-08</td>\n",
       "    </tr>\n",
       "    <tr>\n",
       "      <th>3</th>\n",
       "      <td>04988C5DF189632E</td>\n",
       "      <td>A</td>\n",
       "      <td>2020-12-14</td>\n",
       "    </tr>\n",
       "    <tr>\n",
       "      <th>4</th>\n",
       "      <td>482F14783456D21B</td>\n",
       "      <td>B</td>\n",
       "      <td>2020-12-14</td>\n",
       "    </tr>\n",
       "  </tbody>\n",
       "</table>\n",
       "</div>"
      ],
      "text/plain": [
       "            user_id group first_date\n",
       "0  D1ABA3E2887B6A73     A 2020-12-07\n",
       "1  A7A3664BD6242119     A 2020-12-20\n",
       "2  DABC14FDDFADD29E     A 2020-12-08\n",
       "3  04988C5DF189632E     A 2020-12-14\n",
       "4  482F14783456D21B     B 2020-12-14"
      ]
     },
     "execution_count": 26,
     "metadata": {},
     "output_type": "execute_result"
    }
   ],
   "source": [
    "# прсоединили к пользователям, участвующим в тесте recommender, сведения о  дате регистрации\n",
    "df_re = recommender.merge(new_users)\n",
    "print('Количество пользователей в тесте recommender после присоединения даты регистрации',df_re['user_id'].nunique())\n",
    "df_re.head()\n"
   ]
  },
  {
   "cell_type": "code",
   "execution_count": 27,
   "metadata": {},
   "outputs": [
    {
     "name": "stdout",
     "output_type": "stream",
     "text": [
      "Количество пользователей в тесте recommender после присоединения информации о событиях 3481\n"
     ]
    },
    {
     "data": {
      "text/html": [
       "<div>\n",
       "<style scoped>\n",
       "    .dataframe tbody tr th:only-of-type {\n",
       "        vertical-align: middle;\n",
       "    }\n",
       "\n",
       "    .dataframe tbody tr th {\n",
       "        vertical-align: top;\n",
       "    }\n",
       "\n",
       "    .dataframe thead th {\n",
       "        text-align: right;\n",
       "    }\n",
       "</style>\n",
       "<table border=\"1\" class=\"dataframe\">\n",
       "  <thead>\n",
       "    <tr style=\"text-align: right;\">\n",
       "      <th></th>\n",
       "      <th>user_id</th>\n",
       "      <th>group</th>\n",
       "      <th>first_date</th>\n",
       "      <th>event_dt</th>\n",
       "      <th>event_name</th>\n",
       "    </tr>\n",
       "  </thead>\n",
       "  <tbody>\n",
       "    <tr>\n",
       "      <th>0</th>\n",
       "      <td>D1ABA3E2887B6A73</td>\n",
       "      <td>A</td>\n",
       "      <td>2020-12-07</td>\n",
       "      <td>2020-12-07 14:43:27</td>\n",
       "      <td>purchase</td>\n",
       "    </tr>\n",
       "    <tr>\n",
       "      <th>1</th>\n",
       "      <td>D1ABA3E2887B6A73</td>\n",
       "      <td>A</td>\n",
       "      <td>2020-12-07</td>\n",
       "      <td>2020-12-25 00:04:56</td>\n",
       "      <td>purchase</td>\n",
       "    </tr>\n",
       "    <tr>\n",
       "      <th>2</th>\n",
       "      <td>D1ABA3E2887B6A73</td>\n",
       "      <td>A</td>\n",
       "      <td>2020-12-07</td>\n",
       "      <td>2020-12-07 14:43:29</td>\n",
       "      <td>product_cart</td>\n",
       "    </tr>\n",
       "    <tr>\n",
       "      <th>3</th>\n",
       "      <td>D1ABA3E2887B6A73</td>\n",
       "      <td>A</td>\n",
       "      <td>2020-12-07</td>\n",
       "      <td>2020-12-25 00:04:57</td>\n",
       "      <td>product_cart</td>\n",
       "    </tr>\n",
       "    <tr>\n",
       "      <th>4</th>\n",
       "      <td>D1ABA3E2887B6A73</td>\n",
       "      <td>A</td>\n",
       "      <td>2020-12-07</td>\n",
       "      <td>2020-12-07 14:43:27</td>\n",
       "      <td>product_page</td>\n",
       "    </tr>\n",
       "  </tbody>\n",
       "</table>\n",
       "</div>"
      ],
      "text/plain": [
       "            user_id group first_date            event_dt    event_name\n",
       "0  D1ABA3E2887B6A73     A 2020-12-07 2020-12-07 14:43:27      purchase\n",
       "1  D1ABA3E2887B6A73     A 2020-12-07 2020-12-25 00:04:56      purchase\n",
       "2  D1ABA3E2887B6A73     A 2020-12-07 2020-12-07 14:43:29  product_cart\n",
       "3  D1ABA3E2887B6A73     A 2020-12-07 2020-12-25 00:04:57  product_cart\n",
       "4  D1ABA3E2887B6A73     A 2020-12-07 2020-12-07 14:43:27  product_page"
      ]
     },
     "execution_count": 27,
     "metadata": {},
     "output_type": "execute_result"
    }
   ],
   "source": [
    "# присоединили данные о событиях к recommender\n",
    "df_re = df_re.merge(events)\n",
    "print('Количество пользователей в тесте recommender после присоединения информации о событиях', df_re['user_id'].nunique())\n",
    "df_re.head()"
   ]
  },
  {
   "cell_type": "code",
   "execution_count": 28,
   "metadata": {},
   "outputs": [
    {
     "data": {
      "text/html": [
       "<div>\n",
       "<style scoped>\n",
       "    .dataframe tbody tr th:only-of-type {\n",
       "        vertical-align: middle;\n",
       "    }\n",
       "\n",
       "    .dataframe tbody tr th {\n",
       "        vertical-align: top;\n",
       "    }\n",
       "\n",
       "    .dataframe thead th {\n",
       "        text-align: right;\n",
       "    }\n",
       "</style>\n",
       "<table border=\"1\" class=\"dataframe\">\n",
       "  <thead>\n",
       "    <tr style=\"text-align: right;\">\n",
       "      <th></th>\n",
       "      <th>group</th>\n",
       "      <th>user_id</th>\n",
       "    </tr>\n",
       "  </thead>\n",
       "  <tbody>\n",
       "    <tr>\n",
       "      <th>0</th>\n",
       "      <td>A</td>\n",
       "      <td>2604</td>\n",
       "    </tr>\n",
       "    <tr>\n",
       "      <th>1</th>\n",
       "      <td>B</td>\n",
       "      <td>877</td>\n",
       "    </tr>\n",
       "  </tbody>\n",
       "</table>\n",
       "</div>"
      ],
      "text/plain": [
       "  group  user_id\n",
       "0     A     2604\n",
       "1     B      877"
      ]
     },
     "execution_count": 28,
     "metadata": {},
     "output_type": "execute_result"
    }
   ],
   "source": [
    "# разделение по группам в тесте recommender\n",
    "df_re.pivot_table(index='group', values='user_id', aggfunc='nunique',).reset_index()"
   ]
  },
  {
   "cell_type": "markdown",
   "metadata": {},
   "source": [
    "Данные о регистрации новых пользователей и, особенно о событиях, оказались не полными, из 6701 пользователей, обозначенных, как участники теста recommender, для анализа осталось только 3481, контрольная группа \"А\" почти в 3 раза превышает экспериментальную группу \"В\", что может отрицательно отразится на результате."
   ]
  },
  {
   "cell_type": "markdown",
   "metadata": {},
   "source": [
    "Проверили, не остались ли в выборке пользователи, которые одновременно участвуют сразу в двух тестах. Для этого взяли датафрейм пользователей - участников теста interface. Присоединили к нему даты регистрации и события пользователей по уникальным номерам пользователей и нашли пересечение таблиц двух разных тестов."
   ]
  },
  {
   "cell_type": "code",
   "execution_count": 29,
   "metadata": {},
   "outputs": [
    {
     "name": "stdout",
     "output_type": "stream",
     "text": [
      "Количество пользователей в тесте interface 10565\n"
     ]
    },
    {
     "data": {
      "text/html": [
       "<div>\n",
       "<style scoped>\n",
       "    .dataframe tbody tr th:only-of-type {\n",
       "        vertical-align: middle;\n",
       "    }\n",
       "\n",
       "    .dataframe tbody tr th {\n",
       "        vertical-align: top;\n",
       "    }\n",
       "\n",
       "    .dataframe thead th {\n",
       "        text-align: right;\n",
       "    }\n",
       "</style>\n",
       "<table border=\"1\" class=\"dataframe\">\n",
       "  <thead>\n",
       "    <tr style=\"text-align: right;\">\n",
       "      <th></th>\n",
       "      <th>user_id</th>\n",
       "      <th>group</th>\n",
       "      <th>first_date</th>\n",
       "    </tr>\n",
       "  </thead>\n",
       "  <tbody>\n",
       "    <tr>\n",
       "      <th>0</th>\n",
       "      <td>773ECB64E45DEBAB</td>\n",
       "      <td>A</td>\n",
       "      <td>2020-12-07</td>\n",
       "    </tr>\n",
       "    <tr>\n",
       "      <th>1</th>\n",
       "      <td>6BCB0F33D3BAB8C2</td>\n",
       "      <td>A</td>\n",
       "      <td>2020-12-21</td>\n",
       "    </tr>\n",
       "    <tr>\n",
       "      <th>2</th>\n",
       "      <td>AABA4219186465C9</td>\n",
       "      <td>A</td>\n",
       "      <td>2020-12-13</td>\n",
       "    </tr>\n",
       "    <tr>\n",
       "      <th>3</th>\n",
       "      <td>2BA8FA8754D1FE50</td>\n",
       "      <td>B</td>\n",
       "      <td>2020-12-09</td>\n",
       "    </tr>\n",
       "    <tr>\n",
       "      <th>4</th>\n",
       "      <td>FB6F6BC119E1DBD5</td>\n",
       "      <td>B</td>\n",
       "      <td>2020-12-18</td>\n",
       "    </tr>\n",
       "  </tbody>\n",
       "</table>\n",
       "</div>"
      ],
      "text/plain": [
       "            user_id group first_date\n",
       "0  773ECB64E45DEBAB     A 2020-12-07\n",
       "1  6BCB0F33D3BAB8C2     A 2020-12-21\n",
       "2  AABA4219186465C9     A 2020-12-13\n",
       "3  2BA8FA8754D1FE50     B 2020-12-09\n",
       "4  FB6F6BC119E1DBD5     B 2020-12-18"
      ]
     },
     "execution_count": 29,
     "metadata": {},
     "output_type": "execute_result"
    }
   ],
   "source": [
    "# прсоединили к пользователям, участвующим в тесте interface, сведения о  дате регистрации\n",
    "df_in = interface.merge(new_users)\n",
    "print('Количество пользователей в тесте interface',df_in['user_id'].nunique())\n",
    "df_in.head()"
   ]
  },
  {
   "cell_type": "markdown",
   "metadata": {},
   "source": [
    "Назначение группы и теста проходило в едином цикле и поэтому оба теста в одном массиве данных."
   ]
  },
  {
   "cell_type": "code",
   "execution_count": 30,
   "metadata": {},
   "outputs": [
    {
     "name": "stdout",
     "output_type": "stream",
     "text": [
      "9848\n"
     ]
    },
    {
     "data": {
      "text/html": [
       "<div>\n",
       "<style scoped>\n",
       "    .dataframe tbody tr th:only-of-type {\n",
       "        vertical-align: middle;\n",
       "    }\n",
       "\n",
       "    .dataframe tbody tr th {\n",
       "        vertical-align: top;\n",
       "    }\n",
       "\n",
       "    .dataframe thead th {\n",
       "        text-align: right;\n",
       "    }\n",
       "</style>\n",
       "<table border=\"1\" class=\"dataframe\">\n",
       "  <thead>\n",
       "    <tr style=\"text-align: right;\">\n",
       "      <th></th>\n",
       "      <th>user_id</th>\n",
       "      <th>group</th>\n",
       "      <th>first_date</th>\n",
       "      <th>event_dt</th>\n",
       "      <th>event_name</th>\n",
       "    </tr>\n",
       "  </thead>\n",
       "  <tbody>\n",
       "    <tr>\n",
       "      <th>0</th>\n",
       "      <td>6BCB0F33D3BAB8C2</td>\n",
       "      <td>A</td>\n",
       "      <td>2020-12-21</td>\n",
       "      <td>2020-12-21 21:07:21</td>\n",
       "      <td>product_page</td>\n",
       "    </tr>\n",
       "    <tr>\n",
       "      <th>1</th>\n",
       "      <td>6BCB0F33D3BAB8C2</td>\n",
       "      <td>A</td>\n",
       "      <td>2020-12-21</td>\n",
       "      <td>2020-12-28 00:32:15</td>\n",
       "      <td>product_page</td>\n",
       "    </tr>\n",
       "    <tr>\n",
       "      <th>2</th>\n",
       "      <td>6BCB0F33D3BAB8C2</td>\n",
       "      <td>A</td>\n",
       "      <td>2020-12-21</td>\n",
       "      <td>2020-12-21 21:07:18</td>\n",
       "      <td>login</td>\n",
       "    </tr>\n",
       "    <tr>\n",
       "      <th>3</th>\n",
       "      <td>6BCB0F33D3BAB8C2</td>\n",
       "      <td>A</td>\n",
       "      <td>2020-12-21</td>\n",
       "      <td>2020-12-28 00:32:13</td>\n",
       "      <td>login</td>\n",
       "    </tr>\n",
       "    <tr>\n",
       "      <th>4</th>\n",
       "      <td>FB6F6BC119E1DBD5</td>\n",
       "      <td>B</td>\n",
       "      <td>2020-12-18</td>\n",
       "      <td>2020-12-18 05:10:22</td>\n",
       "      <td>product_page</td>\n",
       "    </tr>\n",
       "  </tbody>\n",
       "</table>\n",
       "</div>"
      ],
      "text/plain": [
       "            user_id group first_date            event_dt    event_name\n",
       "0  6BCB0F33D3BAB8C2     A 2020-12-21 2020-12-21 21:07:21  product_page\n",
       "1  6BCB0F33D3BAB8C2     A 2020-12-21 2020-12-28 00:32:15  product_page\n",
       "2  6BCB0F33D3BAB8C2     A 2020-12-21 2020-12-21 21:07:18         login\n",
       "3  6BCB0F33D3BAB8C2     A 2020-12-21 2020-12-28 00:32:13         login\n",
       "4  FB6F6BC119E1DBD5     B 2020-12-18 2020-12-18 05:10:22  product_page"
      ]
     },
     "execution_count": 30,
     "metadata": {},
     "output_type": "execute_result"
    }
   ],
   "source": [
    "# присоединили данные о событиях к interface\n",
    "df_in = df_in.merge(events)\n",
    "print(df_in['user_id'].nunique())\n",
    "df_in.head()"
   ]
  },
  {
   "cell_type": "code",
   "execution_count": 31,
   "metadata": {},
   "outputs": [
    {
     "data": {
      "text/html": [
       "<div>\n",
       "<style scoped>\n",
       "    .dataframe tbody tr th:only-of-type {\n",
       "        vertical-align: middle;\n",
       "    }\n",
       "\n",
       "    .dataframe tbody tr th {\n",
       "        vertical-align: top;\n",
       "    }\n",
       "\n",
       "    .dataframe thead th {\n",
       "        text-align: right;\n",
       "    }\n",
       "</style>\n",
       "<table border=\"1\" class=\"dataframe\">\n",
       "  <thead>\n",
       "    <tr style=\"text-align: right;\">\n",
       "      <th></th>\n",
       "      <th>group</th>\n",
       "      <th>user_id</th>\n",
       "    </tr>\n",
       "  </thead>\n",
       "  <tbody>\n",
       "    <tr>\n",
       "      <th>0</th>\n",
       "      <td>A</td>\n",
       "      <td>4978</td>\n",
       "    </tr>\n",
       "    <tr>\n",
       "      <th>1</th>\n",
       "      <td>B</td>\n",
       "      <td>4870</td>\n",
       "    </tr>\n",
       "  </tbody>\n",
       "</table>\n",
       "</div>"
      ],
      "text/plain": [
       "  group  user_id\n",
       "0     A     4978\n",
       "1     B     4870"
      ]
     },
     "execution_count": 31,
     "metadata": {},
     "output_type": "execute_result"
    }
   ],
   "source": [
    "# разделение по группам в тесте interface\n",
    "df_in.pivot_table(index='group', values='user_id', aggfunc='nunique').reset_index()"
   ]
  },
  {
   "cell_type": "markdown",
   "metadata": {},
   "source": [
    "Неполнота данных о регистрации пользователей и событиях отразилась и на interface тесте. но в меньшей мере. Количество пользователей, приписанных к нему составило 11567, после присоединения данных оказалось, что сведения для анализа имеются только для 9848. Пользователи по группам в этом тесте распределены равномерно, группы большие, жаль, что мы проверяем не interface тест."
   ]
  },
  {
   "cell_type": "markdown",
   "metadata": {},
   "source": [
    "Очевидно, что два теста проходили одновременно, если пользователю одновременно предлагают два новшества, то не известно какое из них оказало влияние на изменение поведения. Если пользователи попали в оба теста в группу \"А\", то не страшно, их вообще не соблазняли никакими новшествами,  хорошая группа \"А\" может быть одной на несколько одновременных тестов. Главное, чтобы на одном пользователе не испытывали сразу несколько нововведений. "
   ]
  },
  {
   "cell_type": "markdown",
   "metadata": {},
   "source": [
    "Чтобы исключить пользователей, которым и интерфейс поменяли и рекомендаций новых дали, объединили таблицы по двум тестам, появился массив данных перекресных пользователей. Из него выбрали всех, кто оказался в группе \"В\""
   ]
  },
  {
   "cell_type": "code",
   "execution_count": 32,
   "metadata": {},
   "outputs": [
    {
     "name": "stdout",
     "output_type": "stream",
     "text": [
      "887\n"
     ]
    },
    {
     "data": {
      "text/html": [
       "<div>\n",
       "<style scoped>\n",
       "    .dataframe tbody tr th:only-of-type {\n",
       "        vertical-align: middle;\n",
       "    }\n",
       "\n",
       "    .dataframe tbody tr th {\n",
       "        vertical-align: top;\n",
       "    }\n",
       "\n",
       "    .dataframe thead th {\n",
       "        text-align: right;\n",
       "    }\n",
       "</style>\n",
       "<table border=\"1\" class=\"dataframe\">\n",
       "  <thead>\n",
       "    <tr style=\"text-align: right;\">\n",
       "      <th></th>\n",
       "      <th>user_id</th>\n",
       "      <th>group_x</th>\n",
       "      <th>first_date_x</th>\n",
       "      <th>event_dt_x</th>\n",
       "      <th>event_name_x</th>\n",
       "      <th>group_y</th>\n",
       "      <th>first_date_y</th>\n",
       "      <th>event_dt_y</th>\n",
       "      <th>event_name_y</th>\n",
       "    </tr>\n",
       "  </thead>\n",
       "  <tbody>\n",
       "    <tr>\n",
       "      <th>0</th>\n",
       "      <td>DABC14FDDFADD29E</td>\n",
       "      <td>A</td>\n",
       "      <td>2020-12-08</td>\n",
       "      <td>2020-12-08 11:30:58</td>\n",
       "      <td>login</td>\n",
       "      <td>A</td>\n",
       "      <td>2020-12-08</td>\n",
       "      <td>2020-12-08 11:30:58</td>\n",
       "      <td>login</td>\n",
       "    </tr>\n",
       "    <tr>\n",
       "      <th>1</th>\n",
       "      <td>DABC14FDDFADD29E</td>\n",
       "      <td>A</td>\n",
       "      <td>2020-12-08</td>\n",
       "      <td>2020-12-08 11:30:58</td>\n",
       "      <td>login</td>\n",
       "      <td>A</td>\n",
       "      <td>2020-12-08</td>\n",
       "      <td>2020-12-11 12:52:32</td>\n",
       "      <td>login</td>\n",
       "    </tr>\n",
       "    <tr>\n",
       "      <th>2</th>\n",
       "      <td>DABC14FDDFADD29E</td>\n",
       "      <td>A</td>\n",
       "      <td>2020-12-08</td>\n",
       "      <td>2020-12-08 11:30:58</td>\n",
       "      <td>login</td>\n",
       "      <td>A</td>\n",
       "      <td>2020-12-08</td>\n",
       "      <td>2020-12-18 11:10:45</td>\n",
       "      <td>login</td>\n",
       "    </tr>\n",
       "    <tr>\n",
       "      <th>3</th>\n",
       "      <td>DABC14FDDFADD29E</td>\n",
       "      <td>A</td>\n",
       "      <td>2020-12-08</td>\n",
       "      <td>2020-12-11 12:52:32</td>\n",
       "      <td>login</td>\n",
       "      <td>A</td>\n",
       "      <td>2020-12-08</td>\n",
       "      <td>2020-12-08 11:30:58</td>\n",
       "      <td>login</td>\n",
       "    </tr>\n",
       "    <tr>\n",
       "      <th>4</th>\n",
       "      <td>DABC14FDDFADD29E</td>\n",
       "      <td>A</td>\n",
       "      <td>2020-12-08</td>\n",
       "      <td>2020-12-11 12:52:32</td>\n",
       "      <td>login</td>\n",
       "      <td>A</td>\n",
       "      <td>2020-12-08</td>\n",
       "      <td>2020-12-11 12:52:32</td>\n",
       "      <td>login</td>\n",
       "    </tr>\n",
       "    <tr>\n",
       "      <th>...</th>\n",
       "      <td>...</td>\n",
       "      <td>...</td>\n",
       "      <td>...</td>\n",
       "      <td>...</td>\n",
       "      <td>...</td>\n",
       "      <td>...</td>\n",
       "      <td>...</td>\n",
       "      <td>...</td>\n",
       "      <td>...</td>\n",
       "    </tr>\n",
       "    <tr>\n",
       "      <th>51687</th>\n",
       "      <td>FA86D8DFAD3ADADE</td>\n",
       "      <td>A</td>\n",
       "      <td>2020-12-14</td>\n",
       "      <td>2020-12-20 23:14:52</td>\n",
       "      <td>login</td>\n",
       "      <td>A</td>\n",
       "      <td>2020-12-14</td>\n",
       "      <td>2020-12-14 18:13:37</td>\n",
       "      <td>login</td>\n",
       "    </tr>\n",
       "    <tr>\n",
       "      <th>51688</th>\n",
       "      <td>FA86D8DFAD3ADADE</td>\n",
       "      <td>A</td>\n",
       "      <td>2020-12-14</td>\n",
       "      <td>2020-12-20 23:14:52</td>\n",
       "      <td>login</td>\n",
       "      <td>A</td>\n",
       "      <td>2020-12-14</td>\n",
       "      <td>2020-12-15 06:56:40</td>\n",
       "      <td>login</td>\n",
       "    </tr>\n",
       "    <tr>\n",
       "      <th>51689</th>\n",
       "      <td>FA86D8DFAD3ADADE</td>\n",
       "      <td>A</td>\n",
       "      <td>2020-12-14</td>\n",
       "      <td>2020-12-20 23:14:52</td>\n",
       "      <td>login</td>\n",
       "      <td>A</td>\n",
       "      <td>2020-12-14</td>\n",
       "      <td>2020-12-17 16:13:19</td>\n",
       "      <td>login</td>\n",
       "    </tr>\n",
       "    <tr>\n",
       "      <th>51690</th>\n",
       "      <td>FA86D8DFAD3ADADE</td>\n",
       "      <td>A</td>\n",
       "      <td>2020-12-14</td>\n",
       "      <td>2020-12-20 23:14:52</td>\n",
       "      <td>login</td>\n",
       "      <td>A</td>\n",
       "      <td>2020-12-14</td>\n",
       "      <td>2020-12-20 23:14:52</td>\n",
       "      <td>login</td>\n",
       "    </tr>\n",
       "    <tr>\n",
       "      <th>51691</th>\n",
       "      <td>95401934D6D6D4FC</td>\n",
       "      <td>B</td>\n",
       "      <td>2020-12-13</td>\n",
       "      <td>2020-12-13 09:55:48</td>\n",
       "      <td>login</td>\n",
       "      <td>A</td>\n",
       "      <td>2020-12-13</td>\n",
       "      <td>2020-12-13 09:55:48</td>\n",
       "      <td>login</td>\n",
       "    </tr>\n",
       "  </tbody>\n",
       "</table>\n",
       "<p>51692 rows × 9 columns</p>\n",
       "</div>"
      ],
      "text/plain": [
       "                user_id group_x first_date_x          event_dt_x event_name_x  \\\n",
       "0      DABC14FDDFADD29E       A   2020-12-08 2020-12-08 11:30:58        login   \n",
       "1      DABC14FDDFADD29E       A   2020-12-08 2020-12-08 11:30:58        login   \n",
       "2      DABC14FDDFADD29E       A   2020-12-08 2020-12-08 11:30:58        login   \n",
       "3      DABC14FDDFADD29E       A   2020-12-08 2020-12-11 12:52:32        login   \n",
       "4      DABC14FDDFADD29E       A   2020-12-08 2020-12-11 12:52:32        login   \n",
       "...                 ...     ...          ...                 ...          ...   \n",
       "51687  FA86D8DFAD3ADADE       A   2020-12-14 2020-12-20 23:14:52        login   \n",
       "51688  FA86D8DFAD3ADADE       A   2020-12-14 2020-12-20 23:14:52        login   \n",
       "51689  FA86D8DFAD3ADADE       A   2020-12-14 2020-12-20 23:14:52        login   \n",
       "51690  FA86D8DFAD3ADADE       A   2020-12-14 2020-12-20 23:14:52        login   \n",
       "51691  95401934D6D6D4FC       B   2020-12-13 2020-12-13 09:55:48        login   \n",
       "\n",
       "      group_y first_date_y          event_dt_y event_name_y  \n",
       "0           A   2020-12-08 2020-12-08 11:30:58        login  \n",
       "1           A   2020-12-08 2020-12-11 12:52:32        login  \n",
       "2           A   2020-12-08 2020-12-18 11:10:45        login  \n",
       "3           A   2020-12-08 2020-12-08 11:30:58        login  \n",
       "4           A   2020-12-08 2020-12-11 12:52:32        login  \n",
       "...       ...          ...                 ...          ...  \n",
       "51687       A   2020-12-14 2020-12-14 18:13:37        login  \n",
       "51688       A   2020-12-14 2020-12-15 06:56:40        login  \n",
       "51689       A   2020-12-14 2020-12-17 16:13:19        login  \n",
       "51690       A   2020-12-14 2020-12-20 23:14:52        login  \n",
       "51691       A   2020-12-13 2020-12-13 09:55:48        login  \n",
       "\n",
       "[51692 rows x 9 columns]"
      ]
     },
     "execution_count": 32,
     "metadata": {},
     "output_type": "execute_result"
    }
   ],
   "source": [
    "# объединили таблицы двух тестов, что найти общих пользователей для двух тестов\n",
    "df_s = pd.merge(df_re, df_in, left_on='user_id', right_on='user_id', how='inner')\n",
    "print(df_s['user_id'].nunique())\n",
    "df_s"
   ]
  },
  {
   "cell_type": "markdown",
   "metadata": {},
   "source": [
    "Если пользователь в обоих тестах попал в группу \"А\", это не приводит к искажению данных; \n",
    "\n",
    "если в нашем тесте группа \"В\", а в конкурирующем тесте группа \"А\", то нам это тоже не помешает, ничего лишнего ему не предложат;\n",
    "\n",
    "если в нашем тесте группа \"А\", а в интерфейс-тесте группа\"В\", то нашему пользователю предлагают новый интерфейс, что будет оказывать нецелевое воздействие на пользователя, таких пользователей надо удалить;\n",
    "\n",
    "если в двух тестах группа \"В\", то пользователь подвергается двойному воздействию, их тоже надо удалить "
   ]
  },
  {
   "cell_type": "code",
   "execution_count": 33,
   "metadata": {},
   "outputs": [
    {
     "data": {
      "text/plain": [
       "431"
      ]
     },
     "execution_count": 33,
     "metadata": {},
     "output_type": "execute_result"
    }
   ],
   "source": [
    "# получили список пользователей, попавших в группу \"В\" в двух тестах или в группу \"А\" в нашем тесте \n",
    "# и группу \"В\" в конкурирующем\n",
    "df_sc = df_s.query('(group_x == \"B\" & group_y == \"B\") or (group_x == \"A\" & group_y == \"B\")')\n",
    "df_sc['user_id'].nunique()"
   ]
  },
  {
   "cell_type": "code",
   "execution_count": 34,
   "metadata": {},
   "outputs": [
    {
     "name": "stdout",
     "output_type": "stream",
     "text": [
      "3050\n"
     ]
    },
    {
     "data": {
      "text/html": [
       "<div>\n",
       "<style scoped>\n",
       "    .dataframe tbody tr th:only-of-type {\n",
       "        vertical-align: middle;\n",
       "    }\n",
       "\n",
       "    .dataframe tbody tr th {\n",
       "        vertical-align: top;\n",
       "    }\n",
       "\n",
       "    .dataframe thead th {\n",
       "        text-align: right;\n",
       "    }\n",
       "</style>\n",
       "<table border=\"1\" class=\"dataframe\">\n",
       "  <thead>\n",
       "    <tr style=\"text-align: right;\">\n",
       "      <th></th>\n",
       "      <th>group</th>\n",
       "      <th>user_id</th>\n",
       "    </tr>\n",
       "  </thead>\n",
       "  <tbody>\n",
       "    <tr>\n",
       "      <th>0</th>\n",
       "      <td>A</td>\n",
       "      <td>2279</td>\n",
       "    </tr>\n",
       "    <tr>\n",
       "      <th>1</th>\n",
       "      <td>B</td>\n",
       "      <td>771</td>\n",
       "    </tr>\n",
       "  </tbody>\n",
       "</table>\n",
       "</div>"
      ],
      "text/plain": [
       "  group  user_id\n",
       "0     A     2279\n",
       "1     B      771"
      ]
     },
     "execution_count": 34,
     "metadata": {},
     "output_type": "execute_result"
    }
   ],
   "source": [
    "# исключили 431 двойных агентов из recommender теста\n",
    "exit = df_sc['user_id']\n",
    "df_re = df_re.query('~(user_id in @exit)')\n",
    "print(df_re['user_id'].nunique())\n",
    "df_re.pivot_table(index='group', values='user_id', aggfunc='nunique',).reset_index()"
   ]
  },
  {
   "cell_type": "markdown",
   "metadata": {},
   "source": [
    "После исключения пользователей, которые могут исказить результаты из-за участия в двух тестах одновременно, для анализа осталась выборка размером 3050 человек, размер контрольной группы почти в три раза превышает размер экспериментальной."
   ]
  },
  {
   "cell_type": "code",
   "execution_count": 35,
   "metadata": {},
   "outputs": [
    {
     "data": {
      "text/html": [
       "<div>\n",
       "<style scoped>\n",
       "    .dataframe tbody tr th:only-of-type {\n",
       "        vertical-align: middle;\n",
       "    }\n",
       "\n",
       "    .dataframe tbody tr th {\n",
       "        vertical-align: top;\n",
       "    }\n",
       "\n",
       "    .dataframe thead th {\n",
       "        text-align: right;\n",
       "    }\n",
       "</style>\n",
       "<table border=\"1\" class=\"dataframe\">\n",
       "  <thead>\n",
       "    <tr style=\"text-align: right;\">\n",
       "      <th></th>\n",
       "      <th>user_id</th>\n",
       "      <th>group</th>\n",
       "      <th>first_date</th>\n",
       "      <th>event_dt</th>\n",
       "      <th>event_name</th>\n",
       "    </tr>\n",
       "  </thead>\n",
       "  <tbody>\n",
       "    <tr>\n",
       "      <th>0</th>\n",
       "      <td>D1ABA3E2887B6A73</td>\n",
       "      <td>A</td>\n",
       "      <td>2020-12-07</td>\n",
       "      <td>2020-12-07 14:43:27</td>\n",
       "      <td>purchase</td>\n",
       "    </tr>\n",
       "    <tr>\n",
       "      <th>1</th>\n",
       "      <td>D1ABA3E2887B6A73</td>\n",
       "      <td>A</td>\n",
       "      <td>2020-12-07</td>\n",
       "      <td>2020-12-25 00:04:56</td>\n",
       "      <td>purchase</td>\n",
       "    </tr>\n",
       "    <tr>\n",
       "      <th>2</th>\n",
       "      <td>D1ABA3E2887B6A73</td>\n",
       "      <td>A</td>\n",
       "      <td>2020-12-07</td>\n",
       "      <td>2020-12-07 14:43:29</td>\n",
       "      <td>product_cart</td>\n",
       "    </tr>\n",
       "    <tr>\n",
       "      <th>3</th>\n",
       "      <td>D1ABA3E2887B6A73</td>\n",
       "      <td>A</td>\n",
       "      <td>2020-12-07</td>\n",
       "      <td>2020-12-25 00:04:57</td>\n",
       "      <td>product_cart</td>\n",
       "    </tr>\n",
       "    <tr>\n",
       "      <th>4</th>\n",
       "      <td>D1ABA3E2887B6A73</td>\n",
       "      <td>A</td>\n",
       "      <td>2020-12-07</td>\n",
       "      <td>2020-12-07 14:43:27</td>\n",
       "      <td>product_page</td>\n",
       "    </tr>\n",
       "    <tr>\n",
       "      <th>...</th>\n",
       "      <td>...</td>\n",
       "      <td>...</td>\n",
       "      <td>...</td>\n",
       "      <td>...</td>\n",
       "      <td>...</td>\n",
       "    </tr>\n",
       "    <tr>\n",
       "      <th>23415</th>\n",
       "      <td>80712ED4EA1B52A5</td>\n",
       "      <td>A</td>\n",
       "      <td>2020-12-14</td>\n",
       "      <td>2020-12-15 20:10:06</td>\n",
       "      <td>product_page</td>\n",
       "    </tr>\n",
       "    <tr>\n",
       "      <th>23416</th>\n",
       "      <td>80712ED4EA1B52A5</td>\n",
       "      <td>A</td>\n",
       "      <td>2020-12-14</td>\n",
       "      <td>2020-12-20 20:01:34</td>\n",
       "      <td>product_page</td>\n",
       "    </tr>\n",
       "    <tr>\n",
       "      <th>23417</th>\n",
       "      <td>80712ED4EA1B52A5</td>\n",
       "      <td>A</td>\n",
       "      <td>2020-12-14</td>\n",
       "      <td>2020-12-14 05:48:50</td>\n",
       "      <td>login</td>\n",
       "    </tr>\n",
       "    <tr>\n",
       "      <th>23418</th>\n",
       "      <td>80712ED4EA1B52A5</td>\n",
       "      <td>A</td>\n",
       "      <td>2020-12-14</td>\n",
       "      <td>2020-12-15 20:10:03</td>\n",
       "      <td>login</td>\n",
       "    </tr>\n",
       "    <tr>\n",
       "      <th>23419</th>\n",
       "      <td>80712ED4EA1B52A5</td>\n",
       "      <td>A</td>\n",
       "      <td>2020-12-14</td>\n",
       "      <td>2020-12-20 20:01:32</td>\n",
       "      <td>login</td>\n",
       "    </tr>\n",
       "  </tbody>\n",
       "</table>\n",
       "<p>20564 rows × 5 columns</p>\n",
       "</div>"
      ],
      "text/plain": [
       "                user_id group first_date            event_dt    event_name\n",
       "0      D1ABA3E2887B6A73     A 2020-12-07 2020-12-07 14:43:27      purchase\n",
       "1      D1ABA3E2887B6A73     A 2020-12-07 2020-12-25 00:04:56      purchase\n",
       "2      D1ABA3E2887B6A73     A 2020-12-07 2020-12-07 14:43:29  product_cart\n",
       "3      D1ABA3E2887B6A73     A 2020-12-07 2020-12-25 00:04:57  product_cart\n",
       "4      D1ABA3E2887B6A73     A 2020-12-07 2020-12-07 14:43:27  product_page\n",
       "...                 ...   ...        ...                 ...           ...\n",
       "23415  80712ED4EA1B52A5     A 2020-12-14 2020-12-15 20:10:06  product_page\n",
       "23416  80712ED4EA1B52A5     A 2020-12-14 2020-12-20 20:01:34  product_page\n",
       "23417  80712ED4EA1B52A5     A 2020-12-14 2020-12-14 05:48:50         login\n",
       "23418  80712ED4EA1B52A5     A 2020-12-14 2020-12-15 20:10:03         login\n",
       "23419  80712ED4EA1B52A5     A 2020-12-14 2020-12-20 20:01:32         login\n",
       "\n",
       "[20564 rows x 5 columns]"
      ]
     },
     "execution_count": 35,
     "metadata": {},
     "output_type": "execute_result"
    }
   ],
   "source": [
    "df_re"
   ]
  },
  {
   "cell_type": "markdown",
   "metadata": {},
   "source": [
    "В техническом задании есть условие о том, что эффект от новшества должен проявиться за 14 дней с момента регистрации. Для выполнения этого условия надо исключить события, совершенные  пользователем позже 14 дней с момента регистрации. Создали колонку liftime, в которой записали разницу между датой регистрации и конкретным событием. Отобрали  события, которые укладываюся в условия теста, то есть совершены в пределах 14 дней после регистрации пользователя."
   ]
  },
  {
   "cell_type": "code",
   "execution_count": 36,
   "metadata": {},
   "outputs": [
    {
     "data": {
      "text/html": [
       "<div>\n",
       "<style scoped>\n",
       "    .dataframe tbody tr th:only-of-type {\n",
       "        vertical-align: middle;\n",
       "    }\n",
       "\n",
       "    .dataframe tbody tr th {\n",
       "        vertical-align: top;\n",
       "    }\n",
       "\n",
       "    .dataframe thead th {\n",
       "        text-align: right;\n",
       "    }\n",
       "</style>\n",
       "<table border=\"1\" class=\"dataframe\">\n",
       "  <thead>\n",
       "    <tr style=\"text-align: right;\">\n",
       "      <th></th>\n",
       "      <th>user_id</th>\n",
       "      <th>group</th>\n",
       "      <th>first_date</th>\n",
       "      <th>event_dt</th>\n",
       "      <th>event_name</th>\n",
       "      <th>lifetime</th>\n",
       "    </tr>\n",
       "  </thead>\n",
       "  <tbody>\n",
       "    <tr>\n",
       "      <th>0</th>\n",
       "      <td>D1ABA3E2887B6A73</td>\n",
       "      <td>A</td>\n",
       "      <td>2020-12-07</td>\n",
       "      <td>2020-12-07 14:43:27</td>\n",
       "      <td>purchase</td>\n",
       "      <td>0 days 14:43:27</td>\n",
       "    </tr>\n",
       "    <tr>\n",
       "      <th>1</th>\n",
       "      <td>D1ABA3E2887B6A73</td>\n",
       "      <td>A</td>\n",
       "      <td>2020-12-07</td>\n",
       "      <td>2020-12-25 00:04:56</td>\n",
       "      <td>purchase</td>\n",
       "      <td>18 days 00:04:56</td>\n",
       "    </tr>\n",
       "    <tr>\n",
       "      <th>2</th>\n",
       "      <td>D1ABA3E2887B6A73</td>\n",
       "      <td>A</td>\n",
       "      <td>2020-12-07</td>\n",
       "      <td>2020-12-07 14:43:29</td>\n",
       "      <td>product_cart</td>\n",
       "      <td>0 days 14:43:29</td>\n",
       "    </tr>\n",
       "    <tr>\n",
       "      <th>3</th>\n",
       "      <td>D1ABA3E2887B6A73</td>\n",
       "      <td>A</td>\n",
       "      <td>2020-12-07</td>\n",
       "      <td>2020-12-25 00:04:57</td>\n",
       "      <td>product_cart</td>\n",
       "      <td>18 days 00:04:57</td>\n",
       "    </tr>\n",
       "    <tr>\n",
       "      <th>4</th>\n",
       "      <td>D1ABA3E2887B6A73</td>\n",
       "      <td>A</td>\n",
       "      <td>2020-12-07</td>\n",
       "      <td>2020-12-07 14:43:27</td>\n",
       "      <td>product_page</td>\n",
       "      <td>0 days 14:43:27</td>\n",
       "    </tr>\n",
       "    <tr>\n",
       "      <th>...</th>\n",
       "      <td>...</td>\n",
       "      <td>...</td>\n",
       "      <td>...</td>\n",
       "      <td>...</td>\n",
       "      <td>...</td>\n",
       "      <td>...</td>\n",
       "    </tr>\n",
       "    <tr>\n",
       "      <th>23415</th>\n",
       "      <td>80712ED4EA1B52A5</td>\n",
       "      <td>A</td>\n",
       "      <td>2020-12-14</td>\n",
       "      <td>2020-12-15 20:10:06</td>\n",
       "      <td>product_page</td>\n",
       "      <td>1 days 20:10:06</td>\n",
       "    </tr>\n",
       "    <tr>\n",
       "      <th>23416</th>\n",
       "      <td>80712ED4EA1B52A5</td>\n",
       "      <td>A</td>\n",
       "      <td>2020-12-14</td>\n",
       "      <td>2020-12-20 20:01:34</td>\n",
       "      <td>product_page</td>\n",
       "      <td>6 days 20:01:34</td>\n",
       "    </tr>\n",
       "    <tr>\n",
       "      <th>23417</th>\n",
       "      <td>80712ED4EA1B52A5</td>\n",
       "      <td>A</td>\n",
       "      <td>2020-12-14</td>\n",
       "      <td>2020-12-14 05:48:50</td>\n",
       "      <td>login</td>\n",
       "      <td>0 days 05:48:50</td>\n",
       "    </tr>\n",
       "    <tr>\n",
       "      <th>23418</th>\n",
       "      <td>80712ED4EA1B52A5</td>\n",
       "      <td>A</td>\n",
       "      <td>2020-12-14</td>\n",
       "      <td>2020-12-15 20:10:03</td>\n",
       "      <td>login</td>\n",
       "      <td>1 days 20:10:03</td>\n",
       "    </tr>\n",
       "    <tr>\n",
       "      <th>23419</th>\n",
       "      <td>80712ED4EA1B52A5</td>\n",
       "      <td>A</td>\n",
       "      <td>2020-12-14</td>\n",
       "      <td>2020-12-20 20:01:32</td>\n",
       "      <td>login</td>\n",
       "      <td>6 days 20:01:32</td>\n",
       "    </tr>\n",
       "  </tbody>\n",
       "</table>\n",
       "<p>20564 rows × 6 columns</p>\n",
       "</div>"
      ],
      "text/plain": [
       "                user_id group first_date            event_dt    event_name  \\\n",
       "0      D1ABA3E2887B6A73     A 2020-12-07 2020-12-07 14:43:27      purchase   \n",
       "1      D1ABA3E2887B6A73     A 2020-12-07 2020-12-25 00:04:56      purchase   \n",
       "2      D1ABA3E2887B6A73     A 2020-12-07 2020-12-07 14:43:29  product_cart   \n",
       "3      D1ABA3E2887B6A73     A 2020-12-07 2020-12-25 00:04:57  product_cart   \n",
       "4      D1ABA3E2887B6A73     A 2020-12-07 2020-12-07 14:43:27  product_page   \n",
       "...                 ...   ...        ...                 ...           ...   \n",
       "23415  80712ED4EA1B52A5     A 2020-12-14 2020-12-15 20:10:06  product_page   \n",
       "23416  80712ED4EA1B52A5     A 2020-12-14 2020-12-20 20:01:34  product_page   \n",
       "23417  80712ED4EA1B52A5     A 2020-12-14 2020-12-14 05:48:50         login   \n",
       "23418  80712ED4EA1B52A5     A 2020-12-14 2020-12-15 20:10:03         login   \n",
       "23419  80712ED4EA1B52A5     A 2020-12-14 2020-12-20 20:01:32         login   \n",
       "\n",
       "              lifetime  \n",
       "0      0 days 14:43:27  \n",
       "1     18 days 00:04:56  \n",
       "2      0 days 14:43:29  \n",
       "3     18 days 00:04:57  \n",
       "4      0 days 14:43:27  \n",
       "...                ...  \n",
       "23415  1 days 20:10:06  \n",
       "23416  6 days 20:01:34  \n",
       "23417  0 days 05:48:50  \n",
       "23418  1 days 20:10:03  \n",
       "23419  6 days 20:01:32  \n",
       "\n",
       "[20564 rows x 6 columns]"
      ]
     },
     "execution_count": 36,
     "metadata": {},
     "output_type": "execute_result"
    }
   ],
   "source": [
    "# добавляем  колонку с промежутком времени от регистрации пользователя до данного события\n",
    "df_re['lifetime'] = (df_re.event_dt - df_re.first_date)\n",
    "df_re"
   ]
  },
  {
   "cell_type": "code",
   "execution_count": 37,
   "metadata": {},
   "outputs": [
    {
     "name": "stdout",
     "output_type": "stream",
     "text": [
      "3050\n",
      "  group  user_id\n",
      "0     A     2279\n",
      "1     B      771\n"
     ]
    },
    {
     "data": {
      "text/html": [
       "<div>\n",
       "<style scoped>\n",
       "    .dataframe tbody tr th:only-of-type {\n",
       "        vertical-align: middle;\n",
       "    }\n",
       "\n",
       "    .dataframe tbody tr th {\n",
       "        vertical-align: top;\n",
       "    }\n",
       "\n",
       "    .dataframe thead th {\n",
       "        text-align: right;\n",
       "    }\n",
       "</style>\n",
       "<table border=\"1\" class=\"dataframe\">\n",
       "  <thead>\n",
       "    <tr style=\"text-align: right;\">\n",
       "      <th></th>\n",
       "      <th>user_id</th>\n",
       "      <th>group</th>\n",
       "      <th>first_date</th>\n",
       "      <th>event_dt</th>\n",
       "      <th>event_name</th>\n",
       "      <th>lifetime</th>\n",
       "    </tr>\n",
       "  </thead>\n",
       "  <tbody>\n",
       "    <tr>\n",
       "      <th>0</th>\n",
       "      <td>D1ABA3E2887B6A73</td>\n",
       "      <td>A</td>\n",
       "      <td>2020-12-07</td>\n",
       "      <td>2020-12-07 14:43:27</td>\n",
       "      <td>purchase</td>\n",
       "      <td>0 days 14:43:27</td>\n",
       "    </tr>\n",
       "    <tr>\n",
       "      <th>2</th>\n",
       "      <td>D1ABA3E2887B6A73</td>\n",
       "      <td>A</td>\n",
       "      <td>2020-12-07</td>\n",
       "      <td>2020-12-07 14:43:29</td>\n",
       "      <td>product_cart</td>\n",
       "      <td>0 days 14:43:29</td>\n",
       "    </tr>\n",
       "    <tr>\n",
       "      <th>4</th>\n",
       "      <td>D1ABA3E2887B6A73</td>\n",
       "      <td>A</td>\n",
       "      <td>2020-12-07</td>\n",
       "      <td>2020-12-07 14:43:27</td>\n",
       "      <td>product_page</td>\n",
       "      <td>0 days 14:43:27</td>\n",
       "    </tr>\n",
       "    <tr>\n",
       "      <th>6</th>\n",
       "      <td>D1ABA3E2887B6A73</td>\n",
       "      <td>A</td>\n",
       "      <td>2020-12-07</td>\n",
       "      <td>2020-12-07 14:43:27</td>\n",
       "      <td>login</td>\n",
       "      <td>0 days 14:43:27</td>\n",
       "    </tr>\n",
       "    <tr>\n",
       "      <th>8</th>\n",
       "      <td>A7A3664BD6242119</td>\n",
       "      <td>A</td>\n",
       "      <td>2020-12-20</td>\n",
       "      <td>2020-12-20 15:46:06</td>\n",
       "      <td>product_page</td>\n",
       "      <td>0 days 15:46:06</td>\n",
       "    </tr>\n",
       "    <tr>\n",
       "      <th>...</th>\n",
       "      <td>...</td>\n",
       "      <td>...</td>\n",
       "      <td>...</td>\n",
       "      <td>...</td>\n",
       "      <td>...</td>\n",
       "      <td>...</td>\n",
       "    </tr>\n",
       "    <tr>\n",
       "      <th>23415</th>\n",
       "      <td>80712ED4EA1B52A5</td>\n",
       "      <td>A</td>\n",
       "      <td>2020-12-14</td>\n",
       "      <td>2020-12-15 20:10:06</td>\n",
       "      <td>product_page</td>\n",
       "      <td>1 days 20:10:06</td>\n",
       "    </tr>\n",
       "    <tr>\n",
       "      <th>23416</th>\n",
       "      <td>80712ED4EA1B52A5</td>\n",
       "      <td>A</td>\n",
       "      <td>2020-12-14</td>\n",
       "      <td>2020-12-20 20:01:34</td>\n",
       "      <td>product_page</td>\n",
       "      <td>6 days 20:01:34</td>\n",
       "    </tr>\n",
       "    <tr>\n",
       "      <th>23417</th>\n",
       "      <td>80712ED4EA1B52A5</td>\n",
       "      <td>A</td>\n",
       "      <td>2020-12-14</td>\n",
       "      <td>2020-12-14 05:48:50</td>\n",
       "      <td>login</td>\n",
       "      <td>0 days 05:48:50</td>\n",
       "    </tr>\n",
       "    <tr>\n",
       "      <th>23418</th>\n",
       "      <td>80712ED4EA1B52A5</td>\n",
       "      <td>A</td>\n",
       "      <td>2020-12-14</td>\n",
       "      <td>2020-12-15 20:10:03</td>\n",
       "      <td>login</td>\n",
       "      <td>1 days 20:10:03</td>\n",
       "    </tr>\n",
       "    <tr>\n",
       "      <th>23419</th>\n",
       "      <td>80712ED4EA1B52A5</td>\n",
       "      <td>A</td>\n",
       "      <td>2020-12-14</td>\n",
       "      <td>2020-12-20 20:01:32</td>\n",
       "      <td>login</td>\n",
       "      <td>6 days 20:01:32</td>\n",
       "    </tr>\n",
       "  </tbody>\n",
       "</table>\n",
       "<p>19849 rows × 6 columns</p>\n",
       "</div>"
      ],
      "text/plain": [
       "                user_id group first_date            event_dt    event_name  \\\n",
       "0      D1ABA3E2887B6A73     A 2020-12-07 2020-12-07 14:43:27      purchase   \n",
       "2      D1ABA3E2887B6A73     A 2020-12-07 2020-12-07 14:43:29  product_cart   \n",
       "4      D1ABA3E2887B6A73     A 2020-12-07 2020-12-07 14:43:27  product_page   \n",
       "6      D1ABA3E2887B6A73     A 2020-12-07 2020-12-07 14:43:27         login   \n",
       "8      A7A3664BD6242119     A 2020-12-20 2020-12-20 15:46:06  product_page   \n",
       "...                 ...   ...        ...                 ...           ...   \n",
       "23415  80712ED4EA1B52A5     A 2020-12-14 2020-12-15 20:10:06  product_page   \n",
       "23416  80712ED4EA1B52A5     A 2020-12-14 2020-12-20 20:01:34  product_page   \n",
       "23417  80712ED4EA1B52A5     A 2020-12-14 2020-12-14 05:48:50         login   \n",
       "23418  80712ED4EA1B52A5     A 2020-12-14 2020-12-15 20:10:03         login   \n",
       "23419  80712ED4EA1B52A5     A 2020-12-14 2020-12-20 20:01:32         login   \n",
       "\n",
       "             lifetime  \n",
       "0     0 days 14:43:27  \n",
       "2     0 days 14:43:29  \n",
       "4     0 days 14:43:27  \n",
       "6     0 days 14:43:27  \n",
       "8     0 days 15:46:06  \n",
       "...               ...  \n",
       "23415 1 days 20:10:06  \n",
       "23416 6 days 20:01:34  \n",
       "23417 0 days 05:48:50  \n",
       "23418 1 days 20:10:03  \n",
       "23419 6 days 20:01:32  \n",
       "\n",
       "[19849 rows x 6 columns]"
      ]
     },
     "execution_count": 37,
     "metadata": {},
     "output_type": "execute_result"
    }
   ],
   "source": [
    "# исключаем события, которые совершены за пределами 14 дней от даты регистрации\n",
    "df_re_lt = df_re.query('lifetime <= \"14 days 00:00:00\"')\n",
    "print(df_re_lt['user_id'].nunique())\n",
    "print(df_re_lt.pivot_table(index='group', values='user_id', aggfunc='nunique',).reset_index())\n",
    "df_re_lt\n"
   ]
  },
  {
   "cell_type": "markdown",
   "metadata": {},
   "source": [
    "Фильтрацияя по продолжительности лайфтфйма привела к сокращению числа событий на 715 строк, но не повлияла на количество пользователей и распределение их по группам теста."
   ]
  },
  {
   "cell_type": "markdown",
   "metadata": {},
   "source": [
    "**Техническое задание**\n",
    "\n",
    "Название теста: recommender_system_test;\n",
    "\n",
    "Группы: А (контрольная), B (новая платёжная воронка);\n",
    "\n",
    "**Дата запуска: 2020-12-07.  Выполняется.**\n",
    "\n",
    "**Дата остановки набора новых пользователей: 2020-12-21.** После исключения пользователей, зарегистрированных 22 и 23 декабря это **условие выполнено**;\n",
    "\n",
    "**Дата остановки: 2021-01-04.** Фактически имеются записи только до полуночи 2020-12-30. Условие ТЗ о дате остановки не выполнено. **Фактически дата остановки:  2020-12-30**\n",
    "\n",
    "**Аудитория: 15% новых пользователей из региона EU.** Все новые пользователи из  региона EU, 15% из них равны 6940 пользователей. **Фактически аудитория составила 7% пользователей из региона EU.**\n",
    "\n",
    "**Назначение теста: тестирование изменений, связанных с внедрением улучшенной рекомендательной системы**\n",
    "\n",
    "**Ожидаемое количество участников теста: 6000, реальное количество участников теста 3375.** \n",
    "\n",
    "**Ожидаемый эффект: за 14 дней с момента регистрации пользователи покажут улучшение каждой метрики не менее, чем на 10%**, проверен ниже. "
   ]
  },
  {
   "cell_type": "markdown",
   "metadata": {},
   "source": [
    "**Вывод**\n",
    "\n",
    "Для проверки ожидаемого эффекта получили данные о 19849 событиях, совершенных 3050 пользователями с 7 по 30 декабря 2020 года. Группа \"А\" 2279 пользователя, группа \"В\" 771 пользователей.\n",
    "\n",
    "Не выполнены условия теста о дате остановки, размере аудитории, ожидаемом количестве участников.\n",
    "\n",
    "Влияние маркетинговых событий не учитывали по следующим причинам:\n",
    "- Накануне Рождества и Нового года они непрерывны. Исключая даты проведения акций можно потерять большой массив и без того скромных  данных. \n",
    "- Маркетинговые события одинаково действуют на поведение пользователей контрольной и экспериментальной групп."
   ]
  },
  {
   "cell_type": "markdown",
   "metadata": {},
   "source": [
    "### Исследование пользовательского поведения"
   ]
  },
  {
   "cell_type": "code",
   "execution_count": 38,
   "metadata": {},
   "outputs": [
    {
     "name": "stdout",
     "output_type": "stream",
     "text": [
      "Количество пользователей 3050\n",
      "Среднее количество событий на одного пользователя 7\n"
     ]
    }
   ],
   "source": [
    "print('Количество пользователей', df_re['user_id'].nunique())\n",
    "print('Среднее количество событий на одного пользователя', round(df_re.shape[0]/df_re['user_id'].nunique()))"
   ]
  },
  {
   "cell_type": "code",
   "execution_count": 39,
   "metadata": {},
   "outputs": [
    {
     "data": {
      "text/html": [
       "<div>\n",
       "<style scoped>\n",
       "    .dataframe tbody tr th:only-of-type {\n",
       "        vertical-align: middle;\n",
       "    }\n",
       "\n",
       "    .dataframe tbody tr th {\n",
       "        vertical-align: top;\n",
       "    }\n",
       "\n",
       "    .dataframe thead th {\n",
       "        text-align: right;\n",
       "    }\n",
       "</style>\n",
       "<table border=\"1\" class=\"dataframe\">\n",
       "  <thead>\n",
       "    <tr style=\"text-align: right;\">\n",
       "      <th></th>\n",
       "      <th>group</th>\n",
       "      <th>user_id</th>\n",
       "      <th>event_name</th>\n",
       "    </tr>\n",
       "  </thead>\n",
       "  <tbody>\n",
       "    <tr>\n",
       "      <th>0</th>\n",
       "      <td>A</td>\n",
       "      <td>6D88BE6410DBB984</td>\n",
       "      <td>1</td>\n",
       "    </tr>\n",
       "    <tr>\n",
       "      <th>1</th>\n",
       "      <td>B</td>\n",
       "      <td>FC2DA0D7EF375B27</td>\n",
       "      <td>1</td>\n",
       "    </tr>\n",
       "    <tr>\n",
       "      <th>2</th>\n",
       "      <td>B</td>\n",
       "      <td>95401934D6D6D4FC</td>\n",
       "      <td>1</td>\n",
       "    </tr>\n",
       "    <tr>\n",
       "      <th>3</th>\n",
       "      <td>A</td>\n",
       "      <td>921FFC6F0F506A82</td>\n",
       "      <td>1</td>\n",
       "    </tr>\n",
       "    <tr>\n",
       "      <th>4</th>\n",
       "      <td>B</td>\n",
       "      <td>DAEE6D470B64E11B</td>\n",
       "      <td>1</td>\n",
       "    </tr>\n",
       "    <tr>\n",
       "      <th>...</th>\n",
       "      <td>...</td>\n",
       "      <td>...</td>\n",
       "      <td>...</td>\n",
       "    </tr>\n",
       "    <tr>\n",
       "      <th>3045</th>\n",
       "      <td>A</td>\n",
       "      <td>6E3DF9C69A6B607E</td>\n",
       "      <td>21</td>\n",
       "    </tr>\n",
       "    <tr>\n",
       "      <th>3046</th>\n",
       "      <td>A</td>\n",
       "      <td>CED71698585A2E46</td>\n",
       "      <td>24</td>\n",
       "    </tr>\n",
       "    <tr>\n",
       "      <th>3047</th>\n",
       "      <td>A</td>\n",
       "      <td>1BFEE479308EFF44</td>\n",
       "      <td>24</td>\n",
       "    </tr>\n",
       "    <tr>\n",
       "      <th>3048</th>\n",
       "      <td>B</td>\n",
       "      <td>115EBC1CA027854A</td>\n",
       "      <td>27</td>\n",
       "    </tr>\n",
       "    <tr>\n",
       "      <th>3049</th>\n",
       "      <td>B</td>\n",
       "      <td>1198061F6AF34B7B</td>\n",
       "      <td>28</td>\n",
       "    </tr>\n",
       "  </tbody>\n",
       "</table>\n",
       "<p>3050 rows × 3 columns</p>\n",
       "</div>"
      ],
      "text/plain": [
       "     group           user_id  event_name\n",
       "0        A  6D88BE6410DBB984           1\n",
       "1        B  FC2DA0D7EF375B27           1\n",
       "2        B  95401934D6D6D4FC           1\n",
       "3        A  921FFC6F0F506A82           1\n",
       "4        B  DAEE6D470B64E11B           1\n",
       "...    ...               ...         ...\n",
       "3045     A  6E3DF9C69A6B607E          21\n",
       "3046     A  CED71698585A2E46          24\n",
       "3047     A  1BFEE479308EFF44          24\n",
       "3048     B  115EBC1CA027854A          27\n",
       "3049     B  1198061F6AF34B7B          28\n",
       "\n",
       "[3050 rows x 3 columns]"
      ]
     },
     "execution_count": 39,
     "metadata": {},
     "output_type": "execute_result"
    }
   ],
   "source": [
    "# посчитали количество событий, совершенных пользователем\n",
    "count_event = df_re.groupby(['group', 'user_id'])['event_name'].count().sort_values().reset_index()\n",
    "count_event"
   ]
  },
  {
   "cell_type": "markdown",
   "metadata": {},
   "source": [
    "Пользователи совершали от 1 до 28 событий за исследуемый период, в среднем 7 событий на пользователя"
   ]
  },
  {
   "cell_type": "code",
   "execution_count": 40,
   "metadata": {},
   "outputs": [
    {
     "data": {
      "image/png": "[encoded data removed]",
      "text/plain": [
       "<Figure size 1080x720 with 1 Axes>"
      ]
     },
     "metadata": {
      "needs_background": "light"
     },
     "output_type": "display_data"
    }
   ],
   "source": [
    "# гистограмма распределения количества событий за исследуемый период\n",
    "count_event['event_name'].hist(bins=100, figsize=(15,10))\n",
    "plt.title('Распределение количества событий по пользователям')\n",
    "plt.xlabel('Количество событий')\n",
    "\n",
    "plt.show();"
   ]
  },
  {
   "cell_type": "code",
   "execution_count": 41,
   "metadata": {},
   "outputs": [
    {
     "data": {
      "text/html": [
       "<div>\n",
       "<style scoped>\n",
       "    .dataframe tbody tr th:only-of-type {\n",
       "        vertical-align: middle;\n",
       "    }\n",
       "\n",
       "    .dataframe tbody tr th {\n",
       "        vertical-align: top;\n",
       "    }\n",
       "\n",
       "    .dataframe thead th {\n",
       "        text-align: right;\n",
       "    }\n",
       "</style>\n",
       "<table border=\"1\" class=\"dataframe\">\n",
       "  <thead>\n",
       "    <tr style=\"text-align: right;\">\n",
       "      <th>group</th>\n",
       "      <th>A</th>\n",
       "      <th>B</th>\n",
       "    </tr>\n",
       "    <tr>\n",
       "      <th>event_name</th>\n",
       "      <th></th>\n",
       "      <th></th>\n",
       "    </tr>\n",
       "  </thead>\n",
       "  <tbody>\n",
       "    <tr>\n",
       "      <th>1</th>\n",
       "      <td>27.0</td>\n",
       "      <td>16.0</td>\n",
       "    </tr>\n",
       "    <tr>\n",
       "      <th>2</th>\n",
       "      <td>162.0</td>\n",
       "      <td>94.0</td>\n",
       "    </tr>\n",
       "    <tr>\n",
       "      <th>3</th>\n",
       "      <td>196.0</td>\n",
       "      <td>112.0</td>\n",
       "    </tr>\n",
       "    <tr>\n",
       "      <th>4</th>\n",
       "      <td>365.0</td>\n",
       "      <td>156.0</td>\n",
       "    </tr>\n",
       "    <tr>\n",
       "      <th>5</th>\n",
       "      <td>36.0</td>\n",
       "      <td>14.0</td>\n",
       "    </tr>\n",
       "    <tr>\n",
       "      <th>6</th>\n",
       "      <td>508.0</td>\n",
       "      <td>158.0</td>\n",
       "    </tr>\n",
       "    <tr>\n",
       "      <th>7</th>\n",
       "      <td>0.0</td>\n",
       "      <td>3.0</td>\n",
       "    </tr>\n",
       "    <tr>\n",
       "      <th>8</th>\n",
       "      <td>283.0</td>\n",
       "      <td>65.0</td>\n",
       "    </tr>\n",
       "    <tr>\n",
       "      <th>9</th>\n",
       "      <td>223.0</td>\n",
       "      <td>64.0</td>\n",
       "    </tr>\n",
       "    <tr>\n",
       "      <th>10</th>\n",
       "      <td>89.0</td>\n",
       "      <td>27.0</td>\n",
       "    </tr>\n",
       "    <tr>\n",
       "      <th>11</th>\n",
       "      <td>2.0</td>\n",
       "      <td>2.0</td>\n",
       "    </tr>\n",
       "    <tr>\n",
       "      <th>12</th>\n",
       "      <td>228.0</td>\n",
       "      <td>43.0</td>\n",
       "    </tr>\n",
       "    <tr>\n",
       "      <th>13</th>\n",
       "      <td>1.0</td>\n",
       "      <td>2.0</td>\n",
       "    </tr>\n",
       "    <tr>\n",
       "      <th>14</th>\n",
       "      <td>12.0</td>\n",
       "      <td>3.0</td>\n",
       "    </tr>\n",
       "    <tr>\n",
       "      <th>15</th>\n",
       "      <td>72.0</td>\n",
       "      <td>3.0</td>\n",
       "    </tr>\n",
       "    <tr>\n",
       "      <th>16</th>\n",
       "      <td>31.0</td>\n",
       "      <td>1.0</td>\n",
       "    </tr>\n",
       "    <tr>\n",
       "      <th>17</th>\n",
       "      <td>1.0</td>\n",
       "      <td>0.0</td>\n",
       "    </tr>\n",
       "    <tr>\n",
       "      <th>18</th>\n",
       "      <td>18.0</td>\n",
       "      <td>1.0</td>\n",
       "    </tr>\n",
       "    <tr>\n",
       "      <th>20</th>\n",
       "      <td>21.0</td>\n",
       "      <td>4.0</td>\n",
       "    </tr>\n",
       "    <tr>\n",
       "      <th>21</th>\n",
       "      <td>2.0</td>\n",
       "      <td>1.0</td>\n",
       "    </tr>\n",
       "    <tr>\n",
       "      <th>24</th>\n",
       "      <td>2.0</td>\n",
       "      <td>0.0</td>\n",
       "    </tr>\n",
       "    <tr>\n",
       "      <th>27</th>\n",
       "      <td>0.0</td>\n",
       "      <td>1.0</td>\n",
       "    </tr>\n",
       "    <tr>\n",
       "      <th>28</th>\n",
       "      <td>0.0</td>\n",
       "      <td>1.0</td>\n",
       "    </tr>\n",
       "  </tbody>\n",
       "</table>\n",
       "</div>"
      ],
      "text/plain": [
       "group           A      B\n",
       "event_name              \n",
       "1            27.0   16.0\n",
       "2           162.0   94.0\n",
       "3           196.0  112.0\n",
       "4           365.0  156.0\n",
       "5            36.0   14.0\n",
       "6           508.0  158.0\n",
       "7             0.0    3.0\n",
       "8           283.0   65.0\n",
       "9           223.0   64.0\n",
       "10           89.0   27.0\n",
       "11            2.0    2.0\n",
       "12          228.0   43.0\n",
       "13            1.0    2.0\n",
       "14           12.0    3.0\n",
       "15           72.0    3.0\n",
       "16           31.0    1.0\n",
       "17            1.0    0.0\n",
       "18           18.0    1.0\n",
       "20           21.0    4.0\n",
       "21            2.0    1.0\n",
       "24            2.0    0.0\n",
       "27            0.0    1.0\n",
       "28            0.0    1.0"
      ]
     },
     "execution_count": 41,
     "metadata": {},
     "output_type": "execute_result"
    }
   ],
   "source": [
    "# повернули таблицу, чтобы группы стали колонками\n",
    "event_count = count_event.pivot_table(index = 'event_name', columns = 'group', values = 'user_id', aggfunc = 'nunique')\n",
    "event_count.fillna(0) "
   ]
  },
  {
   "cell_type": "code",
   "execution_count": 42,
   "metadata": {},
   "outputs": [
    {
     "data": {
      "image/png": "[encoded data removed]",
      "text/plain": [
       "<Figure size 1080x720 with 1 Axes>"
      ]
     },
     "metadata": {
      "needs_background": "light"
     },
     "output_type": "display_data"
    }
   ],
   "source": [
    "# построили столбчатую диаграмму распределения количества событий на пользователя для разных групп\n",
    "plt.rcParams[\"figure.figsize\"] = (15, 10)\n",
    "#plt.figure(figsize=(15, 10))\n",
    "event_count.plot.bar()\n",
    "plt.title('Распределение количества событий для разных групп')\n",
    "plt.xlabel('Количество событий, совершенных пользователем')\n",
    "plt.ylabel('Количество пользователей')\n",
    "plt.show();"
   ]
  },
  {
   "cell_type": "markdown",
   "metadata": {},
   "source": [
    "Конфигурация распределения количества событий, совершенных одним пользователем, в обеих группах похожа, наглядно различие в размерах выборок А/В. Максимальное количество пользователей совершили по 6 событий за исследуемый период. Гистограмма демонстрирует неравномерное распределение по группам."
   ]
  },
  {
   "cell_type": "code",
   "execution_count": 43,
   "metadata": {},
   "outputs": [
    {
     "data": {
      "image/png": "[encoded data removed]",
      "text/plain": [
       "<Figure size 1080x720 with 1 Axes>"
      ]
     },
     "metadata": {
      "needs_background": "light"
     },
     "output_type": "display_data"
    }
   ],
   "source": [
    "# построили гистограмму распределения событий по времени\n",
    "df_re['event_dt'].hist(bins=100, figsize=(15,10))\n",
    "plt.title('Гистограмма распределения событий по времени наблюдений')\n",
    "plt.xlabel('время')\n",
    "plt.ylabel('частота событий')\n",
    "plt.show();"
   ]
  },
  {
   "cell_type": "code",
   "execution_count": 44,
   "metadata": {},
   "outputs": [
    {
     "data": {
      "text/plain": [
       "<AxesSubplot:>"
      ]
     },
     "execution_count": 44,
     "metadata": {},
     "output_type": "execute_result"
    },
    {
     "data": {
      "image/png": "[encoded data removed]",
      "text/plain": [
       "<Figure size 1080x720 with 1 Axes>"
      ]
     },
     "metadata": {
      "needs_background": "light"
     },
     "output_type": "display_data"
    }
   ],
   "source": [
    "df_re.query('group == \"A\"')['event_dt'].hist(bins=100, figsize=(15,10))"
   ]
  },
  {
   "cell_type": "code",
   "execution_count": 45,
   "metadata": {},
   "outputs": [
    {
     "data": {
      "text/plain": [
       "<AxesSubplot:>"
      ]
     },
     "execution_count": 45,
     "metadata": {},
     "output_type": "execute_result"
    },
    {
     "data": {
      "image/png": "[encoded data removed]",
      "text/plain": [
       "<Figure size 1080x720 with 1 Axes>"
      ]
     },
     "metadata": {
      "needs_background": "light"
     },
     "output_type": "display_data"
    }
   ],
   "source": [
    "df_re.query('group == \"B\"')['event_dt'].hist(bins=100, figsize=(15,10))"
   ]
  },
  {
   "cell_type": "markdown",
   "metadata": {},
   "source": [
    "Активность пользователей по времени проведения теста различается в группах. По выборке в целом и в контрольной группе \"А\" до 14 декабря активность низкая, 14 декабря наблюдается резкий скачек, далее растёт до 22 декабря и начинает быстро снижаться. В экспериментальной группе \"В\" в начале теста с 7 по 11 декабря активность довольно высокая, провал с 12 по 14 декабря, медленный рост до 22 и снижение до конца наблюдений. "
   ]
  },
  {
   "cell_type": "markdown",
   "metadata": {},
   "source": [
    "### Анализ результатов эксперимента"
   ]
  },
  {
   "cell_type": "code",
   "execution_count": 46,
   "metadata": {},
   "outputs": [
    {
     "data": {
      "text/plain": [
       "login           9306\n",
       "product_page    5740\n",
       "purchase        2804\n",
       "product_cart    2714\n",
       "Name: event_name, dtype: int64"
      ]
     },
     "execution_count": 46,
     "metadata": {},
     "output_type": "execute_result"
    }
   ],
   "source": [
    "# посмотрели, как часто встречаются события\n",
    "df_re['event_name'].value_counts()"
   ]
  },
  {
   "cell_type": "code",
   "execution_count": 47,
   "metadata": {},
   "outputs": [
    {
     "data": {
      "text/html": [
       "<div>\n",
       "<style scoped>\n",
       "    .dataframe tbody tr th:only-of-type {\n",
       "        vertical-align: middle;\n",
       "    }\n",
       "\n",
       "    .dataframe tbody tr th {\n",
       "        vertical-align: top;\n",
       "    }\n",
       "\n",
       "    .dataframe thead th {\n",
       "        text-align: right;\n",
       "    }\n",
       "</style>\n",
       "<table border=\"1\" class=\"dataframe\">\n",
       "  <thead>\n",
       "    <tr style=\"text-align: right;\">\n",
       "      <th></th>\n",
       "      <th>event</th>\n",
       "      <th>user_count</th>\n",
       "      <th>user_ratio</th>\n",
       "    </tr>\n",
       "  </thead>\n",
       "  <tbody>\n",
       "    <tr>\n",
       "      <th>0</th>\n",
       "      <td>login</td>\n",
       "      <td>3050</td>\n",
       "      <td>100.00</td>\n",
       "    </tr>\n",
       "    <tr>\n",
       "      <th>2</th>\n",
       "      <td>product_page</td>\n",
       "      <td>1905</td>\n",
       "      <td>62.46</td>\n",
       "    </tr>\n",
       "    <tr>\n",
       "      <th>3</th>\n",
       "      <td>purchase</td>\n",
       "      <td>953</td>\n",
       "      <td>31.25</td>\n",
       "    </tr>\n",
       "    <tr>\n",
       "      <th>1</th>\n",
       "      <td>product_cart</td>\n",
       "      <td>900</td>\n",
       "      <td>29.51</td>\n",
       "    </tr>\n",
       "  </tbody>\n",
       "</table>\n",
       "</div>"
      ],
      "text/plain": [
       "          event  user_count  user_ratio\n",
       "0         login        3050      100.00\n",
       "2  product_page        1905       62.46\n",
       "3      purchase         953       31.25\n",
       "1  product_cart         900       29.51"
      ]
     },
     "execution_count": 47,
     "metadata": {},
     "output_type": "execute_result"
    }
   ],
   "source": [
    "# посчитали количество пользователей, совершавших каждое из событий хотя бы один раз.\n",
    "event_cast = df_re.pivot_table(index='event_name', values='user_id', aggfunc='nunique',).reset_index()\n",
    "event_cast.columns = ['event', 'user_count']\n",
    "event_cast['user_ratio'] = (event_cast['user_count'] /len(df_re['user_id'].unique())*100).round(2)\n",
    "event_cast = event_cast.sort_values('user_count', ascending=False)\n",
    "event_cast"
   ]
  },
  {
   "cell_type": "code",
   "execution_count": 48,
   "metadata": {},
   "outputs": [
    {
     "data": {
      "text/html": [
       "<div>\n",
       "<style scoped>\n",
       "    .dataframe tbody tr th:only-of-type {\n",
       "        vertical-align: middle;\n",
       "    }\n",
       "\n",
       "    .dataframe tbody tr th {\n",
       "        vertical-align: top;\n",
       "    }\n",
       "\n",
       "    .dataframe thead th {\n",
       "        text-align: right;\n",
       "    }\n",
       "</style>\n",
       "<table border=\"1\" class=\"dataframe\">\n",
       "  <thead>\n",
       "    <tr style=\"text-align: right;\">\n",
       "      <th></th>\n",
       "      <th>event</th>\n",
       "      <th>user_count</th>\n",
       "      <th>user_ratio</th>\n",
       "      <th>test</th>\n",
       "    </tr>\n",
       "  </thead>\n",
       "  <tbody>\n",
       "    <tr>\n",
       "      <th>0</th>\n",
       "      <td>login</td>\n",
       "      <td>3050</td>\n",
       "      <td>100.00</td>\n",
       "      <td>NaN</td>\n",
       "    </tr>\n",
       "    <tr>\n",
       "      <th>2</th>\n",
       "      <td>product_page</td>\n",
       "      <td>1905</td>\n",
       "      <td>62.46</td>\n",
       "      <td>0.624590</td>\n",
       "    </tr>\n",
       "    <tr>\n",
       "      <th>3</th>\n",
       "      <td>purchase</td>\n",
       "      <td>953</td>\n",
       "      <td>31.25</td>\n",
       "      <td>0.500262</td>\n",
       "    </tr>\n",
       "    <tr>\n",
       "      <th>1</th>\n",
       "      <td>product_cart</td>\n",
       "      <td>900</td>\n",
       "      <td>29.51</td>\n",
       "      <td>0.944386</td>\n",
       "    </tr>\n",
       "  </tbody>\n",
       "</table>\n",
       "</div>"
      ],
      "text/plain": [
       "          event  user_count  user_ratio      test\n",
       "0         login        3050      100.00       NaN\n",
       "2  product_page        1905       62.46  0.624590\n",
       "3      purchase         953       31.25  0.500262\n",
       "1  product_cart         900       29.51  0.944386"
      ]
     },
     "execution_count": 48,
     "metadata": {},
     "output_type": "execute_result"
    }
   ],
   "source": [
    "# доля относительно предыдущего шага\n",
    "event_cast['test'] = event_cast['user_count'] / event_cast['user_count'].shift()\n",
    "event_cast"
   ]
  },
  {
   "cell_type": "markdown",
   "metadata": {},
   "source": [
    "Последовательность шагов пользователя в приложении выглядит следующим образом: авторизация - продуктовая страница - продуктовая корзина - покупка. Помещать товар в корзину не обязательно, можно сразу купить, поэтому количество пользователей, совершивших покупку меньше, чем тех, кто воспользовался корзиной. Хронологически корзина впереди покупки, но её некоторые пропускают."
   ]
  },
  {
   "cell_type": "code",
   "execution_count": 49,
   "metadata": {},
   "outputs": [
    {
     "data": {
      "image/png": "[encoded data removed]",
      "text/plain": [
       "<Figure size 1080x720 with 1 Axes>"
      ]
     },
     "metadata": {
      "needs_background": "light"
     },
     "output_type": "display_data"
    }
   ],
   "source": [
    "# строим воронку событий для всей выборки\n",
    "order= ['login', 'product_page', 'product_cart', 'purchase']\n",
    "plt.figure(figsize=(15,10))\n",
    "ax = sns.barplot(x='user_ratio', y='event', data = event_cast, order = order, color='blue') \n",
    "\n",
    "plt.title('Частота совершения событий')\n",
    "\n",
    "plt.xlabel('Процент пользователей')\n",
    "plt.ylabel('название события')\n",
    "\n",
    "plt.show();"
   ]
  },
  {
   "cell_type": "markdown",
   "metadata": {},
   "source": [
    "## Анализ результатов эксперимента"
   ]
  },
  {
   "cell_type": "code",
   "execution_count": 50,
   "metadata": {},
   "outputs": [
    {
     "data": {
      "text/html": [
       "<div>\n",
       "<style scoped>\n",
       "    .dataframe tbody tr th:only-of-type {\n",
       "        vertical-align: middle;\n",
       "    }\n",
       "\n",
       "    .dataframe tbody tr th {\n",
       "        vertical-align: top;\n",
       "    }\n",
       "\n",
       "    .dataframe thead th {\n",
       "        text-align: right;\n",
       "    }\n",
       "</style>\n",
       "<table border=\"1\" class=\"dataframe\">\n",
       "  <thead>\n",
       "    <tr style=\"text-align: right;\">\n",
       "      <th>group</th>\n",
       "      <th>A</th>\n",
       "      <th>B</th>\n",
       "    </tr>\n",
       "    <tr>\n",
       "      <th>event_name</th>\n",
       "      <th></th>\n",
       "      <th></th>\n",
       "    </tr>\n",
       "  </thead>\n",
       "  <tbody>\n",
       "    <tr>\n",
       "      <th>login</th>\n",
       "      <td>2279</td>\n",
       "      <td>771</td>\n",
       "    </tr>\n",
       "    <tr>\n",
       "      <th>product_page</th>\n",
       "      <td>1476</td>\n",
       "      <td>429</td>\n",
       "    </tr>\n",
       "    <tr>\n",
       "      <th>purchase</th>\n",
       "      <td>734</td>\n",
       "      <td>219</td>\n",
       "    </tr>\n",
       "    <tr>\n",
       "      <th>product_cart</th>\n",
       "      <td>686</td>\n",
       "      <td>214</td>\n",
       "    </tr>\n",
       "  </tbody>\n",
       "</table>\n",
       "</div>"
      ],
      "text/plain": [
       "group            A    B\n",
       "event_name             \n",
       "login         2279  771\n",
       "product_page  1476  429\n",
       "purchase       734  219\n",
       "product_cart   686  214"
      ]
     },
     "execution_count": 50,
     "metadata": {},
     "output_type": "execute_result"
    }
   ],
   "source": [
    "# посмотрели число пользователей в каждой из  групп в разрезе событий\n",
    "df_event = (df_re.pivot_table(\n",
    "    index='event_name',\n",
    "    columns='group', \n",
    "    values='user_id', \n",
    "    aggfunc='nunique')\n",
    "           .sort_values('A', ascending=False).reset_index())\n",
    "df_event = df_event.set_index('event_name')\n",
    "df_event"
   ]
  },
  {
   "cell_type": "code",
   "execution_count": 51,
   "metadata": {},
   "outputs": [
    {
     "data": {
      "text/html": [
       "<div>\n",
       "<style scoped>\n",
       "    .dataframe tbody tr th:only-of-type {\n",
       "        vertical-align: middle;\n",
       "    }\n",
       "\n",
       "    .dataframe tbody tr th {\n",
       "        vertical-align: top;\n",
       "    }\n",
       "\n",
       "    .dataframe thead th {\n",
       "        text-align: right;\n",
       "    }\n",
       "</style>\n",
       "<table border=\"1\" class=\"dataframe\">\n",
       "  <thead>\n",
       "    <tr style=\"text-align: right;\">\n",
       "      <th></th>\n",
       "      <th>group</th>\n",
       "      <th>full</th>\n",
       "    </tr>\n",
       "  </thead>\n",
       "  <tbody>\n",
       "    <tr>\n",
       "      <th>0</th>\n",
       "      <td>A</td>\n",
       "      <td>2279</td>\n",
       "    </tr>\n",
       "    <tr>\n",
       "      <th>1</th>\n",
       "      <td>B</td>\n",
       "      <td>771</td>\n",
       "    </tr>\n",
       "  </tbody>\n",
       "</table>\n",
       "</div>"
      ],
      "text/plain": [
       "  group  full\n",
       "0     A  2279\n",
       "1     B   771"
      ]
     },
     "execution_count": 51,
     "metadata": {},
     "output_type": "execute_result"
    }
   ],
   "source": [
    "# создали колонку с числом пользователей в каждой группе\n",
    "df_full = df_re.pivot_table(index='group', values='user_id', aggfunc='nunique',).reset_index()\n",
    "df_full.columns = ['group', 'full']\n",
    "df_full"
   ]
  },
  {
   "cell_type": "code",
   "execution_count": 52,
   "metadata": {},
   "outputs": [
    {
     "data": {
      "text/html": [
       "<div>\n",
       "<style scoped>\n",
       "    .dataframe tbody tr th:only-of-type {\n",
       "        vertical-align: middle;\n",
       "    }\n",
       "\n",
       "    .dataframe tbody tr th {\n",
       "        vertical-align: top;\n",
       "    }\n",
       "\n",
       "    .dataframe thead th {\n",
       "        text-align: right;\n",
       "    }\n",
       "</style>\n",
       "<table border=\"1\" class=\"dataframe\">\n",
       "  <thead>\n",
       "    <tr style=\"text-align: right;\">\n",
       "      <th></th>\n",
       "      <th>group</th>\n",
       "      <th>login</th>\n",
       "      <th>product_page</th>\n",
       "      <th>purchase</th>\n",
       "      <th>product_cart</th>\n",
       "      <th>full</th>\n",
       "    </tr>\n",
       "  </thead>\n",
       "  <tbody>\n",
       "    <tr>\n",
       "      <th>0</th>\n",
       "      <td>A</td>\n",
       "      <td>2279</td>\n",
       "      <td>1476</td>\n",
       "      <td>734</td>\n",
       "      <td>686</td>\n",
       "      <td>2279</td>\n",
       "    </tr>\n",
       "    <tr>\n",
       "      <th>1</th>\n",
       "      <td>B</td>\n",
       "      <td>771</td>\n",
       "      <td>429</td>\n",
       "      <td>219</td>\n",
       "      <td>214</td>\n",
       "      <td>771</td>\n",
       "    </tr>\n",
       "  </tbody>\n",
       "</table>\n",
       "</div>"
      ],
      "text/plain": [
       "  group  login  product_page  purchase  product_cart  full\n",
       "0     A   2279          1476       734           686  2279\n",
       "1     B    771           429       219           214   771"
      ]
     },
     "execution_count": 52,
     "metadata": {},
     "output_type": "execute_result"
    }
   ],
   "source": [
    "# повернули таблицу и присоединили размеры групп\n",
    "df_event = df_event.T\n",
    "df = pd.merge(df_event, df_full, on='group')\n",
    "df\n"
   ]
  },
  {
   "cell_type": "code",
   "execution_count": 53,
   "metadata": {},
   "outputs": [
    {
     "data": {
      "text/html": [
       "<div>\n",
       "<style scoped>\n",
       "    .dataframe tbody tr th:only-of-type {\n",
       "        vertical-align: middle;\n",
       "    }\n",
       "\n",
       "    .dataframe tbody tr th {\n",
       "        vertical-align: top;\n",
       "    }\n",
       "\n",
       "    .dataframe thead th {\n",
       "        text-align: right;\n",
       "    }\n",
       "</style>\n",
       "<table border=\"1\" class=\"dataframe\">\n",
       "  <thead>\n",
       "    <tr style=\"text-align: right;\">\n",
       "      <th></th>\n",
       "      <th>group</th>\n",
       "      <th>login</th>\n",
       "      <th>product_page</th>\n",
       "      <th>purchase</th>\n",
       "      <th>product_cart</th>\n",
       "      <th>full</th>\n",
       "    </tr>\n",
       "  </thead>\n",
       "  <tbody>\n",
       "    <tr>\n",
       "      <th>0</th>\n",
       "      <td>A</td>\n",
       "      <td>1.0</td>\n",
       "      <td>0.647652</td>\n",
       "      <td>0.322071</td>\n",
       "      <td>0.301009</td>\n",
       "      <td>2279</td>\n",
       "    </tr>\n",
       "    <tr>\n",
       "      <th>1</th>\n",
       "      <td>B</td>\n",
       "      <td>1.0</td>\n",
       "      <td>0.556420</td>\n",
       "      <td>0.284047</td>\n",
       "      <td>0.277562</td>\n",
       "      <td>771</td>\n",
       "    </tr>\n",
       "  </tbody>\n",
       "</table>\n",
       "</div>"
      ],
      "text/plain": [
       "  group  login  product_page  purchase  product_cart  full\n",
       "0     A    1.0      0.647652  0.322071      0.301009  2279\n",
       "1     B    1.0      0.556420  0.284047      0.277562   771"
      ]
     },
     "execution_count": 53,
     "metadata": {},
     "output_type": "execute_result"
    }
   ],
   "source": [
    "# посчитали конверсию различных действий для каждой группы \n",
    "df.iloc[:, [1, 2, 3, 4]] = df.iloc[:, [1, 2, 3, 4]].div(df.iloc[:, 5].values, axis=0)\n",
    "df"
   ]
  },
  {
   "cell_type": "markdown",
   "metadata": {},
   "source": [
    "Конфуз, конверсии во все действия в контрольной группе выше, чем в эспериментальной. Что-то не то рекомендуют пользователям. "
   ]
  },
  {
   "cell_type": "markdown",
   "metadata": {},
   "source": [
    "**Вывод**\n",
    "\n",
    "Ожидаемый эффект теста не оправдался!  За 14 дней с момента регистрации в системе пользователи показали **ухудшение** каждой метрики: \n",
    "- конверсии в просмотр карточек товаров — событие product_page\n",
    "- просмотры корзины — product_cart\n",
    "- покупки — purchase.\n",
    "\n",
    "Вместо ожидаемого улучшения метрик на 10%."
   ]
  },
  {
   "cell_type": "markdown",
   "metadata": {},
   "source": [
    "Между показателями конверсии групп А/B теста имеются отличия, являются ли они статистически значимыми проверили, используя z-тест. "
   ]
  },
  {
   "cell_type": "markdown",
   "metadata": {},
   "source": [
    "## Оценка результатов А/В теста"
   ]
  },
  {
   "cell_type": "markdown",
   "metadata": {},
   "source": [
    "Оценили равенство долей уникальных посетителей в разных группах теста, побывавших на этапе воронки, используя z-тест.\n",
    "\n",
    "**Нулевая гипотеза**: доли уникальных посетителей, побывавших на этапе воронки, одинаковы.\n",
    "\n",
    "**Альтенативная гипотеза**: между долями уникальных посетителей, побывавших на этапе воронки, есть значимая разница"
   ]
  },
  {
   "cell_type": "code",
   "execution_count": 54,
   "metadata": {},
   "outputs": [],
   "source": [
    "# функция для z_testa\n",
    "def z_test(successes1, successes2, trials1, trials2, alpha=0.05):\n",
    "\n",
    "    p1 = successes1/trials1\n",
    "\n",
    "    p2 = successes2/trials2\n",
    "\n",
    "    p_combined = (successes1 + successes2) / (trials1 + trials2)\n",
    "\n",
    "    difference = p1 - p2 \n",
    "\n",
    "    z_value = difference / mth.sqrt(p_combined * (1 - p_combined) * (1 / trials1 + 1 / trials2))\n",
    "\n",
    "    distr = st.norm(0, 1)\n",
    "\n",
    "    p_value = (1 - distr.cdf(abs(z_value))) * 2\n",
    "\n",
    "    print('p-значение: ', p_value)\n",
    "\n",
    "    if p_value < alpha:\n",
    "        print('Отвергаем нулевую гипотезу: между долями есть значимая разница')\n",
    "    else:\n",
    "        print('Не получилось отвергнуть нулевую гипотезу, нет оснований считать доли разными') "
   ]
  },
  {
   "cell_type": "code",
   "execution_count": 55,
   "metadata": {},
   "outputs": [
    {
     "data": {
      "text/html": [
       "<div>\n",
       "<style scoped>\n",
       "    .dataframe tbody tr th:only-of-type {\n",
       "        vertical-align: middle;\n",
       "    }\n",
       "\n",
       "    .dataframe tbody tr th {\n",
       "        vertical-align: top;\n",
       "    }\n",
       "\n",
       "    .dataframe thead th {\n",
       "        text-align: right;\n",
       "    }\n",
       "</style>\n",
       "<table border=\"1\" class=\"dataframe\">\n",
       "  <thead>\n",
       "    <tr style=\"text-align: right;\">\n",
       "      <th>group</th>\n",
       "      <th>A</th>\n",
       "      <th>B</th>\n",
       "    </tr>\n",
       "    <tr>\n",
       "      <th>event_name</th>\n",
       "      <th></th>\n",
       "      <th></th>\n",
       "    </tr>\n",
       "  </thead>\n",
       "  <tbody>\n",
       "    <tr>\n",
       "      <th>login</th>\n",
       "      <td>2279</td>\n",
       "      <td>771</td>\n",
       "    </tr>\n",
       "    <tr>\n",
       "      <th>product_page</th>\n",
       "      <td>1476</td>\n",
       "      <td>429</td>\n",
       "    </tr>\n",
       "    <tr>\n",
       "      <th>purchase</th>\n",
       "      <td>734</td>\n",
       "      <td>219</td>\n",
       "    </tr>\n",
       "    <tr>\n",
       "      <th>product_cart</th>\n",
       "      <td>686</td>\n",
       "      <td>214</td>\n",
       "    </tr>\n",
       "  </tbody>\n",
       "</table>\n",
       "</div>"
      ],
      "text/plain": [
       "group            A    B\n",
       "event_name             \n",
       "login         2279  771\n",
       "product_page  1476  429\n",
       "purchase       734  219\n",
       "product_cart   686  214"
      ]
     },
     "execution_count": 55,
     "metadata": {},
     "output_type": "execute_result"
    }
   ],
   "source": [
    "# количество пользователей для каждого этапа воронки в каждой группе,  количество пользователей в группе \n",
    "#равно количеству пользователей на этапе login\n",
    "\n",
    "df_test = df_event.T\n",
    "df_test"
   ]
  },
  {
   "cell_type": "markdown",
   "metadata": {},
   "source": [
    "Применили функцию z_test к каждой паре сравнения долей групп А / В.  В нашей воронке  является обязательным этап авторизации, его посещают 100% пользователей, но воронка допускает несколько вариантов последовательности  продвижения по воронке. Это значит, что для каждого шага воронки доля должна считаться от общего количества пользователей в группе. В нашем случае общее количество совпадает с количеством авторизировавшихся пользователей. "
   ]
  },
  {
   "cell_type": "code",
   "execution_count": 56,
   "metadata": {},
   "outputs": [
    {
     "name": "stdout",
     "output_type": "stream",
     "text": [
      "p-значение:  6.120730626113513e-06\n",
      "Отвергаем нулевую гипотезу: между долями есть значимая разница\n"
     ]
    }
   ],
   "source": [
    "#  переход от авторизации к продуктовой странице\n",
    "z_test(df_test.at['product_page', 'A'], df_test.at['product_page', 'B'], df_test.at['login', 'A'], df_test.at['login', 'B'])"
   ]
  },
  {
   "cell_type": "code",
   "execution_count": 57,
   "metadata": {},
   "outputs": [
    {
     "name": "stdout",
     "output_type": "stream",
     "text": [
      "p-значение:  0.21721122664962245\n",
      "Не получилось отвергнуть нулевую гипотезу, нет оснований считать доли разными\n"
     ]
    }
   ],
   "source": [
    "# переход от авторизации к продуктовой корзине\n",
    "z_test(df_test.at['product_cart', 'A'], df_test.at['product_cart', 'B'], df_test.at['login', 'A'], df_test.at['login', 'B'])"
   ]
  },
  {
   "cell_type": "code",
   "execution_count": 58,
   "metadata": {},
   "outputs": [
    {
     "name": "stdout",
     "output_type": "stream",
     "text": [
      "p-значение:  0.048942596376941205\n",
      "Отвергаем нулевую гипотезу: между долями есть значимая разница\n"
     ]
    }
   ],
   "source": [
    "# переход от авторизации к покупке\n",
    "z_test(df_test.at['purchase', 'A'], df_test.at['purchase', 'B'], df_test.at['login', 'A'], df_test.at['login', 'B'])"
   ]
  },
  {
   "cell_type": "markdown",
   "metadata": {},
   "source": [
    "Между группой В, в которой пользовались новыми рекомендациями, и контрольной группой А, статистически значимые различия обнаружились на этапе перехода от авторизации к продуктовой странице и от авторизации к покупке. \n",
    "\n",
    "Обоснование выбора значимости.\n",
    "В ходе исследования проведено 3 проверки статистических гипотез на равенство долей. Проверки проводили при помощи z-testa. Существует несколько методов снижения вероятности ложнопозитивного результата при множественном тестировании гипотез: метод Бонферрони (поправка Бонферрони), метод Холма, метод Шидака. Все они заключаются в снижении выбранного уровня значимости с ростом числа проверок. Чаще всего применяют поправку Бонферрони — из-за простоты решения. Надо поделить принятый уровень значимости на число сравнений, которые проводят на одних и тех же данных. В проведенном исследовании в двух случаях р-значение оказалось ниже выбранного  уровня значимости 0,05. Разделили его на 3 и получили уровень значимости 0,0167. При этом р-значения не изменятся, следовательно в случае продуктовой страницы нулевая гипотеза всё равно отвергнута и между долями есть разница, а в случае покупок, где р-зачение равно 0,049 не получится отвергнуть нулевую гипотезу и нет основания считать доли разными, так как 0,049>0,0167."
   ]
  },
  {
   "cell_type": "markdown",
   "metadata": {},
   "source": [
    "## Выводы"
   ]
  },
  {
   "cell_type": "markdown",
   "metadata": {},
   "source": [
    "Проведен анализ результатов А/В теста по изучению влияния улучшенной рекомендательной системы на метрики деятельности интернет-магазина.\n",
    "\n",
    "Полученные данные включают не полностью соответствовали техническому заданию. \n",
    "\n",
    "Количество пользователей в контрольной группе А оказалось в 3 раза больше, чем количество пользователей в экспериментальной группе B.\n",
    "\n",
    "Дата остановки теста по ТЗ 2021-01-04. Фактически имеются записи о событиях только до полуночи 2020-12-30. Фактически дата остановки: 2020-12-30\n",
    "\n",
    "Аудитория теста должна была состоять из  15% новых пользователей из региона EU. Если взять 15% зарегистрированных пользователей  из EU, то это должно быть 6940 пользователей. Фактическое количество участников теста 3050, что составляет всего 6,7% новых пользователей из Евросоюза.\n",
    "\n",
    "Ожидаемое количество участников теста 6000, реальное количество участников теста 3050.\n",
    "\n",
    "Ожидаемый эффект: за 14 дней с момента регистрации в системе пользователи покажут улучшение каждой метрики не менее, чем на 10%:\n",
    "- конверсии в просмотр карточек товаров — событие product_page\n",
    "- просмотры корзины — product_cart\n",
    "- покупки — purchase.\n",
    "В ходе исследования обнаружили **ухудшение** всех указанных метрик.\n",
    "\n",
    "Полученные данные включают в себя сведения о проведении ещё одного теста interface_eu_test. Почти 12% всех событий совершены пользователями, включенными в оба теста. Есть пользователи, попавшие в группу \"А\" в обоих тестах, есть те, кто оказался в группе \"А\" в одном тесте и группе \"В\" в другом, есть попавшие в группу \"В\" в обоих тестах и подвергшиеся двойному воздействию.\n",
    "\n",
    "Полагаем, что время проведения теста накануне Рождества и Нового года на фоне непрерывных акций и специфического поведения покупателей в этот период по отношению всего года, является неудачным.\n",
    "\n",
    "Оценка равенства долей уникальных посетителей в разных группах теста, побывавших на каждом этапе воронки, проведена с помощью z-теста. Установлено, что нет оснований считать разными доли уникальных посетителей в разных группах теста, побывавших на этапе корзины и покупки. С учетом того, что метрики ухудшились, это не плохая новость. Только на этапе продуктовой страницы между долями есть значимая разница. Но эта разница в сторону ухудшения метрики.\n",
    "\n",
    "Проведенный тест не дает оснований сделать вывод о влиянии улучшенной рекомендательной системы на метрики деятельности интернет-магазина, так как он проведен не достаточно аккуратно. Целесообразно повторить тест в более спокойное время на бОльшей по размеру выборке, равномерно поделенной на группы.\n"
   ]
  }
 ],
 "metadata": {
  "ExecuteTimeLog": [
   {
    "duration": 960,
    "start_time": "2022-07-31T13:47:52.129Z"
   },
   {
    "duration": 754,
    "start_time": "2022-07-31T13:47:53.091Z"
   },
   {
    "duration": 15,
    "start_time": "2022-07-31T13:47:53.847Z"
   },
   {
    "duration": 5,
    "start_time": "2022-07-31T13:47:53.864Z"
   },
   {
    "duration": 16,
    "start_time": "2022-07-31T13:47:53.871Z"
   },
   {
    "duration": 24,
    "start_time": "2022-07-31T13:47:53.889Z"
   },
   {
    "duration": 31,
    "start_time": "2022-07-31T13:47:53.915Z"
   },
   {
    "duration": 10,
    "start_time": "2022-07-31T17:01:31.668Z"
   },
   {
    "duration": 37,
    "start_time": "2022-07-31T17:02:52.164Z"
   },
   {
    "duration": 44,
    "start_time": "2022-07-31T17:03:41.091Z"
   },
   {
    "duration": 4,
    "start_time": "2022-07-31T17:04:14.765Z"
   },
   {
    "duration": 29,
    "start_time": "2022-07-31T17:05:20.958Z"
   },
   {
    "duration": 91,
    "start_time": "2022-07-31T17:06:21.483Z"
   },
   {
    "duration": 116,
    "start_time": "2022-07-31T17:07:57.275Z"
   },
   {
    "duration": 375,
    "start_time": "2022-07-31T17:08:23.527Z"
   },
   {
    "duration": 17,
    "start_time": "2022-07-31T17:09:25.155Z"
   },
   {
    "duration": 5,
    "start_time": "2022-07-31T17:18:10.154Z"
   },
   {
    "duration": 6,
    "start_time": "2022-07-31T17:18:20.345Z"
   },
   {
    "duration": 29,
    "start_time": "2022-07-31T17:21:48.049Z"
   },
   {
    "duration": 17,
    "start_time": "2022-07-31T17:45:36.167Z"
   },
   {
    "duration": 828,
    "start_time": "2022-08-01T06:47:42.425Z"
   },
   {
    "duration": 2012,
    "start_time": "2022-08-01T06:47:43.256Z"
   },
   {
    "duration": 15,
    "start_time": "2022-08-01T06:47:45.270Z"
   },
   {
    "duration": 8,
    "start_time": "2022-08-01T06:47:45.287Z"
   },
   {
    "duration": 19,
    "start_time": "2022-08-01T06:47:45.296Z"
   },
   {
    "duration": 12,
    "start_time": "2022-08-01T06:47:45.317Z"
   },
   {
    "duration": 23,
    "start_time": "2022-08-01T06:47:45.331Z"
   },
   {
    "duration": 16,
    "start_time": "2022-08-01T06:47:45.356Z"
   },
   {
    "duration": 33,
    "start_time": "2022-08-01T06:47:45.374Z"
   },
   {
    "duration": 26,
    "start_time": "2022-08-01T06:47:45.411Z"
   },
   {
    "duration": 39,
    "start_time": "2022-08-01T06:47:45.439Z"
   },
   {
    "duration": 25,
    "start_time": "2022-08-01T06:47:45.480Z"
   },
   {
    "duration": 25,
    "start_time": "2022-08-01T06:47:45.506Z"
   },
   {
    "duration": 79,
    "start_time": "2022-08-01T06:47:45.533Z"
   },
   {
    "duration": 100,
    "start_time": "2022-08-01T06:47:45.614Z"
   },
   {
    "duration": 355,
    "start_time": "2022-08-01T06:47:45.716Z"
   },
   {
    "duration": 35,
    "start_time": "2022-08-01T06:47:46.073Z"
   },
   {
    "duration": 18,
    "start_time": "2022-08-01T06:47:46.110Z"
   },
   {
    "duration": 11,
    "start_time": "2022-08-01T06:47:46.130Z"
   },
   {
    "duration": 126,
    "start_time": "2022-08-01T06:47:46.143Z"
   },
   {
    "duration": 24,
    "start_time": "2022-08-01T06:50:16.724Z"
   },
   {
    "duration": 8,
    "start_time": "2022-08-01T06:51:43.669Z"
   },
   {
    "duration": 3,
    "start_time": "2022-08-01T07:04:33.219Z"
   },
   {
    "duration": 10,
    "start_time": "2022-08-01T07:05:00.730Z"
   },
   {
    "duration": 17,
    "start_time": "2022-08-01T07:08:46.184Z"
   },
   {
    "duration": 7,
    "start_time": "2022-08-01T07:09:00.612Z"
   },
   {
    "duration": 660,
    "start_time": "2022-08-01T07:09:00.621Z"
   },
   {
    "duration": 8,
    "start_time": "2022-08-01T07:09:01.283Z"
   },
   {
    "duration": 30,
    "start_time": "2022-08-01T07:09:01.293Z"
   },
   {
    "duration": 56,
    "start_time": "2022-08-01T07:09:01.325Z"
   },
   {
    "duration": 21,
    "start_time": "2022-08-01T07:09:01.383Z"
   },
   {
    "duration": 37,
    "start_time": "2022-08-01T07:09:01.406Z"
   },
   {
    "duration": 36,
    "start_time": "2022-08-01T07:09:01.445Z"
   },
   {
    "duration": 41,
    "start_time": "2022-08-01T07:09:01.484Z"
   },
   {
    "duration": 23,
    "start_time": "2022-08-01T07:09:01.526Z"
   },
   {
    "duration": 37,
    "start_time": "2022-08-01T07:09:01.550Z"
   },
   {
    "duration": 30,
    "start_time": "2022-08-01T07:09:01.589Z"
   },
   {
    "duration": 82,
    "start_time": "2022-08-01T07:09:01.621Z"
   },
   {
    "duration": 36,
    "start_time": "2022-08-01T07:09:01.706Z"
   },
   {
    "duration": 83,
    "start_time": "2022-08-01T07:09:01.744Z"
   },
   {
    "duration": 92,
    "start_time": "2022-08-01T07:09:01.829Z"
   },
   {
    "duration": 355,
    "start_time": "2022-08-01T07:09:01.923Z"
   },
   {
    "duration": 38,
    "start_time": "2022-08-01T07:09:02.280Z"
   },
   {
    "duration": 33,
    "start_time": "2022-08-01T07:09:02.320Z"
   },
   {
    "duration": 11,
    "start_time": "2022-08-01T07:09:02.355Z"
   },
   {
    "duration": 27,
    "start_time": "2022-08-01T07:09:02.368Z"
   },
   {
    "duration": 18,
    "start_time": "2022-08-01T07:14:32.469Z"
   },
   {
    "duration": 2,
    "start_time": "2022-08-01T07:14:45.288Z"
   },
   {
    "duration": 588,
    "start_time": "2022-08-01T07:14:45.295Z"
   },
   {
    "duration": 7,
    "start_time": "2022-08-01T07:14:45.885Z"
   },
   {
    "duration": 10,
    "start_time": "2022-08-01T07:14:45.894Z"
   },
   {
    "duration": 31,
    "start_time": "2022-08-01T07:14:45.907Z"
   },
   {
    "duration": 80,
    "start_time": "2022-08-01T07:14:45.940Z"
   },
   {
    "duration": 0,
    "start_time": "2022-08-01T07:14:46.022Z"
   },
   {
    "duration": 0,
    "start_time": "2022-08-01T07:14:46.024Z"
   },
   {
    "duration": 0,
    "start_time": "2022-08-01T07:14:46.026Z"
   },
   {
    "duration": 1,
    "start_time": "2022-08-01T07:14:46.027Z"
   },
   {
    "duration": 0,
    "start_time": "2022-08-01T07:14:46.029Z"
   },
   {
    "duration": 0,
    "start_time": "2022-08-01T07:14:46.031Z"
   },
   {
    "duration": 0,
    "start_time": "2022-08-01T07:14:46.032Z"
   },
   {
    "duration": 0,
    "start_time": "2022-08-01T07:14:46.034Z"
   },
   {
    "duration": 0,
    "start_time": "2022-08-01T07:14:46.035Z"
   },
   {
    "duration": 0,
    "start_time": "2022-08-01T07:14:46.036Z"
   },
   {
    "duration": 0,
    "start_time": "2022-08-01T07:14:46.037Z"
   },
   {
    "duration": 0,
    "start_time": "2022-08-01T07:14:46.038Z"
   },
   {
    "duration": 0,
    "start_time": "2022-08-01T07:14:46.040Z"
   },
   {
    "duration": 0,
    "start_time": "2022-08-01T07:14:46.041Z"
   },
   {
    "duration": 0,
    "start_time": "2022-08-01T07:14:46.042Z"
   },
   {
    "duration": 0,
    "start_time": "2022-08-01T07:14:46.044Z"
   },
   {
    "duration": 8,
    "start_time": "2022-08-01T07:28:42.974Z"
   },
   {
    "duration": 7,
    "start_time": "2022-08-01T07:29:10.754Z"
   },
   {
    "duration": 25,
    "start_time": "2022-08-01T07:31:35.344Z"
   },
   {
    "duration": 18,
    "start_time": "2022-08-01T07:33:49.741Z"
   },
   {
    "duration": 27,
    "start_time": "2022-08-01T07:38:18.849Z"
   },
   {
    "duration": 32,
    "start_time": "2022-08-01T07:38:22.554Z"
   },
   {
    "duration": 33,
    "start_time": "2022-08-01T07:41:02.244Z"
   },
   {
    "duration": 15,
    "start_time": "2022-08-01T07:42:34.550Z"
   },
   {
    "duration": 42,
    "start_time": "2022-08-01T07:51:35.996Z"
   },
   {
    "duration": 28,
    "start_time": "2022-08-01T07:51:58.808Z"
   },
   {
    "duration": 23,
    "start_time": "2022-08-01T08:29:10.466Z"
   },
   {
    "duration": 19,
    "start_time": "2022-08-01T08:35:31.046Z"
   },
   {
    "duration": 45,
    "start_time": "2022-08-01T08:42:08.174Z"
   },
   {
    "duration": 34,
    "start_time": "2022-08-01T08:42:36.760Z"
   },
   {
    "duration": 3,
    "start_time": "2022-08-01T08:42:51.345Z"
   },
   {
    "duration": 751,
    "start_time": "2022-08-01T08:42:51.351Z"
   },
   {
    "duration": 35,
    "start_time": "2022-08-01T08:42:52.109Z"
   },
   {
    "duration": 43,
    "start_time": "2022-08-01T08:42:52.146Z"
   },
   {
    "duration": 19,
    "start_time": "2022-08-01T08:42:52.192Z"
   },
   {
    "duration": 56,
    "start_time": "2022-08-01T08:42:52.213Z"
   },
   {
    "duration": 35,
    "start_time": "2022-08-01T08:42:52.271Z"
   },
   {
    "duration": 46,
    "start_time": "2022-08-01T08:42:52.307Z"
   },
   {
    "duration": 11,
    "start_time": "2022-08-01T08:42:52.356Z"
   },
   {
    "duration": 54,
    "start_time": "2022-08-01T08:42:52.369Z"
   },
   {
    "duration": 11,
    "start_time": "2022-08-01T08:42:52.427Z"
   },
   {
    "duration": 82,
    "start_time": "2022-08-01T08:42:52.440Z"
   },
   {
    "duration": 34,
    "start_time": "2022-08-01T08:42:52.524Z"
   },
   {
    "duration": 105,
    "start_time": "2022-08-01T08:42:52.559Z"
   },
   {
    "duration": 110,
    "start_time": "2022-08-01T08:42:52.665Z"
   },
   {
    "duration": 384,
    "start_time": "2022-08-01T08:42:52.777Z"
   },
   {
    "duration": 25,
    "start_time": "2022-08-01T08:42:53.163Z"
   },
   {
    "duration": 45,
    "start_time": "2022-08-01T08:42:53.189Z"
   },
   {
    "duration": 11,
    "start_time": "2022-08-01T08:42:53.236Z"
   },
   {
    "duration": 18,
    "start_time": "2022-08-01T08:42:53.249Z"
   },
   {
    "duration": 22,
    "start_time": "2022-08-01T08:45:03.298Z"
   },
   {
    "duration": 967,
    "start_time": "2022-08-01T08:45:43.181Z"
   },
   {
    "duration": 724,
    "start_time": "2022-08-01T08:45:44.150Z"
   },
   {
    "duration": 25,
    "start_time": "2022-08-01T08:45:44.876Z"
   },
   {
    "duration": 23,
    "start_time": "2022-08-01T08:45:44.903Z"
   },
   {
    "duration": 17,
    "start_time": "2022-08-01T08:45:44.928Z"
   },
   {
    "duration": 25,
    "start_time": "2022-08-01T08:45:44.946Z"
   },
   {
    "duration": 52,
    "start_time": "2022-08-01T08:45:44.973Z"
   },
   {
    "duration": 13,
    "start_time": "2022-08-01T08:45:45.027Z"
   },
   {
    "duration": 29,
    "start_time": "2022-08-01T08:45:45.041Z"
   },
   {
    "duration": 73,
    "start_time": "2022-08-01T08:45:45.072Z"
   },
   {
    "duration": 10,
    "start_time": "2022-08-01T08:45:45.148Z"
   },
   {
    "duration": 67,
    "start_time": "2022-08-01T08:45:45.161Z"
   },
   {
    "duration": 28,
    "start_time": "2022-08-01T08:45:45.230Z"
   },
   {
    "duration": 79,
    "start_time": "2022-08-01T08:45:45.260Z"
   },
   {
    "duration": 131,
    "start_time": "2022-08-01T08:45:45.342Z"
   },
   {
    "duration": 356,
    "start_time": "2022-08-01T08:45:45.474Z"
   },
   {
    "duration": 28,
    "start_time": "2022-08-01T08:45:45.836Z"
   },
   {
    "duration": 15,
    "start_time": "2022-08-01T08:45:45.866Z"
   },
   {
    "duration": 24,
    "start_time": "2022-08-01T08:45:45.883Z"
   },
   {
    "duration": 132,
    "start_time": "2022-08-01T08:45:45.909Z"
   },
   {
    "duration": 14,
    "start_time": "2022-08-01T08:47:35.800Z"
   },
   {
    "duration": 21,
    "start_time": "2022-08-01T08:48:47.901Z"
   },
   {
    "duration": 47,
    "start_time": "2022-08-01T08:49:13.474Z"
   },
   {
    "duration": 23,
    "start_time": "2022-08-01T09:02:20.001Z"
   },
   {
    "duration": 18,
    "start_time": "2022-08-01T09:03:53.089Z"
   },
   {
    "duration": 20,
    "start_time": "2022-08-01T09:04:13.564Z"
   },
   {
    "duration": 9,
    "start_time": "2022-08-01T09:06:11.055Z"
   },
   {
    "duration": 42,
    "start_time": "2022-08-01T09:06:29.039Z"
   },
   {
    "duration": 13,
    "start_time": "2022-08-01T09:07:28.859Z"
   },
   {
    "duration": 11,
    "start_time": "2022-08-01T09:17:57.442Z"
   },
   {
    "duration": 30,
    "start_time": "2022-08-01T09:18:09.100Z"
   },
   {
    "duration": 16,
    "start_time": "2022-08-01T09:18:24.839Z"
   },
   {
    "duration": 13,
    "start_time": "2022-08-01T09:23:30.050Z"
   },
   {
    "duration": 49,
    "start_time": "2022-08-01T09:23:38.127Z"
   },
   {
    "duration": 10,
    "start_time": "2022-08-01T09:24:14.132Z"
   },
   {
    "duration": 2,
    "start_time": "2022-08-01T09:46:59.856Z"
   },
   {
    "duration": 56,
    "start_time": "2022-08-01T09:47:58.065Z"
   },
   {
    "duration": 55,
    "start_time": "2022-08-01T09:50:36.221Z"
   },
   {
    "duration": 360,
    "start_time": "2022-08-01T09:52:17.164Z"
   },
   {
    "duration": 4,
    "start_time": "2022-08-01T09:55:37.883Z"
   },
   {
    "duration": 45,
    "start_time": "2022-08-01T10:04:50.100Z"
   },
   {
    "duration": 6,
    "start_time": "2022-08-01T10:06:12.858Z"
   },
   {
    "duration": 10,
    "start_time": "2022-08-01T10:06:51.399Z"
   },
   {
    "duration": 11,
    "start_time": "2022-08-01T10:19:02.038Z"
   },
   {
    "duration": 8,
    "start_time": "2022-08-01T10:19:38.044Z"
   },
   {
    "duration": 11,
    "start_time": "2022-08-01T10:20:03.154Z"
   },
   {
    "duration": 8,
    "start_time": "2022-08-01T10:20:32.295Z"
   },
   {
    "duration": 14,
    "start_time": "2022-08-01T10:20:47.387Z"
   },
   {
    "duration": 5,
    "start_time": "2022-08-01T10:21:44.450Z"
   },
   {
    "duration": 8,
    "start_time": "2022-08-01T10:22:11.941Z"
   },
   {
    "duration": 4,
    "start_time": "2022-08-01T10:22:56.957Z"
   },
   {
    "duration": 820,
    "start_time": "2022-08-01T10:22:56.965Z"
   },
   {
    "duration": 27,
    "start_time": "2022-08-01T10:22:57.787Z"
   },
   {
    "duration": 38,
    "start_time": "2022-08-01T10:22:57.821Z"
   },
   {
    "duration": 6,
    "start_time": "2022-08-01T10:22:57.861Z"
   },
   {
    "duration": 24,
    "start_time": "2022-08-01T10:22:57.869Z"
   },
   {
    "duration": 51,
    "start_time": "2022-08-01T10:22:57.895Z"
   },
   {
    "duration": 91,
    "start_time": "2022-08-01T10:22:57.948Z"
   },
   {
    "duration": 14,
    "start_time": "2022-08-01T10:22:58.042Z"
   },
   {
    "duration": 30,
    "start_time": "2022-08-01T10:22:58.057Z"
   },
   {
    "duration": 11,
    "start_time": "2022-08-01T10:22:58.109Z"
   },
   {
    "duration": 37,
    "start_time": "2022-08-01T10:22:58.122Z"
   },
   {
    "duration": 71,
    "start_time": "2022-08-01T10:22:58.165Z"
   },
   {
    "duration": 28,
    "start_time": "2022-08-01T10:22:58.239Z"
   },
   {
    "duration": 43,
    "start_time": "2022-08-01T10:22:58.270Z"
   },
   {
    "duration": 14,
    "start_time": "2022-08-01T10:22:58.321Z"
   },
   {
    "duration": 27,
    "start_time": "2022-08-01T10:22:58.338Z"
   },
   {
    "duration": 6,
    "start_time": "2022-08-01T10:22:58.366Z"
   },
   {
    "duration": 34,
    "start_time": "2022-08-01T10:22:58.374Z"
   },
   {
    "duration": 88,
    "start_time": "2022-08-01T10:22:58.413Z"
   },
   {
    "duration": 178,
    "start_time": "2022-08-01T10:22:58.502Z"
   },
   {
    "duration": 404,
    "start_time": "2022-08-01T10:22:58.682Z"
   },
   {
    "duration": 32,
    "start_time": "2022-08-01T10:22:59.088Z"
   },
   {
    "duration": 27,
    "start_time": "2022-08-01T10:22:59.121Z"
   },
   {
    "duration": 7,
    "start_time": "2022-08-01T10:22:59.150Z"
   },
   {
    "duration": 6,
    "start_time": "2022-08-01T10:28:33.154Z"
   },
   {
    "duration": 43,
    "start_time": "2022-08-01T10:41:48.389Z"
   },
   {
    "duration": 5,
    "start_time": "2022-08-01T10:55:56.393Z"
   },
   {
    "duration": 11,
    "start_time": "2022-08-01T11:01:51.750Z"
   },
   {
    "duration": 4,
    "start_time": "2022-08-01T11:02:11.777Z"
   },
   {
    "duration": 28,
    "start_time": "2022-08-01T11:02:42.346Z"
   },
   {
    "duration": 16,
    "start_time": "2022-08-01T11:03:23.850Z"
   },
   {
    "duration": 15,
    "start_time": "2022-08-01T11:04:47.177Z"
   },
   {
    "duration": 338,
    "start_time": "2022-08-01T11:05:03.948Z"
   },
   {
    "duration": 431,
    "start_time": "2022-08-01T11:06:14.249Z"
   },
   {
    "duration": 12,
    "start_time": "2022-08-01T11:07:03.443Z"
   },
   {
    "duration": 12,
    "start_time": "2022-08-01T11:07:16.477Z"
   },
   {
    "duration": 11,
    "start_time": "2022-08-01T11:07:51.349Z"
   },
   {
    "duration": 14,
    "start_time": "2022-08-01T11:10:28.479Z"
   },
   {
    "duration": 19,
    "start_time": "2022-08-01T11:29:00.896Z"
   },
   {
    "duration": 13,
    "start_time": "2022-08-01T11:29:17.985Z"
   },
   {
    "duration": 12,
    "start_time": "2022-08-01T11:39:18.845Z"
   },
   {
    "duration": 12,
    "start_time": "2022-08-01T11:39:47.856Z"
   },
   {
    "duration": 15,
    "start_time": "2022-08-01T11:40:02.693Z"
   },
   {
    "duration": 13,
    "start_time": "2022-08-01T11:44:00.457Z"
   },
   {
    "duration": 18,
    "start_time": "2022-08-01T11:45:07.148Z"
   },
   {
    "duration": 21,
    "start_time": "2022-08-01T11:45:52.906Z"
   },
   {
    "duration": 4,
    "start_time": "2022-08-01T11:53:22.902Z"
   },
   {
    "duration": 26,
    "start_time": "2022-08-01T12:13:54.744Z"
   },
   {
    "duration": 25,
    "start_time": "2022-08-01T12:14:16.788Z"
   },
   {
    "duration": 34,
    "start_time": "2022-08-01T12:14:24.680Z"
   },
   {
    "duration": 136,
    "start_time": "2022-08-01T12:17:42.525Z"
   },
   {
    "duration": 7,
    "start_time": "2022-08-01T12:18:47.312Z"
   },
   {
    "duration": 18,
    "start_time": "2022-08-01T12:22:05.707Z"
   },
   {
    "duration": 33,
    "start_time": "2022-08-01T12:24:42.529Z"
   },
   {
    "duration": 27,
    "start_time": "2022-08-01T12:29:36.902Z"
   },
   {
    "duration": 20,
    "start_time": "2022-08-01T12:47:48.548Z"
   },
   {
    "duration": 29,
    "start_time": "2022-08-01T12:48:03.339Z"
   },
   {
    "duration": 150,
    "start_time": "2022-08-01T12:50:17.046Z"
   },
   {
    "duration": 30,
    "start_time": "2022-08-01T12:51:29.732Z"
   },
   {
    "duration": 33,
    "start_time": "2022-08-01T12:52:29.170Z"
   },
   {
    "duration": 35,
    "start_time": "2022-08-01T12:52:33.646Z"
   },
   {
    "duration": 132,
    "start_time": "2022-08-01T12:52:42.647Z"
   },
   {
    "duration": 7,
    "start_time": "2022-08-01T12:52:58.049Z"
   },
   {
    "duration": 3,
    "start_time": "2022-08-01T12:53:19.981Z"
   },
   {
    "duration": 616,
    "start_time": "2022-08-01T12:53:19.995Z"
   },
   {
    "duration": 18,
    "start_time": "2022-08-01T12:53:20.613Z"
   },
   {
    "duration": 16,
    "start_time": "2022-08-01T12:53:20.632Z"
   },
   {
    "duration": 5,
    "start_time": "2022-08-01T12:53:20.649Z"
   },
   {
    "duration": 26,
    "start_time": "2022-08-01T12:53:20.656Z"
   },
   {
    "duration": 42,
    "start_time": "2022-08-01T12:53:20.684Z"
   },
   {
    "duration": 41,
    "start_time": "2022-08-01T12:53:20.728Z"
   },
   {
    "duration": 8,
    "start_time": "2022-08-01T12:53:20.771Z"
   },
   {
    "duration": 47,
    "start_time": "2022-08-01T12:53:20.781Z"
   },
   {
    "duration": 6,
    "start_time": "2022-08-01T12:53:20.829Z"
   },
   {
    "duration": 14,
    "start_time": "2022-08-01T12:53:20.837Z"
   },
   {
    "duration": 60,
    "start_time": "2022-08-01T12:53:20.853Z"
   },
   {
    "duration": 12,
    "start_time": "2022-08-01T12:53:20.914Z"
   },
   {
    "duration": 22,
    "start_time": "2022-08-01T12:53:20.929Z"
   },
   {
    "duration": 4,
    "start_time": "2022-08-01T12:53:20.953Z"
   },
   {
    "duration": 17,
    "start_time": "2022-08-01T12:53:20.958Z"
   },
   {
    "duration": 5,
    "start_time": "2022-08-01T12:53:21.004Z"
   },
   {
    "duration": 16,
    "start_time": "2022-08-01T12:53:21.010Z"
   },
   {
    "duration": 79,
    "start_time": "2022-08-01T12:53:21.028Z"
   },
   {
    "duration": 149,
    "start_time": "2022-08-01T12:53:21.109Z"
   },
   {
    "duration": 290,
    "start_time": "2022-08-01T12:53:21.260Z"
   },
   {
    "duration": 6,
    "start_time": "2022-08-01T12:53:21.552Z"
   },
   {
    "duration": 45,
    "start_time": "2022-08-01T12:53:21.559Z"
   },
   {
    "duration": 16,
    "start_time": "2022-08-01T12:53:21.606Z"
   },
   {
    "duration": 20,
    "start_time": "2022-08-01T12:53:21.624Z"
   },
   {
    "duration": 4,
    "start_time": "2022-08-01T12:53:21.646Z"
   },
   {
    "duration": 61,
    "start_time": "2022-08-01T12:53:21.651Z"
   },
   {
    "duration": 27,
    "start_time": "2022-08-01T12:53:21.714Z"
   },
   {
    "duration": 141,
    "start_time": "2022-08-01T12:53:21.742Z"
   },
   {
    "duration": 20,
    "start_time": "2022-08-01T12:53:21.885Z"
   },
   {
    "duration": 18,
    "start_time": "2022-08-01T12:53:21.906Z"
   },
   {
    "duration": 168,
    "start_time": "2022-08-01T12:57:53.907Z"
   },
   {
    "duration": 261,
    "start_time": "2022-08-01T12:58:56.339Z"
   },
   {
    "duration": 30,
    "start_time": "2022-08-01T12:59:30.402Z"
   },
   {
    "duration": 41,
    "start_time": "2022-08-01T13:02:53.134Z"
   },
   {
    "duration": 33,
    "start_time": "2022-08-01T13:03:51.942Z"
   },
   {
    "duration": 34,
    "start_time": "2022-08-01T13:07:08.348Z"
   },
   {
    "duration": 34,
    "start_time": "2022-08-01T13:07:18.514Z"
   },
   {
    "duration": 55,
    "start_time": "2022-08-01T13:07:29.734Z"
   },
   {
    "duration": 41,
    "start_time": "2022-08-01T13:07:49.072Z"
   },
   {
    "duration": 35,
    "start_time": "2022-08-01T13:10:10.430Z"
   },
   {
    "duration": 40,
    "start_time": "2022-08-01T13:17:37.157Z"
   },
   {
    "duration": 3,
    "start_time": "2022-08-01T13:18:35.767Z"
   },
   {
    "duration": 665,
    "start_time": "2022-08-01T13:18:35.776Z"
   },
   {
    "duration": 17,
    "start_time": "2022-08-01T13:18:36.444Z"
   },
   {
    "duration": 34,
    "start_time": "2022-08-01T13:18:36.464Z"
   },
   {
    "duration": 6,
    "start_time": "2022-08-01T13:18:36.502Z"
   },
   {
    "duration": 62,
    "start_time": "2022-08-01T13:18:36.509Z"
   },
   {
    "duration": 36,
    "start_time": "2022-08-01T13:18:36.575Z"
   },
   {
    "duration": 69,
    "start_time": "2022-08-01T13:18:36.613Z"
   },
   {
    "duration": 20,
    "start_time": "2022-08-01T13:18:36.684Z"
   },
   {
    "duration": 39,
    "start_time": "2022-08-01T13:18:36.707Z"
   },
   {
    "duration": 13,
    "start_time": "2022-08-01T13:18:36.751Z"
   },
   {
    "duration": 19,
    "start_time": "2022-08-01T13:18:36.766Z"
   },
   {
    "duration": 84,
    "start_time": "2022-08-01T13:18:36.787Z"
   },
   {
    "duration": 12,
    "start_time": "2022-08-01T13:18:36.873Z"
   },
   {
    "duration": 33,
    "start_time": "2022-08-01T13:18:36.887Z"
   },
   {
    "duration": 5,
    "start_time": "2022-08-01T13:18:36.922Z"
   },
   {
    "duration": 29,
    "start_time": "2022-08-01T13:18:36.929Z"
   },
   {
    "duration": 12,
    "start_time": "2022-08-01T13:18:36.960Z"
   },
   {
    "duration": 41,
    "start_time": "2022-08-01T13:18:36.974Z"
   },
   {
    "duration": 85,
    "start_time": "2022-08-01T13:18:37.017Z"
   },
   {
    "duration": 140,
    "start_time": "2022-08-01T13:18:37.103Z"
   },
   {
    "duration": 299,
    "start_time": "2022-08-01T13:18:37.245Z"
   },
   {
    "duration": 6,
    "start_time": "2022-08-01T13:18:37.546Z"
   },
   {
    "duration": 25,
    "start_time": "2022-08-01T13:18:37.554Z"
   },
   {
    "duration": 35,
    "start_time": "2022-08-01T13:18:37.581Z"
   },
   {
    "duration": 20,
    "start_time": "2022-08-01T13:18:37.618Z"
   },
   {
    "duration": 5,
    "start_time": "2022-08-01T13:18:37.639Z"
   },
   {
    "duration": 61,
    "start_time": "2022-08-01T13:18:37.646Z"
   },
   {
    "duration": 30,
    "start_time": "2022-08-01T13:18:37.711Z"
   },
   {
    "duration": 151,
    "start_time": "2022-08-01T13:18:37.742Z"
   },
   {
    "duration": 22,
    "start_time": "2022-08-01T13:18:37.894Z"
   },
   {
    "duration": 158,
    "start_time": "2022-08-01T13:18:37.918Z"
   },
   {
    "duration": 36,
    "start_time": "2022-08-01T13:18:38.078Z"
   },
   {
    "duration": 40,
    "start_time": "2022-08-01T13:19:59.490Z"
   },
   {
    "duration": 37,
    "start_time": "2022-08-01T13:20:37.639Z"
   },
   {
    "duration": 36,
    "start_time": "2022-08-01T13:20:51.908Z"
   },
   {
    "duration": 35,
    "start_time": "2022-08-01T13:22:34.310Z"
   },
   {
    "duration": 29,
    "start_time": "2022-08-01T13:28:05.487Z"
   },
   {
    "duration": 7,
    "start_time": "2022-08-01T13:28:37.515Z"
   },
   {
    "duration": 49,
    "start_time": "2022-08-01T14:23:04.465Z"
   },
   {
    "duration": 22,
    "start_time": "2022-08-01T14:27:55.827Z"
   },
   {
    "duration": 14,
    "start_time": "2022-08-01T14:59:05.194Z"
   },
   {
    "duration": 11,
    "start_time": "2022-08-01T14:59:50.087Z"
   },
   {
    "duration": 26,
    "start_time": "2022-08-01T15:00:56.138Z"
   },
   {
    "duration": 27,
    "start_time": "2022-08-01T15:04:21.257Z"
   },
   {
    "duration": 25,
    "start_time": "2022-08-01T15:08:49.829Z"
   },
   {
    "duration": 28,
    "start_time": "2022-08-01T15:14:12.940Z"
   },
   {
    "duration": 29,
    "start_time": "2022-08-01T15:14:59.030Z"
   },
   {
    "duration": 33,
    "start_time": "2022-08-01T15:15:36.003Z"
   },
   {
    "duration": 42,
    "start_time": "2022-08-01T15:16:11.613Z"
   },
   {
    "duration": 146,
    "start_time": "2022-08-01T15:21:54.650Z"
   },
   {
    "duration": 143,
    "start_time": "2022-08-01T15:23:49.033Z"
   },
   {
    "duration": 47,
    "start_time": "2022-08-01T15:26:25.678Z"
   },
   {
    "duration": 44,
    "start_time": "2022-08-01T15:39:48.439Z"
   },
   {
    "duration": 39,
    "start_time": "2022-08-01T15:42:02.272Z"
   },
   {
    "duration": 2,
    "start_time": "2022-08-01T15:43:29.735Z"
   },
   {
    "duration": 49,
    "start_time": "2022-08-01T15:44:55.048Z"
   },
   {
    "duration": 12,
    "start_time": "2022-08-01T15:46:14.789Z"
   },
   {
    "duration": 10,
    "start_time": "2022-08-01T15:46:58.699Z"
   },
   {
    "duration": 7,
    "start_time": "2022-08-01T15:47:33.700Z"
   },
   {
    "duration": 12,
    "start_time": "2022-08-01T15:48:23.218Z"
   },
   {
    "duration": 7,
    "start_time": "2022-08-01T15:48:42.953Z"
   },
   {
    "duration": 3,
    "start_time": "2022-08-01T15:50:40.979Z"
   },
   {
    "duration": 12,
    "start_time": "2022-08-01T15:54:18.203Z"
   },
   {
    "duration": 7,
    "start_time": "2022-08-01T16:00:14.920Z"
   },
   {
    "duration": 19,
    "start_time": "2022-08-01T16:00:35.023Z"
   },
   {
    "duration": 14,
    "start_time": "2022-08-01T16:01:11.788Z"
   },
   {
    "duration": 11,
    "start_time": "2022-08-01T16:01:26.377Z"
   },
   {
    "duration": 32,
    "start_time": "2022-08-01T16:32:02.329Z"
   },
   {
    "duration": 17,
    "start_time": "2022-08-01T16:39:04.379Z"
   },
   {
    "duration": 203,
    "start_time": "2022-08-01T16:39:36.677Z"
   },
   {
    "duration": 33,
    "start_time": "2022-08-01T16:41:03.308Z"
   },
   {
    "duration": 32,
    "start_time": "2022-08-01T17:13:58.302Z"
   },
   {
    "duration": 1386,
    "start_time": "2022-08-01T17:15:41.957Z"
   },
   {
    "duration": 28,
    "start_time": "2022-08-01T17:18:08.281Z"
   },
   {
    "duration": 12,
    "start_time": "2022-08-01T17:32:58.333Z"
   },
   {
    "duration": 16,
    "start_time": "2022-08-01T17:34:18.314Z"
   },
   {
    "duration": 85,
    "start_time": "2022-08-01T17:39:46.760Z"
   },
   {
    "duration": 11,
    "start_time": "2022-08-01T17:40:29.721Z"
   },
   {
    "duration": 14,
    "start_time": "2022-08-01T17:42:41.343Z"
   },
   {
    "duration": 13,
    "start_time": "2022-08-01T17:43:24.331Z"
   },
   {
    "duration": 13,
    "start_time": "2022-08-01T17:45:39.319Z"
   },
   {
    "duration": 13,
    "start_time": "2022-08-01T17:46:10.556Z"
   },
   {
    "duration": 1041,
    "start_time": "2022-08-01T17:50:56.274Z"
   },
   {
    "duration": 69,
    "start_time": "2022-08-01T17:52:12.841Z"
   },
   {
    "duration": 392,
    "start_time": "2022-08-01T17:52:23.812Z"
   },
   {
    "duration": 9,
    "start_time": "2022-08-01T18:00:53.307Z"
   },
   {
    "duration": 31,
    "start_time": "2022-08-01T18:03:34.002Z"
   },
   {
    "duration": 12,
    "start_time": "2022-08-01T18:24:07.251Z"
   },
   {
    "duration": 4,
    "start_time": "2022-08-01T18:25:05.125Z"
   },
   {
    "duration": 72,
    "start_time": "2022-08-01T18:25:38.338Z"
   },
   {
    "duration": 5,
    "start_time": "2022-08-01T18:25:52.138Z"
   },
   {
    "duration": 4,
    "start_time": "2022-08-01T18:26:11.074Z"
   },
   {
    "duration": 75,
    "start_time": "2022-08-01T18:27:16.392Z"
   },
   {
    "duration": 11,
    "start_time": "2022-08-01T18:28:08.945Z"
   },
   {
    "duration": 29,
    "start_time": "2022-08-01T18:32:40.763Z"
   },
   {
    "duration": 18,
    "start_time": "2022-08-01T18:35:23.573Z"
   },
   {
    "duration": 111,
    "start_time": "2022-08-01T18:36:08.325Z"
   },
   {
    "duration": 24,
    "start_time": "2022-08-01T18:36:23.377Z"
   },
   {
    "duration": 1322,
    "start_time": "2022-08-02T05:25:23.264Z"
   },
   {
    "duration": 2295,
    "start_time": "2022-08-02T05:25:24.589Z"
   },
   {
    "duration": 21,
    "start_time": "2022-08-02T05:25:26.885Z"
   },
   {
    "duration": 18,
    "start_time": "2022-08-02T05:25:26.909Z"
   },
   {
    "duration": 4,
    "start_time": "2022-08-02T05:25:26.929Z"
   },
   {
    "duration": 58,
    "start_time": "2022-08-02T05:25:26.935Z"
   },
   {
    "duration": 27,
    "start_time": "2022-08-02T05:25:26.995Z"
   },
   {
    "duration": 50,
    "start_time": "2022-08-02T05:25:27.027Z"
   },
   {
    "duration": 25,
    "start_time": "2022-08-02T05:25:27.078Z"
   },
   {
    "duration": 30,
    "start_time": "2022-08-02T05:25:27.106Z"
   },
   {
    "duration": 10,
    "start_time": "2022-08-02T05:25:27.137Z"
   },
   {
    "duration": 25,
    "start_time": "2022-08-02T05:25:27.150Z"
   },
   {
    "duration": 32,
    "start_time": "2022-08-02T05:25:27.177Z"
   },
   {
    "duration": 11,
    "start_time": "2022-08-02T05:25:27.211Z"
   },
   {
    "duration": 27,
    "start_time": "2022-08-02T05:25:27.234Z"
   },
   {
    "duration": 6,
    "start_time": "2022-08-02T05:25:27.262Z"
   },
   {
    "duration": 25,
    "start_time": "2022-08-02T05:25:27.270Z"
   },
   {
    "duration": 5,
    "start_time": "2022-08-02T05:25:27.297Z"
   },
   {
    "duration": 25,
    "start_time": "2022-08-02T05:25:27.304Z"
   },
   {
    "duration": 67,
    "start_time": "2022-08-02T05:25:27.331Z"
   },
   {
    "duration": 171,
    "start_time": "2022-08-02T05:25:27.399Z"
   },
   {
    "duration": 325,
    "start_time": "2022-08-02T05:25:27.571Z"
   },
   {
    "duration": 6,
    "start_time": "2022-08-02T05:25:27.901Z"
   },
   {
    "duration": 44,
    "start_time": "2022-08-02T05:25:27.911Z"
   },
   {
    "duration": 53,
    "start_time": "2022-08-02T05:25:27.957Z"
   },
   {
    "duration": 60,
    "start_time": "2022-08-02T05:25:28.012Z"
   },
   {
    "duration": 132,
    "start_time": "2022-08-02T05:25:28.074Z"
   },
   {
    "duration": 15,
    "start_time": "2022-08-02T05:25:28.209Z"
   },
   {
    "duration": 39,
    "start_time": "2022-08-02T05:25:28.237Z"
   },
   {
    "duration": 145,
    "start_time": "2022-08-02T05:25:28.278Z"
   },
   {
    "duration": 35,
    "start_time": "2022-08-02T05:25:28.424Z"
   },
   {
    "duration": 42,
    "start_time": "2022-08-02T05:25:28.461Z"
   },
   {
    "duration": 7,
    "start_time": "2022-08-02T05:25:28.504Z"
   },
   {
    "duration": 36,
    "start_time": "2022-08-02T05:25:28.512Z"
   },
   {
    "duration": 38,
    "start_time": "2022-08-02T05:25:28.550Z"
   },
   {
    "duration": 25,
    "start_time": "2022-08-02T05:25:28.590Z"
   },
   {
    "duration": 21,
    "start_time": "2022-08-02T05:25:28.617Z"
   },
   {
    "duration": 116,
    "start_time": "2022-08-02T05:25:28.639Z"
   },
   {
    "duration": 0,
    "start_time": "2022-08-02T05:25:28.756Z"
   },
   {
    "duration": 0,
    "start_time": "2022-08-02T05:25:28.757Z"
   },
   {
    "duration": 0,
    "start_time": "2022-08-02T05:25:28.763Z"
   },
   {
    "duration": 0,
    "start_time": "2022-08-02T05:25:28.764Z"
   },
   {
    "duration": 0,
    "start_time": "2022-08-02T05:25:28.765Z"
   },
   {
    "duration": 9,
    "start_time": "2022-08-02T05:32:21.619Z"
   },
   {
    "duration": 12,
    "start_time": "2022-08-02T05:32:31.672Z"
   },
   {
    "duration": 267,
    "start_time": "2022-08-02T05:32:38.460Z"
   },
   {
    "duration": 18,
    "start_time": "2022-08-02T05:36:36.576Z"
   },
   {
    "duration": 21,
    "start_time": "2022-08-02T05:37:53.656Z"
   },
   {
    "duration": 439,
    "start_time": "2022-08-02T05:46:37.802Z"
   },
   {
    "duration": 315,
    "start_time": "2022-08-02T05:49:03.310Z"
   },
   {
    "duration": 224,
    "start_time": "2022-08-02T06:00:57.858Z"
   },
   {
    "duration": 188,
    "start_time": "2022-08-02T06:05:50.410Z"
   },
   {
    "duration": 226,
    "start_time": "2022-08-02T06:06:31.062Z"
   },
   {
    "duration": 363,
    "start_time": "2022-08-02T06:08:05.822Z"
   },
   {
    "duration": 351,
    "start_time": "2022-08-02T06:08:47.828Z"
   },
   {
    "duration": 281,
    "start_time": "2022-08-02T06:09:08.205Z"
   },
   {
    "duration": 4,
    "start_time": "2022-08-02T06:12:32.322Z"
   },
   {
    "duration": 242,
    "start_time": "2022-08-02T06:13:00.059Z"
   },
   {
    "duration": 6,
    "start_time": "2022-08-02T06:23:01.317Z"
   },
   {
    "duration": 23,
    "start_time": "2022-08-02T06:23:10.442Z"
   },
   {
    "duration": 8,
    "start_time": "2022-08-02T06:23:32.967Z"
   },
   {
    "duration": 22,
    "start_time": "2022-08-02T06:23:51.604Z"
   },
   {
    "duration": 9,
    "start_time": "2022-08-02T08:21:13.988Z"
   },
   {
    "duration": 3,
    "start_time": "2022-08-02T08:21:20.244Z"
   },
   {
    "duration": 32,
    "start_time": "2022-08-02T08:21:24.944Z"
   },
   {
    "duration": 9,
    "start_time": "2022-08-02T08:38:09.541Z"
   },
   {
    "duration": 21,
    "start_time": "2022-08-02T08:38:22.090Z"
   },
   {
    "duration": 19,
    "start_time": "2022-08-02T08:42:17.604Z"
   },
   {
    "duration": 18,
    "start_time": "2022-08-02T08:45:42.848Z"
   },
   {
    "duration": 19,
    "start_time": "2022-08-02T08:46:31.857Z"
   },
   {
    "duration": 20,
    "start_time": "2022-08-02T08:49:00.770Z"
   },
   {
    "duration": 16,
    "start_time": "2022-08-02T08:50:09.246Z"
   },
   {
    "duration": 23,
    "start_time": "2022-08-02T08:51:12.938Z"
   },
   {
    "duration": 42,
    "start_time": "2022-08-02T08:54:24.706Z"
   },
   {
    "duration": 45,
    "start_time": "2022-08-02T08:54:42.110Z"
   },
   {
    "duration": 6,
    "start_time": "2022-08-02T08:55:25.466Z"
   },
   {
    "duration": 16,
    "start_time": "2022-08-02T08:55:50.392Z"
   },
   {
    "duration": 20,
    "start_time": "2022-08-02T08:57:54.073Z"
   },
   {
    "duration": 29,
    "start_time": "2022-08-02T09:03:38.525Z"
   },
   {
    "duration": 103,
    "start_time": "2022-08-02T10:31:49.240Z"
   },
   {
    "duration": 15,
    "start_time": "2022-08-02T10:32:02.774Z"
   },
   {
    "duration": 10,
    "start_time": "2022-08-02T10:35:11.869Z"
   },
   {
    "duration": 84,
    "start_time": "2022-08-02T10:38:15.298Z"
   },
   {
    "duration": 13,
    "start_time": "2022-08-02T10:40:41.073Z"
   },
   {
    "duration": 20,
    "start_time": "2022-08-02T11:24:03.700Z"
   },
   {
    "duration": 146,
    "start_time": "2022-08-02T11:25:50.059Z"
   },
   {
    "duration": 151,
    "start_time": "2022-08-02T11:31:02.281Z"
   },
   {
    "duration": 17,
    "start_time": "2022-08-02T11:32:44.287Z"
   },
   {
    "duration": 20,
    "start_time": "2022-08-02T11:33:10.942Z"
   },
   {
    "duration": 4,
    "start_time": "2022-08-02T12:00:53.880Z"
   },
   {
    "duration": 14,
    "start_time": "2022-08-02T12:07:11.294Z"
   },
   {
    "duration": 9,
    "start_time": "2022-08-02T12:10:43.042Z"
   },
   {
    "duration": 17,
    "start_time": "2022-08-02T12:11:49.832Z"
   },
   {
    "duration": 9,
    "start_time": "2022-08-02T12:12:22.642Z"
   },
   {
    "duration": 17,
    "start_time": "2022-08-02T12:12:34.447Z"
   },
   {
    "duration": 15,
    "start_time": "2022-08-02T12:14:38.258Z"
   },
   {
    "duration": 4,
    "start_time": "2022-08-02T12:14:44.066Z"
   },
   {
    "duration": 1625,
    "start_time": "2022-08-02T12:14:44.075Z"
   },
   {
    "duration": 15,
    "start_time": "2022-08-02T12:14:45.702Z"
   },
   {
    "duration": 24,
    "start_time": "2022-08-02T12:14:45.719Z"
   },
   {
    "duration": 14,
    "start_time": "2022-08-02T12:14:45.746Z"
   },
   {
    "duration": 23,
    "start_time": "2022-08-02T12:14:45.762Z"
   },
   {
    "duration": 26,
    "start_time": "2022-08-02T12:14:45.786Z"
   },
   {
    "duration": 53,
    "start_time": "2022-08-02T12:14:45.813Z"
   },
   {
    "duration": 23,
    "start_time": "2022-08-02T12:14:45.869Z"
   },
   {
    "duration": 21,
    "start_time": "2022-08-02T12:14:45.893Z"
   },
   {
    "duration": 16,
    "start_time": "2022-08-02T12:14:45.932Z"
   },
   {
    "duration": 15,
    "start_time": "2022-08-02T12:14:45.950Z"
   },
   {
    "duration": 39,
    "start_time": "2022-08-02T12:14:45.967Z"
   },
   {
    "duration": 33,
    "start_time": "2022-08-02T12:14:46.008Z"
   },
   {
    "duration": 34,
    "start_time": "2022-08-02T12:14:46.045Z"
   },
   {
    "duration": 5,
    "start_time": "2022-08-02T12:14:46.081Z"
   },
   {
    "duration": 21,
    "start_time": "2022-08-02T12:14:46.087Z"
   },
   {
    "duration": 26,
    "start_time": "2022-08-02T12:14:46.110Z"
   },
   {
    "duration": 25,
    "start_time": "2022-08-02T12:14:46.137Z"
   },
   {
    "duration": 58,
    "start_time": "2022-08-02T12:14:46.164Z"
   },
   {
    "duration": 159,
    "start_time": "2022-08-02T12:14:46.224Z"
   },
   {
    "duration": 319,
    "start_time": "2022-08-02T12:14:46.384Z"
   },
   {
    "duration": 6,
    "start_time": "2022-08-02T12:14:46.704Z"
   },
   {
    "duration": 46,
    "start_time": "2022-08-02T12:14:46.712Z"
   },
   {
    "duration": 17,
    "start_time": "2022-08-02T12:14:46.761Z"
   },
   {
    "duration": 29,
    "start_time": "2022-08-02T12:14:46.780Z"
   },
   {
    "duration": 178,
    "start_time": "2022-08-02T12:14:46.811Z"
   },
   {
    "duration": 20,
    "start_time": "2022-08-02T12:14:46.991Z"
   },
   {
    "duration": 51,
    "start_time": "2022-08-02T12:14:47.014Z"
   },
   {
    "duration": 158,
    "start_time": "2022-08-02T12:14:47.066Z"
   },
   {
    "duration": 34,
    "start_time": "2022-08-02T12:14:47.226Z"
   },
   {
    "duration": 44,
    "start_time": "2022-08-02T12:14:47.262Z"
   },
   {
    "duration": 7,
    "start_time": "2022-08-02T12:14:47.308Z"
   },
   {
    "duration": 42,
    "start_time": "2022-08-02T12:14:47.316Z"
   },
   {
    "duration": 14,
    "start_time": "2022-08-02T12:14:47.360Z"
   },
   {
    "duration": 26,
    "start_time": "2022-08-02T12:14:47.376Z"
   },
   {
    "duration": 57,
    "start_time": "2022-08-02T12:14:47.404Z"
   },
   {
    "duration": 12,
    "start_time": "2022-08-02T12:14:47.464Z"
   },
   {
    "duration": 28,
    "start_time": "2022-08-02T12:14:47.478Z"
   },
   {
    "duration": 399,
    "start_time": "2022-08-02T12:14:47.508Z"
   },
   {
    "duration": 59,
    "start_time": "2022-08-02T12:14:47.909Z"
   },
   {
    "duration": 465,
    "start_time": "2022-08-02T12:14:47.970Z"
   },
   {
    "duration": 315,
    "start_time": "2022-08-02T12:14:48.442Z"
   },
   {
    "duration": 344,
    "start_time": "2022-08-02T12:14:48.759Z"
   },
   {
    "duration": 320,
    "start_time": "2022-08-02T12:14:49.105Z"
   },
   {
    "duration": 10,
    "start_time": "2022-08-02T12:14:49.432Z"
   },
   {
    "duration": 24,
    "start_time": "2022-08-02T12:14:49.447Z"
   },
   {
    "duration": 174,
    "start_time": "2022-08-02T12:14:49.473Z"
   },
   {
    "duration": 24,
    "start_time": "2022-08-02T12:14:49.653Z"
   },
   {
    "duration": 18,
    "start_time": "2022-08-02T12:14:49.678Z"
   },
   {
    "duration": 10,
    "start_time": "2022-08-02T12:14:49.698Z"
   },
   {
    "duration": 35,
    "start_time": "2022-08-02T12:14:49.710Z"
   },
   {
    "duration": 18,
    "start_time": "2022-08-02T12:14:49.749Z"
   },
   {
    "duration": 11,
    "start_time": "2022-08-02T12:14:49.769Z"
   },
   {
    "duration": 14,
    "start_time": "2022-08-02T12:21:50.564Z"
   },
   {
    "duration": 14,
    "start_time": "2022-08-02T12:23:31.429Z"
   },
   {
    "duration": 7,
    "start_time": "2022-08-02T12:23:53.572Z"
   },
   {
    "duration": 8,
    "start_time": "2022-08-02T12:24:30.023Z"
   },
   {
    "duration": 7,
    "start_time": "2022-08-02T12:25:25.043Z"
   },
   {
    "duration": 10,
    "start_time": "2022-08-02T12:25:55.874Z"
   },
   {
    "duration": 7,
    "start_time": "2022-08-02T12:32:43.751Z"
   },
   {
    "duration": 6824,
    "start_time": "2022-08-02T12:35:18.571Z"
   },
   {
    "duration": 17,
    "start_time": "2022-08-02T12:37:50.126Z"
   },
   {
    "duration": 9,
    "start_time": "2022-08-02T12:38:08.581Z"
   },
   {
    "duration": 6,
    "start_time": "2022-08-02T12:38:27.337Z"
   },
   {
    "duration": 9,
    "start_time": "2022-08-02T13:00:10.188Z"
   },
   {
    "duration": 4,
    "start_time": "2022-08-02T13:00:34.218Z"
   },
   {
    "duration": 13,
    "start_time": "2022-08-02T13:03:11.419Z"
   },
   {
    "duration": 5,
    "start_time": "2022-08-02T13:05:16.616Z"
   },
   {
    "duration": 5,
    "start_time": "2022-08-02T13:09:03.471Z"
   },
   {
    "duration": 5,
    "start_time": "2022-08-02T13:09:46.674Z"
   },
   {
    "duration": 4,
    "start_time": "2022-08-02T13:12:21.866Z"
   },
   {
    "duration": 5,
    "start_time": "2022-08-02T13:13:34.017Z"
   },
   {
    "duration": 12,
    "start_time": "2022-08-02T14:31:23.940Z"
   },
   {
    "duration": 12,
    "start_time": "2022-08-02T14:35:49.830Z"
   },
   {
    "duration": 26,
    "start_time": "2022-08-02T14:45:52.287Z"
   },
   {
    "duration": 79,
    "start_time": "2022-08-02T14:46:48.027Z"
   },
   {
    "duration": 134,
    "start_time": "2022-08-02T14:47:09.249Z"
   },
   {
    "duration": 55,
    "start_time": "2022-08-02T14:57:53.578Z"
   },
   {
    "duration": 46,
    "start_time": "2022-08-02T14:58:21.558Z"
   },
   {
    "duration": 38,
    "start_time": "2022-08-02T14:59:48.326Z"
   },
   {
    "duration": 45,
    "start_time": "2022-08-02T15:01:44.323Z"
   },
   {
    "duration": 9,
    "start_time": "2022-08-02T15:08:08.437Z"
   },
   {
    "duration": 48,
    "start_time": "2022-08-02T15:08:21.139Z"
   },
   {
    "duration": 38,
    "start_time": "2022-08-02T15:23:22.972Z"
   },
   {
    "duration": 43,
    "start_time": "2022-08-02T15:23:43.353Z"
   },
   {
    "duration": 36,
    "start_time": "2022-08-02T15:25:46.328Z"
   },
   {
    "duration": 12,
    "start_time": "2022-08-02T15:26:37.603Z"
   },
   {
    "duration": 14,
    "start_time": "2022-08-02T15:27:47.828Z"
   },
   {
    "duration": 50,
    "start_time": "2022-08-02T15:28:17.912Z"
   },
   {
    "duration": 43,
    "start_time": "2022-08-02T15:29:06.708Z"
   },
   {
    "duration": 14,
    "start_time": "2022-08-02T15:34:49.916Z"
   },
   {
    "duration": 10,
    "start_time": "2022-08-02T15:35:57.063Z"
   },
   {
    "duration": 11,
    "start_time": "2022-08-02T16:03:58.161Z"
   },
   {
    "duration": 11,
    "start_time": "2022-08-02T16:05:51.267Z"
   },
   {
    "duration": 3,
    "start_time": "2022-08-02T16:06:39.517Z"
   },
   {
    "duration": 560,
    "start_time": "2022-08-02T16:06:39.521Z"
   },
   {
    "duration": 15,
    "start_time": "2022-08-02T16:06:40.082Z"
   },
   {
    "duration": 18,
    "start_time": "2022-08-02T16:06:40.099Z"
   },
   {
    "duration": 4,
    "start_time": "2022-08-02T16:06:42.127Z"
   },
   {
    "duration": 23,
    "start_time": "2022-08-02T16:06:42.133Z"
   },
   {
    "duration": 24,
    "start_time": "2022-08-02T16:06:42.157Z"
   },
   {
    "duration": 58,
    "start_time": "2022-08-02T16:06:42.183Z"
   },
   {
    "duration": 21,
    "start_time": "2022-08-02T16:06:42.242Z"
   },
   {
    "duration": 19,
    "start_time": "2022-08-02T16:06:42.265Z"
   },
   {
    "duration": 6,
    "start_time": "2022-08-02T16:06:42.285Z"
   },
   {
    "duration": 39,
    "start_time": "2022-08-02T16:06:42.292Z"
   },
   {
    "duration": 32,
    "start_time": "2022-08-02T16:06:42.333Z"
   },
   {
    "duration": 10,
    "start_time": "2022-08-02T16:06:42.368Z"
   },
   {
    "duration": 19,
    "start_time": "2022-08-02T16:06:42.380Z"
   },
   {
    "duration": 3,
    "start_time": "2022-08-02T16:06:42.401Z"
   },
   {
    "duration": 43,
    "start_time": "2022-08-02T16:06:42.405Z"
   },
   {
    "duration": 4,
    "start_time": "2022-08-02T16:06:42.450Z"
   },
   {
    "duration": 14,
    "start_time": "2022-08-02T16:06:42.455Z"
   },
   {
    "duration": 71,
    "start_time": "2022-08-02T16:06:42.470Z"
   },
   {
    "duration": 127,
    "start_time": "2022-08-02T16:06:42.543Z"
   },
   {
    "duration": 281,
    "start_time": "2022-08-02T16:06:42.672Z"
   },
   {
    "duration": 6,
    "start_time": "2022-08-02T16:06:42.954Z"
   },
   {
    "duration": 23,
    "start_time": "2022-08-02T16:06:42.961Z"
   },
   {
    "duration": 17,
    "start_time": "2022-08-02T16:06:42.986Z"
   },
   {
    "duration": 38,
    "start_time": "2022-08-02T16:06:43.034Z"
   },
   {
    "duration": 134,
    "start_time": "2022-08-02T16:06:43.074Z"
   },
   {
    "duration": 23,
    "start_time": "2022-08-02T16:06:43.209Z"
   },
   {
    "duration": 29,
    "start_time": "2022-08-02T16:06:43.234Z"
   },
   {
    "duration": 149,
    "start_time": "2022-08-02T16:06:43.265Z"
   },
   {
    "duration": 35,
    "start_time": "2022-08-02T16:06:43.416Z"
   },
   {
    "duration": 41,
    "start_time": "2022-08-02T16:06:43.456Z"
   },
   {
    "duration": 35,
    "start_time": "2022-08-02T16:06:43.499Z"
   },
   {
    "duration": 12,
    "start_time": "2022-08-02T16:06:43.535Z"
   },
   {
    "duration": 22,
    "start_time": "2022-08-02T16:06:43.549Z"
   },
   {
    "duration": 14,
    "start_time": "2022-08-02T16:06:43.572Z"
   },
   {
    "duration": 51,
    "start_time": "2022-08-02T16:06:43.587Z"
   },
   {
    "duration": 29,
    "start_time": "2022-08-02T16:06:43.640Z"
   },
   {
    "duration": 9,
    "start_time": "2022-08-02T16:06:43.671Z"
   },
   {
    "duration": 19,
    "start_time": "2022-08-02T16:06:43.682Z"
   },
   {
    "duration": 292,
    "start_time": "2022-08-02T16:06:43.703Z"
   },
   {
    "duration": 22,
    "start_time": "2022-08-02T16:06:43.996Z"
   },
   {
    "duration": 414,
    "start_time": "2022-08-02T16:06:44.030Z"
   },
   {
    "duration": 286,
    "start_time": "2022-08-02T16:06:44.445Z"
   },
   {
    "duration": 273,
    "start_time": "2022-08-02T16:06:44.732Z"
   },
   {
    "duration": 291,
    "start_time": "2022-08-02T16:06:45.007Z"
   },
   {
    "duration": 8,
    "start_time": "2022-08-02T16:06:45.299Z"
   },
   {
    "duration": 31,
    "start_time": "2022-08-02T16:06:45.308Z"
   },
   {
    "duration": 150,
    "start_time": "2022-08-02T16:06:45.341Z"
   },
   {
    "duration": 23,
    "start_time": "2022-08-02T16:06:45.492Z"
   },
   {
    "duration": 29,
    "start_time": "2022-08-02T16:06:45.516Z"
   },
   {
    "duration": 10,
    "start_time": "2022-08-02T16:06:45.547Z"
   },
   {
    "duration": 12,
    "start_time": "2022-08-02T16:06:45.558Z"
   },
   {
    "duration": 7,
    "start_time": "2022-08-02T16:06:45.572Z"
   },
   {
    "duration": 10,
    "start_time": "2022-08-02T16:06:45.581Z"
   },
   {
    "duration": 1169,
    "start_time": "2022-08-02T16:06:45.592Z"
   },
   {
    "duration": 0,
    "start_time": "2022-08-02T16:06:46.762Z"
   },
   {
    "duration": 0,
    "start_time": "2022-08-02T16:06:46.764Z"
   },
   {
    "duration": 0,
    "start_time": "2022-08-02T16:06:46.764Z"
   },
   {
    "duration": 0,
    "start_time": "2022-08-02T16:06:46.766Z"
   },
   {
    "duration": 14,
    "start_time": "2022-08-02T16:07:28.837Z"
   },
   {
    "duration": 23,
    "start_time": "2022-08-02T16:09:03.974Z"
   },
   {
    "duration": 16,
    "start_time": "2022-08-02T16:13:00.155Z"
   },
   {
    "duration": 20,
    "start_time": "2022-08-02T16:14:11.490Z"
   },
   {
    "duration": 29,
    "start_time": "2022-08-02T16:14:42.481Z"
   },
   {
    "duration": 12,
    "start_time": "2022-08-02T16:15:17.281Z"
   },
   {
    "duration": 15,
    "start_time": "2022-08-02T16:15:46.815Z"
   },
   {
    "duration": 33,
    "start_time": "2022-08-02T16:18:59.928Z"
   },
   {
    "duration": 8,
    "start_time": "2022-08-02T16:28:55.367Z"
   },
   {
    "duration": 17,
    "start_time": "2022-08-02T16:29:03.191Z"
   },
   {
    "duration": 250,
    "start_time": "2022-08-02T16:29:48.489Z"
   },
   {
    "duration": 19,
    "start_time": "2022-08-02T16:30:25.625Z"
   },
   {
    "duration": 378,
    "start_time": "2022-08-02T16:30:58.317Z"
   },
   {
    "duration": 273,
    "start_time": "2022-08-02T16:31:48.258Z"
   },
   {
    "duration": 271,
    "start_time": "2022-08-02T16:32:21.014Z"
   },
   {
    "duration": 10,
    "start_time": "2022-08-02T16:55:00.478Z"
   },
   {
    "duration": 4,
    "start_time": "2022-08-02T17:10:49.424Z"
   },
   {
    "duration": 4,
    "start_time": "2022-08-02T17:12:18.944Z"
   },
   {
    "duration": 3,
    "start_time": "2022-08-02T17:13:19.725Z"
   },
   {
    "duration": 3,
    "start_time": "2022-08-02T17:22:23.420Z"
   },
   {
    "duration": 578,
    "start_time": "2022-08-02T17:22:23.425Z"
   },
   {
    "duration": 17,
    "start_time": "2022-08-02T17:22:24.004Z"
   },
   {
    "duration": 19,
    "start_time": "2022-08-02T17:22:24.022Z"
   },
   {
    "duration": 4,
    "start_time": "2022-08-02T17:22:24.043Z"
   },
   {
    "duration": 22,
    "start_time": "2022-08-02T17:22:24.049Z"
   },
   {
    "duration": 26,
    "start_time": "2022-08-02T17:22:24.072Z"
   },
   {
    "duration": 60,
    "start_time": "2022-08-02T17:22:24.100Z"
   },
   {
    "duration": 21,
    "start_time": "2022-08-02T17:22:24.162Z"
   },
   {
    "duration": 21,
    "start_time": "2022-08-02T17:22:24.185Z"
   },
   {
    "duration": 7,
    "start_time": "2022-08-02T17:22:24.231Z"
   },
   {
    "duration": 11,
    "start_time": "2022-08-02T17:22:24.240Z"
   },
   {
    "duration": 38,
    "start_time": "2022-08-02T17:22:24.253Z"
   },
   {
    "duration": 14,
    "start_time": "2022-08-02T17:22:24.292Z"
   },
   {
    "duration": 37,
    "start_time": "2022-08-02T17:22:24.307Z"
   },
   {
    "duration": 4,
    "start_time": "2022-08-02T17:22:24.346Z"
   },
   {
    "duration": 17,
    "start_time": "2022-08-02T17:22:24.352Z"
   },
   {
    "duration": 4,
    "start_time": "2022-08-02T17:22:24.370Z"
   },
   {
    "duration": 14,
    "start_time": "2022-08-02T17:22:24.376Z"
   },
   {
    "duration": 80,
    "start_time": "2022-08-02T17:22:24.391Z"
   },
   {
    "duration": 122,
    "start_time": "2022-08-02T17:22:24.473Z"
   },
   {
    "duration": 263,
    "start_time": "2022-08-02T17:22:24.597Z"
   },
   {
    "duration": 5,
    "start_time": "2022-08-02T17:22:24.862Z"
   },
   {
    "duration": 25,
    "start_time": "2022-08-02T17:22:24.868Z"
   },
   {
    "duration": 14,
    "start_time": "2022-08-02T17:22:24.895Z"
   },
   {
    "duration": 42,
    "start_time": "2022-08-02T17:22:24.911Z"
   },
   {
    "duration": 129,
    "start_time": "2022-08-02T17:22:24.954Z"
   },
   {
    "duration": 19,
    "start_time": "2022-08-02T17:22:25.085Z"
   },
   {
    "duration": 47,
    "start_time": "2022-08-02T17:22:25.108Z"
   },
   {
    "duration": 158,
    "start_time": "2022-08-02T17:22:25.156Z"
   },
   {
    "duration": 38,
    "start_time": "2022-08-02T17:22:25.316Z"
   },
   {
    "duration": 46,
    "start_time": "2022-08-02T17:22:25.355Z"
   },
   {
    "duration": 35,
    "start_time": "2022-08-02T17:22:25.403Z"
   },
   {
    "duration": 24,
    "start_time": "2022-08-02T17:22:25.439Z"
   },
   {
    "duration": 12,
    "start_time": "2022-08-02T17:22:25.465Z"
   },
   {
    "duration": 39,
    "start_time": "2022-08-02T17:22:25.478Z"
   },
   {
    "duration": 40,
    "start_time": "2022-08-02T17:22:25.519Z"
   },
   {
    "duration": 11,
    "start_time": "2022-08-02T17:22:25.561Z"
   },
   {
    "duration": 25,
    "start_time": "2022-08-02T17:22:25.574Z"
   },
   {
    "duration": 320,
    "start_time": "2022-08-02T17:22:25.601Z"
   },
   {
    "duration": 23,
    "start_time": "2022-08-02T17:22:25.922Z"
   },
   {
    "duration": 314,
    "start_time": "2022-08-02T17:22:25.947Z"
   },
   {
    "duration": 294,
    "start_time": "2022-08-02T17:22:26.263Z"
   },
   {
    "duration": 411,
    "start_time": "2022-08-02T17:22:26.559Z"
   },
   {
    "duration": 277,
    "start_time": "2022-08-02T17:22:26.972Z"
   },
   {
    "duration": 7,
    "start_time": "2022-08-02T17:22:27.250Z"
   },
   {
    "duration": 30,
    "start_time": "2022-08-02T17:22:27.259Z"
   },
   {
    "duration": 8,
    "start_time": "2022-08-02T17:22:27.291Z"
   },
   {
    "duration": 182,
    "start_time": "2022-08-02T17:22:27.302Z"
   },
   {
    "duration": 23,
    "start_time": "2022-08-02T17:22:27.485Z"
   },
   {
    "duration": 29,
    "start_time": "2022-08-02T17:22:27.510Z"
   },
   {
    "duration": 10,
    "start_time": "2022-08-02T17:22:27.541Z"
   },
   {
    "duration": 23,
    "start_time": "2022-08-02T17:22:27.553Z"
   },
   {
    "duration": 5,
    "start_time": "2022-08-02T17:22:27.578Z"
   },
   {
    "duration": 13,
    "start_time": "2022-08-02T17:22:27.585Z"
   },
   {
    "duration": 1265,
    "start_time": "2022-08-02T17:22:27.600Z"
   },
   {
    "duration": 0,
    "start_time": "2022-08-02T17:22:28.866Z"
   },
   {
    "duration": 0,
    "start_time": "2022-08-02T17:22:28.868Z"
   },
   {
    "duration": 0,
    "start_time": "2022-08-02T17:22:28.869Z"
   },
   {
    "duration": 0,
    "start_time": "2022-08-02T17:22:28.870Z"
   },
   {
    "duration": 1384,
    "start_time": "2022-08-02T17:23:00.531Z"
   },
   {
    "duration": 6,
    "start_time": "2022-08-02T17:23:32.732Z"
   },
   {
    "duration": 1362,
    "start_time": "2022-08-02T17:24:08.857Z"
   },
   {
    "duration": 5,
    "start_time": "2022-08-02T17:24:40.044Z"
   },
   {
    "duration": 6,
    "start_time": "2022-08-02T17:24:44.920Z"
   },
   {
    "duration": 1203,
    "start_time": "2022-08-02T17:24:48.972Z"
   },
   {
    "duration": 2,
    "start_time": "2022-08-02T17:25:05.462Z"
   },
   {
    "duration": 1723,
    "start_time": "2022-08-02T17:25:09.167Z"
   },
   {
    "duration": 1188,
    "start_time": "2022-08-02T17:31:34.516Z"
   },
   {
    "duration": 1096,
    "start_time": "2022-08-02T17:32:03.664Z"
   },
   {
    "duration": 569,
    "start_time": "2022-08-02T17:32:04.762Z"
   },
   {
    "duration": 19,
    "start_time": "2022-08-02T17:32:05.332Z"
   },
   {
    "duration": 15,
    "start_time": "2022-08-02T17:32:05.353Z"
   },
   {
    "duration": 4,
    "start_time": "2022-08-02T17:32:05.370Z"
   },
   {
    "duration": 31,
    "start_time": "2022-08-02T17:32:05.375Z"
   },
   {
    "duration": 44,
    "start_time": "2022-08-02T17:32:05.407Z"
   },
   {
    "duration": 44,
    "start_time": "2022-08-02T17:32:05.452Z"
   },
   {
    "duration": 41,
    "start_time": "2022-08-02T17:32:05.498Z"
   },
   {
    "duration": 18,
    "start_time": "2022-08-02T17:32:05.542Z"
   },
   {
    "duration": 5,
    "start_time": "2022-08-02T17:32:05.562Z"
   },
   {
    "duration": 9,
    "start_time": "2022-08-02T17:32:05.568Z"
   },
   {
    "duration": 65,
    "start_time": "2022-08-02T17:32:05.578Z"
   },
   {
    "duration": 12,
    "start_time": "2022-08-02T17:32:05.644Z"
   },
   {
    "duration": 21,
    "start_time": "2022-08-02T17:32:05.658Z"
   },
   {
    "duration": 4,
    "start_time": "2022-08-02T17:32:05.681Z"
   },
   {
    "duration": 17,
    "start_time": "2022-08-02T17:32:05.686Z"
   },
   {
    "duration": 4,
    "start_time": "2022-08-02T17:32:05.732Z"
   },
   {
    "duration": 13,
    "start_time": "2022-08-02T17:32:05.738Z"
   },
   {
    "duration": 57,
    "start_time": "2022-08-02T17:32:05.753Z"
   },
   {
    "duration": 149,
    "start_time": "2022-08-02T17:32:05.812Z"
   },
   {
    "duration": 286,
    "start_time": "2022-08-02T17:32:05.962Z"
   },
   {
    "duration": 5,
    "start_time": "2022-08-02T17:32:06.249Z"
   },
   {
    "duration": 24,
    "start_time": "2022-08-02T17:32:06.256Z"
   },
   {
    "duration": 14,
    "start_time": "2022-08-02T17:32:06.281Z"
   },
   {
    "duration": 47,
    "start_time": "2022-08-02T17:32:06.296Z"
   },
   {
    "duration": 130,
    "start_time": "2022-08-02T17:32:06.344Z"
   },
   {
    "duration": 15,
    "start_time": "2022-08-02T17:32:06.478Z"
   },
   {
    "duration": 43,
    "start_time": "2022-08-02T17:32:06.494Z"
   },
   {
    "duration": 144,
    "start_time": "2022-08-02T17:32:06.538Z"
   },
   {
    "duration": 28,
    "start_time": "2022-08-02T17:32:06.683Z"
   },
   {
    "duration": 49,
    "start_time": "2022-08-02T17:32:06.713Z"
   },
   {
    "duration": 19,
    "start_time": "2022-08-02T17:32:06.763Z"
   },
   {
    "duration": 20,
    "start_time": "2022-08-02T17:32:06.783Z"
   },
   {
    "duration": 32,
    "start_time": "2022-08-02T17:32:06.805Z"
   },
   {
    "duration": 14,
    "start_time": "2022-08-02T17:32:06.838Z"
   },
   {
    "duration": 26,
    "start_time": "2022-08-02T17:32:06.854Z"
   },
   {
    "duration": 9,
    "start_time": "2022-08-02T17:32:06.882Z"
   },
   {
    "duration": 50,
    "start_time": "2022-08-02T17:32:06.892Z"
   },
   {
    "duration": 274,
    "start_time": "2022-08-02T17:32:06.943Z"
   },
   {
    "duration": 24,
    "start_time": "2022-08-02T17:32:07.219Z"
   },
   {
    "duration": 311,
    "start_time": "2022-08-02T17:32:07.245Z"
   },
   {
    "duration": 416,
    "start_time": "2022-08-02T17:32:07.559Z"
   },
   {
    "duration": 361,
    "start_time": "2022-08-02T17:32:07.976Z"
   },
   {
    "duration": 258,
    "start_time": "2022-08-02T17:32:08.339Z"
   },
   {
    "duration": 6,
    "start_time": "2022-08-02T17:32:08.599Z"
   },
   {
    "duration": 30,
    "start_time": "2022-08-02T17:32:08.606Z"
   },
   {
    "duration": 8,
    "start_time": "2022-08-02T17:32:08.637Z"
   },
   {
    "duration": 181,
    "start_time": "2022-08-02T17:32:08.647Z"
   },
   {
    "duration": 23,
    "start_time": "2022-08-02T17:32:08.830Z"
   },
   {
    "duration": 15,
    "start_time": "2022-08-02T17:32:08.854Z"
   },
   {
    "duration": 15,
    "start_time": "2022-08-02T17:32:08.871Z"
   },
   {
    "duration": 14,
    "start_time": "2022-08-02T17:32:08.887Z"
   },
   {
    "duration": 12,
    "start_time": "2022-08-02T17:32:08.902Z"
   },
   {
    "duration": 25,
    "start_time": "2022-08-02T17:32:08.916Z"
   },
   {
    "duration": 104,
    "start_time": "2022-08-02T17:32:08.943Z"
   },
   {
    "duration": 0,
    "start_time": "2022-08-02T17:32:09.049Z"
   },
   {
    "duration": 0,
    "start_time": "2022-08-02T17:32:09.050Z"
   },
   {
    "duration": 0,
    "start_time": "2022-08-02T17:32:09.051Z"
   },
   {
    "duration": 0,
    "start_time": "2022-08-02T17:32:09.053Z"
   },
   {
    "duration": 0,
    "start_time": "2022-08-02T17:32:09.054Z"
   },
   {
    "duration": 2,
    "start_time": "2022-08-02T17:38:55.145Z"
   },
   {
    "duration": 1791,
    "start_time": "2022-08-02T17:39:00.532Z"
   },
   {
    "duration": 3,
    "start_time": "2022-08-02T17:40:11.585Z"
   },
   {
    "duration": 4532,
    "start_time": "2022-08-02T17:40:26.030Z"
   },
   {
    "duration": 5,
    "start_time": "2022-08-02T17:43:38.214Z"
   },
   {
    "duration": 5,
    "start_time": "2022-08-02T17:44:52.014Z"
   },
   {
    "duration": 4,
    "start_time": "2022-08-02T17:46:21.224Z"
   },
   {
    "duration": 5,
    "start_time": "2022-08-02T17:48:47.588Z"
   },
   {
    "duration": 5,
    "start_time": "2022-08-02T17:54:13.456Z"
   },
   {
    "duration": 79,
    "start_time": "2022-08-02T17:58:15.774Z"
   },
   {
    "duration": 12,
    "start_time": "2022-08-02T18:00:08.682Z"
   },
   {
    "duration": 2,
    "start_time": "2022-08-02T18:02:59.648Z"
   },
   {
    "duration": 5,
    "start_time": "2022-08-02T18:06:02.638Z"
   },
   {
    "duration": 5,
    "start_time": "2022-08-02T18:06:46.844Z"
   },
   {
    "duration": 6,
    "start_time": "2022-08-02T18:12:52.440Z"
   },
   {
    "duration": 5,
    "start_time": "2022-08-02T18:14:51.285Z"
   },
   {
    "duration": 6,
    "start_time": "2022-08-02T18:16:59.479Z"
   },
   {
    "duration": 4,
    "start_time": "2022-08-02T18:39:29.766Z"
   },
   {
    "duration": 6,
    "start_time": "2022-08-02T18:43:38.057Z"
   },
   {
    "duration": 72,
    "start_time": "2022-08-02T18:44:05.878Z"
   },
   {
    "duration": 5,
    "start_time": "2022-08-02T18:45:45.427Z"
   },
   {
    "duration": 4,
    "start_time": "2022-08-02T18:46:21.222Z"
   },
   {
    "duration": 1111,
    "start_time": "2022-08-02T19:48:13.300Z"
   },
   {
    "duration": 585,
    "start_time": "2022-08-02T19:48:14.414Z"
   },
   {
    "duration": 19,
    "start_time": "2022-08-02T19:48:15.000Z"
   },
   {
    "duration": 18,
    "start_time": "2022-08-02T19:48:15.021Z"
   },
   {
    "duration": 13,
    "start_time": "2022-08-02T19:48:15.041Z"
   },
   {
    "duration": 23,
    "start_time": "2022-08-02T19:48:15.056Z"
   },
   {
    "duration": 24,
    "start_time": "2022-08-02T19:48:15.080Z"
   },
   {
    "duration": 57,
    "start_time": "2022-08-02T19:48:15.106Z"
   },
   {
    "duration": 22,
    "start_time": "2022-08-02T19:48:15.165Z"
   },
   {
    "duration": 20,
    "start_time": "2022-08-02T19:48:15.189Z"
   },
   {
    "duration": 27,
    "start_time": "2022-08-02T19:48:15.211Z"
   },
   {
    "duration": 14,
    "start_time": "2022-08-02T19:48:15.240Z"
   },
   {
    "duration": 36,
    "start_time": "2022-08-02T19:48:15.255Z"
   },
   {
    "duration": 13,
    "start_time": "2022-08-02T19:48:15.292Z"
   },
   {
    "duration": 26,
    "start_time": "2022-08-02T19:48:15.331Z"
   },
   {
    "duration": 4,
    "start_time": "2022-08-02T19:48:15.358Z"
   },
   {
    "duration": 19,
    "start_time": "2022-08-02T19:48:15.364Z"
   },
   {
    "duration": 5,
    "start_time": "2022-08-02T19:48:15.384Z"
   },
   {
    "duration": 15,
    "start_time": "2022-08-02T19:48:15.390Z"
   },
   {
    "duration": 85,
    "start_time": "2022-08-02T19:48:15.406Z"
   },
   {
    "duration": 156,
    "start_time": "2022-08-02T19:48:15.493Z"
   },
   {
    "duration": 315,
    "start_time": "2022-08-02T19:48:15.651Z"
   },
   {
    "duration": 5,
    "start_time": "2022-08-02T19:48:15.968Z"
   },
   {
    "duration": 28,
    "start_time": "2022-08-02T19:48:15.975Z"
   },
   {
    "duration": 35,
    "start_time": "2022-08-02T19:48:16.005Z"
   },
   {
    "duration": 34,
    "start_time": "2022-08-02T19:48:16.042Z"
   },
   {
    "duration": 141,
    "start_time": "2022-08-02T19:48:16.078Z"
   },
   {
    "duration": 27,
    "start_time": "2022-08-02T19:48:16.222Z"
   },
   {
    "duration": 28,
    "start_time": "2022-08-02T19:48:16.251Z"
   },
   {
    "duration": 173,
    "start_time": "2022-08-02T19:48:16.280Z"
   },
   {
    "duration": 29,
    "start_time": "2022-08-02T19:48:16.454Z"
   },
   {
    "duration": 60,
    "start_time": "2022-08-02T19:48:16.484Z"
   },
   {
    "duration": 22,
    "start_time": "2022-08-02T19:48:16.546Z"
   },
   {
    "duration": 22,
    "start_time": "2022-08-02T19:48:16.569Z"
   },
   {
    "duration": 39,
    "start_time": "2022-08-02T19:48:16.593Z"
   },
   {
    "duration": 27,
    "start_time": "2022-08-02T19:48:16.634Z"
   },
   {
    "duration": 30,
    "start_time": "2022-08-02T19:48:16.663Z"
   },
   {
    "duration": 8,
    "start_time": "2022-08-02T19:48:16.695Z"
   },
   {
    "duration": 45,
    "start_time": "2022-08-02T19:48:16.705Z"
   },
   {
    "duration": 313,
    "start_time": "2022-08-02T19:48:16.752Z"
   },
   {
    "duration": 19,
    "start_time": "2022-08-02T19:48:17.066Z"
   },
   {
    "duration": 305,
    "start_time": "2022-08-02T19:48:17.086Z"
   },
   {
    "duration": 399,
    "start_time": "2022-08-02T19:48:17.392Z"
   },
   {
    "duration": 406,
    "start_time": "2022-08-02T19:48:17.793Z"
   },
   {
    "duration": 283,
    "start_time": "2022-08-02T19:48:18.201Z"
   },
   {
    "duration": 7,
    "start_time": "2022-08-02T19:48:18.486Z"
   },
   {
    "duration": 24,
    "start_time": "2022-08-02T19:48:18.494Z"
   },
   {
    "duration": 21,
    "start_time": "2022-08-02T19:48:18.519Z"
   },
   {
    "duration": 165,
    "start_time": "2022-08-02T19:48:18.541Z"
   },
   {
    "duration": 38,
    "start_time": "2022-08-02T19:48:18.708Z"
   },
   {
    "duration": 15,
    "start_time": "2022-08-02T19:48:18.747Z"
   },
   {
    "duration": 10,
    "start_time": "2022-08-02T19:48:18.763Z"
   },
   {
    "duration": 13,
    "start_time": "2022-08-02T19:48:18.774Z"
   },
   {
    "duration": 5,
    "start_time": "2022-08-02T19:48:18.789Z"
   },
   {
    "duration": 11,
    "start_time": "2022-08-02T19:48:18.795Z"
   },
   {
    "duration": 6,
    "start_time": "2022-08-02T19:48:18.831Z"
   },
   {
    "duration": 13,
    "start_time": "2022-08-02T19:48:18.839Z"
   },
   {
    "duration": 5,
    "start_time": "2022-08-02T19:48:18.853Z"
   },
   {
    "duration": 6,
    "start_time": "2022-08-02T19:48:18.860Z"
   },
   {
    "duration": 5,
    "start_time": "2022-08-02T19:48:18.868Z"
   },
   {
    "duration": 8,
    "start_time": "2022-08-02T19:48:18.874Z"
   },
   {
    "duration": 1187,
    "start_time": "2022-08-03T07:01:46.422Z"
   },
   {
    "duration": 597,
    "start_time": "2022-08-03T07:01:47.612Z"
   },
   {
    "duration": 22,
    "start_time": "2022-08-03T07:01:48.211Z"
   },
   {
    "duration": 18,
    "start_time": "2022-08-03T07:01:48.235Z"
   },
   {
    "duration": 6,
    "start_time": "2022-08-03T07:01:48.255Z"
   },
   {
    "duration": 43,
    "start_time": "2022-08-03T07:01:48.262Z"
   },
   {
    "duration": 25,
    "start_time": "2022-08-03T07:01:48.307Z"
   },
   {
    "duration": 40,
    "start_time": "2022-08-03T07:01:48.333Z"
   },
   {
    "duration": 46,
    "start_time": "2022-08-03T07:01:48.375Z"
   },
   {
    "duration": 24,
    "start_time": "2022-08-03T07:01:48.424Z"
   },
   {
    "duration": 5,
    "start_time": "2022-08-03T07:01:48.450Z"
   },
   {
    "duration": 9,
    "start_time": "2022-08-03T07:01:48.457Z"
   },
   {
    "duration": 60,
    "start_time": "2022-08-03T07:01:48.468Z"
   },
   {
    "duration": 18,
    "start_time": "2022-08-03T07:01:48.530Z"
   },
   {
    "duration": 54,
    "start_time": "2022-08-03T07:01:48.550Z"
   },
   {
    "duration": 4,
    "start_time": "2022-08-03T07:01:48.606Z"
   },
   {
    "duration": 19,
    "start_time": "2022-08-03T07:01:48.611Z"
   },
   {
    "duration": 4,
    "start_time": "2022-08-03T07:01:48.631Z"
   },
   {
    "duration": 17,
    "start_time": "2022-08-03T07:01:48.637Z"
   },
   {
    "duration": 83,
    "start_time": "2022-08-03T07:01:48.655Z"
   },
   {
    "duration": 136,
    "start_time": "2022-08-03T07:01:48.740Z"
   },
   {
    "duration": 286,
    "start_time": "2022-08-03T07:01:48.878Z"
   },
   {
    "duration": 6,
    "start_time": "2022-08-03T07:01:49.166Z"
   },
   {
    "duration": 38,
    "start_time": "2022-08-03T07:01:49.174Z"
   },
   {
    "duration": 14,
    "start_time": "2022-08-03T07:01:49.214Z"
   },
   {
    "duration": 28,
    "start_time": "2022-08-03T07:01:49.229Z"
   },
   {
    "duration": 143,
    "start_time": "2022-08-03T07:01:49.259Z"
   },
   {
    "duration": 15,
    "start_time": "2022-08-03T07:01:49.407Z"
   },
   {
    "duration": 26,
    "start_time": "2022-08-03T07:01:49.424Z"
   },
   {
    "duration": 177,
    "start_time": "2022-08-03T07:01:49.451Z"
   },
   {
    "duration": 28,
    "start_time": "2022-08-03T07:01:49.630Z"
   },
   {
    "duration": 53,
    "start_time": "2022-08-03T07:01:49.660Z"
   },
   {
    "duration": 20,
    "start_time": "2022-08-03T07:01:49.715Z"
   },
   {
    "duration": 21,
    "start_time": "2022-08-03T07:01:49.737Z"
   },
   {
    "duration": 36,
    "start_time": "2022-08-03T07:01:49.759Z"
   },
   {
    "duration": 26,
    "start_time": "2022-08-03T07:01:49.796Z"
   },
   {
    "duration": 30,
    "start_time": "2022-08-03T07:01:49.823Z"
   },
   {
    "duration": 7,
    "start_time": "2022-08-03T07:01:49.855Z"
   },
   {
    "duration": 19,
    "start_time": "2022-08-03T07:01:49.864Z"
   },
   {
    "duration": 302,
    "start_time": "2022-08-03T07:01:49.885Z"
   },
   {
    "duration": 21,
    "start_time": "2022-08-03T07:01:50.189Z"
   },
   {
    "duration": 294,
    "start_time": "2022-08-03T07:01:50.212Z"
   },
   {
    "duration": 346,
    "start_time": "2022-08-03T07:01:50.507Z"
   },
   {
    "duration": 364,
    "start_time": "2022-08-03T07:01:50.854Z"
   },
   {
    "duration": 279,
    "start_time": "2022-08-03T07:01:51.220Z"
   },
   {
    "duration": 8,
    "start_time": "2022-08-03T07:01:51.502Z"
   },
   {
    "duration": 32,
    "start_time": "2022-08-03T07:01:51.511Z"
   },
   {
    "duration": 11,
    "start_time": "2022-08-03T07:01:51.544Z"
   },
   {
    "duration": 177,
    "start_time": "2022-08-03T07:01:51.557Z"
   },
   {
    "duration": 21,
    "start_time": "2022-08-03T07:01:51.736Z"
   },
   {
    "duration": 14,
    "start_time": "2022-08-03T07:01:51.759Z"
   },
   {
    "duration": 30,
    "start_time": "2022-08-03T07:01:51.774Z"
   },
   {
    "duration": 19,
    "start_time": "2022-08-03T07:01:51.805Z"
   },
   {
    "duration": 6,
    "start_time": "2022-08-03T07:01:51.826Z"
   },
   {
    "duration": 13,
    "start_time": "2022-08-03T07:01:51.834Z"
   },
   {
    "duration": 6,
    "start_time": "2022-08-03T07:01:51.849Z"
   },
   {
    "duration": 19,
    "start_time": "2022-08-03T07:01:51.856Z"
   },
   {
    "duration": 5,
    "start_time": "2022-08-03T07:01:51.876Z"
   },
   {
    "duration": 8,
    "start_time": "2022-08-03T07:01:51.882Z"
   },
   {
    "duration": 15,
    "start_time": "2022-08-03T07:01:51.892Z"
   },
   {
    "duration": 13,
    "start_time": "2022-08-03T07:01:51.909Z"
   },
   {
    "duration": 1291,
    "start_time": "2022-08-03T08:13:01.624Z"
   },
   {
    "duration": 2271,
    "start_time": "2022-08-03T08:13:02.917Z"
   },
   {
    "duration": 21,
    "start_time": "2022-08-03T08:13:05.189Z"
   },
   {
    "duration": 17,
    "start_time": "2022-08-03T08:13:05.212Z"
   },
   {
    "duration": 5,
    "start_time": "2022-08-03T08:13:05.230Z"
   },
   {
    "duration": 27,
    "start_time": "2022-08-03T08:13:05.236Z"
   },
   {
    "duration": 26,
    "start_time": "2022-08-03T08:13:05.264Z"
   },
   {
    "duration": 41,
    "start_time": "2022-08-03T08:13:05.291Z"
   },
   {
    "duration": 24,
    "start_time": "2022-08-03T08:13:05.352Z"
   },
   {
    "duration": 24,
    "start_time": "2022-08-03T08:13:05.379Z"
   },
   {
    "duration": 7,
    "start_time": "2022-08-03T08:13:05.405Z"
   },
   {
    "duration": 40,
    "start_time": "2022-08-03T08:13:05.413Z"
   },
   {
    "duration": 39,
    "start_time": "2022-08-03T08:13:05.455Z"
   },
   {
    "duration": 14,
    "start_time": "2022-08-03T08:13:05.496Z"
   },
   {
    "duration": 42,
    "start_time": "2022-08-03T08:13:05.511Z"
   },
   {
    "duration": 5,
    "start_time": "2022-08-03T08:13:05.555Z"
   },
   {
    "duration": 20,
    "start_time": "2022-08-03T08:13:05.561Z"
   },
   {
    "duration": 5,
    "start_time": "2022-08-03T08:13:05.582Z"
   },
   {
    "duration": 11,
    "start_time": "2022-08-03T08:13:05.589Z"
   },
   {
    "duration": 92,
    "start_time": "2022-08-03T08:13:05.601Z"
   },
   {
    "duration": 143,
    "start_time": "2022-08-03T08:13:05.694Z"
   },
   {
    "duration": 335,
    "start_time": "2022-08-03T08:13:05.838Z"
   },
   {
    "duration": 7,
    "start_time": "2022-08-03T08:13:06.175Z"
   },
   {
    "duration": 33,
    "start_time": "2022-08-03T08:13:06.184Z"
   },
   {
    "duration": 20,
    "start_time": "2022-08-03T08:13:06.219Z"
   },
   {
    "duration": 25,
    "start_time": "2022-08-03T08:13:06.252Z"
   },
   {
    "duration": 136,
    "start_time": "2022-08-03T08:13:06.279Z"
   },
   {
    "duration": 15,
    "start_time": "2022-08-03T08:13:06.418Z"
   },
   {
    "duration": 36,
    "start_time": "2022-08-03T08:13:06.435Z"
   },
   {
    "duration": 154,
    "start_time": "2022-08-03T08:13:06.473Z"
   },
   {
    "duration": 33,
    "start_time": "2022-08-03T08:13:06.629Z"
   },
   {
    "duration": 36,
    "start_time": "2022-08-03T08:13:06.663Z"
   },
   {
    "duration": 19,
    "start_time": "2022-08-03T08:13:06.700Z"
   },
   {
    "duration": 42,
    "start_time": "2022-08-03T08:13:06.720Z"
   },
   {
    "duration": 12,
    "start_time": "2022-08-03T08:13:06.763Z"
   },
   {
    "duration": 25,
    "start_time": "2022-08-03T08:13:06.776Z"
   },
   {
    "duration": 27,
    "start_time": "2022-08-03T08:13:06.802Z"
   },
   {
    "duration": 22,
    "start_time": "2022-08-03T08:13:06.830Z"
   },
   {
    "duration": 16,
    "start_time": "2022-08-03T08:13:06.853Z"
   },
   {
    "duration": 294,
    "start_time": "2022-08-03T08:13:06.871Z"
   },
   {
    "duration": 19,
    "start_time": "2022-08-03T08:13:07.166Z"
   },
   {
    "duration": 298,
    "start_time": "2022-08-03T08:13:07.186Z"
   },
   {
    "duration": 341,
    "start_time": "2022-08-03T08:13:07.486Z"
   },
   {
    "duration": 362,
    "start_time": "2022-08-03T08:13:07.828Z"
   },
   {
    "duration": 270,
    "start_time": "2022-08-03T08:13:08.191Z"
   },
   {
    "duration": 6,
    "start_time": "2022-08-03T08:13:08.462Z"
   },
   {
    "duration": 23,
    "start_time": "2022-08-03T08:13:08.470Z"
   },
   {
    "duration": 7,
    "start_time": "2022-08-03T08:13:08.495Z"
   },
   {
    "duration": 166,
    "start_time": "2022-08-03T08:13:08.504Z"
   },
   {
    "duration": 22,
    "start_time": "2022-08-03T08:13:08.672Z"
   },
   {
    "duration": 14,
    "start_time": "2022-08-03T08:13:08.696Z"
   },
   {
    "duration": 10,
    "start_time": "2022-08-03T08:13:08.712Z"
   },
   {
    "duration": 35,
    "start_time": "2022-08-03T08:13:08.723Z"
   },
   {
    "duration": 5,
    "start_time": "2022-08-03T08:13:08.759Z"
   },
   {
    "duration": 14,
    "start_time": "2022-08-03T08:13:08.766Z"
   },
   {
    "duration": 7,
    "start_time": "2022-08-03T08:13:08.782Z"
   },
   {
    "duration": 7,
    "start_time": "2022-08-03T08:13:08.791Z"
   },
   {
    "duration": 8,
    "start_time": "2022-08-03T08:13:08.800Z"
   },
   {
    "duration": 1340,
    "start_time": "2022-08-03T13:12:57.639Z"
   },
   {
    "duration": 870,
    "start_time": "2022-08-03T13:12:58.982Z"
   },
   {
    "duration": 21,
    "start_time": "2022-08-03T13:12:59.853Z"
   },
   {
    "duration": 15,
    "start_time": "2022-08-03T13:12:59.876Z"
   },
   {
    "duration": 6,
    "start_time": "2022-08-03T13:12:59.893Z"
   },
   {
    "duration": 24,
    "start_time": "2022-08-03T13:12:59.900Z"
   },
   {
    "duration": 37,
    "start_time": "2022-08-03T13:12:59.926Z"
   },
   {
    "duration": 52,
    "start_time": "2022-08-03T13:12:59.964Z"
   },
   {
    "duration": 24,
    "start_time": "2022-08-03T13:13:00.018Z"
   },
   {
    "duration": 21,
    "start_time": "2022-08-03T13:13:00.045Z"
   },
   {
    "duration": 7,
    "start_time": "2022-08-03T13:13:00.068Z"
   },
   {
    "duration": 39,
    "start_time": "2022-08-03T13:13:00.076Z"
   },
   {
    "duration": 38,
    "start_time": "2022-08-03T13:13:00.117Z"
   },
   {
    "duration": 11,
    "start_time": "2022-08-03T13:13:00.157Z"
   },
   {
    "duration": 47,
    "start_time": "2022-08-03T13:13:00.170Z"
   },
   {
    "duration": 5,
    "start_time": "2022-08-03T13:13:00.219Z"
   },
   {
    "duration": 17,
    "start_time": "2022-08-03T13:13:00.226Z"
   },
   {
    "duration": 21,
    "start_time": "2022-08-03T13:13:00.245Z"
   },
   {
    "duration": 32,
    "start_time": "2022-08-03T13:13:00.267Z"
   },
   {
    "duration": 112,
    "start_time": "2022-08-03T13:13:00.301Z"
   },
   {
    "duration": 142,
    "start_time": "2022-08-03T13:13:00.415Z"
   },
   {
    "duration": 269,
    "start_time": "2022-08-03T13:13:00.558Z"
   },
   {
    "duration": 7,
    "start_time": "2022-08-03T13:13:00.828Z"
   },
   {
    "duration": 32,
    "start_time": "2022-08-03T13:13:00.836Z"
   },
   {
    "duration": 15,
    "start_time": "2022-08-03T13:13:00.869Z"
   },
   {
    "duration": 49,
    "start_time": "2022-08-03T13:13:00.886Z"
   },
   {
    "duration": 125,
    "start_time": "2022-08-03T13:13:00.937Z"
   },
   {
    "duration": 17,
    "start_time": "2022-08-03T13:13:01.065Z"
   },
   {
    "duration": 40,
    "start_time": "2022-08-03T13:13:01.083Z"
   },
   {
    "duration": 139,
    "start_time": "2022-08-03T13:13:01.124Z"
   },
   {
    "duration": 54,
    "start_time": "2022-08-03T13:13:01.266Z"
   },
   {
    "duration": 49,
    "start_time": "2022-08-03T13:13:01.322Z"
   },
   {
    "duration": 22,
    "start_time": "2022-08-03T13:13:01.372Z"
   },
   {
    "duration": 24,
    "start_time": "2022-08-03T13:13:01.411Z"
   },
   {
    "duration": 13,
    "start_time": "2022-08-03T13:13:01.437Z"
   },
   {
    "duration": 18,
    "start_time": "2022-08-03T13:13:01.452Z"
   },
   {
    "duration": 59,
    "start_time": "2022-08-03T13:13:01.472Z"
   },
   {
    "duration": 8,
    "start_time": "2022-08-03T13:13:01.532Z"
   },
   {
    "duration": 33,
    "start_time": "2022-08-03T13:13:01.542Z"
   },
   {
    "duration": 306,
    "start_time": "2022-08-03T13:13:01.577Z"
   },
   {
    "duration": 20,
    "start_time": "2022-08-03T13:13:01.884Z"
   },
   {
    "duration": 306,
    "start_time": "2022-08-03T13:13:01.911Z"
   },
   {
    "duration": 390,
    "start_time": "2022-08-03T13:13:02.219Z"
   },
   {
    "duration": 413,
    "start_time": "2022-08-03T13:13:02.611Z"
   },
   {
    "duration": 260,
    "start_time": "2022-08-03T13:13:03.026Z"
   },
   {
    "duration": 7,
    "start_time": "2022-08-03T13:13:03.288Z"
   },
   {
    "duration": 35,
    "start_time": "2022-08-03T13:13:03.296Z"
   },
   {
    "duration": 9,
    "start_time": "2022-08-03T13:13:03.332Z"
   },
   {
    "duration": 170,
    "start_time": "2022-08-03T13:13:03.342Z"
   },
   {
    "duration": 21,
    "start_time": "2022-08-03T13:13:03.514Z"
   },
   {
    "duration": 16,
    "start_time": "2022-08-03T13:13:03.536Z"
   },
   {
    "duration": 10,
    "start_time": "2022-08-03T13:13:03.553Z"
   },
   {
    "duration": 15,
    "start_time": "2022-08-03T13:13:03.565Z"
   },
   {
    "duration": 6,
    "start_time": "2022-08-03T13:13:03.611Z"
   },
   {
    "duration": 10,
    "start_time": "2022-08-03T13:13:03.619Z"
   },
   {
    "duration": 7,
    "start_time": "2022-08-03T13:13:03.630Z"
   },
   {
    "duration": 6,
    "start_time": "2022-08-03T13:13:03.639Z"
   },
   {
    "duration": 5,
    "start_time": "2022-08-03T13:13:03.647Z"
   }
  ],
  "kernelspec": {
   "display_name": "Python 3 (ipykernel)",
   "language": "python",
   "name": "python3"
  },
  "language_info": {
   "codemirror_mode": {
    "name": "ipython",
    "version": 3
   },
   "file_extension": ".py",
   "mimetype": "text/x-python",
   "name": "python",
   "nbconvert_exporter": "python",
   "pygments_lexer": "ipython3",
   "version": "3.9.7"
  },
  "toc": {
   "base_numbering": 1,
   "nav_menu": {},
   "number_sections": true,
   "sideBar": true,
   "skip_h1_title": true,
   "title_cell": "Table of Contents",
   "title_sidebar": "Contents",
   "toc_cell": false,
   "toc_position": {},
   "toc_section_display": true,
   "toc_window_display": true
  }
 },
 "nbformat": 4,
 "nbformat_minor": 2
}
