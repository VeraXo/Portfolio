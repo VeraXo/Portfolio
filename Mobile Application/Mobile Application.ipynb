{
 "cells": [
  {
   "cell_type": "markdown",
   "metadata": {},
   "source": [
    "**Исследование пользовательского поведения покупателей в мобильном приложении \"Ненужные вещи\"**\n",
    "\n",
    "В мобильном приложении \"Ненужные вещи\" люди продают  свои ненужные вещи, размещая их на доске объявлений.\n",
    "\n",
    "В датасете содержатся данные пользователей, впервые совершивших действия в приложении после 7 октября 2019 года.\n",
    "\n",
    "Заказчику необходимо выделить группы пользователей, которые различаются по метрикам:\n",
    "\n",
    "retention rate,\n",
    "время, проведённое в приложении,\n",
    "частота действий,\n",
    "конверсия в целевое действие — просмотр контактов.\n",
    "\n",
    "- Предлагается проверить статистические гипотезы\n",
    "    1. *Некоторые пользователи установили приложение по ссылке из `yandex`, другие — из `google`. Две эти группы демонстрируют разную конверсию в просмотры контактов.*\n",
    "    2. *Пользователи, завершающие сессию добавлением в избранное или просмотром карты, демострируют разное удержание.* \n"
   ]
  },
  {
   "cell_type": "markdown",
   "metadata": {},
   "source": [
    "# Содержание\n",
    "\n"
   ]
  },
  {
   "cell_type": "markdown",
   "metadata": {},
   "source": [
    "###  Предобработка данных"
   ]
  },
  {
   "cell_type": "code",
   "execution_count": 2,
   "metadata": {},
   "outputs": [],
   "source": [
    "# импортируем все необходимые бибилиотеки\n",
    "import pandas as pd\n",
    "import numpy as np\n",
    "import matplotlib.pyplot as plt\n",
    "import seaborn as sns\n",
    "import datetime as dt\n",
    "from datetime import timedelta\n",
    "from scipy import stats as st\n",
    "import math as mth"
   ]
  },
  {
   "cell_type": "markdown",
   "metadata": {},
   "source": [
    "### Данные о источниках получения ссылки на приложение"
   ]
  },
  {
   "cell_type": "markdown",
   "metadata": {},
   "source": [
    "Прочитали  полученные для анализа данные о источниках, из которых пользователи получили ссылки на приложение "
   ]
  },
  {
   "cell_type": "code",
   "execution_count": 3,
   "metadata": {},
   "outputs": [
    {
     "name": "stdout",
     "output_type": "stream",
     "text": [
      "<class 'pandas.core.frame.DataFrame'>\n",
      "RangeIndex: 4293 entries, 0 to 4292\n",
      "Data columns (total 2 columns):\n",
      " #   Column  Non-Null Count  Dtype \n",
      "---  ------  --------------  ----- \n",
      " 0   userId  4293 non-null   object\n",
      " 1   source  4293 non-null   object\n",
      "dtypes: object(2)\n",
      "memory usage: 67.2+ KB\n"
     ]
    },
    {
     "data": {
      "text/html": [
       "<div>\n",
       "<style scoped>\n",
       "    .dataframe tbody tr th:only-of-type {\n",
       "        vertical-align: middle;\n",
       "    }\n",
       "\n",
       "    .dataframe tbody tr th {\n",
       "        vertical-align: top;\n",
       "    }\n",
       "\n",
       "    .dataframe thead th {\n",
       "        text-align: right;\n",
       "    }\n",
       "</style>\n",
       "<table border=\"1\" class=\"dataframe\">\n",
       "  <thead>\n",
       "    <tr style=\"text-align: right;\">\n",
       "      <th></th>\n",
       "      <th>userId</th>\n",
       "      <th>source</th>\n",
       "    </tr>\n",
       "  </thead>\n",
       "  <tbody>\n",
       "    <tr>\n",
       "      <th>0</th>\n",
       "      <td>020292ab-89bc-4156-9acf-68bc2783f894</td>\n",
       "      <td>other</td>\n",
       "    </tr>\n",
       "    <tr>\n",
       "      <th>1</th>\n",
       "      <td>cf7eda61-9349-469f-ac27-e5b6f5ec475c</td>\n",
       "      <td>yandex</td>\n",
       "    </tr>\n",
       "    <tr>\n",
       "      <th>2</th>\n",
       "      <td>8c356c42-3ba9-4cb6-80b8-3f868d0192c3</td>\n",
       "      <td>yandex</td>\n",
       "    </tr>\n",
       "    <tr>\n",
       "      <th>3</th>\n",
       "      <td>d9b06b47-0f36-419b-bbb0-3533e582a6cb</td>\n",
       "      <td>other</td>\n",
       "    </tr>\n",
       "    <tr>\n",
       "      <th>4</th>\n",
       "      <td>f32e1e2a-3027-4693-b793-b7b3ff274439</td>\n",
       "      <td>google</td>\n",
       "    </tr>\n",
       "  </tbody>\n",
       "</table>\n",
       "</div>"
      ],
      "text/plain": [
       "                                 userId  source\n",
       "0  020292ab-89bc-4156-9acf-68bc2783f894   other\n",
       "1  cf7eda61-9349-469f-ac27-e5b6f5ec475c  yandex\n",
       "2  8c356c42-3ba9-4cb6-80b8-3f868d0192c3  yandex\n",
       "3  d9b06b47-0f36-419b-bbb0-3533e582a6cb   other\n",
       "4  f32e1e2a-3027-4693-b793-b7b3ff274439  google"
      ]
     },
     "execution_count": 3,
     "metadata": {},
     "output_type": "execute_result"
    }
   ],
   "source": [
    "mobile_sourсes = pd.read_csv('https://code.s3.yandex.net/datasets/mobile_soures.csv')\n",
    "mobile_sourсes.info()\n",
    "mobile_sourсes.head()"
   ]
  },
  {
   "cell_type": "code",
   "execution_count": 4,
   "metadata": {},
   "outputs": [
    {
     "data": {
      "text/plain": [
       "array(['other', 'yandex', 'google'], dtype=object)"
      ]
     },
     "execution_count": 4,
     "metadata": {},
     "output_type": "execute_result"
    }
   ],
   "source": [
    "# посмотрели имеющиеся источники\n",
    "mobile_sourсes['source'].unique()"
   ]
  },
  {
   "cell_type": "code",
   "execution_count": 5,
   "metadata": {},
   "outputs": [
    {
     "data": {
      "text/plain": [
       "4293"
      ]
     },
     "execution_count": 5,
     "metadata": {},
     "output_type": "execute_result"
    }
   ],
   "source": [
    "# посчитали количество пользователей\n",
    "mobile_sourсes['userId'].nunique()"
   ]
  },
  {
   "cell_type": "code",
   "execution_count": 6,
   "metadata": {},
   "outputs": [
    {
     "name": "stdout",
     "output_type": "stream",
     "text": [
      "Количество пропусков  в mobile_sourсes: userId    0\n",
      "source    0\n",
      "dtype: int64\n",
      "Количество дубликатов  в mobile_sourсes: 0\n"
     ]
    }
   ],
   "source": [
    "print('Количество пропусков  в mobile_sourсes:', mobile_sourсes.isna().sum())\n",
    "print('Количество дубликатов  в mobile_sourсes:', mobile_sourсes.duplicated().sum())"
   ]
  },
  {
   "cell_type": "markdown",
   "metadata": {},
   "source": [
    "4293 уникальных пользователя приходили в приложение по ссылкам из 'yandex', 'google' и \"прочие\". Пропусков и явных дубликатов не обнаружено. Количество уникальных пользователей совпадает с количеством строк таблицы. Название столбца 'userId' заменили на 'user_id'. "
   ]
  },
  {
   "cell_type": "code",
   "execution_count": 7,
   "metadata": {},
   "outputs": [
    {
     "data": {
      "text/plain": [
       "Index(['user_id', 'source'], dtype='object')"
      ]
     },
     "execution_count": 7,
     "metadata": {},
     "output_type": "execute_result"
    }
   ],
   "source": [
    "mobile_sourсes = mobile_sourсes.rename(columns = {'userId':'user_id'})\n",
    "mobile_sourсes.columns"
   ]
  },
  {
   "cell_type": "markdown",
   "metadata": {},
   "source": [
    "### Данные о действиях пользователей в приложении"
   ]
  },
  {
   "cell_type": "code",
   "execution_count": 8,
   "metadata": {},
   "outputs": [
    {
     "name": "stdout",
     "output_type": "stream",
     "text": [
      "<class 'pandas.core.frame.DataFrame'>\n",
      "RangeIndex: 74197 entries, 0 to 74196\n",
      "Data columns (total 3 columns):\n",
      " #   Column      Non-Null Count  Dtype \n",
      "---  ------      --------------  ----- \n",
      " 0   event.time  74197 non-null  object\n",
      " 1   event.name  74197 non-null  object\n",
      " 2   user.id     74197 non-null  object\n",
      "dtypes: object(3)\n",
      "memory usage: 1.7+ MB\n"
     ]
    },
    {
     "data": {
      "text/html": [
       "<div>\n",
       "<style scoped>\n",
       "    .dataframe tbody tr th:only-of-type {\n",
       "        vertical-align: middle;\n",
       "    }\n",
       "\n",
       "    .dataframe tbody tr th {\n",
       "        vertical-align: top;\n",
       "    }\n",
       "\n",
       "    .dataframe thead th {\n",
       "        text-align: right;\n",
       "    }\n",
       "</style>\n",
       "<table border=\"1\" class=\"dataframe\">\n",
       "  <thead>\n",
       "    <tr style=\"text-align: right;\">\n",
       "      <th></th>\n",
       "      <th>event.time</th>\n",
       "      <th>event.name</th>\n",
       "      <th>user.id</th>\n",
       "    </tr>\n",
       "  </thead>\n",
       "  <tbody>\n",
       "    <tr>\n",
       "      <th>0</th>\n",
       "      <td>2019-10-07 00:00:00.431357</td>\n",
       "      <td>advert_open</td>\n",
       "      <td>020292ab-89bc-4156-9acf-68bc2783f894</td>\n",
       "    </tr>\n",
       "    <tr>\n",
       "      <th>1</th>\n",
       "      <td>2019-10-07 00:00:01.236320</td>\n",
       "      <td>tips_show</td>\n",
       "      <td>020292ab-89bc-4156-9acf-68bc2783f894</td>\n",
       "    </tr>\n",
       "    <tr>\n",
       "      <th>2</th>\n",
       "      <td>2019-10-07 00:00:02.245341</td>\n",
       "      <td>tips_show</td>\n",
       "      <td>cf7eda61-9349-469f-ac27-e5b6f5ec475c</td>\n",
       "    </tr>\n",
       "    <tr>\n",
       "      <th>3</th>\n",
       "      <td>2019-10-07 00:00:07.039334</td>\n",
       "      <td>tips_show</td>\n",
       "      <td>020292ab-89bc-4156-9acf-68bc2783f894</td>\n",
       "    </tr>\n",
       "    <tr>\n",
       "      <th>4</th>\n",
       "      <td>2019-10-07 00:00:56.319813</td>\n",
       "      <td>advert_open</td>\n",
       "      <td>cf7eda61-9349-469f-ac27-e5b6f5ec475c</td>\n",
       "    </tr>\n",
       "  </tbody>\n",
       "</table>\n",
       "</div>"
      ],
      "text/plain": [
       "                   event.time   event.name  \\\n",
       "0  2019-10-07 00:00:00.431357  advert_open   \n",
       "1  2019-10-07 00:00:01.236320    tips_show   \n",
       "2  2019-10-07 00:00:02.245341    tips_show   \n",
       "3  2019-10-07 00:00:07.039334    tips_show   \n",
       "4  2019-10-07 00:00:56.319813  advert_open   \n",
       "\n",
       "                                user.id  \n",
       "0  020292ab-89bc-4156-9acf-68bc2783f894  \n",
       "1  020292ab-89bc-4156-9acf-68bc2783f894  \n",
       "2  cf7eda61-9349-469f-ac27-e5b6f5ec475c  \n",
       "3  020292ab-89bc-4156-9acf-68bc2783f894  \n",
       "4  cf7eda61-9349-469f-ac27-e5b6f5ec475c  "
      ]
     },
     "execution_count": 8,
     "metadata": {},
     "output_type": "execute_result"
    }
   ],
   "source": [
    "mobile_dataset = pd.read_csv('https://code.s3.yandex.net/datasets/mobile_dataset.csv')\n",
    "mobile_dataset.info()\n",
    "mobile_dataset.head()"
   ]
  },
  {
   "cell_type": "code",
   "execution_count": 9,
   "metadata": {},
   "outputs": [
    {
     "data": {
      "text/plain": [
       "Index(['event_time', 'event_name', 'user_id'], dtype='object')"
      ]
     },
     "execution_count": 9,
     "metadata": {},
     "output_type": "execute_result"
    }
   ],
   "source": [
    "# привели названия колонок в питоновский вид\n",
    "mobile_dataset = mobile_dataset.rename(columns = {'event.time':'event_time', 'event.name':'event_name', 'user.id':'user_id'})\n",
    "mobile_dataset.columns"
   ]
  },
  {
   "cell_type": "code",
   "execution_count": 10,
   "metadata": {},
   "outputs": [
    {
     "data": {
      "text/html": [
       "<div>\n",
       "<style scoped>\n",
       "    .dataframe tbody tr th:only-of-type {\n",
       "        vertical-align: middle;\n",
       "    }\n",
       "\n",
       "    .dataframe tbody tr th {\n",
       "        vertical-align: top;\n",
       "    }\n",
       "\n",
       "    .dataframe thead th {\n",
       "        text-align: right;\n",
       "    }\n",
       "</style>\n",
       "<table border=\"1\" class=\"dataframe\">\n",
       "  <thead>\n",
       "    <tr style=\"text-align: right;\">\n",
       "      <th></th>\n",
       "      <th>event_time</th>\n",
       "      <th>event_name</th>\n",
       "      <th>user_id</th>\n",
       "      <th>day</th>\n",
       "    </tr>\n",
       "  </thead>\n",
       "  <tbody>\n",
       "    <tr>\n",
       "      <th>0</th>\n",
       "      <td>2019-10-07 00:00:00</td>\n",
       "      <td>advert_open</td>\n",
       "      <td>020292ab-89bc-4156-9acf-68bc2783f894</td>\n",
       "      <td>2019-10-07</td>\n",
       "    </tr>\n",
       "    <tr>\n",
       "      <th>1</th>\n",
       "      <td>2019-10-07 00:00:01</td>\n",
       "      <td>tips_show</td>\n",
       "      <td>020292ab-89bc-4156-9acf-68bc2783f894</td>\n",
       "      <td>2019-10-07</td>\n",
       "    </tr>\n",
       "    <tr>\n",
       "      <th>2</th>\n",
       "      <td>2019-10-07 00:00:02</td>\n",
       "      <td>tips_show</td>\n",
       "      <td>cf7eda61-9349-469f-ac27-e5b6f5ec475c</td>\n",
       "      <td>2019-10-07</td>\n",
       "    </tr>\n",
       "    <tr>\n",
       "      <th>3</th>\n",
       "      <td>2019-10-07 00:00:07</td>\n",
       "      <td>tips_show</td>\n",
       "      <td>020292ab-89bc-4156-9acf-68bc2783f894</td>\n",
       "      <td>2019-10-07</td>\n",
       "    </tr>\n",
       "    <tr>\n",
       "      <th>4</th>\n",
       "      <td>2019-10-07 00:00:56</td>\n",
       "      <td>advert_open</td>\n",
       "      <td>cf7eda61-9349-469f-ac27-e5b6f5ec475c</td>\n",
       "      <td>2019-10-07</td>\n",
       "    </tr>\n",
       "  </tbody>\n",
       "</table>\n",
       "</div>"
      ],
      "text/plain": [
       "           event_time   event_name                               user_id  \\\n",
       "0 2019-10-07 00:00:00  advert_open  020292ab-89bc-4156-9acf-68bc2783f894   \n",
       "1 2019-10-07 00:00:01    tips_show  020292ab-89bc-4156-9acf-68bc2783f894   \n",
       "2 2019-10-07 00:00:02    tips_show  cf7eda61-9349-469f-ac27-e5b6f5ec475c   \n",
       "3 2019-10-07 00:00:07    tips_show  020292ab-89bc-4156-9acf-68bc2783f894   \n",
       "4 2019-10-07 00:00:56  advert_open  cf7eda61-9349-469f-ac27-e5b6f5ec475c   \n",
       "\n",
       "          day  \n",
       "0  2019-10-07  \n",
       "1  2019-10-07  \n",
       "2  2019-10-07  \n",
       "3  2019-10-07  \n",
       "4  2019-10-07  "
      ]
     },
     "execution_count": 10,
     "metadata": {},
     "output_type": "execute_result"
    }
   ],
   "source": [
    "# преобразовали тип данных о времени события и уменьшили точность до целых секунд\n",
    "mobile_dataset['event_time'] = mobile_dataset['event_time'].astype('datetime64[s]')\n",
    "# добавили отдельную колонку с датой события\n",
    "mobile_dataset['day'] = mobile_dataset['event_time'].dt.date\n",
    "mobile_dataset.head()"
   ]
  },
  {
   "cell_type": "code",
   "execution_count": 11,
   "metadata": {},
   "outputs": [
    {
     "name": "stdout",
     "output_type": "stream",
     "text": [
      "Количество уникальных пользователей  в mobile_dataset: 4293\n"
     ]
    },
    {
     "data": {
      "text/plain": [
       "array(['advert_open', 'tips_show', 'map', 'contacts_show', 'search_4',\n",
       "       'search_5', 'tips_click', 'photos_show', 'search_1', 'search_2',\n",
       "       'search_3', 'favorites_add', 'contacts_call', 'search_6',\n",
       "       'search_7', 'show_contacts'], dtype=object)"
      ]
     },
     "execution_count": 11,
     "metadata": {},
     "output_type": "execute_result"
    }
   ],
   "source": [
    "print('Количество уникальных пользователей  в mobile_dataset:', mobile_dataset['user_id'].nunique())\n",
    "mobile_dataset['event_name'].unique()"
   ]
  },
  {
   "cell_type": "markdown",
   "metadata": {},
   "source": [
    "Количество уникальных пользователей совпадает с данными о источниках. Описание совершаемых событий:\n",
    "\n",
    " `advert_open` — открытие карточки объявления;\n",
    "   \n",
    "     `photos_show` — просмотр фотографий в объявлении;\n",
    "     \n",
    "     `tips_show`— пользователь увидел рекомендованные объявления;\n",
    "     \n",
    "     `tips_click` — пользователь кликнул по рекомендованному объявлению;\n",
    "     \n",
    "     `contacts_show` и `show_contacts` — пользователь нажал на кнопку \"посмотреть номер телефона\" на карточке объявления;\n",
    "     \n",
    "     `contacts_call` — пользователь позвонил по номеру телефона на карточке объявления;\n",
    "     \n",
    "     `map` — пользователь открыл карту размещенных объявлений;\n",
    "     \n",
    "     `search_1` — `search_7` — разные события, связанные с поиском по сайту;\n",
    "     \n",
    "     `favorites_add` — добавление объявления в избранное."
   ]
  },
  {
   "cell_type": "markdown",
   "metadata": {},
   "source": [
    "Из описания событий можно сделать вывод о наличии неявных дубликатов: одно и то же действие \"посмотреть номер телефона\" может быть обозначено двумя способами `contacts_show` или `show_contacts`, необходимо их объединить. \n",
    "\n",
    "Различные действия в процессе поиска по сайту `search_1` — `search_7` посчитали возможным объединить в одно действие - поиск `search`, при этом руководствовались тем, что нюансы способов поиска на данном этапе заказчика не интересуют.\n",
    "\n",
    "Сведения о факте звонка пользователя по карточке объявления `contacts_call` не являются полными, так как  звонок зачастую может осуществляться не через приложение, данные об этом событии сочли целесообразным ислючить из рассмотрения."
   ]
  },
  {
   "cell_type": "code",
   "execution_count": 12,
   "metadata": {},
   "outputs": [
    {
     "data": {
      "text/plain": [
       "array(['advert_open', 'tips_show', 'map', 'contacts_show', 'search',\n",
       "       'tips_click', 'photos_show', 'favorites_add'], dtype=object)"
      ]
     },
     "execution_count": 12,
     "metadata": {},
     "output_type": "execute_result"
    }
   ],
   "source": [
    "# убрали неявные дубликаты: заменили `show_contacts` на `contacts_show`  \n",
    "mobile_dataset['event_name'] = mobile_dataset['event_name'].replace('show_contacts', 'contacts_show')\n",
    "#объединили все 7 событий поиска по приложению в одно событие поиска 'search'\n",
    "duplicates = ['search_1', 'search_2', 'search_3', 'search_4', 'search_5', 'search_6', 'search_7',] # список неправильных имён\n",
    "name = 'search' # правильное имя\n",
    "mobile_dataset['event_name'] = mobile_dataset['event_name'].replace(duplicates, name) # замена всех значений из duplicates на name\n",
    "#избавились от событий `contacts_call`, так как сведения о них не могут быть полными и конверсия в звонки не интерисует заказчика\n",
    "mobile_dataset = mobile_dataset.query('event_name != \"contacts_call\"')\n",
    "mobile_dataset['event_name'].unique()"
   ]
  },
  {
   "cell_type": "code",
   "execution_count": 13,
   "metadata": {},
   "outputs": [
    {
     "name": "stdout",
     "output_type": "stream",
     "text": [
      "Количество пропусков  в mobile_dataset: event_time    0\n",
      "event_name    0\n",
      "user_id       0\n",
      "day           0\n",
      "dtype: int64\n",
      "Количество дубликатов  в mobile_dataset: 1217\n"
     ]
    }
   ],
   "source": [
    "print('Количество пропусков  в mobile_dataset:', mobile_dataset.isna().sum())\n",
    "print('Количество дубликатов  в mobile_dataset:', mobile_dataset.duplicated().sum())"
   ]
  },
  {
   "cell_type": "code",
   "execution_count": 14,
   "metadata": {},
   "outputs": [
    {
     "name": "stdout",
     "output_type": "stream",
     "text": [
      "Доля дубликатов в данных о событиях 0.01652275442598023\n"
     ]
    }
   ],
   "source": [
    "# Явные дубликаты образовались в результате округления времени и работы с названиями действий \n",
    "print('Доля дубликатов в данных о событиях', mobile_dataset.duplicated().sum()/mobile_dataset.shape[0])"
   ]
  },
  {
   "cell_type": "code",
   "execution_count": 15,
   "metadata": {},
   "outputs": [
    {
     "name": "stdout",
     "output_type": "stream",
     "text": [
      "Количество дубликатов  в mobile_dataset: 0\n"
     ]
    }
   ],
   "source": [
    "#Удалили образовавшиеся дубликаты, их доля меньше  2% \n",
    "mobile_dataset = mobile_dataset.drop_duplicates().reset_index(drop=True)\n",
    "print('Количество дубликатов  в mobile_dataset:', mobile_dataset.duplicated().sum())"
   ]
  },
  {
   "cell_type": "code",
   "execution_count": 16,
   "metadata": {},
   "outputs": [
    {
     "name": "stdout",
     "output_type": "stream",
     "text": [
      "Количество уникальных пользователей  в mobile_dataset: 4293\n"
     ]
    }
   ],
   "source": [
    "# проверили, что в результате удаления дубликатов не потеряли уникальных пользователей\n",
    "print('Количество уникальных пользователей  в mobile_dataset:', mobile_dataset['user_id'].nunique())"
   ]
  },
  {
   "cell_type": "code",
   "execution_count": 17,
   "metadata": {},
   "outputs": [
    {
     "name": "stdout",
     "output_type": "stream",
     "text": [
      "<class 'pandas.core.frame.DataFrame'>\n",
      "RangeIndex: 72439 entries, 0 to 72438\n",
      "Data columns (total 4 columns):\n",
      " #   Column      Non-Null Count  Dtype         \n",
      "---  ------      --------------  -----         \n",
      " 0   event_time  72439 non-null  datetime64[ns]\n",
      " 1   event_name  72439 non-null  object        \n",
      " 2   user_id     72439 non-null  object        \n",
      " 3   day         72439 non-null  object        \n",
      "dtypes: datetime64[ns](1), object(3)\n",
      "memory usage: 2.2+ MB\n"
     ]
    }
   ],
   "source": [
    "mobile_dataset.info()"
   ]
  },
  {
   "cell_type": "code",
   "execution_count": 18,
   "metadata": {},
   "outputs": [
    {
     "data": {
      "text/html": [
       "<div>\n",
       "<style scoped>\n",
       "    .dataframe tbody tr th:only-of-type {\n",
       "        vertical-align: middle;\n",
       "    }\n",
       "\n",
       "    .dataframe tbody tr th {\n",
       "        vertical-align: top;\n",
       "    }\n",
       "\n",
       "    .dataframe thead th {\n",
       "        text-align: right;\n",
       "    }\n",
       "</style>\n",
       "<table border=\"1\" class=\"dataframe\">\n",
       "  <thead>\n",
       "    <tr style=\"text-align: right;\">\n",
       "      <th></th>\n",
       "      <th>event_time</th>\n",
       "      <th>event_name</th>\n",
       "      <th>user_id</th>\n",
       "      <th>day</th>\n",
       "      <th>source</th>\n",
       "    </tr>\n",
       "  </thead>\n",
       "  <tbody>\n",
       "    <tr>\n",
       "      <th>0</th>\n",
       "      <td>2019-10-07 00:00:00</td>\n",
       "      <td>advert_open</td>\n",
       "      <td>020292ab-89bc-4156-9acf-68bc2783f894</td>\n",
       "      <td>2019-10-07</td>\n",
       "      <td>other</td>\n",
       "    </tr>\n",
       "    <tr>\n",
       "      <th>1</th>\n",
       "      <td>2019-10-07 00:00:01</td>\n",
       "      <td>tips_show</td>\n",
       "      <td>020292ab-89bc-4156-9acf-68bc2783f894</td>\n",
       "      <td>2019-10-07</td>\n",
       "      <td>other</td>\n",
       "    </tr>\n",
       "    <tr>\n",
       "      <th>2</th>\n",
       "      <td>2019-10-07 00:00:07</td>\n",
       "      <td>tips_show</td>\n",
       "      <td>020292ab-89bc-4156-9acf-68bc2783f894</td>\n",
       "      <td>2019-10-07</td>\n",
       "      <td>other</td>\n",
       "    </tr>\n",
       "    <tr>\n",
       "      <th>3</th>\n",
       "      <td>2019-10-07 00:01:27</td>\n",
       "      <td>advert_open</td>\n",
       "      <td>020292ab-89bc-4156-9acf-68bc2783f894</td>\n",
       "      <td>2019-10-07</td>\n",
       "      <td>other</td>\n",
       "    </tr>\n",
       "    <tr>\n",
       "      <th>4</th>\n",
       "      <td>2019-10-07 00:01:34</td>\n",
       "      <td>tips_show</td>\n",
       "      <td>020292ab-89bc-4156-9acf-68bc2783f894</td>\n",
       "      <td>2019-10-07</td>\n",
       "      <td>other</td>\n",
       "    </tr>\n",
       "  </tbody>\n",
       "</table>\n",
       "</div>"
      ],
      "text/plain": [
       "           event_time   event_name                               user_id  \\\n",
       "0 2019-10-07 00:00:00  advert_open  020292ab-89bc-4156-9acf-68bc2783f894   \n",
       "1 2019-10-07 00:00:01    tips_show  020292ab-89bc-4156-9acf-68bc2783f894   \n",
       "2 2019-10-07 00:00:07    tips_show  020292ab-89bc-4156-9acf-68bc2783f894   \n",
       "3 2019-10-07 00:01:27  advert_open  020292ab-89bc-4156-9acf-68bc2783f894   \n",
       "4 2019-10-07 00:01:34    tips_show  020292ab-89bc-4156-9acf-68bc2783f894   \n",
       "\n",
       "          day source  \n",
       "0  2019-10-07  other  \n",
       "1  2019-10-07  other  \n",
       "2  2019-10-07  other  \n",
       "3  2019-10-07  other  \n",
       "4  2019-10-07  other  "
      ]
     },
     "execution_count": 18,
     "metadata": {},
     "output_type": "execute_result"
    }
   ],
   "source": [
    "# объединили обе таблицы\n",
    "mobile = mobile_dataset.merge(mobile_sourсes)\n",
    "mobile.head()"
   ]
  },
  {
   "cell_type": "markdown",
   "metadata": {},
   "source": [
    "**Вывод**\n",
    "\n",
    "Подготовили для дальнейшего исследования данные о поведении 4239 пользователей (покупателей) и источниках их привлечения в приложение \"Ненужные вещи\". После подготовки данных имеем  72439 событий. Из наименований событий следует, что это данные о поведении потенциальных покупателей.\n",
    "\n",
    "Подготовка данных включала в себя следующие операции:\n",
    "\n",
    "- изменили названия колонок;\n",
    "- проверили пропуски, пропущенные значения в таблицах не обнаружили;\n",
    "- дубликатов в данных о источниках скачивания приложения не обнаружили; \n",
    "- преобразовали тип данных о времени события из objec в datetime64[ns] и округлили время до целых секунд;\n",
    "- создали дополнительную колонку day, содержащую сведения только о дате события;\n",
    "- унифицировали названия событий \"посмотреть номер телефона\";\n",
    "- унифицировали все события о поиске по сайту 'search' вместо набора `search_1` — `search_7`;\n",
    "- исключили строки с событиями `contacts_call` — \"пользователь позвонил по номеру телефона на карточке объявления\", как неполные;\n",
    "- удалили 1217 строк дубликатов в данных о событиях, которые сформировались в результате округления времени события и унификации названий событий."
   ]
  },
  {
   "cell_type": "markdown",
   "metadata": {},
   "source": [
    "## Исследовательский анализ данных"
   ]
  },
  {
   "cell_type": "markdown",
   "metadata": {},
   "source": [
    "Оценили длительность периода сбора данных, нашли минимальное и максимальное время."
   ]
  },
  {
   "cell_type": "code",
   "execution_count": 19,
   "metadata": {},
   "outputs": [
    {
     "name": "stdout",
     "output_type": "stream",
     "text": [
      "2019-10-07 00:00:00 2019-11-03 23:58:12\n"
     ]
    }
   ],
   "source": [
    "print(mobile['event_time'].min(), mobile['event_time'].max())\n"
   ]
  },
  {
   "cell_type": "code",
   "execution_count": 20,
   "metadata": {},
   "outputs": [
    {
     "data": {
      "text/plain": [
       "28"
      ]
     },
     "execution_count": 20,
     "metadata": {},
     "output_type": "execute_result"
    }
   ],
   "source": [
    "# каждый ли день были события\n",
    "mobile['day'].nunique()"
   ]
  },
  {
   "cell_type": "code",
   "execution_count": 21,
   "metadata": {},
   "outputs": [
    {
     "data": {
      "image/png": "[encoded data removed]",
      "text/plain": [
       "<Figure size 1080x720 with 1 Axes>"
      ]
     },
     "metadata": {
      "needs_background": "light"
     },
     "output_type": "display_data"
    }
   ],
   "source": [
    "# построили гистограмму распределения событий по времени\n",
    "mobile['event_time'].hist(bins=100, figsize=(15,10))\n",
    "plt.title('Гистограмма распределения событий по времени наблюдений')\n",
    "plt.xlabel('время')\n",
    "plt.ylabel('частота событий')\n",
    "plt.show();"
   ]
  },
  {
   "cell_type": "code",
   "execution_count": 22,
   "metadata": {},
   "outputs": [
    {
     "name": "stdout",
     "output_type": "stream",
     "text": [
      "среднее количество событий на одного пользователя 16.873747961798276\n",
      "Среднее количество событий на одного пользователя в день 0.6026338557785099\n"
     ]
    }
   ],
   "source": [
    "print('среднее количество событий на одного пользователя', mobile.shape[0]/mobile['user_id'].nunique())\n",
    "\n",
    "print('Среднее количество событий на одного пользователя в день', mobile.shape[0]/mobile['user_id'].nunique()/mobile['day'].nunique())"
   ]
  },
  {
   "cell_type": "markdown",
   "metadata": {},
   "source": [
    "События достаточно равномерно распределены в течение 28 суток, с 00 часов 7 октября до полуночи 3 ноября 2019 года. Активность пользователей демонстрирует понятные суточные колебания, но даже ночью некоторые ищут ненужные вещи.  В среднем один пользователь за все время совершил примерно 17 действий, то есть меньше одного действия в день. Не каждый день заходят выбрать ненужные вещи."
   ]
  },
  {
   "cell_type": "code",
   "execution_count": 23,
   "metadata": {},
   "outputs": [
    {
     "data": {
      "text/html": [
       "<div>\n",
       "<style scoped>\n",
       "    .dataframe tbody tr th:only-of-type {\n",
       "        vertical-align: middle;\n",
       "    }\n",
       "\n",
       "    .dataframe tbody tr th {\n",
       "        vertical-align: top;\n",
       "    }\n",
       "\n",
       "    .dataframe thead th {\n",
       "        text-align: right;\n",
       "    }\n",
       "</style>\n",
       "<table border=\"1\" class=\"dataframe\">\n",
       "  <thead>\n",
       "    <tr style=\"text-align: right;\">\n",
       "      <th></th>\n",
       "      <th>user_id</th>\n",
       "      <th>event_name</th>\n",
       "    </tr>\n",
       "  </thead>\n",
       "  <tbody>\n",
       "    <tr>\n",
       "      <th>0</th>\n",
       "      <td>a328c7d1-ff5b-41df-822a-bccb105fb408</td>\n",
       "      <td>1</td>\n",
       "    </tr>\n",
       "    <tr>\n",
       "      <th>1</th>\n",
       "      <td>df7e87b9-5aed-42f0-bcad-e4dabb4c902d</td>\n",
       "      <td>1</td>\n",
       "    </tr>\n",
       "    <tr>\n",
       "      <th>2</th>\n",
       "      <td>11c4e5be-6d55-4c4b-b207-3fa7a5e5b9bf</td>\n",
       "      <td>1</td>\n",
       "    </tr>\n",
       "    <tr>\n",
       "      <th>3</th>\n",
       "      <td>3a13ffa6-7231-4688-ad96-9c8334e9ed0e</td>\n",
       "      <td>1</td>\n",
       "    </tr>\n",
       "    <tr>\n",
       "      <th>4</th>\n",
       "      <td>8bc67b38-7e6d-4084-b354-58b30d8f1e6d</td>\n",
       "      <td>1</td>\n",
       "    </tr>\n",
       "    <tr>\n",
       "      <th>...</th>\n",
       "      <td>...</td>\n",
       "      <td>...</td>\n",
       "    </tr>\n",
       "    <tr>\n",
       "      <th>4288</th>\n",
       "      <td>be1449f6-ca45-4f94-93a7-ea4b079b8f0f</td>\n",
       "      <td>396</td>\n",
       "    </tr>\n",
       "    <tr>\n",
       "      <th>4289</th>\n",
       "      <td>21230dd9-2f7f-4b77-a436-43d4d10388e0</td>\n",
       "      <td>398</td>\n",
       "    </tr>\n",
       "    <tr>\n",
       "      <th>4290</th>\n",
       "      <td>9ce63488-758a-481a-bcb5-a02b467e1d84</td>\n",
       "      <td>406</td>\n",
       "    </tr>\n",
       "    <tr>\n",
       "      <th>4291</th>\n",
       "      <td>e13f9f32-7ae3-4204-8d60-898db040bcfc</td>\n",
       "      <td>463</td>\n",
       "    </tr>\n",
       "    <tr>\n",
       "      <th>4292</th>\n",
       "      <td>cb36854f-570a-41f4-baa8-36680b396370</td>\n",
       "      <td>470</td>\n",
       "    </tr>\n",
       "  </tbody>\n",
       "</table>\n",
       "<p>4293 rows × 2 columns</p>\n",
       "</div>"
      ],
      "text/plain": [
       "                                   user_id  event_name\n",
       "0     a328c7d1-ff5b-41df-822a-bccb105fb408           1\n",
       "1     df7e87b9-5aed-42f0-bcad-e4dabb4c902d           1\n",
       "2     11c4e5be-6d55-4c4b-b207-3fa7a5e5b9bf           1\n",
       "3     3a13ffa6-7231-4688-ad96-9c8334e9ed0e           1\n",
       "4     8bc67b38-7e6d-4084-b354-58b30d8f1e6d           1\n",
       "...                                    ...         ...\n",
       "4288  be1449f6-ca45-4f94-93a7-ea4b079b8f0f         396\n",
       "4289  21230dd9-2f7f-4b77-a436-43d4d10388e0         398\n",
       "4290  9ce63488-758a-481a-bcb5-a02b467e1d84         406\n",
       "4291  e13f9f32-7ae3-4204-8d60-898db040bcfc         463\n",
       "4292  cb36854f-570a-41f4-baa8-36680b396370         470\n",
       "\n",
       "[4293 rows x 2 columns]"
      ]
     },
     "execution_count": 23,
     "metadata": {},
     "output_type": "execute_result"
    }
   ],
   "source": [
    "# посчитали количество событий, совершенных каждым пользователем\n",
    "ec = mobile.groupby('user_id')['event_name'].count().sort_values().reset_index()\n",
    "ec"
   ]
  },
  {
   "cell_type": "markdown",
   "metadata": {},
   "source": [
    "Обнаружили пользователей, совершивших за весь период только одно событие, скорее всего случайно ткнули пальцем в экран и попали на приложение."
   ]
  },
  {
   "cell_type": "code",
   "execution_count": 24,
   "metadata": {},
   "outputs": [
    {
     "data": {
      "text/plain": [
       "event_name\n",
       "12    144\n",
       "11    150\n",
       "3     168\n",
       "10    178\n",
       "9     199\n",
       "8     245\n",
       "7     301\n",
       "6     358\n",
       "4     392\n",
       "5     479\n",
       "Name: user_id, dtype: int64"
      ]
     },
     "execution_count": 24,
     "metadata": {},
     "output_type": "execute_result"
    }
   ],
   "source": [
    "# посмотрели распределение пользователей по количеству совершенных ими событий \n",
    "ec.groupby('event_name')['user_id'].count().sort_values().tail(10)"
   ]
  },
  {
   "cell_type": "markdown",
   "metadata": {},
   "source": [
    "Большинство пользователей совершили от 5 до 12 ссобытий в приложении за 28 дней"
   ]
  },
  {
   "cell_type": "code",
   "execution_count": 25,
   "metadata": {},
   "outputs": [
    {
     "data": {
      "text/html": [
       "<div>\n",
       "<style scoped>\n",
       "    .dataframe tbody tr th:only-of-type {\n",
       "        vertical-align: middle;\n",
       "    }\n",
       "\n",
       "    .dataframe tbody tr th {\n",
       "        vertical-align: top;\n",
       "    }\n",
       "\n",
       "    .dataframe thead th {\n",
       "        text-align: right;\n",
       "    }\n",
       "</style>\n",
       "<table border=\"1\" class=\"dataframe\">\n",
       "  <thead>\n",
       "    <tr style=\"text-align: right;\">\n",
       "      <th></th>\n",
       "      <th>user_id</th>\n",
       "    </tr>\n",
       "    <tr>\n",
       "      <th>event_name</th>\n",
       "      <th></th>\n",
       "    </tr>\n",
       "  </thead>\n",
       "  <tbody>\n",
       "    <tr>\n",
       "      <th>tips_show</th>\n",
       "      <td>2801</td>\n",
       "    </tr>\n",
       "    <tr>\n",
       "      <th>search</th>\n",
       "      <td>1666</td>\n",
       "    </tr>\n",
       "    <tr>\n",
       "      <th>map</th>\n",
       "      <td>1456</td>\n",
       "    </tr>\n",
       "    <tr>\n",
       "      <th>photos_show</th>\n",
       "      <td>1095</td>\n",
       "    </tr>\n",
       "    <tr>\n",
       "      <th>contacts_show</th>\n",
       "      <td>981</td>\n",
       "    </tr>\n",
       "    <tr>\n",
       "      <th>advert_open</th>\n",
       "      <td>751</td>\n",
       "    </tr>\n",
       "    <tr>\n",
       "      <th>favorites_add</th>\n",
       "      <td>351</td>\n",
       "    </tr>\n",
       "    <tr>\n",
       "      <th>tips_click</th>\n",
       "      <td>322</td>\n",
       "    </tr>\n",
       "  </tbody>\n",
       "</table>\n",
       "</div>"
      ],
      "text/plain": [
       "               user_id\n",
       "event_name            \n",
       "tips_show         2801\n",
       "search            1666\n",
       "map               1456\n",
       "photos_show       1095\n",
       "contacts_show      981\n",
       "advert_open        751\n",
       "favorites_add      351\n",
       "tips_click         322"
      ]
     },
     "execution_count": 25,
     "metadata": {},
     "output_type": "execute_result"
    }
   ],
   "source": [
    "# количество пользователей, совершавших различные действия\n",
    "users_event = mobile.groupby('event_name').agg({'user_id': 'nunique'}).sort_values(by='user_id', ascending=False)\n",
    "users_event "
   ]
  },
  {
   "cell_type": "markdown",
   "metadata": {},
   "source": [
    "Из таблицы видно, что всем агрессивно показывают рекомендованные оъявления, но мало кто их открывает, пользователи предпочитают искать в приложении именно то, за чем пришли. "
   ]
  },
  {
   "cell_type": "markdown",
   "metadata": {},
   "source": [
    "### Определение длительности сессии."
   ]
  },
  {
   "cell_type": "markdown",
   "metadata": {},
   "source": [
    "Одной сессией считаем все события, совершенные пользователем в течение суток. Чтобы определить продолжительность сессии, определили время первого и последнего события за день и посчитали разницу между ними в секундах, сгруппировав сведения по пользователям и дням. Включили в сводную таблицу сведения о первом и последнем событии, а также количестве событий за день."
   ]
  },
  {
   "cell_type": "code",
   "execution_count": 26,
   "metadata": {},
   "outputs": [
    {
     "name": "stdout",
     "output_type": "stream",
     "text": [
      "<class 'pandas.core.frame.DataFrame'>\n",
      "RangeIndex: 7817 entries, 0 to 7816\n",
      "Data columns (total 8 columns):\n",
      " #   Column       Non-Null Count  Dtype         \n",
      "---  ------       --------------  -----         \n",
      " 0   user_id      7817 non-null   object        \n",
      " 1   session      7817 non-null   object        \n",
      " 2   start        7817 non-null   datetime64[ns]\n",
      " 3   finish       7817 non-null   datetime64[ns]\n",
      " 4   first_event  7817 non-null   object        \n",
      " 5   last_event   7817 non-null   object        \n",
      " 6   count_event  7817 non-null   int64         \n",
      " 7   interval     7817 non-null   float64       \n",
      "dtypes: datetime64[ns](2), float64(1), int64(1), object(4)\n",
      "memory usage: 488.7+ KB\n"
     ]
    },
    {
     "data": {
      "text/html": [
       "<div>\n",
       "<style scoped>\n",
       "    .dataframe tbody tr th:only-of-type {\n",
       "        vertical-align: middle;\n",
       "    }\n",
       "\n",
       "    .dataframe tbody tr th {\n",
       "        vertical-align: top;\n",
       "    }\n",
       "\n",
       "    .dataframe thead th {\n",
       "        text-align: right;\n",
       "    }\n",
       "</style>\n",
       "<table border=\"1\" class=\"dataframe\">\n",
       "  <thead>\n",
       "    <tr style=\"text-align: right;\">\n",
       "      <th></th>\n",
       "      <th>user_id</th>\n",
       "      <th>session</th>\n",
       "      <th>start</th>\n",
       "      <th>finish</th>\n",
       "      <th>first_event</th>\n",
       "      <th>last_event</th>\n",
       "      <th>count_event</th>\n",
       "      <th>interval</th>\n",
       "    </tr>\n",
       "  </thead>\n",
       "  <tbody>\n",
       "    <tr>\n",
       "      <th>0</th>\n",
       "      <td>0001b1d5-b74a-4cbf-aeb0-7df5947bf349</td>\n",
       "      <td>2019-10-07</td>\n",
       "      <td>2019-10-07 13:39:45</td>\n",
       "      <td>2019-10-07 13:49:41</td>\n",
       "      <td>tips_show</td>\n",
       "      <td>tips_show</td>\n",
       "      <td>9</td>\n",
       "      <td>596.0</td>\n",
       "    </tr>\n",
       "    <tr>\n",
       "      <th>1</th>\n",
       "      <td>0001b1d5-b74a-4cbf-aeb0-7df5947bf349</td>\n",
       "      <td>2019-10-09</td>\n",
       "      <td>2019-10-09 18:33:55</td>\n",
       "      <td>2019-10-09 18:42:22</td>\n",
       "      <td>map</td>\n",
       "      <td>tips_show</td>\n",
       "      <td>4</td>\n",
       "      <td>507.0</td>\n",
       "    </tr>\n",
       "    <tr>\n",
       "      <th>2</th>\n",
       "      <td>0001b1d5-b74a-4cbf-aeb0-7df5947bf349</td>\n",
       "      <td>2019-10-21</td>\n",
       "      <td>2019-10-21 19:52:30</td>\n",
       "      <td>2019-10-21 20:07:30</td>\n",
       "      <td>tips_show</td>\n",
       "      <td>tips_show</td>\n",
       "      <td>14</td>\n",
       "      <td>900.0</td>\n",
       "    </tr>\n",
       "    <tr>\n",
       "      <th>3</th>\n",
       "      <td>0001b1d5-b74a-4cbf-aeb0-7df5947bf349</td>\n",
       "      <td>2019-10-22</td>\n",
       "      <td>2019-10-22 11:18:14</td>\n",
       "      <td>2019-10-22 11:30:52</td>\n",
       "      <td>map</td>\n",
       "      <td>tips_show</td>\n",
       "      <td>8</td>\n",
       "      <td>758.0</td>\n",
       "    </tr>\n",
       "    <tr>\n",
       "      <th>4</th>\n",
       "      <td>00157779-810c-4498-9e05-a1e9e3cedf93</td>\n",
       "      <td>2019-10-19</td>\n",
       "      <td>2019-10-19 21:34:33</td>\n",
       "      <td>2019-10-19 21:59:54</td>\n",
       "      <td>search</td>\n",
       "      <td>photos_show</td>\n",
       "      <td>9</td>\n",
       "      <td>1521.0</td>\n",
       "    </tr>\n",
       "    <tr>\n",
       "      <th>5</th>\n",
       "      <td>00157779-810c-4498-9e05-a1e9e3cedf93</td>\n",
       "      <td>2019-10-20</td>\n",
       "      <td>2019-10-20 18:49:24</td>\n",
       "      <td>2019-10-20 20:05:36</td>\n",
       "      <td>search</td>\n",
       "      <td>photos_show</td>\n",
       "      <td>15</td>\n",
       "      <td>4572.0</td>\n",
       "    </tr>\n",
       "    <tr>\n",
       "      <th>6</th>\n",
       "      <td>00157779-810c-4498-9e05-a1e9e3cedf93</td>\n",
       "      <td>2019-10-24</td>\n",
       "      <td>2019-10-24 10:50:40</td>\n",
       "      <td>2019-10-24 10:57:12</td>\n",
       "      <td>photos_show</td>\n",
       "      <td>photos_show</td>\n",
       "      <td>9</td>\n",
       "      <td>392.0</td>\n",
       "    </tr>\n",
       "    <tr>\n",
       "      <th>7</th>\n",
       "      <td>00157779-810c-4498-9e05-a1e9e3cedf93</td>\n",
       "      <td>2019-10-29</td>\n",
       "      <td>2019-10-29 21:18:24</td>\n",
       "      <td>2019-10-29 22:10:25</td>\n",
       "      <td>search</td>\n",
       "      <td>photos_show</td>\n",
       "      <td>18</td>\n",
       "      <td>3121.0</td>\n",
       "    </tr>\n",
       "    <tr>\n",
       "      <th>8</th>\n",
       "      <td>00157779-810c-4498-9e05-a1e9e3cedf93</td>\n",
       "      <td>2019-10-30</td>\n",
       "      <td>2019-10-30 07:50:45</td>\n",
       "      <td>2019-10-30 08:26:53</td>\n",
       "      <td>search</td>\n",
       "      <td>contacts_show</td>\n",
       "      <td>14</td>\n",
       "      <td>2168.0</td>\n",
       "    </tr>\n",
       "    <tr>\n",
       "      <th>9</th>\n",
       "      <td>00157779-810c-4498-9e05-a1e9e3cedf93</td>\n",
       "      <td>2019-11-03</td>\n",
       "      <td>2019-11-03 17:12:09</td>\n",
       "      <td>2019-11-03 17:12:09</td>\n",
       "      <td>contacts_show</td>\n",
       "      <td>contacts_show</td>\n",
       "      <td>1</td>\n",
       "      <td>0.0</td>\n",
       "    </tr>\n",
       "  </tbody>\n",
       "</table>\n",
       "</div>"
      ],
      "text/plain": [
       "                                user_id     session               start  \\\n",
       "0  0001b1d5-b74a-4cbf-aeb0-7df5947bf349  2019-10-07 2019-10-07 13:39:45   \n",
       "1  0001b1d5-b74a-4cbf-aeb0-7df5947bf349  2019-10-09 2019-10-09 18:33:55   \n",
       "2  0001b1d5-b74a-4cbf-aeb0-7df5947bf349  2019-10-21 2019-10-21 19:52:30   \n",
       "3  0001b1d5-b74a-4cbf-aeb0-7df5947bf349  2019-10-22 2019-10-22 11:18:14   \n",
       "4  00157779-810c-4498-9e05-a1e9e3cedf93  2019-10-19 2019-10-19 21:34:33   \n",
       "5  00157779-810c-4498-9e05-a1e9e3cedf93  2019-10-20 2019-10-20 18:49:24   \n",
       "6  00157779-810c-4498-9e05-a1e9e3cedf93  2019-10-24 2019-10-24 10:50:40   \n",
       "7  00157779-810c-4498-9e05-a1e9e3cedf93  2019-10-29 2019-10-29 21:18:24   \n",
       "8  00157779-810c-4498-9e05-a1e9e3cedf93  2019-10-30 2019-10-30 07:50:45   \n",
       "9  00157779-810c-4498-9e05-a1e9e3cedf93  2019-11-03 2019-11-03 17:12:09   \n",
       "\n",
       "               finish    first_event     last_event  count_event  interval  \n",
       "0 2019-10-07 13:49:41      tips_show      tips_show            9     596.0  \n",
       "1 2019-10-09 18:42:22            map      tips_show            4     507.0  \n",
       "2 2019-10-21 20:07:30      tips_show      tips_show           14     900.0  \n",
       "3 2019-10-22 11:30:52            map      tips_show            8     758.0  \n",
       "4 2019-10-19 21:59:54         search    photos_show            9    1521.0  \n",
       "5 2019-10-20 20:05:36         search    photos_show           15    4572.0  \n",
       "6 2019-10-24 10:57:12    photos_show    photos_show            9     392.0  \n",
       "7 2019-10-29 22:10:25         search    photos_show           18    3121.0  \n",
       "8 2019-10-30 08:26:53         search  contacts_show           14    2168.0  \n",
       "9 2019-11-03 17:12:09  contacts_show  contacts_show            1       0.0  "
      ]
     },
     "execution_count": 26,
     "metadata": {},
     "output_type": "execute_result"
    }
   ],
   "source": [
    "mobile_df = mobile.groupby(['user_id','day']).agg({'event_time':['min', 'max'], 'event_name':['first', 'last', 'count']}).reset_index()\n",
    "mobile_df.columns = ['user_id','session', 'start', 'finish', 'first_event', 'last_event', 'count_event']\n",
    "mobile_df['interval'] = (mobile_df.finish - mobile_df.start).dt.total_seconds()\n",
    "mobile_df.info()\n",
    "mobile_df.head(10)"
   ]
  },
  {
   "cell_type": "markdown",
   "metadata": {},
   "source": [
    "Обнаружили сессии длительностью меньше секунды, в которых совершено одно действие. Удалили эти случайные сессии, так как они не характеризуют поведение пользователей."
   ]
  },
  {
   "cell_type": "code",
   "execution_count": 27,
   "metadata": {},
   "outputs": [
    {
     "data": {
      "text/html": [
       "<div>\n",
       "<style scoped>\n",
       "    .dataframe tbody tr th:only-of-type {\n",
       "        vertical-align: middle;\n",
       "    }\n",
       "\n",
       "    .dataframe tbody tr th {\n",
       "        vertical-align: top;\n",
       "    }\n",
       "\n",
       "    .dataframe thead th {\n",
       "        text-align: right;\n",
       "    }\n",
       "</style>\n",
       "<table border=\"1\" class=\"dataframe\">\n",
       "  <thead>\n",
       "    <tr style=\"text-align: right;\">\n",
       "      <th></th>\n",
       "      <th>user_id</th>\n",
       "      <th>session</th>\n",
       "      <th>start</th>\n",
       "      <th>finish</th>\n",
       "      <th>first_event</th>\n",
       "      <th>last_event</th>\n",
       "      <th>count_event</th>\n",
       "      <th>interval</th>\n",
       "    </tr>\n",
       "  </thead>\n",
       "  <tbody>\n",
       "    <tr>\n",
       "      <th>0</th>\n",
       "      <td>0001b1d5-b74a-4cbf-aeb0-7df5947bf349</td>\n",
       "      <td>2019-10-07</td>\n",
       "      <td>2019-10-07 13:39:45</td>\n",
       "      <td>2019-10-07 13:49:41</td>\n",
       "      <td>tips_show</td>\n",
       "      <td>tips_show</td>\n",
       "      <td>9</td>\n",
       "      <td>596.0</td>\n",
       "    </tr>\n",
       "    <tr>\n",
       "      <th>1</th>\n",
       "      <td>0001b1d5-b74a-4cbf-aeb0-7df5947bf349</td>\n",
       "      <td>2019-10-09</td>\n",
       "      <td>2019-10-09 18:33:55</td>\n",
       "      <td>2019-10-09 18:42:22</td>\n",
       "      <td>map</td>\n",
       "      <td>tips_show</td>\n",
       "      <td>4</td>\n",
       "      <td>507.0</td>\n",
       "    </tr>\n",
       "    <tr>\n",
       "      <th>2</th>\n",
       "      <td>0001b1d5-b74a-4cbf-aeb0-7df5947bf349</td>\n",
       "      <td>2019-10-21</td>\n",
       "      <td>2019-10-21 19:52:30</td>\n",
       "      <td>2019-10-21 20:07:30</td>\n",
       "      <td>tips_show</td>\n",
       "      <td>tips_show</td>\n",
       "      <td>14</td>\n",
       "      <td>900.0</td>\n",
       "    </tr>\n",
       "    <tr>\n",
       "      <th>3</th>\n",
       "      <td>0001b1d5-b74a-4cbf-aeb0-7df5947bf349</td>\n",
       "      <td>2019-10-22</td>\n",
       "      <td>2019-10-22 11:18:14</td>\n",
       "      <td>2019-10-22 11:30:52</td>\n",
       "      <td>map</td>\n",
       "      <td>tips_show</td>\n",
       "      <td>8</td>\n",
       "      <td>758.0</td>\n",
       "    </tr>\n",
       "    <tr>\n",
       "      <th>4</th>\n",
       "      <td>00157779-810c-4498-9e05-a1e9e3cedf93</td>\n",
       "      <td>2019-10-19</td>\n",
       "      <td>2019-10-19 21:34:33</td>\n",
       "      <td>2019-10-19 21:59:54</td>\n",
       "      <td>search</td>\n",
       "      <td>photos_show</td>\n",
       "      <td>9</td>\n",
       "      <td>1521.0</td>\n",
       "    </tr>\n",
       "    <tr>\n",
       "      <th>...</th>\n",
       "      <td>...</td>\n",
       "      <td>...</td>\n",
       "      <td>...</td>\n",
       "      <td>...</td>\n",
       "      <td>...</td>\n",
       "      <td>...</td>\n",
       "      <td>...</td>\n",
       "      <td>...</td>\n",
       "    </tr>\n",
       "    <tr>\n",
       "      <th>7812</th>\n",
       "      <td>fffb9e79-b927-4dbb-9b48-7fd09b23a62b</td>\n",
       "      <td>2019-10-29</td>\n",
       "      <td>2019-10-29 13:58:47</td>\n",
       "      <td>2019-10-29 16:13:00</td>\n",
       "      <td>tips_show</td>\n",
       "      <td>contacts_show</td>\n",
       "      <td>20</td>\n",
       "      <td>8053.0</td>\n",
       "    </tr>\n",
       "    <tr>\n",
       "      <th>7813</th>\n",
       "      <td>fffb9e79-b927-4dbb-9b48-7fd09b23a62b</td>\n",
       "      <td>2019-10-30</td>\n",
       "      <td>2019-10-30 00:15:43</td>\n",
       "      <td>2019-10-30 11:31:45</td>\n",
       "      <td>contacts_show</td>\n",
       "      <td>tips_show</td>\n",
       "      <td>3</td>\n",
       "      <td>40562.0</td>\n",
       "    </tr>\n",
       "    <tr>\n",
       "      <th>7814</th>\n",
       "      <td>fffb9e79-b927-4dbb-9b48-7fd09b23a62b</td>\n",
       "      <td>2019-11-01</td>\n",
       "      <td>2019-11-01 00:24:31</td>\n",
       "      <td>2019-11-01 00:24:53</td>\n",
       "      <td>tips_show</td>\n",
       "      <td>tips_show</td>\n",
       "      <td>2</td>\n",
       "      <td>22.0</td>\n",
       "    </tr>\n",
       "    <tr>\n",
       "      <th>7815</th>\n",
       "      <td>fffb9e79-b927-4dbb-9b48-7fd09b23a62b</td>\n",
       "      <td>2019-11-02</td>\n",
       "      <td>2019-11-02 01:16:48</td>\n",
       "      <td>2019-11-02 19:30:50</td>\n",
       "      <td>tips_show</td>\n",
       "      <td>tips_show</td>\n",
       "      <td>7</td>\n",
       "      <td>65642.0</td>\n",
       "    </tr>\n",
       "    <tr>\n",
       "      <th>7816</th>\n",
       "      <td>fffb9e79-b927-4dbb-9b48-7fd09b23a62b</td>\n",
       "      <td>2019-11-03</td>\n",
       "      <td>2019-11-03 14:32:55</td>\n",
       "      <td>2019-11-03 16:08:25</td>\n",
       "      <td>tips_show</td>\n",
       "      <td>tips_show</td>\n",
       "      <td>29</td>\n",
       "      <td>5730.0</td>\n",
       "    </tr>\n",
       "  </tbody>\n",
       "</table>\n",
       "<p>6781 rows × 8 columns</p>\n",
       "</div>"
      ],
      "text/plain": [
       "                                   user_id     session               start  \\\n",
       "0     0001b1d5-b74a-4cbf-aeb0-7df5947bf349  2019-10-07 2019-10-07 13:39:45   \n",
       "1     0001b1d5-b74a-4cbf-aeb0-7df5947bf349  2019-10-09 2019-10-09 18:33:55   \n",
       "2     0001b1d5-b74a-4cbf-aeb0-7df5947bf349  2019-10-21 2019-10-21 19:52:30   \n",
       "3     0001b1d5-b74a-4cbf-aeb0-7df5947bf349  2019-10-22 2019-10-22 11:18:14   \n",
       "4     00157779-810c-4498-9e05-a1e9e3cedf93  2019-10-19 2019-10-19 21:34:33   \n",
       "...                                    ...         ...                 ...   \n",
       "7812  fffb9e79-b927-4dbb-9b48-7fd09b23a62b  2019-10-29 2019-10-29 13:58:47   \n",
       "7813  fffb9e79-b927-4dbb-9b48-7fd09b23a62b  2019-10-30 2019-10-30 00:15:43   \n",
       "7814  fffb9e79-b927-4dbb-9b48-7fd09b23a62b  2019-11-01 2019-11-01 00:24:31   \n",
       "7815  fffb9e79-b927-4dbb-9b48-7fd09b23a62b  2019-11-02 2019-11-02 01:16:48   \n",
       "7816  fffb9e79-b927-4dbb-9b48-7fd09b23a62b  2019-11-03 2019-11-03 14:32:55   \n",
       "\n",
       "                  finish    first_event     last_event  count_event  interval  \n",
       "0    2019-10-07 13:49:41      tips_show      tips_show            9     596.0  \n",
       "1    2019-10-09 18:42:22            map      tips_show            4     507.0  \n",
       "2    2019-10-21 20:07:30      tips_show      tips_show           14     900.0  \n",
       "3    2019-10-22 11:30:52            map      tips_show            8     758.0  \n",
       "4    2019-10-19 21:59:54         search    photos_show            9    1521.0  \n",
       "...                  ...            ...            ...          ...       ...  \n",
       "7812 2019-10-29 16:13:00      tips_show  contacts_show           20    8053.0  \n",
       "7813 2019-10-30 11:31:45  contacts_show      tips_show            3   40562.0  \n",
       "7814 2019-11-01 00:24:53      tips_show      tips_show            2      22.0  \n",
       "7815 2019-11-02 19:30:50      tips_show      tips_show            7   65642.0  \n",
       "7816 2019-11-03 16:08:25      tips_show      tips_show           29    5730.0  \n",
       "\n",
       "[6781 rows x 8 columns]"
      ]
     },
     "execution_count": 27,
     "metadata": {},
     "output_type": "execute_result"
    }
   ],
   "source": [
    "mobile_df = mobile_df.query('count_event > 1 and interval !=0')\n",
    "mobile_df"
   ]
  },
  {
   "cell_type": "code",
   "execution_count": 28,
   "metadata": {},
   "outputs": [
    {
     "data": {
      "text/plain": [
       "4100      2\n",
       "4659      2\n",
       "6322      2\n",
       "4730      2\n",
       "7481      2\n",
       "       ... \n",
       "5880    114\n",
       "5219    116\n",
       "5304    127\n",
       "5881    169\n",
       "4744    383\n",
       "Name: count_event, Length: 6781, dtype: int64"
      ]
     },
     "execution_count": 28,
     "metadata": {},
     "output_type": "execute_result"
    }
   ],
   "source": [
    "# посмотрели, как распределены сессии по количеству событий\n",
    "mobile_df['count_event'].sort_values()"
   ]
  },
  {
   "cell_type": "code",
   "execution_count": 29,
   "metadata": {},
   "outputs": [
    {
     "data": {
      "image/png": "[encoded data removed]",
      "text/plain": [
       "<Figure size 1080x720 with 1 Axes>"
      ]
     },
     "metadata": {
      "needs_background": "light"
     },
     "output_type": "display_data"
    }
   ],
   "source": [
    "mobile_df['count_event'].hist(bins=100, figsize=(15,10), range=[2, 20])\n",
    "plt.title('Гистограмма распределения показателя \"количество событий за одну сессию\" в интервале до 20 событий')\n",
    "plt.xlabel('Количество событий за сессию')\n",
    "\n",
    "plt.show();"
   ]
  },
  {
   "cell_type": "markdown",
   "metadata": {},
   "source": [
    "Количество событий за одну сессиию резко снижается в интервале от 2 до 10 событий и затем плавно приближается к нулю."
   ]
  },
  {
   "cell_type": "code",
   "execution_count": 30,
   "metadata": {},
   "outputs": [
    {
     "data": {
      "text/plain": [
       "2980        1.0\n",
       "1924        1.0\n",
       "2862        1.0\n",
       "3064        1.0\n",
       "6753        1.0\n",
       "         ...   \n",
       "7247    82803.0\n",
       "5531    83173.0\n",
       "6144    84426.0\n",
       "5663    84644.0\n",
       "660     85048.0\n",
       "Name: interval, Length: 6781, dtype: float64"
      ]
     },
     "execution_count": 30,
     "metadata": {},
     "output_type": "execute_result"
    }
   ],
   "source": [
    "# как распределены сессии по длительности \n",
    "mobile_df['interval'].sort_values()"
   ]
  },
  {
   "cell_type": "code",
   "execution_count": 31,
   "metadata": {},
   "outputs": [
    {
     "data": {
      "text/html": [
       "<div>\n",
       "<style scoped>\n",
       "    .dataframe tbody tr th:only-of-type {\n",
       "        vertical-align: middle;\n",
       "    }\n",
       "\n",
       "    .dataframe tbody tr th {\n",
       "        vertical-align: top;\n",
       "    }\n",
       "\n",
       "    .dataframe thead th {\n",
       "        text-align: right;\n",
       "    }\n",
       "</style>\n",
       "<table border=\"1\" class=\"dataframe\">\n",
       "  <thead>\n",
       "    <tr style=\"text-align: right;\">\n",
       "      <th></th>\n",
       "      <th>user_id</th>\n",
       "      <th>session</th>\n",
       "      <th>start</th>\n",
       "      <th>finish</th>\n",
       "      <th>first_event</th>\n",
       "      <th>last_event</th>\n",
       "      <th>count_event</th>\n",
       "      <th>interval</th>\n",
       "    </tr>\n",
       "  </thead>\n",
       "  <tbody>\n",
       "    <tr>\n",
       "      <th>2980</th>\n",
       "      <td>628d9787-fc29-42f8-8aaf-2e7b0d9e1d4a</td>\n",
       "      <td>2019-10-29</td>\n",
       "      <td>2019-10-29 20:08:27</td>\n",
       "      <td>2019-10-29 20:08:28</td>\n",
       "      <td>photos_show</td>\n",
       "      <td>photos_show</td>\n",
       "      <td>2</td>\n",
       "      <td>1.0</td>\n",
       "    </tr>\n",
       "    <tr>\n",
       "      <th>2862</th>\n",
       "      <td>5e3b6d59-ccbf-4247-9946-be64a2be4a53</td>\n",
       "      <td>2019-10-23</td>\n",
       "      <td>2019-10-23 11:14:43</td>\n",
       "      <td>2019-10-23 11:14:44</td>\n",
       "      <td>photos_show</td>\n",
       "      <td>photos_show</td>\n",
       "      <td>2</td>\n",
       "      <td>1.0</td>\n",
       "    </tr>\n",
       "    <tr>\n",
       "      <th>2803</th>\n",
       "      <td>5ca3716b-928f-43df-80e4-590c4e20bea2</td>\n",
       "      <td>2019-10-11</td>\n",
       "      <td>2019-10-11 20:51:16</td>\n",
       "      <td>2019-10-11 20:51:17</td>\n",
       "      <td>photos_show</td>\n",
       "      <td>photos_show</td>\n",
       "      <td>2</td>\n",
       "      <td>1.0</td>\n",
       "    </tr>\n",
       "    <tr>\n",
       "      <th>2503</th>\n",
       "      <td>515e9d9f-a690-4a30-8b05-b948d267e538</td>\n",
       "      <td>2019-10-17</td>\n",
       "      <td>2019-10-17 12:36:28</td>\n",
       "      <td>2019-10-17 12:36:29</td>\n",
       "      <td>tips_show</td>\n",
       "      <td>contacts_show</td>\n",
       "      <td>2</td>\n",
       "      <td>1.0</td>\n",
       "    </tr>\n",
       "    <tr>\n",
       "      <th>3064</th>\n",
       "      <td>646c46f9-bc2f-4448-901f-8cc0e8318d8c</td>\n",
       "      <td>2019-10-25</td>\n",
       "      <td>2019-10-25 09:04:50</td>\n",
       "      <td>2019-10-25 09:04:51</td>\n",
       "      <td>photos_show</td>\n",
       "      <td>photos_show</td>\n",
       "      <td>2</td>\n",
       "      <td>1.0</td>\n",
       "    </tr>\n",
       "    <tr>\n",
       "      <th>1924</th>\n",
       "      <td>3ce3b06f-3647-48d2-9c4e-d72362a389d4</td>\n",
       "      <td>2019-10-15</td>\n",
       "      <td>2019-10-15 23:37:33</td>\n",
       "      <td>2019-10-15 23:37:34</td>\n",
       "      <td>photos_show</td>\n",
       "      <td>photos_show</td>\n",
       "      <td>2</td>\n",
       "      <td>1.0</td>\n",
       "    </tr>\n",
       "    <tr>\n",
       "      <th>2380</th>\n",
       "      <td>4c38c011-e7d4-47a2-9da3-35888e0606b8</td>\n",
       "      <td>2019-10-22</td>\n",
       "      <td>2019-10-22 21:52:54</td>\n",
       "      <td>2019-10-22 21:52:55</td>\n",
       "      <td>photos_show</td>\n",
       "      <td>photos_show</td>\n",
       "      <td>2</td>\n",
       "      <td>1.0</td>\n",
       "    </tr>\n",
       "    <tr>\n",
       "      <th>6753</th>\n",
       "      <td>db9e4705-ca1b-44f2-b94e-821fb1387c5c</td>\n",
       "      <td>2019-10-09</td>\n",
       "      <td>2019-10-09 02:34:38</td>\n",
       "      <td>2019-10-09 02:34:39</td>\n",
       "      <td>search</td>\n",
       "      <td>search</td>\n",
       "      <td>2</td>\n",
       "      <td>1.0</td>\n",
       "    </tr>\n",
       "    <tr>\n",
       "      <th>811</th>\n",
       "      <td>16a5371c-152f-48d8-86fe-5636a931316b</td>\n",
       "      <td>2019-11-03</td>\n",
       "      <td>2019-11-03 22:40:59</td>\n",
       "      <td>2019-11-03 22:41:01</td>\n",
       "      <td>tips_show</td>\n",
       "      <td>tips_show</td>\n",
       "      <td>3</td>\n",
       "      <td>2.0</td>\n",
       "    </tr>\n",
       "    <tr>\n",
       "      <th>6087</th>\n",
       "      <td>c81944b3-3642-4c5d-8408-9e401263cc53</td>\n",
       "      <td>2019-10-12</td>\n",
       "      <td>2019-10-12 11:30:24</td>\n",
       "      <td>2019-10-12 11:30:26</td>\n",
       "      <td>search</td>\n",
       "      <td>search</td>\n",
       "      <td>2</td>\n",
       "      <td>2.0</td>\n",
       "    </tr>\n",
       "    <tr>\n",
       "      <th>7717</th>\n",
       "      <td>fcf065b5-ccb4-4d83-bded-8a759b4022fd</td>\n",
       "      <td>2019-10-14</td>\n",
       "      <td>2019-10-14 11:02:32</td>\n",
       "      <td>2019-10-14 11:02:34</td>\n",
       "      <td>search</td>\n",
       "      <td>search</td>\n",
       "      <td>2</td>\n",
       "      <td>2.0</td>\n",
       "    </tr>\n",
       "    <tr>\n",
       "      <th>4541</th>\n",
       "      <td>96394e05-d618-4ca3-96c1-049b51f3a4c8</td>\n",
       "      <td>2019-10-27</td>\n",
       "      <td>2019-10-27 18:54:26</td>\n",
       "      <td>2019-10-27 18:54:28</td>\n",
       "      <td>search</td>\n",
       "      <td>search</td>\n",
       "      <td>2</td>\n",
       "      <td>2.0</td>\n",
       "    </tr>\n",
       "    <tr>\n",
       "      <th>7718</th>\n",
       "      <td>fcf065b5-ccb4-4d83-bded-8a759b4022fd</td>\n",
       "      <td>2019-10-21</td>\n",
       "      <td>2019-10-21 08:47:01</td>\n",
       "      <td>2019-10-21 08:47:03</td>\n",
       "      <td>search</td>\n",
       "      <td>search</td>\n",
       "      <td>2</td>\n",
       "      <td>2.0</td>\n",
       "    </tr>\n",
       "    <tr>\n",
       "      <th>3723</th>\n",
       "      <td>7a4806d3-b727-43f7-9edc-d5068869d95d</td>\n",
       "      <td>2019-11-03</td>\n",
       "      <td>2019-11-03 13:39:13</td>\n",
       "      <td>2019-11-03 13:39:15</td>\n",
       "      <td>tips_show</td>\n",
       "      <td>contacts_show</td>\n",
       "      <td>2</td>\n",
       "      <td>2.0</td>\n",
       "    </tr>\n",
       "    <tr>\n",
       "      <th>1782</th>\n",
       "      <td>38b7e691-fbcf-4704-8e10-bfa8e1fcf6f6</td>\n",
       "      <td>2019-11-02</td>\n",
       "      <td>2019-11-02 22:59:32</td>\n",
       "      <td>2019-11-02 22:59:34</td>\n",
       "      <td>search</td>\n",
       "      <td>search</td>\n",
       "      <td>2</td>\n",
       "      <td>2.0</td>\n",
       "    </tr>\n",
       "    <tr>\n",
       "      <th>3661</th>\n",
       "      <td>786d1f30-e738-4718-b6a8-310d5f995138</td>\n",
       "      <td>2019-11-03</td>\n",
       "      <td>2019-11-03 15:23:51</td>\n",
       "      <td>2019-11-03 15:23:53</td>\n",
       "      <td>tips_show</td>\n",
       "      <td>tips_show</td>\n",
       "      <td>2</td>\n",
       "      <td>2.0</td>\n",
       "    </tr>\n",
       "    <tr>\n",
       "      <th>5965</th>\n",
       "      <td>c3add741-c208-46f5-a15b-bf7c02e331f8</td>\n",
       "      <td>2019-10-13</td>\n",
       "      <td>2019-10-13 12:42:31</td>\n",
       "      <td>2019-10-13 12:42:34</td>\n",
       "      <td>photos_show</td>\n",
       "      <td>photos_show</td>\n",
       "      <td>2</td>\n",
       "      <td>3.0</td>\n",
       "    </tr>\n",
       "    <tr>\n",
       "      <th>6682</th>\n",
       "      <td>d9b06b47-0f36-419b-bbb0-3533e582a6cb</td>\n",
       "      <td>2019-10-07</td>\n",
       "      <td>2019-10-07 00:05:20</td>\n",
       "      <td>2019-10-07 00:05:23</td>\n",
       "      <td>search</td>\n",
       "      <td>search</td>\n",
       "      <td>2</td>\n",
       "      <td>3.0</td>\n",
       "    </tr>\n",
       "    <tr>\n",
       "      <th>6688</th>\n",
       "      <td>d9b53b3f-bb75-4424-a474-da491f0a6501</td>\n",
       "      <td>2019-10-24</td>\n",
       "      <td>2019-10-24 17:57:34</td>\n",
       "      <td>2019-10-24 17:57:37</td>\n",
       "      <td>photos_show</td>\n",
       "      <td>photos_show</td>\n",
       "      <td>4</td>\n",
       "      <td>3.0</td>\n",
       "    </tr>\n",
       "    <tr>\n",
       "      <th>4995</th>\n",
       "      <td>a42bfd5e-9c0d-4cd6-be55-320a64f8f640</td>\n",
       "      <td>2019-11-01</td>\n",
       "      <td>2019-11-01 16:44:16</td>\n",
       "      <td>2019-11-01 16:44:19</td>\n",
       "      <td>photos_show</td>\n",
       "      <td>photos_show</td>\n",
       "      <td>2</td>\n",
       "      <td>3.0</td>\n",
       "    </tr>\n",
       "    <tr>\n",
       "      <th>4807</th>\n",
       "      <td>9e7e3cca-6165-4d95-a736-065a16ac928a</td>\n",
       "      <td>2019-10-10</td>\n",
       "      <td>2019-10-10 22:07:17</td>\n",
       "      <td>2019-10-10 22:07:20</td>\n",
       "      <td>search</td>\n",
       "      <td>search</td>\n",
       "      <td>2</td>\n",
       "      <td>3.0</td>\n",
       "    </tr>\n",
       "    <tr>\n",
       "      <th>387</th>\n",
       "      <td>0bb1cfac-5a00-4677-88d0-d41929e5ad7c</td>\n",
       "      <td>2019-11-02</td>\n",
       "      <td>2019-11-02 20:58:47</td>\n",
       "      <td>2019-11-02 20:58:50</td>\n",
       "      <td>contacts_show</td>\n",
       "      <td>contacts_show</td>\n",
       "      <td>2</td>\n",
       "      <td>3.0</td>\n",
       "    </tr>\n",
       "    <tr>\n",
       "      <th>3250</th>\n",
       "      <td>6a1f495c-f6dc-475d-a286-ed802d6627be</td>\n",
       "      <td>2019-10-15</td>\n",
       "      <td>2019-10-15 18:45:25</td>\n",
       "      <td>2019-10-15 18:45:28</td>\n",
       "      <td>tips_show</td>\n",
       "      <td>tips_show</td>\n",
       "      <td>2</td>\n",
       "      <td>3.0</td>\n",
       "    </tr>\n",
       "    <tr>\n",
       "      <th>3030</th>\n",
       "      <td>6383ff6a-04b8-4562-a98f-bb4f760d3c39</td>\n",
       "      <td>2019-10-15</td>\n",
       "      <td>2019-10-15 07:55:04</td>\n",
       "      <td>2019-10-15 07:55:07</td>\n",
       "      <td>photos_show</td>\n",
       "      <td>photos_show</td>\n",
       "      <td>2</td>\n",
       "      <td>3.0</td>\n",
       "    </tr>\n",
       "    <tr>\n",
       "      <th>2903</th>\n",
       "      <td>5f71e670-bb34-45da-a287-96f92eedfd6c</td>\n",
       "      <td>2019-10-16</td>\n",
       "      <td>2019-10-16 15:05:52</td>\n",
       "      <td>2019-10-16 15:05:55</td>\n",
       "      <td>search</td>\n",
       "      <td>photos_show</td>\n",
       "      <td>2</td>\n",
       "      <td>3.0</td>\n",
       "    </tr>\n",
       "    <tr>\n",
       "      <th>2604</th>\n",
       "      <td>550667b3-a107-48c6-96c6-52613d02ee1f</td>\n",
       "      <td>2019-10-31</td>\n",
       "      <td>2019-10-31 03:11:43</td>\n",
       "      <td>2019-10-31 03:11:46</td>\n",
       "      <td>photos_show</td>\n",
       "      <td>photos_show</td>\n",
       "      <td>2</td>\n",
       "      <td>3.0</td>\n",
       "    </tr>\n",
       "    <tr>\n",
       "      <th>2511</th>\n",
       "      <td>516afefe-f606-4692-81e1-16c200a81b7c</td>\n",
       "      <td>2019-10-29</td>\n",
       "      <td>2019-10-29 22:18:36</td>\n",
       "      <td>2019-10-29 22:18:39</td>\n",
       "      <td>search</td>\n",
       "      <td>search</td>\n",
       "      <td>2</td>\n",
       "      <td>3.0</td>\n",
       "    </tr>\n",
       "    <tr>\n",
       "      <th>2279</th>\n",
       "      <td>48bbd3fe-c8b4-4caf-83bb-4bb3f3f68182</td>\n",
       "      <td>2019-10-29</td>\n",
       "      <td>2019-10-29 16:24:15</td>\n",
       "      <td>2019-10-29 16:24:18</td>\n",
       "      <td>tips_show</td>\n",
       "      <td>tips_show</td>\n",
       "      <td>3</td>\n",
       "      <td>3.0</td>\n",
       "    </tr>\n",
       "    <tr>\n",
       "      <th>2097</th>\n",
       "      <td>429d753a-1f31-4819-867e-2c1e36157589</td>\n",
       "      <td>2019-10-30</td>\n",
       "      <td>2019-10-30 20:03:54</td>\n",
       "      <td>2019-10-30 20:03:57</td>\n",
       "      <td>advert_open</td>\n",
       "      <td>contacts_show</td>\n",
       "      <td>2</td>\n",
       "      <td>3.0</td>\n",
       "    </tr>\n",
       "    <tr>\n",
       "      <th>603</th>\n",
       "      <td>110fd34b-0001-43df-9e65-a9b7788ef909</td>\n",
       "      <td>2019-10-19</td>\n",
       "      <td>2019-10-19 14:52:42</td>\n",
       "      <td>2019-10-19 14:52:45</td>\n",
       "      <td>photos_show</td>\n",
       "      <td>photos_show</td>\n",
       "      <td>2</td>\n",
       "      <td>3.0</td>\n",
       "    </tr>\n",
       "    <tr>\n",
       "      <th>470</th>\n",
       "      <td>0d9e5bb7-0ad6-4b62-a118-b1e4f5b31dfa</td>\n",
       "      <td>2019-11-02</td>\n",
       "      <td>2019-11-02 23:23:26</td>\n",
       "      <td>2019-11-02 23:23:29</td>\n",
       "      <td>search</td>\n",
       "      <td>map</td>\n",
       "      <td>2</td>\n",
       "      <td>3.0</td>\n",
       "    </tr>\n",
       "    <tr>\n",
       "      <th>465</th>\n",
       "      <td>0d9e5bb7-0ad6-4b62-a118-b1e4f5b31dfa</td>\n",
       "      <td>2019-10-28</td>\n",
       "      <td>2019-10-28 11:14:04</td>\n",
       "      <td>2019-10-28 11:14:07</td>\n",
       "      <td>search</td>\n",
       "      <td>map</td>\n",
       "      <td>2</td>\n",
       "      <td>3.0</td>\n",
       "    </tr>\n",
       "    <tr>\n",
       "      <th>464</th>\n",
       "      <td>0d9e5bb7-0ad6-4b62-a118-b1e4f5b31dfa</td>\n",
       "      <td>2019-10-27</td>\n",
       "      <td>2019-10-27 18:09:16</td>\n",
       "      <td>2019-10-27 18:09:19</td>\n",
       "      <td>search</td>\n",
       "      <td>map</td>\n",
       "      <td>2</td>\n",
       "      <td>3.0</td>\n",
       "    </tr>\n",
       "    <tr>\n",
       "      <th>3561</th>\n",
       "      <td>74041397-d70d-49ab-8d8e-7f9d00f2ffea</td>\n",
       "      <td>2019-10-10</td>\n",
       "      <td>2019-10-10 15:11:13</td>\n",
       "      <td>2019-10-10 15:11:16</td>\n",
       "      <td>search</td>\n",
       "      <td>search</td>\n",
       "      <td>2</td>\n",
       "      <td>3.0</td>\n",
       "    </tr>\n",
       "    <tr>\n",
       "      <th>7719</th>\n",
       "      <td>fcf065b5-ccb4-4d83-bded-8a759b4022fd</td>\n",
       "      <td>2019-10-22</td>\n",
       "      <td>2019-10-22 15:05:55</td>\n",
       "      <td>2019-10-22 15:05:58</td>\n",
       "      <td>search</td>\n",
       "      <td>search</td>\n",
       "      <td>2</td>\n",
       "      <td>3.0</td>\n",
       "    </tr>\n",
       "  </tbody>\n",
       "</table>\n",
       "</div>"
      ],
      "text/plain": [
       "                                   user_id     session               start  \\\n",
       "2980  628d9787-fc29-42f8-8aaf-2e7b0d9e1d4a  2019-10-29 2019-10-29 20:08:27   \n",
       "2862  5e3b6d59-ccbf-4247-9946-be64a2be4a53  2019-10-23 2019-10-23 11:14:43   \n",
       "2803  5ca3716b-928f-43df-80e4-590c4e20bea2  2019-10-11 2019-10-11 20:51:16   \n",
       "2503  515e9d9f-a690-4a30-8b05-b948d267e538  2019-10-17 2019-10-17 12:36:28   \n",
       "3064  646c46f9-bc2f-4448-901f-8cc0e8318d8c  2019-10-25 2019-10-25 09:04:50   \n",
       "1924  3ce3b06f-3647-48d2-9c4e-d72362a389d4  2019-10-15 2019-10-15 23:37:33   \n",
       "2380  4c38c011-e7d4-47a2-9da3-35888e0606b8  2019-10-22 2019-10-22 21:52:54   \n",
       "6753  db9e4705-ca1b-44f2-b94e-821fb1387c5c  2019-10-09 2019-10-09 02:34:38   \n",
       "811   16a5371c-152f-48d8-86fe-5636a931316b  2019-11-03 2019-11-03 22:40:59   \n",
       "6087  c81944b3-3642-4c5d-8408-9e401263cc53  2019-10-12 2019-10-12 11:30:24   \n",
       "7717  fcf065b5-ccb4-4d83-bded-8a759b4022fd  2019-10-14 2019-10-14 11:02:32   \n",
       "4541  96394e05-d618-4ca3-96c1-049b51f3a4c8  2019-10-27 2019-10-27 18:54:26   \n",
       "7718  fcf065b5-ccb4-4d83-bded-8a759b4022fd  2019-10-21 2019-10-21 08:47:01   \n",
       "3723  7a4806d3-b727-43f7-9edc-d5068869d95d  2019-11-03 2019-11-03 13:39:13   \n",
       "1782  38b7e691-fbcf-4704-8e10-bfa8e1fcf6f6  2019-11-02 2019-11-02 22:59:32   \n",
       "3661  786d1f30-e738-4718-b6a8-310d5f995138  2019-11-03 2019-11-03 15:23:51   \n",
       "5965  c3add741-c208-46f5-a15b-bf7c02e331f8  2019-10-13 2019-10-13 12:42:31   \n",
       "6682  d9b06b47-0f36-419b-bbb0-3533e582a6cb  2019-10-07 2019-10-07 00:05:20   \n",
       "6688  d9b53b3f-bb75-4424-a474-da491f0a6501  2019-10-24 2019-10-24 17:57:34   \n",
       "4995  a42bfd5e-9c0d-4cd6-be55-320a64f8f640  2019-11-01 2019-11-01 16:44:16   \n",
       "4807  9e7e3cca-6165-4d95-a736-065a16ac928a  2019-10-10 2019-10-10 22:07:17   \n",
       "387   0bb1cfac-5a00-4677-88d0-d41929e5ad7c  2019-11-02 2019-11-02 20:58:47   \n",
       "3250  6a1f495c-f6dc-475d-a286-ed802d6627be  2019-10-15 2019-10-15 18:45:25   \n",
       "3030  6383ff6a-04b8-4562-a98f-bb4f760d3c39  2019-10-15 2019-10-15 07:55:04   \n",
       "2903  5f71e670-bb34-45da-a287-96f92eedfd6c  2019-10-16 2019-10-16 15:05:52   \n",
       "2604  550667b3-a107-48c6-96c6-52613d02ee1f  2019-10-31 2019-10-31 03:11:43   \n",
       "2511  516afefe-f606-4692-81e1-16c200a81b7c  2019-10-29 2019-10-29 22:18:36   \n",
       "2279  48bbd3fe-c8b4-4caf-83bb-4bb3f3f68182  2019-10-29 2019-10-29 16:24:15   \n",
       "2097  429d753a-1f31-4819-867e-2c1e36157589  2019-10-30 2019-10-30 20:03:54   \n",
       "603   110fd34b-0001-43df-9e65-a9b7788ef909  2019-10-19 2019-10-19 14:52:42   \n",
       "470   0d9e5bb7-0ad6-4b62-a118-b1e4f5b31dfa  2019-11-02 2019-11-02 23:23:26   \n",
       "465   0d9e5bb7-0ad6-4b62-a118-b1e4f5b31dfa  2019-10-28 2019-10-28 11:14:04   \n",
       "464   0d9e5bb7-0ad6-4b62-a118-b1e4f5b31dfa  2019-10-27 2019-10-27 18:09:16   \n",
       "3561  74041397-d70d-49ab-8d8e-7f9d00f2ffea  2019-10-10 2019-10-10 15:11:13   \n",
       "7719  fcf065b5-ccb4-4d83-bded-8a759b4022fd  2019-10-22 2019-10-22 15:05:55   \n",
       "\n",
       "                  finish    first_event     last_event  count_event  interval  \n",
       "2980 2019-10-29 20:08:28    photos_show    photos_show            2       1.0  \n",
       "2862 2019-10-23 11:14:44    photos_show    photos_show            2       1.0  \n",
       "2803 2019-10-11 20:51:17    photos_show    photos_show            2       1.0  \n",
       "2503 2019-10-17 12:36:29      tips_show  contacts_show            2       1.0  \n",
       "3064 2019-10-25 09:04:51    photos_show    photos_show            2       1.0  \n",
       "1924 2019-10-15 23:37:34    photos_show    photos_show            2       1.0  \n",
       "2380 2019-10-22 21:52:55    photos_show    photos_show            2       1.0  \n",
       "6753 2019-10-09 02:34:39         search         search            2       1.0  \n",
       "811  2019-11-03 22:41:01      tips_show      tips_show            3       2.0  \n",
       "6087 2019-10-12 11:30:26         search         search            2       2.0  \n",
       "7717 2019-10-14 11:02:34         search         search            2       2.0  \n",
       "4541 2019-10-27 18:54:28         search         search            2       2.0  \n",
       "7718 2019-10-21 08:47:03         search         search            2       2.0  \n",
       "3723 2019-11-03 13:39:15      tips_show  contacts_show            2       2.0  \n",
       "1782 2019-11-02 22:59:34         search         search            2       2.0  \n",
       "3661 2019-11-03 15:23:53      tips_show      tips_show            2       2.0  \n",
       "5965 2019-10-13 12:42:34    photos_show    photos_show            2       3.0  \n",
       "6682 2019-10-07 00:05:23         search         search            2       3.0  \n",
       "6688 2019-10-24 17:57:37    photos_show    photos_show            4       3.0  \n",
       "4995 2019-11-01 16:44:19    photos_show    photos_show            2       3.0  \n",
       "4807 2019-10-10 22:07:20         search         search            2       3.0  \n",
       "387  2019-11-02 20:58:50  contacts_show  contacts_show            2       3.0  \n",
       "3250 2019-10-15 18:45:28      tips_show      tips_show            2       3.0  \n",
       "3030 2019-10-15 07:55:07    photos_show    photos_show            2       3.0  \n",
       "2903 2019-10-16 15:05:55         search    photos_show            2       3.0  \n",
       "2604 2019-10-31 03:11:46    photos_show    photos_show            2       3.0  \n",
       "2511 2019-10-29 22:18:39         search         search            2       3.0  \n",
       "2279 2019-10-29 16:24:18      tips_show      tips_show            3       3.0  \n",
       "2097 2019-10-30 20:03:57    advert_open  contacts_show            2       3.0  \n",
       "603  2019-10-19 14:52:45    photos_show    photos_show            2       3.0  \n",
       "470  2019-11-02 23:23:29         search            map            2       3.0  \n",
       "465  2019-10-28 11:14:07         search            map            2       3.0  \n",
       "464  2019-10-27 18:09:19         search            map            2       3.0  \n",
       "3561 2019-10-10 15:11:16         search         search            2       3.0  \n",
       "7719 2019-10-22 15:05:58         search         search            2       3.0  "
      ]
     },
     "execution_count": 31,
     "metadata": {},
     "output_type": "execute_result"
    }
   ],
   "source": [
    "#сколько действий и какие производят за 3 секунды?\n",
    "mobile_df.query('interval <= 3').sort_values(by='interval')"
   ]
  },
  {
   "cell_type": "markdown",
   "metadata": {},
   "source": [
    "Поразительно! За 1 секунду некоторые успевают посмотреть рекомендуемое предложение и посмотреть номер телефона на карточке. Оставим этих виртуозов для рассмотрения. "
   ]
  },
  {
   "cell_type": "code",
   "execution_count": 32,
   "metadata": {},
   "outputs": [
    {
     "data": {
      "image/png": "[encoded data removed]",
      "text/plain": [
       "<Figure size 1080x720 with 1 Axes>"
      ]
     },
     "metadata": {
      "needs_background": "light"
     },
     "output_type": "display_data"
    }
   ],
   "source": [
    "# Распределние длительности сессий в интервале от 1 секунды до 1 часа\n",
    "mobile_df['interval'].hist(bins=100, figsize=(15,10), range=[1, 3600])\n",
    "plt.title('Гистограммы распределения длительности сессии. Ограничились сессиями длиной от 1 секунды до 1 часа')\n",
    "plt.xlabel('Длительность сессии')\n",
    "\n",
    "plt.show();"
   ]
  },
  {
   "cell_type": "markdown",
   "metadata": {},
   "source": [
    "Максимальное количество сессий приходится на  интервал от 1 секунды до 17 минут, затем плавно приближается к нулю.  "
   ]
  },
  {
   "cell_type": "markdown",
   "metadata": {},
   "source": [
    "Посмотрели на взаимосвязь продолжительности сессии и количества совершенных в них событий, для этого построили диаграмму рассеяния"
   ]
  },
  {
   "cell_type": "code",
   "execution_count": 33,
   "metadata": {},
   "outputs": [
    {
     "data": {
      "image/png": "[encoded data removed]",
      "text/plain": [
       "<Figure size 1080x720 with 1 Axes>"
      ]
     },
     "metadata": {
      "needs_background": "light"
     },
     "output_type": "display_data"
    }
   ],
   "source": [
    "# диаграмма рассеяния длительности сессий и количества событий в них\n",
    "\n",
    "mobile_df.plot(x=\"interval\", y=\"count_event\", kind=\"scatter\", grid=True, figsize=(15,10))\n",
    "plt.title('Диаграмма рассеяния длительности сессий и количества событий в них')\n",
    "plt.xlabel('Продолжительность сессии')\n",
    "plt.ylabel('Количество событий, совершенных пользователем за сессию')\n",
    "plt.show();"
   ]
  },
  {
   "cell_type": "code",
   "execution_count": 34,
   "metadata": {},
   "outputs": [
    {
     "data": {
      "text/html": [
       "<div>\n",
       "<style scoped>\n",
       "    .dataframe tbody tr th:only-of-type {\n",
       "        vertical-align: middle;\n",
       "    }\n",
       "\n",
       "    .dataframe tbody tr th {\n",
       "        vertical-align: top;\n",
       "    }\n",
       "\n",
       "    .dataframe thead th {\n",
       "        text-align: right;\n",
       "    }\n",
       "</style>\n",
       "<table border=\"1\" class=\"dataframe\">\n",
       "  <thead>\n",
       "    <tr style=\"text-align: right;\">\n",
       "      <th></th>\n",
       "      <th>user_id</th>\n",
       "      <th>session</th>\n",
       "      <th>start</th>\n",
       "      <th>finish</th>\n",
       "      <th>first_event</th>\n",
       "      <th>last_event</th>\n",
       "      <th>count_event</th>\n",
       "      <th>interval</th>\n",
       "    </tr>\n",
       "  </thead>\n",
       "  <tbody>\n",
       "    <tr>\n",
       "      <th>4744</th>\n",
       "      <td>9ce63488-758a-481a-bcb5-a02b467e1d84</td>\n",
       "      <td>2019-10-08</td>\n",
       "      <td>2019-10-08 10:47:17</td>\n",
       "      <td>2019-10-08 23:12:00</td>\n",
       "      <td>tips_show</td>\n",
       "      <td>tips_show</td>\n",
       "      <td>383</td>\n",
       "      <td>44683.0</td>\n",
       "    </tr>\n",
       "  </tbody>\n",
       "</table>\n",
       "</div>"
      ],
      "text/plain": [
       "                                   user_id     session               start  \\\n",
       "4744  9ce63488-758a-481a-bcb5-a02b467e1d84  2019-10-08 2019-10-08 10:47:17   \n",
       "\n",
       "                  finish first_event last_event  count_event  interval  \n",
       "4744 2019-10-08 23:12:00   tips_show  tips_show          383   44683.0  "
      ]
     },
     "execution_count": 34,
     "metadata": {},
     "output_type": "execute_result"
    }
   ],
   "source": [
    "# посмотрели сессиию, за время которой совершено аномально большое количество действий\n",
    "mobile_df.query('count_event==383')"
   ]
  },
  {
   "cell_type": "markdown",
   "metadata": {},
   "source": [
    "В общем виде  рост продолжительности сессии не приводит к увеличению количества совершенных внутри неё событий. Бурная деятельность наблюдается на коротких сессиях. Бросается в глаза очевидный выброс: сессия длительностью 44683 секунды (больше 12 часов), во время которой совершено 383 события. Человек  в течение 12 часов каждые 2 минуты взаимодействовал с приложением. Это опасный человек. Мы его удалим."
   ]
  },
  {
   "cell_type": "markdown",
   "metadata": {},
   "source": [
    "На распределении продолжительности сессий видно, что количество сессий длиннее одного часа медленно приближается к нулю. Есть сессия длительностью более 23 часов в сутки. Пользователь, скорее всего, открыл приложение и забыл его закрыть, или посмотрел утром, потом ещё раз посмотрел вечером или почти через сутки, но по принятому нами допущению всё время между двумя заходами будет включено в одну сессию. К счастью, таких аномально длинных сессий немного. Чтобы определить границу безболезненного отсечения сверхдлинных сессий, нашли перцентили длины сессий."
   ]
  },
  {
   "cell_type": "code",
   "execution_count": 35,
   "metadata": {},
   "outputs": [
    {
     "name": "stdout",
     "output_type": "stream",
     "text": [
      "[32296.  65110.8]\n"
     ]
    }
   ],
   "source": [
    "# Метод np.percentile('column', [percentile1, percentile2, percentile3]) находит перцентили.\n",
    "print(np.percentile(mobile_df['interval'], [95, 99]))"
   ]
  },
  {
   "cell_type": "markdown",
   "metadata": {},
   "source": [
    "Только 5% пользователей проводят в приложении больше 32296 секунд (около 9 часов). Вполне может быть, что заглянул утром, потом ещё раз вечером. \n",
    "\n",
    "Сверхкороткие (меньше секунды) сессии с одним событием в количестве 1036 штук мы уже отбросили.\n",
    "\n",
    "Исключаем из рассмотрения сессии длиннее 32296 секунд, сюда же попадает сессия с аномальным количеством событий."
   ]
  },
  {
   "cell_type": "code",
   "execution_count": 36,
   "metadata": {},
   "outputs": [
    {
     "data": {
      "text/html": [
       "<div>\n",
       "<style scoped>\n",
       "    .dataframe tbody tr th:only-of-type {\n",
       "        vertical-align: middle;\n",
       "    }\n",
       "\n",
       "    .dataframe tbody tr th {\n",
       "        vertical-align: top;\n",
       "    }\n",
       "\n",
       "    .dataframe thead th {\n",
       "        text-align: right;\n",
       "    }\n",
       "</style>\n",
       "<table border=\"1\" class=\"dataframe\">\n",
       "  <thead>\n",
       "    <tr style=\"text-align: right;\">\n",
       "      <th></th>\n",
       "      <th>user_id</th>\n",
       "      <th>session</th>\n",
       "      <th>start</th>\n",
       "      <th>finish</th>\n",
       "      <th>first_event</th>\n",
       "      <th>last_event</th>\n",
       "      <th>count_event</th>\n",
       "      <th>interval</th>\n",
       "    </tr>\n",
       "  </thead>\n",
       "  <tbody>\n",
       "    <tr>\n",
       "      <th>0</th>\n",
       "      <td>0001b1d5-b74a-4cbf-aeb0-7df5947bf349</td>\n",
       "      <td>2019-10-07</td>\n",
       "      <td>2019-10-07 13:39:45</td>\n",
       "      <td>2019-10-07 13:49:41</td>\n",
       "      <td>tips_show</td>\n",
       "      <td>tips_show</td>\n",
       "      <td>9</td>\n",
       "      <td>596.0</td>\n",
       "    </tr>\n",
       "    <tr>\n",
       "      <th>1</th>\n",
       "      <td>0001b1d5-b74a-4cbf-aeb0-7df5947bf349</td>\n",
       "      <td>2019-10-09</td>\n",
       "      <td>2019-10-09 18:33:55</td>\n",
       "      <td>2019-10-09 18:42:22</td>\n",
       "      <td>map</td>\n",
       "      <td>tips_show</td>\n",
       "      <td>4</td>\n",
       "      <td>507.0</td>\n",
       "    </tr>\n",
       "    <tr>\n",
       "      <th>2</th>\n",
       "      <td>0001b1d5-b74a-4cbf-aeb0-7df5947bf349</td>\n",
       "      <td>2019-10-21</td>\n",
       "      <td>2019-10-21 19:52:30</td>\n",
       "      <td>2019-10-21 20:07:30</td>\n",
       "      <td>tips_show</td>\n",
       "      <td>tips_show</td>\n",
       "      <td>14</td>\n",
       "      <td>900.0</td>\n",
       "    </tr>\n",
       "    <tr>\n",
       "      <th>3</th>\n",
       "      <td>0001b1d5-b74a-4cbf-aeb0-7df5947bf349</td>\n",
       "      <td>2019-10-22</td>\n",
       "      <td>2019-10-22 11:18:14</td>\n",
       "      <td>2019-10-22 11:30:52</td>\n",
       "      <td>map</td>\n",
       "      <td>tips_show</td>\n",
       "      <td>8</td>\n",
       "      <td>758.0</td>\n",
       "    </tr>\n",
       "    <tr>\n",
       "      <th>4</th>\n",
       "      <td>00157779-810c-4498-9e05-a1e9e3cedf93</td>\n",
       "      <td>2019-10-19</td>\n",
       "      <td>2019-10-19 21:34:33</td>\n",
       "      <td>2019-10-19 21:59:54</td>\n",
       "      <td>search</td>\n",
       "      <td>photos_show</td>\n",
       "      <td>9</td>\n",
       "      <td>1521.0</td>\n",
       "    </tr>\n",
       "  </tbody>\n",
       "</table>\n",
       "</div>"
      ],
      "text/plain": [
       "                                user_id     session               start  \\\n",
       "0  0001b1d5-b74a-4cbf-aeb0-7df5947bf349  2019-10-07 2019-10-07 13:39:45   \n",
       "1  0001b1d5-b74a-4cbf-aeb0-7df5947bf349  2019-10-09 2019-10-09 18:33:55   \n",
       "2  0001b1d5-b74a-4cbf-aeb0-7df5947bf349  2019-10-21 2019-10-21 19:52:30   \n",
       "3  0001b1d5-b74a-4cbf-aeb0-7df5947bf349  2019-10-22 2019-10-22 11:18:14   \n",
       "4  00157779-810c-4498-9e05-a1e9e3cedf93  2019-10-19 2019-10-19 21:34:33   \n",
       "\n",
       "               finish first_event   last_event  count_event  interval  \n",
       "0 2019-10-07 13:49:41   tips_show    tips_show            9     596.0  \n",
       "1 2019-10-09 18:42:22         map    tips_show            4     507.0  \n",
       "2 2019-10-21 20:07:30   tips_show    tips_show           14     900.0  \n",
       "3 2019-10-22 11:30:52         map    tips_show            8     758.0  \n",
       "4 2019-10-19 21:59:54      search  photos_show            9    1521.0  "
      ]
     },
     "execution_count": 36,
     "metadata": {},
     "output_type": "execute_result"
    }
   ],
   "source": [
    "# получили таблицу с данными, очищенными от случайных безинформативных сессий\n",
    "mobile_df = mobile_df.query('interval < 32296')\n",
    "mobile_df.head()"
   ]
  },
  {
   "cell_type": "code",
   "execution_count": 37,
   "metadata": {},
   "outputs": [
    {
     "name": "stdout",
     "output_type": "stream",
     "text": [
      "4144\n",
      "4293\n",
      "0.03470766363848121\n"
     ]
    }
   ],
   "source": [
    "# посчитали долю исключенных из исследования пользователей\n",
    "print(mobile_df['user_id'].nunique())\n",
    "print(mobile['user_id'].nunique())\n",
    "print(1 - (mobile_df['user_id'].nunique()/mobile['user_id'].nunique()))"
   ]
  },
  {
   "cell_type": "markdown",
   "metadata": {},
   "source": [
    "**Вывод**\n",
    "\n",
    "В целях данного исследования установили, что один день, в который поьзователь заходил в приложение, является одной сессией. \n",
    "\n",
    "Длительность сессии определили как разницу между временем первого и последнего события за сутки. Слабым местом этого допущения является то, что человек мог зайти в приложение несколько раз за сутки, тогда длительность сессии оказывается завышенной. Однако, с учетом того, что подавляющее большинство сессий длятся в пределах одного часа, надеемся, что принятое допущение не окажет существенного влияния на результат исследования.\n",
    "\n",
    "Дополнили данные из лога сведениями о количестве событий в сессии и продолжительности сессий.\n",
    "\n",
    "Выявили и исключили из рассмотрения сессии из одного события длительностью менее секунды.\n",
    "\n",
    "Исключили аномально длинные сессии (больше 9 часов), пятипроцентную границу длительности сессии определили методом np.percentile().\n",
    "\n",
    "Таким образом, исключив из рассмотрения аномально короткие и аномально длинные сессии, сократили список пользователей всего на 3,5%. "
   ]
  },
  {
   "cell_type": "markdown",
   "metadata": {},
   "source": [
    "## Разделение пользователей на группы"
   ]
  },
  {
   "cell_type": "markdown",
   "metadata": {},
   "source": [
    "Исходя из предположения, что среднее время, проводимое пользователем в приложении в течение одного дня, характеризует его интерес к приложению и умение им пользоваться, решили разделить пользователей на категории по средней продолжительности сессии."
   ]
  },
  {
   "cell_type": "code",
   "execution_count": 39,
   "metadata": {},
   "outputs": [
    {
     "data": {
      "image/png": "[encoded data removed]",
      "text/plain": [
       "<Figure size 1080x720 with 1 Axes>"
      ]
     },
     "metadata": {
      "needs_background": "light"
     },
     "output_type": "display_data"
    }
   ],
   "source": [
    "# гистограмма распределения средней продолжительности сессии для каждого пользователя\n",
    "df_sort['interval_mean'].hist(bins=100, figsize=(15,10))\n",
    "plt.title('Распределение средней продолжительности сессии, характерной для пользователя')\n",
    "plt.xlabel('Средняя продолжительность сессии пользователя')\n",
    "\n",
    "plt.show();"
   ]
  },
  {
   "cell_type": "markdown",
   "metadata": {},
   "source": [
    "Среди пользователей есть шустрики и есть тугодумы. Посмотрели распределение средних значений продолжительности сессий для каждого пользователя методом describe()."
   ]
  },
  {
   "cell_type": "code",
   "execution_count": 40,
   "metadata": {},
   "outputs": [
    {
     "data": {
      "text/html": [
       "<div>\n",
       "<style scoped>\n",
       "    .dataframe tbody tr th:only-of-type {\n",
       "        vertical-align: middle;\n",
       "    }\n",
       "\n",
       "    .dataframe tbody tr th {\n",
       "        vertical-align: top;\n",
       "    }\n",
       "\n",
       "    .dataframe thead th {\n",
       "        text-align: right;\n",
       "    }\n",
       "</style>\n",
       "<table border=\"1\" class=\"dataframe\">\n",
       "  <thead>\n",
       "    <tr style=\"text-align: right;\">\n",
       "      <th></th>\n",
       "      <th>interval_mean</th>\n",
       "    </tr>\n",
       "  </thead>\n",
       "  <tbody>\n",
       "    <tr>\n",
       "      <th>count</th>\n",
       "      <td>4144.000000</td>\n",
       "    </tr>\n",
       "    <tr>\n",
       "      <th>mean</th>\n",
       "      <td>2890.598708</td>\n",
       "    </tr>\n",
       "    <tr>\n",
       "      <th>std</th>\n",
       "      <td>4710.973733</td>\n",
       "    </tr>\n",
       "    <tr>\n",
       "      <th>min</th>\n",
       "      <td>1.000000</td>\n",
       "    </tr>\n",
       "    <tr>\n",
       "      <th>25%</th>\n",
       "      <td>399.000000</td>\n",
       "    </tr>\n",
       "    <tr>\n",
       "      <th>50%</th>\n",
       "      <td>1016.500000</td>\n",
       "    </tr>\n",
       "    <tr>\n",
       "      <th>75%</th>\n",
       "      <td>2948.750000</td>\n",
       "    </tr>\n",
       "    <tr>\n",
       "      <th>max</th>\n",
       "      <td>31924.000000</td>\n",
       "    </tr>\n",
       "  </tbody>\n",
       "</table>\n",
       "</div>"
      ],
      "text/plain": [
       "       interval_mean\n",
       "count    4144.000000\n",
       "mean     2890.598708\n",
       "std      4710.973733\n",
       "min         1.000000\n",
       "25%       399.000000\n",
       "50%      1016.500000\n",
       "75%      2948.750000\n",
       "max     31924.000000"
      ]
     },
     "execution_count": 40,
     "metadata": {},
     "output_type": "execute_result"
    }
   ],
   "source": [
    "df_sort.describe()"
   ]
  },
  {
   "cell_type": "code",
   "execution_count": 41,
   "metadata": {},
   "outputs": [
    {
     "data": {
      "image/png": "[encoded data removed]",
      "text/plain": [
       "<Figure size 720x504 with 1 Axes>"
      ]
     },
     "metadata": {
      "needs_background": "light"
     },
     "output_type": "display_data"
    }
   ],
   "source": [
    "# и в графическом виде распределение средних значений продолжительности сессий для пользователя.\n",
    "fig =  plt.figure(figsize =(10,7 )) \n",
    "plt.boxplot(df_sort['interval_mean'])\n",
    "plt.title('Распределение средней продолжительности сессии, характерной для пользователя')\n",
    "\n",
    "plt.ylabel('Средняя продолжительность сессии пользователя')\n",
    "\n",
    "plt.show()"
   ]
  },
  {
   "cell_type": "markdown",
   "metadata": {},
   "source": [
    "Распределение сильно смещено в сторону меньших значений, медиана приближена к первому квартилю и имеется длинный постепенно редеющий \"хвост\" выбросов, превышающих верхний ус."
   ]
  },
  {
   "cell_type": "markdown",
   "metadata": {},
   "source": [
    "**Определили на основании статистических данных и графика границы разделения пользователей на группы, по возможности соблюдая равномерность.**\n",
    "\n",
    "\n",
    "От нижнего уса до первого квартиля. Для 25% пользователей средняя продолжительность сессии не превышает 399 секунд (6,65 минут) назовем их  быстрыми `fast`. \n",
    "\n",
    "От первого квартиля до медианы. Следующая группа из 25% пользователей проводит в приложении в среднем от 399 секунд до  1016,5 секунд (от 6,65 до 16,94 минут) в день, назовём их деловыми  `business`. \n",
    "\n",
    "От медианы до третьего квартиля. Потенциальные покупатели, которые в среднем тратят в день на приложение от 1016,5 секунд до 2948,75 секунд (от 16,94 минут до 49,1 минут),пусть будут серьёзными `serious`. \n",
    "\n",
    "От третьего квартиля 2948,75 секунд (49,1 минуты) до конца максимального значения, назовём пользователей медленными `slow`. \n",
    "\n",
    "\n",
    "Получается 4 категории пользователей.\n",
    "\n",
    "Границы категорий округлим до удобных к восприятию значений:\n",
    " - до 7 минут (420 секунд) `fast`;\n",
    " - от 7 до 17 минут(421 - 1020 секунд) `business`;\n",
    " - от 17 минут до 50 минут (1021 - 3000 секунд) `serious`;\n",
    " - больше 50 минут  (3001 )`slow`;\n",
    " "
   ]
  },
  {
   "cell_type": "code",
   "execution_count": 42,
   "metadata": {},
   "outputs": [
    {
     "data": {
      "text/plain": [
       "fast        1080\n",
       "serious     1045\n",
       "slow        1032\n",
       "business     987\n",
       "Name: user_cat, dtype: int64"
      ]
     },
     "execution_count": 42,
     "metadata": {},
     "output_type": "execute_result"
    }
   ],
   "source": [
    "# функция для категоризации пользователей по значению средней продолжительности сессии\n",
    "def user_cat(df_sort):\n",
    "    if df_sort['interval_mean'] < 420:\n",
    "        return 'fast'\n",
    "    if 421 < df_sort['interval_mean'] < 1020:\n",
    "        return 'business'\n",
    "    if 1021 < df_sort['interval_mean'] < 3000:\n",
    "        return 'serious'\n",
    "    return 'slow'\n",
    "    \n",
    " \n",
    "df_sort['user_cat'] = df_sort.apply(user_cat, axis=1) # применили функцию  к таблице\n",
    "df_sort['user_cat'].value_counts()"
   ]
  },
  {
   "cell_type": "code",
   "execution_count": 43,
   "metadata": {},
   "outputs": [
    {
     "name": "stdout",
     "output_type": "stream",
     "text": [
      "4144\n"
     ]
    },
    {
     "data": {
      "text/html": [
       "<div>\n",
       "<style scoped>\n",
       "    .dataframe tbody tr th:only-of-type {\n",
       "        vertical-align: middle;\n",
       "    }\n",
       "\n",
       "    .dataframe tbody tr th {\n",
       "        vertical-align: top;\n",
       "    }\n",
       "\n",
       "    .dataframe thead th {\n",
       "        text-align: right;\n",
       "    }\n",
       "</style>\n",
       "<table border=\"1\" class=\"dataframe\">\n",
       "  <thead>\n",
       "    <tr style=\"text-align: right;\">\n",
       "      <th></th>\n",
       "      <th>user_id</th>\n",
       "      <th>interval_mean</th>\n",
       "      <th>user_cat</th>\n",
       "    </tr>\n",
       "  </thead>\n",
       "  <tbody>\n",
       "    <tr>\n",
       "      <th>0</th>\n",
       "      <td>4c38c011-e7d4-47a2-9da3-35888e0606b8</td>\n",
       "      <td>1.000000</td>\n",
       "      <td>fast</td>\n",
       "    </tr>\n",
       "    <tr>\n",
       "      <th>1</th>\n",
       "      <td>16a5371c-152f-48d8-86fe-5636a931316b</td>\n",
       "      <td>2.000000</td>\n",
       "      <td>fast</td>\n",
       "    </tr>\n",
       "    <tr>\n",
       "      <th>2</th>\n",
       "      <td>fcf065b5-ccb4-4d83-bded-8a759b4022fd</td>\n",
       "      <td>2.333333</td>\n",
       "      <td>fast</td>\n",
       "    </tr>\n",
       "    <tr>\n",
       "      <th>3</th>\n",
       "      <td>0bb1cfac-5a00-4677-88d0-d41929e5ad7c</td>\n",
       "      <td>3.000000</td>\n",
       "      <td>fast</td>\n",
       "    </tr>\n",
       "    <tr>\n",
       "      <th>4</th>\n",
       "      <td>d9b53b3f-bb75-4424-a474-da491f0a6501</td>\n",
       "      <td>3.000000</td>\n",
       "      <td>fast</td>\n",
       "    </tr>\n",
       "    <tr>\n",
       "      <th>5</th>\n",
       "      <td>516afefe-f606-4692-81e1-16c200a81b7c</td>\n",
       "      <td>3.000000</td>\n",
       "      <td>fast</td>\n",
       "    </tr>\n",
       "    <tr>\n",
       "      <th>6</th>\n",
       "      <td>48bbd3fe-c8b4-4caf-83bb-4bb3f3f68182</td>\n",
       "      <td>3.000000</td>\n",
       "      <td>fast</td>\n",
       "    </tr>\n",
       "    <tr>\n",
       "      <th>7</th>\n",
       "      <td>5d0f21d7-7af5-4e14-b63e-cad5e0c324ea</td>\n",
       "      <td>4.000000</td>\n",
       "      <td>fast</td>\n",
       "    </tr>\n",
       "    <tr>\n",
       "      <th>8</th>\n",
       "      <td>b088c790-c70b-473c-a774-7f440365aa82</td>\n",
       "      <td>4.000000</td>\n",
       "      <td>fast</td>\n",
       "    </tr>\n",
       "    <tr>\n",
       "      <th>9</th>\n",
       "      <td>7f364c04-f996-4ed6-89d0-ffbe627920ab</td>\n",
       "      <td>4.000000</td>\n",
       "      <td>fast</td>\n",
       "    </tr>\n",
       "  </tbody>\n",
       "</table>\n",
       "</div>"
      ],
      "text/plain": [
       "                                user_id  interval_mean user_cat\n",
       "0  4c38c011-e7d4-47a2-9da3-35888e0606b8       1.000000     fast\n",
       "1  16a5371c-152f-48d8-86fe-5636a931316b       2.000000     fast\n",
       "2  fcf065b5-ccb4-4d83-bded-8a759b4022fd       2.333333     fast\n",
       "3  0bb1cfac-5a00-4677-88d0-d41929e5ad7c       3.000000     fast\n",
       "4  d9b53b3f-bb75-4424-a474-da491f0a6501       3.000000     fast\n",
       "5  516afefe-f606-4692-81e1-16c200a81b7c       3.000000     fast\n",
       "6  48bbd3fe-c8b4-4caf-83bb-4bb3f3f68182       3.000000     fast\n",
       "7  5d0f21d7-7af5-4e14-b63e-cad5e0c324ea       4.000000     fast\n",
       "8  b088c790-c70b-473c-a774-7f440365aa82       4.000000     fast\n",
       "9  7f364c04-f996-4ed6-89d0-ffbe627920ab       4.000000     fast"
      ]
     },
     "execution_count": 43,
     "metadata": {},
     "output_type": "execute_result"
    }
   ],
   "source": [
    "print(df_sort['user_id'].nunique())\n",
    "df_sort.head(10)"
   ]
  },
  {
   "cell_type": "code",
   "execution_count": 44,
   "metadata": {},
   "outputs": [
    {
     "name": "stdout",
     "output_type": "stream",
     "text": [
      "4144\n"
     ]
    },
    {
     "data": {
      "text/html": [
       "<div>\n",
       "<style scoped>\n",
       "    .dataframe tbody tr th:only-of-type {\n",
       "        vertical-align: middle;\n",
       "    }\n",
       "\n",
       "    .dataframe tbody tr th {\n",
       "        vertical-align: top;\n",
       "    }\n",
       "\n",
       "    .dataframe thead th {\n",
       "        text-align: right;\n",
       "    }\n",
       "</style>\n",
       "<table border=\"1\" class=\"dataframe\">\n",
       "  <thead>\n",
       "    <tr style=\"text-align: right;\">\n",
       "      <th></th>\n",
       "      <th>event_time</th>\n",
       "      <th>event_name</th>\n",
       "      <th>user_id</th>\n",
       "      <th>day</th>\n",
       "      <th>source</th>\n",
       "      <th>user_cat</th>\n",
       "    </tr>\n",
       "  </thead>\n",
       "  <tbody>\n",
       "    <tr>\n",
       "      <th>0</th>\n",
       "      <td>2019-10-07 00:00:00</td>\n",
       "      <td>advert_open</td>\n",
       "      <td>020292ab-89bc-4156-9acf-68bc2783f894</td>\n",
       "      <td>2019-10-07</td>\n",
       "      <td>other</td>\n",
       "      <td>serious</td>\n",
       "    </tr>\n",
       "    <tr>\n",
       "      <th>1</th>\n",
       "      <td>2019-10-07 00:00:01</td>\n",
       "      <td>tips_show</td>\n",
       "      <td>020292ab-89bc-4156-9acf-68bc2783f894</td>\n",
       "      <td>2019-10-07</td>\n",
       "      <td>other</td>\n",
       "      <td>serious</td>\n",
       "    </tr>\n",
       "    <tr>\n",
       "      <th>2</th>\n",
       "      <td>2019-10-07 00:00:07</td>\n",
       "      <td>tips_show</td>\n",
       "      <td>020292ab-89bc-4156-9acf-68bc2783f894</td>\n",
       "      <td>2019-10-07</td>\n",
       "      <td>other</td>\n",
       "      <td>serious</td>\n",
       "    </tr>\n",
       "    <tr>\n",
       "      <th>3</th>\n",
       "      <td>2019-10-07 00:01:27</td>\n",
       "      <td>advert_open</td>\n",
       "      <td>020292ab-89bc-4156-9acf-68bc2783f894</td>\n",
       "      <td>2019-10-07</td>\n",
       "      <td>other</td>\n",
       "      <td>serious</td>\n",
       "    </tr>\n",
       "    <tr>\n",
       "      <th>4</th>\n",
       "      <td>2019-10-07 00:01:34</td>\n",
       "      <td>tips_show</td>\n",
       "      <td>020292ab-89bc-4156-9acf-68bc2783f894</td>\n",
       "      <td>2019-10-07</td>\n",
       "      <td>other</td>\n",
       "      <td>serious</td>\n",
       "    </tr>\n",
       "  </tbody>\n",
       "</table>\n",
       "</div>"
      ],
      "text/plain": [
       "           event_time   event_name                               user_id  \\\n",
       "0 2019-10-07 00:00:00  advert_open  020292ab-89bc-4156-9acf-68bc2783f894   \n",
       "1 2019-10-07 00:00:01    tips_show  020292ab-89bc-4156-9acf-68bc2783f894   \n",
       "2 2019-10-07 00:00:07    tips_show  020292ab-89bc-4156-9acf-68bc2783f894   \n",
       "3 2019-10-07 00:01:27  advert_open  020292ab-89bc-4156-9acf-68bc2783f894   \n",
       "4 2019-10-07 00:01:34    tips_show  020292ab-89bc-4156-9acf-68bc2783f894   \n",
       "\n",
       "          day source user_cat  \n",
       "0  2019-10-07  other  serious  \n",
       "1  2019-10-07  other  serious  \n",
       "2  2019-10-07  other  serious  \n",
       "3  2019-10-07  other  serious  \n",
       "4  2019-10-07  other  serious  "
      ]
     },
     "execution_count": 44,
     "metadata": {},
     "output_type": "execute_result"
    }
   ],
   "source": [
    "# добавили к общей таблице сведения о категории пользователя\n",
    "\n",
    "mobile = mobile.merge(df_sort[['user_id', 'user_cat']])\n",
    "print(mobile['user_id'].nunique())\n",
    "\n",
    "mobile.head()"
   ]
  },
  {
   "cell_type": "code",
   "execution_count": 45,
   "metadata": {},
   "outputs": [
    {
     "data": {
      "text/html": [
       "<div>\n",
       "<style scoped>\n",
       "    .dataframe tbody tr th:only-of-type {\n",
       "        vertical-align: middle;\n",
       "    }\n",
       "\n",
       "    .dataframe tbody tr th {\n",
       "        vertical-align: top;\n",
       "    }\n",
       "\n",
       "    .dataframe thead th {\n",
       "        text-align: right;\n",
       "    }\n",
       "</style>\n",
       "<table border=\"1\" class=\"dataframe\">\n",
       "  <thead>\n",
       "    <tr style=\"text-align: right;\">\n",
       "      <th></th>\n",
       "      <th>user_id</th>\n",
       "      <th>session</th>\n",
       "      <th>start</th>\n",
       "      <th>finish</th>\n",
       "      <th>first_event</th>\n",
       "      <th>last_event</th>\n",
       "      <th>count_event</th>\n",
       "      <th>interval</th>\n",
       "      <th>user_cat</th>\n",
       "    </tr>\n",
       "  </thead>\n",
       "  <tbody>\n",
       "    <tr>\n",
       "      <th>0</th>\n",
       "      <td>0001b1d5-b74a-4cbf-aeb0-7df5947bf349</td>\n",
       "      <td>2019-10-07</td>\n",
       "      <td>2019-10-07 13:39:45</td>\n",
       "      <td>2019-10-07 13:49:41</td>\n",
       "      <td>tips_show</td>\n",
       "      <td>tips_show</td>\n",
       "      <td>9</td>\n",
       "      <td>596.0</td>\n",
       "      <td>business</td>\n",
       "    </tr>\n",
       "    <tr>\n",
       "      <th>1</th>\n",
       "      <td>0001b1d5-b74a-4cbf-aeb0-7df5947bf349</td>\n",
       "      <td>2019-10-09</td>\n",
       "      <td>2019-10-09 18:33:55</td>\n",
       "      <td>2019-10-09 18:42:22</td>\n",
       "      <td>map</td>\n",
       "      <td>tips_show</td>\n",
       "      <td>4</td>\n",
       "      <td>507.0</td>\n",
       "      <td>business</td>\n",
       "    </tr>\n",
       "    <tr>\n",
       "      <th>2</th>\n",
       "      <td>0001b1d5-b74a-4cbf-aeb0-7df5947bf349</td>\n",
       "      <td>2019-10-21</td>\n",
       "      <td>2019-10-21 19:52:30</td>\n",
       "      <td>2019-10-21 20:07:30</td>\n",
       "      <td>tips_show</td>\n",
       "      <td>tips_show</td>\n",
       "      <td>14</td>\n",
       "      <td>900.0</td>\n",
       "      <td>business</td>\n",
       "    </tr>\n",
       "    <tr>\n",
       "      <th>3</th>\n",
       "      <td>0001b1d5-b74a-4cbf-aeb0-7df5947bf349</td>\n",
       "      <td>2019-10-22</td>\n",
       "      <td>2019-10-22 11:18:14</td>\n",
       "      <td>2019-10-22 11:30:52</td>\n",
       "      <td>map</td>\n",
       "      <td>tips_show</td>\n",
       "      <td>8</td>\n",
       "      <td>758.0</td>\n",
       "      <td>business</td>\n",
       "    </tr>\n",
       "    <tr>\n",
       "      <th>4</th>\n",
       "      <td>00157779-810c-4498-9e05-a1e9e3cedf93</td>\n",
       "      <td>2019-10-19</td>\n",
       "      <td>2019-10-19 21:34:33</td>\n",
       "      <td>2019-10-19 21:59:54</td>\n",
       "      <td>search</td>\n",
       "      <td>photos_show</td>\n",
       "      <td>9</td>\n",
       "      <td>1521.0</td>\n",
       "      <td>serious</td>\n",
       "    </tr>\n",
       "    <tr>\n",
       "      <th>...</th>\n",
       "      <td>...</td>\n",
       "      <td>...</td>\n",
       "      <td>...</td>\n",
       "      <td>...</td>\n",
       "      <td>...</td>\n",
       "      <td>...</td>\n",
       "      <td>...</td>\n",
       "      <td>...</td>\n",
       "      <td>...</td>\n",
       "    </tr>\n",
       "    <tr>\n",
       "      <th>6436</th>\n",
       "      <td>fffb9e79-b927-4dbb-9b48-7fd09b23a62b</td>\n",
       "      <td>2019-10-27</td>\n",
       "      <td>2019-10-27 14:46:59</td>\n",
       "      <td>2019-10-27 20:00:53</td>\n",
       "      <td>tips_show</td>\n",
       "      <td>contacts_show</td>\n",
       "      <td>17</td>\n",
       "      <td>18834.0</td>\n",
       "      <td>slow</td>\n",
       "    </tr>\n",
       "    <tr>\n",
       "      <th>6437</th>\n",
       "      <td>fffb9e79-b927-4dbb-9b48-7fd09b23a62b</td>\n",
       "      <td>2019-10-28</td>\n",
       "      <td>2019-10-28 11:49:38</td>\n",
       "      <td>2019-10-28 15:15:51</td>\n",
       "      <td>tips_show</td>\n",
       "      <td>contacts_show</td>\n",
       "      <td>7</td>\n",
       "      <td>12373.0</td>\n",
       "      <td>slow</td>\n",
       "    </tr>\n",
       "    <tr>\n",
       "      <th>6438</th>\n",
       "      <td>fffb9e79-b927-4dbb-9b48-7fd09b23a62b</td>\n",
       "      <td>2019-10-29</td>\n",
       "      <td>2019-10-29 13:58:47</td>\n",
       "      <td>2019-10-29 16:13:00</td>\n",
       "      <td>tips_show</td>\n",
       "      <td>contacts_show</td>\n",
       "      <td>20</td>\n",
       "      <td>8053.0</td>\n",
       "      <td>slow</td>\n",
       "    </tr>\n",
       "    <tr>\n",
       "      <th>6439</th>\n",
       "      <td>fffb9e79-b927-4dbb-9b48-7fd09b23a62b</td>\n",
       "      <td>2019-11-01</td>\n",
       "      <td>2019-11-01 00:24:31</td>\n",
       "      <td>2019-11-01 00:24:53</td>\n",
       "      <td>tips_show</td>\n",
       "      <td>tips_show</td>\n",
       "      <td>2</td>\n",
       "      <td>22.0</td>\n",
       "      <td>slow</td>\n",
       "    </tr>\n",
       "    <tr>\n",
       "      <th>6440</th>\n",
       "      <td>fffb9e79-b927-4dbb-9b48-7fd09b23a62b</td>\n",
       "      <td>2019-11-03</td>\n",
       "      <td>2019-11-03 14:32:55</td>\n",
       "      <td>2019-11-03 16:08:25</td>\n",
       "      <td>tips_show</td>\n",
       "      <td>tips_show</td>\n",
       "      <td>29</td>\n",
       "      <td>5730.0</td>\n",
       "      <td>slow</td>\n",
       "    </tr>\n",
       "  </tbody>\n",
       "</table>\n",
       "<p>6441 rows × 9 columns</p>\n",
       "</div>"
      ],
      "text/plain": [
       "                                   user_id     session               start  \\\n",
       "0     0001b1d5-b74a-4cbf-aeb0-7df5947bf349  2019-10-07 2019-10-07 13:39:45   \n",
       "1     0001b1d5-b74a-4cbf-aeb0-7df5947bf349  2019-10-09 2019-10-09 18:33:55   \n",
       "2     0001b1d5-b74a-4cbf-aeb0-7df5947bf349  2019-10-21 2019-10-21 19:52:30   \n",
       "3     0001b1d5-b74a-4cbf-aeb0-7df5947bf349  2019-10-22 2019-10-22 11:18:14   \n",
       "4     00157779-810c-4498-9e05-a1e9e3cedf93  2019-10-19 2019-10-19 21:34:33   \n",
       "...                                    ...         ...                 ...   \n",
       "6436  fffb9e79-b927-4dbb-9b48-7fd09b23a62b  2019-10-27 2019-10-27 14:46:59   \n",
       "6437  fffb9e79-b927-4dbb-9b48-7fd09b23a62b  2019-10-28 2019-10-28 11:49:38   \n",
       "6438  fffb9e79-b927-4dbb-9b48-7fd09b23a62b  2019-10-29 2019-10-29 13:58:47   \n",
       "6439  fffb9e79-b927-4dbb-9b48-7fd09b23a62b  2019-11-01 2019-11-01 00:24:31   \n",
       "6440  fffb9e79-b927-4dbb-9b48-7fd09b23a62b  2019-11-03 2019-11-03 14:32:55   \n",
       "\n",
       "                  finish first_event     last_event  count_event  interval  \\\n",
       "0    2019-10-07 13:49:41   tips_show      tips_show            9     596.0   \n",
       "1    2019-10-09 18:42:22         map      tips_show            4     507.0   \n",
       "2    2019-10-21 20:07:30   tips_show      tips_show           14     900.0   \n",
       "3    2019-10-22 11:30:52         map      tips_show            8     758.0   \n",
       "4    2019-10-19 21:59:54      search    photos_show            9    1521.0   \n",
       "...                  ...         ...            ...          ...       ...   \n",
       "6436 2019-10-27 20:00:53   tips_show  contacts_show           17   18834.0   \n",
       "6437 2019-10-28 15:15:51   tips_show  contacts_show            7   12373.0   \n",
       "6438 2019-10-29 16:13:00   tips_show  contacts_show           20    8053.0   \n",
       "6439 2019-11-01 00:24:53   tips_show      tips_show            2      22.0   \n",
       "6440 2019-11-03 16:08:25   tips_show      tips_show           29    5730.0   \n",
       "\n",
       "      user_cat  \n",
       "0     business  \n",
       "1     business  \n",
       "2     business  \n",
       "3     business  \n",
       "4      serious  \n",
       "...        ...  \n",
       "6436      slow  \n",
       "6437      slow  \n",
       "6438      slow  \n",
       "6439      slow  \n",
       "6440      slow  \n",
       "\n",
       "[6441 rows x 9 columns]"
      ]
     },
     "execution_count": 45,
     "metadata": {},
     "output_type": "execute_result"
    }
   ],
   "source": [
    "# добавили признак категории к рабочей таблице \n",
    "mobile_df = mobile_df.merge(df_sort[['user_id', 'user_cat']])\n",
    "mobile_df"
   ]
  },
  {
   "cell_type": "code",
   "execution_count": 46,
   "metadata": {},
   "outputs": [
    {
     "data": {
      "text/html": [
       "<div>\n",
       "<style scoped>\n",
       "    .dataframe tbody tr th:only-of-type {\n",
       "        vertical-align: middle;\n",
       "    }\n",
       "\n",
       "    .dataframe tbody tr th {\n",
       "        vertical-align: top;\n",
       "    }\n",
       "\n",
       "    .dataframe thead th {\n",
       "        text-align: right;\n",
       "    }\n",
       "</style>\n",
       "<table border=\"1\" class=\"dataframe\">\n",
       "  <thead>\n",
       "    <tr style=\"text-align: right;\">\n",
       "      <th></th>\n",
       "      <th>user_cat</th>\n",
       "      <th>event_count</th>\n",
       "      <th>user_count</th>\n",
       "      <th>user_event_count</th>\n",
       "    </tr>\n",
       "  </thead>\n",
       "  <tbody>\n",
       "    <tr>\n",
       "      <th>1</th>\n",
       "      <td>fast</td>\n",
       "      <td>6802</td>\n",
       "      <td>1080</td>\n",
       "      <td>6.0</td>\n",
       "    </tr>\n",
       "    <tr>\n",
       "      <th>0</th>\n",
       "      <td>business</td>\n",
       "      <td>10766</td>\n",
       "      <td>987</td>\n",
       "      <td>11.0</td>\n",
       "    </tr>\n",
       "    <tr>\n",
       "      <th>2</th>\n",
       "      <td>serious</td>\n",
       "      <td>19291</td>\n",
       "      <td>1045</td>\n",
       "      <td>18.0</td>\n",
       "    </tr>\n",
       "    <tr>\n",
       "      <th>3</th>\n",
       "      <td>slow</td>\n",
       "      <td>34487</td>\n",
       "      <td>1032</td>\n",
       "      <td>33.0</td>\n",
       "    </tr>\n",
       "  </tbody>\n",
       "</table>\n",
       "</div>"
      ],
      "text/plain": [
       "   user_cat  event_count  user_count  user_event_count\n",
       "1      fast         6802        1080               6.0\n",
       "0  business        10766         987              11.0\n",
       "2   serious        19291        1045              18.0\n",
       "3      slow        34487        1032              33.0"
      ]
     },
     "execution_count": 46,
     "metadata": {},
     "output_type": "execute_result"
    }
   ],
   "source": [
    "# посчитали количество событий, количество пользователей и среднее количество событий на \n",
    "# одного пользователя для каждой категории\n",
    "user_category = mobile.pivot_table(index = 'user_cat', aggfunc = {\n",
    "    'event_name': 'count',\n",
    "    'user_id' : 'nunique',}).reset_index()                   \n",
    "# посчитали среднее количество событий на одного пользователя для каждой категории\n",
    "user_category['event_mean_count']  = (user_category['event_name']/ user_category['user_id']).round()\n",
    "# переименовали колонки\n",
    "user_category.columns = ['user_cat', 'event_count', 'user_count', 'user_event_count']\n",
    "user_category = user_category.sort_values(by='user_event_count')\n",
    "user_category"
   ]
  },
  {
   "cell_type": "markdown",
   "metadata": {},
   "source": [
    "Никаких неожиданностей, чем дольше сидят в приложении, тем больше успевают совершить действий"
   ]
  },
  {
   "cell_type": "markdown",
   "metadata": {},
   "source": [
    "Проверили, как различается по категориям пользовательская активность — количество уникальных активных пользователей за определённое время.\n",
    "DAU — количество уникальных пользователей в день, этого достаточно, чтобы оценить различия поведения  пользователей различных категорий. Активность за неделю или месяц не стали оценивать. "
   ]
  },
  {
   "cell_type": "code",
   "execution_count": 47,
   "metadata": {},
   "outputs": [
    {
     "data": {
      "text/plain": [
       "user_id    272.0\n",
       "dtype: float64"
      ]
     },
     "execution_count": 47,
     "metadata": {},
     "output_type": "execute_result"
    }
   ],
   "source": [
    "# для всех пользователей\n",
    "dau_total = (mobile.groupby('day').agg({'user_id': 'nunique'}).mean().round())\n",
    "dau_total\n"
   ]
  },
  {
   "cell_type": "code",
   "execution_count": 48,
   "metadata": {},
   "outputs": [
    {
     "data": {
      "text/plain": [
       "user_id    59.357143\n",
       "dtype: float64"
      ]
     },
     "execution_count": 48,
     "metadata": {},
     "output_type": "execute_result"
    }
   ],
   "source": [
    "# только быстрые\n",
    "dau_fast = (mobile.query('user_cat == \"fast\"').groupby('day').agg({'user_id': 'nunique'}).mean())\n",
    "dau_fast"
   ]
  },
  {
   "cell_type": "code",
   "execution_count": 49,
   "metadata": {},
   "outputs": [
    {
     "data": {
      "text/plain": [
       "user_id    54.892857\n",
       "dtype: float64"
      ]
     },
     "execution_count": 49,
     "metadata": {},
     "output_type": "execute_result"
    }
   ],
   "source": [
    "# только деловые\n",
    "dau_business = (mobile.query('user_cat == \"business\"').groupby('day').agg({'user_id': 'nunique'}).mean())\n",
    "dau_business"
   ]
  },
  {
   "cell_type": "code",
   "execution_count": 50,
   "metadata": {},
   "outputs": [
    {
     "data": {
      "text/plain": [
       "user_id    61.107143\n",
       "dtype: float64"
      ]
     },
     "execution_count": 50,
     "metadata": {},
     "output_type": "execute_result"
    }
   ],
   "source": [
    "# только серьёзные\n",
    "dau_serious = (mobile.query('user_cat == \"serious\"').groupby('day').agg({'user_id': 'nunique'}).mean())\n",
    "dau_serious"
   ]
  },
  {
   "cell_type": "code",
   "execution_count": 51,
   "metadata": {},
   "outputs": [
    {
     "data": {
      "text/plain": [
       "user_id    96.464286\n",
       "dtype: float64"
      ]
     },
     "execution_count": 51,
     "metadata": {},
     "output_type": "execute_result"
    }
   ],
   "source": [
    "# только медленные\n",
    "dau_slow = (mobile.query('user_cat == \"slow\"').groupby('day').agg({'user_id': 'nunique'}).mean())\n",
    "dau_slow"
   ]
  },
  {
   "cell_type": "markdown",
   "metadata": {},
   "source": [
    "Добавили колонку DAU для каждой категории в таблицу `user_category`"
   ]
  },
  {
   "cell_type": "code",
   "execution_count": 52,
   "metadata": {},
   "outputs": [
    {
     "data": {
      "text/html": [
       "<div>\n",
       "<style scoped>\n",
       "    .dataframe tbody tr th:only-of-type {\n",
       "        vertical-align: middle;\n",
       "    }\n",
       "\n",
       "    .dataframe tbody tr th {\n",
       "        vertical-align: top;\n",
       "    }\n",
       "\n",
       "    .dataframe thead th {\n",
       "        text-align: right;\n",
       "    }\n",
       "</style>\n",
       "<table border=\"1\" class=\"dataframe\">\n",
       "  <thead>\n",
       "    <tr style=\"text-align: right;\">\n",
       "      <th></th>\n",
       "      <th>user_cat</th>\n",
       "      <th>event_count</th>\n",
       "      <th>user_count</th>\n",
       "      <th>user_event_count</th>\n",
       "      <th>dau</th>\n",
       "    </tr>\n",
       "  </thead>\n",
       "  <tbody>\n",
       "    <tr>\n",
       "      <th>1</th>\n",
       "      <td>fast</td>\n",
       "      <td>6802</td>\n",
       "      <td>1080</td>\n",
       "      <td>6.0</td>\n",
       "      <td>59</td>\n",
       "    </tr>\n",
       "    <tr>\n",
       "      <th>0</th>\n",
       "      <td>business</td>\n",
       "      <td>10766</td>\n",
       "      <td>987</td>\n",
       "      <td>11.0</td>\n",
       "      <td>54</td>\n",
       "    </tr>\n",
       "    <tr>\n",
       "      <th>2</th>\n",
       "      <td>serious</td>\n",
       "      <td>19291</td>\n",
       "      <td>1045</td>\n",
       "      <td>18.0</td>\n",
       "      <td>61</td>\n",
       "    </tr>\n",
       "    <tr>\n",
       "      <th>3</th>\n",
       "      <td>slow</td>\n",
       "      <td>34487</td>\n",
       "      <td>1032</td>\n",
       "      <td>33.0</td>\n",
       "      <td>96</td>\n",
       "    </tr>\n",
       "  </tbody>\n",
       "</table>\n",
       "</div>"
      ],
      "text/plain": [
       "   user_cat  event_count  user_count  user_event_count  dau\n",
       "1      fast         6802        1080               6.0   59\n",
       "0  business        10766         987              11.0   54\n",
       "2   serious        19291        1045              18.0   61\n",
       "3      slow        34487        1032              33.0   96"
      ]
     },
     "execution_count": 52,
     "metadata": {},
     "output_type": "execute_result"
    }
   ],
   "source": [
    "user_category['dau']  = [\n",
    "    (int(dau_fast)), (int(dau_business)), (int(dau_serious)), (int(dau_slow))\n",
    "]\n",
    "user_category"
   ]
  },
  {
   "cell_type": "markdown",
   "metadata": {},
   "source": [
    "Хотя DAU называют \"метрикой тщеславия\", за то что она мало чувствительна к изменениям в продукте и, как правило, всегда растёт, нам она подтверждает правильность выбранного критерия для категоризации пользователей на основании среднего времени, проводимого человеком в приложении за одно посещение. Разделяя пользователей на категории мы сформировали группы примероно одинакокой численности, приблизительно 1000 человек, отклонения объясняются тем, что мы отступили от границ перцентилей, чтобы границы разделения групп были более удобны для восприятия. \n",
    "\n",
    "Больше всего пользователей в день составляют те, кто проводит в приложении больше 50 минут за сессию. \n",
    "\n",
    "Остальные группы представлены каждый день равномерно."
   ]
  },
  {
   "cell_type": "markdown",
   "metadata": {},
   "source": [
    "**Выводы**\n",
    "\n",
    "Разделили пользователей приложения \"Ненужные вещи\" на 4 категории, исходя из характерного для пользователя времени, которое он проводит в приложении за одно посещение. Сделали допущение, что одно посещение равно одним суткам. Постарались распределить пользователей по группам равномерно, примерно 1000 человек.  \n",
    "\n",
    "Установили следующие границы для разделения на группы:\n",
    " - \"Быстрые\" до 7 минут (420 секунд) `fast`;\n",
    " - \"Деловые\" от 7 до 17 минут(421 - 1020 секунд) `business`;\n",
    " - \"Серьёзные\" от 17 минут до 50 минут (1021 - 3000 секунд) `serious`;\n",
    " - \"Медленные\" от 50 минут (3001 секунда)`slow`. "
   ]
  },
  {
   "cell_type": "markdown",
   "metadata": {},
   "source": [
    "## Ответы на вопросы заказчика"
   ]
  },
  {
   "cell_type": "markdown",
   "metadata": {},
   "source": [
    "### Какие пользователи склонны часто возвращаться в мобильное приложение."
   ]
  },
  {
   "cell_type": "markdown",
   "metadata": {},
   "source": [
    "Чем большее дней, когда пользователь заходил в приложение, тем больше он склонен возвращаться. Посчитали количество посещений для каждого пользователя."
   ]
  },
  {
   "cell_type": "code",
   "execution_count": 53,
   "metadata": {},
   "outputs": [
    {
     "data": {
      "text/html": [
       "<div>\n",
       "<style scoped>\n",
       "    .dataframe tbody tr th:only-of-type {\n",
       "        vertical-align: middle;\n",
       "    }\n",
       "\n",
       "    .dataframe tbody tr th {\n",
       "        vertical-align: top;\n",
       "    }\n",
       "\n",
       "    .dataframe thead th {\n",
       "        text-align: right;\n",
       "    }\n",
       "</style>\n",
       "<table border=\"1\" class=\"dataframe\">\n",
       "  <thead>\n",
       "    <tr style=\"text-align: right;\">\n",
       "      <th></th>\n",
       "      <th>user_cat</th>\n",
       "      <th>user_id</th>\n",
       "      <th>day</th>\n",
       "    </tr>\n",
       "  </thead>\n",
       "  <tbody>\n",
       "    <tr>\n",
       "      <th>2071</th>\n",
       "      <td>serious</td>\n",
       "      <td>00b59e77-3dc8-4193-a217-c50b9fe849bf</td>\n",
       "      <td>1</td>\n",
       "    </tr>\n",
       "    <tr>\n",
       "      <th>2241</th>\n",
       "      <td>serious</td>\n",
       "      <td>22588646-6cb5-4a86-af6e-b14b1ff4179a</td>\n",
       "      <td>1</td>\n",
       "    </tr>\n",
       "    <tr>\n",
       "      <th>2242</th>\n",
       "      <td>serious</td>\n",
       "      <td>226f0c0a-145a-42b6-89d4-a5ce49fddbb3</td>\n",
       "      <td>1</td>\n",
       "    </tr>\n",
       "    <tr>\n",
       "      <th>2243</th>\n",
       "      <td>serious</td>\n",
       "      <td>22a038dd-c03d-4717-bca1-f990dec2dcda</td>\n",
       "      <td>1</td>\n",
       "    </tr>\n",
       "    <tr>\n",
       "      <th>3993</th>\n",
       "      <td>slow</td>\n",
       "      <td>db10ec58-2287-4e77-a281-8194ef558441</td>\n",
       "      <td>1</td>\n",
       "    </tr>\n",
       "    <tr>\n",
       "      <th>...</th>\n",
       "      <td>...</td>\n",
       "      <td>...</td>\n",
       "      <td>...</td>\n",
       "    </tr>\n",
       "    <tr>\n",
       "      <th>3505</th>\n",
       "      <td>slow</td>\n",
       "      <td>6383ff6a-04b8-4562-a98f-bb4f760d3c39</td>\n",
       "      <td>18</td>\n",
       "    </tr>\n",
       "    <tr>\n",
       "      <th>3189</th>\n",
       "      <td>slow</td>\n",
       "      <td>1580911b-65db-4f1a-be7e-1ca39becac30</td>\n",
       "      <td>18</td>\n",
       "    </tr>\n",
       "    <tr>\n",
       "      <th>3603</th>\n",
       "      <td>slow</td>\n",
       "      <td>7e797355-265c-4997-ba47-2258e06d3c66</td>\n",
       "      <td>21</td>\n",
       "    </tr>\n",
       "    <tr>\n",
       "      <th>3158</th>\n",
       "      <td>slow</td>\n",
       "      <td>0d9e5bb7-0ad6-4b62-a118-b1e4f5b31dfa</td>\n",
       "      <td>21</td>\n",
       "    </tr>\n",
       "    <tr>\n",
       "      <th>3243</th>\n",
       "      <td>slow</td>\n",
       "      <td>21230dd9-2f7f-4b77-a436-43d4d10388e0</td>\n",
       "      <td>25</td>\n",
       "    </tr>\n",
       "  </tbody>\n",
       "</table>\n",
       "<p>4144 rows × 3 columns</p>\n",
       "</div>"
      ],
      "text/plain": [
       "     user_cat                               user_id  day\n",
       "2071  serious  00b59e77-3dc8-4193-a217-c50b9fe849bf    1\n",
       "2241  serious  22588646-6cb5-4a86-af6e-b14b1ff4179a    1\n",
       "2242  serious  226f0c0a-145a-42b6-89d4-a5ce49fddbb3    1\n",
       "2243  serious  22a038dd-c03d-4717-bca1-f990dec2dcda    1\n",
       "3993     slow  db10ec58-2287-4e77-a281-8194ef558441    1\n",
       "...       ...                                   ...  ...\n",
       "3505     slow  6383ff6a-04b8-4562-a98f-bb4f760d3c39   18\n",
       "3189     slow  1580911b-65db-4f1a-be7e-1ca39becac30   18\n",
       "3603     slow  7e797355-265c-4997-ba47-2258e06d3c66   21\n",
       "3158     slow  0d9e5bb7-0ad6-4b62-a118-b1e4f5b31dfa   21\n",
       "3243     slow  21230dd9-2f7f-4b77-a436-43d4d10388e0   25\n",
       "\n",
       "[4144 rows x 3 columns]"
      ]
     },
     "execution_count": 53,
     "metadata": {},
     "output_type": "execute_result"
    }
   ],
   "source": [
    "df_day = mobile.groupby(['user_cat', 'user_id']).agg({'day':'nunique'}).reset_index().sort_values(by='day')\n",
    "df_day"
   ]
  },
  {
   "cell_type": "markdown",
   "metadata": {},
   "source": [
    "Количество посещений приложения одним пользователем за исследуемый период составляет от 1 до 25 раз"
   ]
  },
  {
   "cell_type": "code",
   "execution_count": 54,
   "metadata": {},
   "outputs": [
    {
     "data": {
      "image/png": "[encoded data removed]",
      "text/plain": [
       "<Figure size 1080x720 with 1 Axes>"
      ]
     },
     "metadata": {
      "needs_background": "light"
     },
     "output_type": "display_data"
    }
   ],
   "source": [
    "# гистограмма распределения количества сессий за исследуемый период\n",
    "df_day['day'].hist(bins=100, figsize=(15,10))\n",
    "plt.title('Распределение количества посещений каждым пользователем')\n",
    "plt.xlabel('Количество посещений')\n",
    "\n",
    "plt.show();"
   ]
  },
  {
   "cell_type": "markdown",
   "metadata": {},
   "source": [
    "Пользователи, которые заходили в приложение 1 раз за исследуемый период, составляют подавляющее большинство. Но нашелся покупатель, который искал ненужные вещи 25 дней из 28. Чтобы ответить на вопрос заказчика: \"Какие пользователи склонны часто возвращаться в мобильное приложение?\" построили распределение количества сессий для каждой категории."
   ]
  },
  {
   "cell_type": "code",
   "execution_count": 55,
   "metadata": {},
   "outputs": [
    {
     "data": {
      "text/html": [
       "<div>\n",
       "<style scoped>\n",
       "    .dataframe tbody tr th:only-of-type {\n",
       "        vertical-align: middle;\n",
       "    }\n",
       "\n",
       "    .dataframe tbody tr th {\n",
       "        vertical-align: top;\n",
       "    }\n",
       "\n",
       "    .dataframe thead th {\n",
       "        text-align: right;\n",
       "    }\n",
       "</style>\n",
       "<table border=\"1\" class=\"dataframe\">\n",
       "  <thead>\n",
       "    <tr style=\"text-align: right;\">\n",
       "      <th>user_cat</th>\n",
       "      <th>business</th>\n",
       "      <th>fast</th>\n",
       "      <th>serious</th>\n",
       "      <th>slow</th>\n",
       "    </tr>\n",
       "    <tr>\n",
       "      <th>day</th>\n",
       "      <th></th>\n",
       "      <th></th>\n",
       "      <th></th>\n",
       "      <th></th>\n",
       "    </tr>\n",
       "  </thead>\n",
       "  <tbody>\n",
       "    <tr>\n",
       "      <th>1</th>\n",
       "      <td>697.0</td>\n",
       "      <td>736.0</td>\n",
       "      <td>723.0</td>\n",
       "      <td>480.0</td>\n",
       "    </tr>\n",
       "    <tr>\n",
       "      <th>2</th>\n",
       "      <td>161.0</td>\n",
       "      <td>211.0</td>\n",
       "      <td>163.0</td>\n",
       "      <td>238.0</td>\n",
       "    </tr>\n",
       "    <tr>\n",
       "      <th>3</th>\n",
       "      <td>68.0</td>\n",
       "      <td>78.0</td>\n",
       "      <td>83.0</td>\n",
       "      <td>110.0</td>\n",
       "    </tr>\n",
       "    <tr>\n",
       "      <th>4</th>\n",
       "      <td>34.0</td>\n",
       "      <td>33.0</td>\n",
       "      <td>35.0</td>\n",
       "      <td>52.0</td>\n",
       "    </tr>\n",
       "    <tr>\n",
       "      <th>5</th>\n",
       "      <td>12.0</td>\n",
       "      <td>10.0</td>\n",
       "      <td>19.0</td>\n",
       "      <td>44.0</td>\n",
       "    </tr>\n",
       "    <tr>\n",
       "      <th>6</th>\n",
       "      <td>7.0</td>\n",
       "      <td>5.0</td>\n",
       "      <td>5.0</td>\n",
       "      <td>27.0</td>\n",
       "    </tr>\n",
       "    <tr>\n",
       "      <th>7</th>\n",
       "      <td>4.0</td>\n",
       "      <td>5.0</td>\n",
       "      <td>6.0</td>\n",
       "      <td>24.0</td>\n",
       "    </tr>\n",
       "    <tr>\n",
       "      <th>8</th>\n",
       "      <td>0.0</td>\n",
       "      <td>0.0</td>\n",
       "      <td>4.0</td>\n",
       "      <td>16.0</td>\n",
       "    </tr>\n",
       "    <tr>\n",
       "      <th>9</th>\n",
       "      <td>0.0</td>\n",
       "      <td>1.0</td>\n",
       "      <td>2.0</td>\n",
       "      <td>5.0</td>\n",
       "    </tr>\n",
       "    <tr>\n",
       "      <th>10</th>\n",
       "      <td>2.0</td>\n",
       "      <td>0.0</td>\n",
       "      <td>2.0</td>\n",
       "      <td>7.0</td>\n",
       "    </tr>\n",
       "    <tr>\n",
       "      <th>11</th>\n",
       "      <td>0.0</td>\n",
       "      <td>0.0</td>\n",
       "      <td>1.0</td>\n",
       "      <td>3.0</td>\n",
       "    </tr>\n",
       "    <tr>\n",
       "      <th>12</th>\n",
       "      <td>1.0</td>\n",
       "      <td>0.0</td>\n",
       "      <td>1.0</td>\n",
       "      <td>8.0</td>\n",
       "    </tr>\n",
       "    <tr>\n",
       "      <th>13</th>\n",
       "      <td>0.0</td>\n",
       "      <td>0.0</td>\n",
       "      <td>1.0</td>\n",
       "      <td>6.0</td>\n",
       "    </tr>\n",
       "    <tr>\n",
       "      <th>14</th>\n",
       "      <td>0.0</td>\n",
       "      <td>1.0</td>\n",
       "      <td>0.0</td>\n",
       "      <td>4.0</td>\n",
       "    </tr>\n",
       "    <tr>\n",
       "      <th>15</th>\n",
       "      <td>0.0</td>\n",
       "      <td>0.0</td>\n",
       "      <td>0.0</td>\n",
       "      <td>1.0</td>\n",
       "    </tr>\n",
       "    <tr>\n",
       "      <th>16</th>\n",
       "      <td>1.0</td>\n",
       "      <td>0.0</td>\n",
       "      <td>0.0</td>\n",
       "      <td>1.0</td>\n",
       "    </tr>\n",
       "    <tr>\n",
       "      <th>17</th>\n",
       "      <td>0.0</td>\n",
       "      <td>0.0</td>\n",
       "      <td>0.0</td>\n",
       "      <td>1.0</td>\n",
       "    </tr>\n",
       "    <tr>\n",
       "      <th>18</th>\n",
       "      <td>0.0</td>\n",
       "      <td>0.0</td>\n",
       "      <td>0.0</td>\n",
       "      <td>2.0</td>\n",
       "    </tr>\n",
       "    <tr>\n",
       "      <th>21</th>\n",
       "      <td>0.0</td>\n",
       "      <td>0.0</td>\n",
       "      <td>0.0</td>\n",
       "      <td>2.0</td>\n",
       "    </tr>\n",
       "    <tr>\n",
       "      <th>25</th>\n",
       "      <td>0.0</td>\n",
       "      <td>0.0</td>\n",
       "      <td>0.0</td>\n",
       "      <td>1.0</td>\n",
       "    </tr>\n",
       "  </tbody>\n",
       "</table>\n",
       "</div>"
      ],
      "text/plain": [
       "user_cat  business   fast  serious   slow\n",
       "day                                      \n",
       "1            697.0  736.0    723.0  480.0\n",
       "2            161.0  211.0    163.0  238.0\n",
       "3             68.0   78.0     83.0  110.0\n",
       "4             34.0   33.0     35.0   52.0\n",
       "5             12.0   10.0     19.0   44.0\n",
       "6              7.0    5.0      5.0   27.0\n",
       "7              4.0    5.0      6.0   24.0\n",
       "8              0.0    0.0      4.0   16.0\n",
       "9              0.0    1.0      2.0    5.0\n",
       "10             2.0    0.0      2.0    7.0\n",
       "11             0.0    0.0      1.0    3.0\n",
       "12             1.0    0.0      1.0    8.0\n",
       "13             0.0    0.0      1.0    6.0\n",
       "14             0.0    1.0      0.0    4.0\n",
       "15             0.0    0.0      0.0    1.0\n",
       "16             1.0    0.0      0.0    1.0\n",
       "17             0.0    0.0      0.0    1.0\n",
       "18             0.0    0.0      0.0    2.0\n",
       "21             0.0    0.0      0.0    2.0\n",
       "25             0.0    0.0      0.0    1.0"
      ]
     },
     "execution_count": 55,
     "metadata": {},
     "output_type": "execute_result"
    }
   ],
   "source": [
    "# повернули таблицу, чтобы категории стали колонками\n",
    "df_d = df_day.pivot_table(index = 'day', columns = 'user_cat', values = 'user_id', aggfunc = 'nunique')\n",
    "df_d.fillna(0) "
   ]
  },
  {
   "cell_type": "code",
   "execution_count": 56,
   "metadata": {},
   "outputs": [
    {
     "data": {
      "image/png": "[encoded data removed]",
      "text/plain": [
       "<Figure size 1080x720 with 1 Axes>"
      ]
     },
     "metadata": {
      "needs_background": "light"
     },
     "output_type": "display_data"
    }
   ],
   "source": [
    "# построили столбчатую диаграмму распределения количество сессиий для разных категорий\n",
    "plt.rcParams[\"figure.figsize\"] = (15, 10)\n",
    "#plt.figure(figsize=(15, 10))\n",
    "df_d.plot.bar()\n",
    "plt.title('Распределение количества сессий для разных категорий')\n",
    "plt.xlabel('Количество посещений')\n",
    "\n",
    "plt.show();"
   ]
  },
  {
   "cell_type": "code",
   "execution_count": 57,
   "metadata": {
    "scrolled": false
   },
   "outputs": [
    {
     "data": {
      "image/png": "[encoded data removed]",
      "text/plain": [
       "<Figure size 1080x720 with 1 Axes>"
      ]
     },
     "metadata": {
      "needs_background": "light"
     },
     "output_type": "display_data"
    }
   ],
   "source": [
    "# построили совместные гистограммы\n",
    "ax = df_day.query('user_cat == \"fast\"')['day'].plot(kind='hist', range=(5, 25), alpha=0.7, label='fast', legend=True, figsize=(15, 10))\n",
    "df_day.query('user_cat == \"business\"')['day'].plot(kind='hist', range=(5, 25), alpha=0.5, label='business', ax=ax, grid=True, legend=True)\n",
    "df_day.query('user_cat == \"serious\"')['day'].plot(kind='hist', range=(5, 25), alpha=0.5, label='serious', ax=ax, grid=True, legend=True)\n",
    "df_day.query('user_cat == \"slow\"')['day'].plot(kind='hist', range=(5, 25), alpha=0.5, label='slow', ax=ax, grid=True, legend=True)\n",
    "plt.title('Гистограммы распределения количества посещений для разных категорий начиная с 5 раз')\n",
    "plt.xlabel('Количество посещений(сессий) совершенных отдельны пользователем')\n",
    "plt.show()"
   ]
  },
  {
   "cell_type": "markdown",
   "metadata": {},
   "source": [
    "Из таблицы и графиков видно, что часто возвращаться склонны медленные пользователи, те кто проводит в приложении больше 50 минут в день."
   ]
  },
  {
   "cell_type": "markdown",
   "metadata": {},
   "source": [
    "Проверили этот вывод рассчитав удержание (retention) для всех категорий пользователей. Для этого создали профили пользователей, рассчитали удержание и построили график. Горизонт анализа определили 7 дней."
   ]
  },
  {
   "cell_type": "code",
   "execution_count": 58,
   "metadata": {},
   "outputs": [],
   "source": [
    "# функция для создания пользовательских профилей \n",
    "\n",
    "def get_profiles(mobile):\n",
    "\n",
    "    # находим параметры первых посещений\n",
    "    profiles = (\n",
    "        mobile.sort_values(by=['user_id', 'event_time'])\n",
    "        .groupby('user_id')\n",
    "        .agg(\n",
    "            {\n",
    "                'event_time': 'first',\n",
    "                'source': 'first',\n",
    "                'user_cat': 'first',\n",
    "                'event_name': 'first',\n",
    "            }\n",
    "        )\n",
    "        .rename(columns={'event_time': 'first_ts'})\n",
    "        .reset_index()\n",
    "    )\n",
    "\n",
    "    # для когортного анализа определяем дату первого посещения\n",
    "    profiles['dt'] = profiles['first_ts'].dt.date\n",
    "    \n",
    "    \n",
    "    return profiles"
   ]
  },
  {
   "cell_type": "code",
   "execution_count": 59,
   "metadata": {},
   "outputs": [
    {
     "data": {
      "text/html": [
       "<div>\n",
       "<style scoped>\n",
       "    .dataframe tbody tr th:only-of-type {\n",
       "        vertical-align: middle;\n",
       "    }\n",
       "\n",
       "    .dataframe tbody tr th {\n",
       "        vertical-align: top;\n",
       "    }\n",
       "\n",
       "    .dataframe thead th {\n",
       "        text-align: right;\n",
       "    }\n",
       "</style>\n",
       "<table border=\"1\" class=\"dataframe\">\n",
       "  <thead>\n",
       "    <tr style=\"text-align: right;\">\n",
       "      <th></th>\n",
       "      <th>user_id</th>\n",
       "      <th>first_ts</th>\n",
       "      <th>source</th>\n",
       "      <th>user_cat</th>\n",
       "      <th>event_name</th>\n",
       "      <th>dt</th>\n",
       "    </tr>\n",
       "  </thead>\n",
       "  <tbody>\n",
       "    <tr>\n",
       "      <th>0</th>\n",
       "      <td>0001b1d5-b74a-4cbf-aeb0-7df5947bf349</td>\n",
       "      <td>2019-10-07 13:39:45</td>\n",
       "      <td>other</td>\n",
       "      <td>business</td>\n",
       "      <td>tips_show</td>\n",
       "      <td>2019-10-07</td>\n",
       "    </tr>\n",
       "    <tr>\n",
       "      <th>1</th>\n",
       "      <td>00157779-810c-4498-9e05-a1e9e3cedf93</td>\n",
       "      <td>2019-10-19 21:34:33</td>\n",
       "      <td>yandex</td>\n",
       "      <td>serious</td>\n",
       "      <td>search</td>\n",
       "      <td>2019-10-19</td>\n",
       "    </tr>\n",
       "    <tr>\n",
       "      <th>2</th>\n",
       "      <td>00463033-5717-4bf1-91b4-09183923b9df</td>\n",
       "      <td>2019-11-01 13:54:35</td>\n",
       "      <td>yandex</td>\n",
       "      <td>serious</td>\n",
       "      <td>photos_show</td>\n",
       "      <td>2019-11-01</td>\n",
       "    </tr>\n",
       "    <tr>\n",
       "      <th>3</th>\n",
       "      <td>004690c3-5a84-4bb7-a8af-e0c8f8fca64e</td>\n",
       "      <td>2019-10-18 22:14:05</td>\n",
       "      <td>google</td>\n",
       "      <td>business</td>\n",
       "      <td>search</td>\n",
       "      <td>2019-10-18</td>\n",
       "    </tr>\n",
       "    <tr>\n",
       "      <th>4</th>\n",
       "      <td>00551e79-152e-4441-9cf7-565d7eb04090</td>\n",
       "      <td>2019-10-25 16:44:41</td>\n",
       "      <td>yandex</td>\n",
       "      <td>business</td>\n",
       "      <td>contacts_show</td>\n",
       "      <td>2019-10-25</td>\n",
       "    </tr>\n",
       "    <tr>\n",
       "      <th>...</th>\n",
       "      <td>...</td>\n",
       "      <td>...</td>\n",
       "      <td>...</td>\n",
       "      <td>...</td>\n",
       "      <td>...</td>\n",
       "      <td>...</td>\n",
       "    </tr>\n",
       "    <tr>\n",
       "      <th>4139</th>\n",
       "      <td>ffab8d8a-30bb-424a-a3ab-0b63ebbf7b07</td>\n",
       "      <td>2019-10-13 16:11:27</td>\n",
       "      <td>yandex</td>\n",
       "      <td>serious</td>\n",
       "      <td>map</td>\n",
       "      <td>2019-10-13</td>\n",
       "    </tr>\n",
       "    <tr>\n",
       "      <th>4140</th>\n",
       "      <td>ffc01466-fdb1-4460-ae94-e800f52eb136</td>\n",
       "      <td>2019-10-07 20:32:49</td>\n",
       "      <td>yandex</td>\n",
       "      <td>fast</td>\n",
       "      <td>photos_show</td>\n",
       "      <td>2019-10-07</td>\n",
       "    </tr>\n",
       "    <tr>\n",
       "      <th>4141</th>\n",
       "      <td>ffcf50d9-293c-4254-8243-4890b030b238</td>\n",
       "      <td>2019-10-23 11:51:35</td>\n",
       "      <td>google</td>\n",
       "      <td>fast</td>\n",
       "      <td>tips_show</td>\n",
       "      <td>2019-10-23</td>\n",
       "    </tr>\n",
       "    <tr>\n",
       "      <th>4142</th>\n",
       "      <td>ffe68f10-e48e-470e-be9b-eeb93128ff1a</td>\n",
       "      <td>2019-10-21 16:39:33</td>\n",
       "      <td>yandex</td>\n",
       "      <td>business</td>\n",
       "      <td>search</td>\n",
       "      <td>2019-10-21</td>\n",
       "    </tr>\n",
       "    <tr>\n",
       "      <th>4143</th>\n",
       "      <td>fffb9e79-b927-4dbb-9b48-7fd09b23a62b</td>\n",
       "      <td>2019-10-12 00:57:21</td>\n",
       "      <td>google</td>\n",
       "      <td>slow</td>\n",
       "      <td>tips_show</td>\n",
       "      <td>2019-10-12</td>\n",
       "    </tr>\n",
       "  </tbody>\n",
       "</table>\n",
       "<p>4144 rows × 6 columns</p>\n",
       "</div>"
      ],
      "text/plain": [
       "                                   user_id            first_ts  source  \\\n",
       "0     0001b1d5-b74a-4cbf-aeb0-7df5947bf349 2019-10-07 13:39:45   other   \n",
       "1     00157779-810c-4498-9e05-a1e9e3cedf93 2019-10-19 21:34:33  yandex   \n",
       "2     00463033-5717-4bf1-91b4-09183923b9df 2019-11-01 13:54:35  yandex   \n",
       "3     004690c3-5a84-4bb7-a8af-e0c8f8fca64e 2019-10-18 22:14:05  google   \n",
       "4     00551e79-152e-4441-9cf7-565d7eb04090 2019-10-25 16:44:41  yandex   \n",
       "...                                    ...                 ...     ...   \n",
       "4139  ffab8d8a-30bb-424a-a3ab-0b63ebbf7b07 2019-10-13 16:11:27  yandex   \n",
       "4140  ffc01466-fdb1-4460-ae94-e800f52eb136 2019-10-07 20:32:49  yandex   \n",
       "4141  ffcf50d9-293c-4254-8243-4890b030b238 2019-10-23 11:51:35  google   \n",
       "4142  ffe68f10-e48e-470e-be9b-eeb93128ff1a 2019-10-21 16:39:33  yandex   \n",
       "4143  fffb9e79-b927-4dbb-9b48-7fd09b23a62b 2019-10-12 00:57:21  google   \n",
       "\n",
       "      user_cat     event_name          dt  \n",
       "0     business      tips_show  2019-10-07  \n",
       "1      serious         search  2019-10-19  \n",
       "2      serious    photos_show  2019-11-01  \n",
       "3     business         search  2019-10-18  \n",
       "4     business  contacts_show  2019-10-25  \n",
       "...        ...            ...         ...  \n",
       "4139   serious            map  2019-10-13  \n",
       "4140      fast    photos_show  2019-10-07  \n",
       "4141      fast      tips_show  2019-10-23  \n",
       "4142  business         search  2019-10-21  \n",
       "4143      slow      tips_show  2019-10-12  \n",
       "\n",
       "[4144 rows x 6 columns]"
      ]
     },
     "execution_count": 59,
     "metadata": {},
     "output_type": "execute_result"
    }
   ],
   "source": [
    "# применили функцию к данным mobile и сформировали профили пользователей\n",
    "profiles = get_profiles(mobile)\n",
    "profiles"
   ]
  },
  {
   "cell_type": "code",
   "execution_count": 60,
   "metadata": {},
   "outputs": [
    {
     "name": "stdout",
     "output_type": "stream",
     "text": [
      "Самая рання дата посещения сайта - минимальная дата привлечения пользователей: 2019-10-07 00:00:00\n",
      "Самая поздняя дата посещения сайта: 2019-11-03 23:46:47\n",
      "Максимальная дата привлечения пользователей: 2019-10-28 23:46:47\n"
     ]
    }
   ],
   "source": [
    "# задали момент  и горизонт аналза\n",
    "min_analysis_date = profiles['first_ts'].min()\n",
    "observation_date =  profiles['first_ts'].max()\n",
    "print('Самая рання дата посещения сайта - минимальная дата привлечения пользователей:', min_analysis_date)\n",
    "print('Самая поздняя дата посещения сайта:',  observation_date)\n",
    "horizon_days = 7 \n",
    "max_analysis_date = observation_date - timedelta(days=horizon_days-1) \n",
    "\n",
    "print('Максимальная дата привлечения пользователей:',  max_analysis_date)"
   ]
  },
  {
   "cell_type": "code",
   "execution_count": 61,
   "metadata": {},
   "outputs": [],
   "source": [
    "# функция для рассчета удержания произвольных когорт\n",
    "def get_retention(\n",
    "    profiles,\n",
    "    mobile_df,\n",
    "    observation_date,\n",
    "    horizon_days,\n",
    "    dimensions=[],  \n",
    "    ignore_horizon=False,\n",
    "):\n",
    "\n",
    "    # исключаем пользователей, не «доживших» до горизонта анализа\n",
    "    last_suitable_acquisition_date = observation_date\n",
    "    if not ignore_horizon:\n",
    "        last_suitable_acquisition_date = observation_date - timedelta(\n",
    "            days=horizon_days - 1\n",
    "        )\n",
    "    result_raw = profiles.query('dt <= @last_suitable_acquisition_date')\n",
    "\n",
    "    # собираем «сырые» данные для расчёта удержания\n",
    "    result_raw = result_raw.merge(\n",
    "        mobile_df[['user_id', 'start']], on='user_id', how='left'\n",
    "    )\n",
    "    result_raw['lifetime'] = (\n",
    "        result_raw['start'] - result_raw['first_ts']\n",
    "    ).dt.days\n",
    "\n",
    "    # рассчитываем удержание с dimensions\n",
    "    result_grouped = result_raw.pivot_table(\n",
    "        index=dimensions,  # заменили dt\n",
    "        columns='lifetime',\n",
    "        values='user_id',\n",
    "        aggfunc='nunique',\n",
    "    )\n",
    "    cohort_sizes = (\n",
    "        result_raw.groupby(dimensions)  # заменили dt\n",
    "        .agg({'user_id': 'nunique'})\n",
    "        .rename(columns={'user_id': 'cohort_size'})\n",
    "    )\n",
    "    result_grouped = cohort_sizes.merge(\n",
    "        result_grouped, on=dimensions, how='left'  # заменили dt\n",
    "    ).fillna(0)\n",
    "    result_grouped = result_grouped.div(result_grouped['cohort_size'], axis=0)\n",
    "\n",
    "    # исключаем все лайфтаймы, превышающие горизонт анализа\n",
    "    result_grouped = result_grouped[\n",
    "        ['cohort_size'] + list(range(horizon_days))\n",
    "    ]\n",
    "\n",
    "    # восстанавливаем столбец с размерами когорт\n",
    "    result_grouped['cohort_size'] = cohort_sizes\n",
    "\n",
    "    # возвращаем таблицу удержания и сырые данные\n",
    "    return result_raw, result_grouped"
   ]
  },
  {
   "cell_type": "code",
   "execution_count": 62,
   "metadata": {},
   "outputs": [
    {
     "data": {
      "image/png": "[encoded data removed]",
      "text/plain": [
       "<Figure size 1080x360 with 1 Axes>"
      ]
     },
     "metadata": {
      "needs_background": "light"
     },
     "output_type": "display_data"
    }
   ],
   "source": [
    "# расчитали удержание для каждой категории пользователей и построили график\n",
    "retention_raw, retention = get_retention(\n",
    "    profiles, mobile_df, profiles['first_ts'].max(), horizon_days, dimensions=['user_cat']\n",
    ")  \n",
    "report = retention.drop(columns=['cohort_size', 0])\n",
    "report.T.plot(grid=True, xticks=list(report.columns.values), figsize=(15, 5))\n",
    "plt.xlabel('Лайфтайм')\n",
    "plt.title('Кривые удержания с разбивкой по категориям пользователей')\n",
    "plt.show()"
   ]
  },
  {
   "cell_type": "markdown",
   "metadata": {},
   "source": [
    "**Вывод**\n",
    "\n",
    "Чаще всего возвращаются в приложение пользователи, которые проводят за один сеанс больше 50 минут. Для остальных категорий удержание ниже и мало различается между собой."
   ]
  },
  {
   "cell_type": "markdown",
   "metadata": {},
   "source": [
    "### Как различаются пользователи по времени, проведенном в приложении."
   ]
  },
  {
   "cell_type": "markdown",
   "metadata": {},
   "source": [
    "Чтобы посчитать время, проведенное пользователем в приложении за весь исследуемый период, сложили длительность всех его сессий. "
   ]
  },
  {
   "cell_type": "code",
   "execution_count": 63,
   "metadata": {},
   "outputs": [
    {
     "name": "stdout",
     "output_type": "stream",
     "text": [
      "4144\n"
     ]
    },
    {
     "data": {
      "text/html": [
       "<div>\n",
       "<style scoped>\n",
       "    .dataframe tbody tr th:only-of-type {\n",
       "        vertical-align: middle;\n",
       "    }\n",
       "\n",
       "    .dataframe tbody tr th {\n",
       "        vertical-align: top;\n",
       "    }\n",
       "\n",
       "    .dataframe thead th {\n",
       "        text-align: right;\n",
       "    }\n",
       "</style>\n",
       "<table border=\"1\" class=\"dataframe\">\n",
       "  <thead>\n",
       "    <tr style=\"text-align: right;\">\n",
       "      <th></th>\n",
       "      <th>user_id</th>\n",
       "      <th>session</th>\n",
       "      <th>start</th>\n",
       "      <th>finish</th>\n",
       "      <th>first_event</th>\n",
       "      <th>last_event</th>\n",
       "      <th>count_event</th>\n",
       "      <th>interval</th>\n",
       "      <th>user_cat</th>\n",
       "      <th>total_time</th>\n",
       "    </tr>\n",
       "  </thead>\n",
       "  <tbody>\n",
       "    <tr>\n",
       "      <th>0</th>\n",
       "      <td>0001b1d5-b74a-4cbf-aeb0-7df5947bf349</td>\n",
       "      <td>2019-10-07</td>\n",
       "      <td>2019-10-07 13:39:45</td>\n",
       "      <td>2019-10-07 13:49:41</td>\n",
       "      <td>tips_show</td>\n",
       "      <td>tips_show</td>\n",
       "      <td>9</td>\n",
       "      <td>596.0</td>\n",
       "      <td>business</td>\n",
       "      <td>46.0</td>\n",
       "    </tr>\n",
       "    <tr>\n",
       "      <th>1</th>\n",
       "      <td>0001b1d5-b74a-4cbf-aeb0-7df5947bf349</td>\n",
       "      <td>2019-10-09</td>\n",
       "      <td>2019-10-09 18:33:55</td>\n",
       "      <td>2019-10-09 18:42:22</td>\n",
       "      <td>map</td>\n",
       "      <td>tips_show</td>\n",
       "      <td>4</td>\n",
       "      <td>507.0</td>\n",
       "      <td>business</td>\n",
       "      <td>46.0</td>\n",
       "    </tr>\n",
       "    <tr>\n",
       "      <th>2</th>\n",
       "      <td>0001b1d5-b74a-4cbf-aeb0-7df5947bf349</td>\n",
       "      <td>2019-10-21</td>\n",
       "      <td>2019-10-21 19:52:30</td>\n",
       "      <td>2019-10-21 20:07:30</td>\n",
       "      <td>tips_show</td>\n",
       "      <td>tips_show</td>\n",
       "      <td>14</td>\n",
       "      <td>900.0</td>\n",
       "      <td>business</td>\n",
       "      <td>46.0</td>\n",
       "    </tr>\n",
       "    <tr>\n",
       "      <th>3</th>\n",
       "      <td>0001b1d5-b74a-4cbf-aeb0-7df5947bf349</td>\n",
       "      <td>2019-10-22</td>\n",
       "      <td>2019-10-22 11:18:14</td>\n",
       "      <td>2019-10-22 11:30:52</td>\n",
       "      <td>map</td>\n",
       "      <td>tips_show</td>\n",
       "      <td>8</td>\n",
       "      <td>758.0</td>\n",
       "      <td>business</td>\n",
       "      <td>46.0</td>\n",
       "    </tr>\n",
       "    <tr>\n",
       "      <th>4</th>\n",
       "      <td>00157779-810c-4498-9e05-a1e9e3cedf93</td>\n",
       "      <td>2019-10-19</td>\n",
       "      <td>2019-10-19 21:34:33</td>\n",
       "      <td>2019-10-19 21:59:54</td>\n",
       "      <td>search</td>\n",
       "      <td>photos_show</td>\n",
       "      <td>9</td>\n",
       "      <td>1521.0</td>\n",
       "      <td>serious</td>\n",
       "      <td>196.0</td>\n",
       "    </tr>\n",
       "  </tbody>\n",
       "</table>\n",
       "</div>"
      ],
      "text/plain": [
       "                                user_id     session               start  \\\n",
       "0  0001b1d5-b74a-4cbf-aeb0-7df5947bf349  2019-10-07 2019-10-07 13:39:45   \n",
       "1  0001b1d5-b74a-4cbf-aeb0-7df5947bf349  2019-10-09 2019-10-09 18:33:55   \n",
       "2  0001b1d5-b74a-4cbf-aeb0-7df5947bf349  2019-10-21 2019-10-21 19:52:30   \n",
       "3  0001b1d5-b74a-4cbf-aeb0-7df5947bf349  2019-10-22 2019-10-22 11:18:14   \n",
       "4  00157779-810c-4498-9e05-a1e9e3cedf93  2019-10-19 2019-10-19 21:34:33   \n",
       "\n",
       "               finish first_event   last_event  count_event  interval  \\\n",
       "0 2019-10-07 13:49:41   tips_show    tips_show            9     596.0   \n",
       "1 2019-10-09 18:42:22         map    tips_show            4     507.0   \n",
       "2 2019-10-21 20:07:30   tips_show    tips_show           14     900.0   \n",
       "3 2019-10-22 11:30:52         map    tips_show            8     758.0   \n",
       "4 2019-10-19 21:59:54      search  photos_show            9    1521.0   \n",
       "\n",
       "   user_cat  total_time  \n",
       "0  business        46.0  \n",
       "1  business        46.0  \n",
       "2  business        46.0  \n",
       "3  business        46.0  \n",
       "4   serious       196.0  "
      ]
     },
     "execution_count": 63,
     "metadata": {},
     "output_type": "execute_result"
    }
   ],
   "source": [
    "# определили полное время проведенное каждым пользователем в приложении за время наблюдения\n",
    "\n",
    "mobile_tt = mobile_df.groupby('user_id').agg({'interval':'sum'}).rename(columns={'interval': 'total_time'}).reset_index()\n",
    "\n",
    "#  округлили до целых минут\n",
    "mobile_tt['total_time']= (mobile_tt['total_time']/60).round()\n",
    "\n",
    "# присоединили к основной таблице сведения о полном времени\n",
    "mobile_tt = mobile_df.merge(mobile_tt)\n",
    "\n",
    "# проверили количество пользователей\n",
    "print(mobile_tt['user_id'].nunique())\n",
    "\n",
    "mobile_tt.head()"
   ]
  },
  {
   "cell_type": "code",
   "execution_count": 64,
   "metadata": {},
   "outputs": [
    {
     "name": "stdout",
     "output_type": "stream",
     "text": [
      "Минимальное общее время в минутах, проведенное пользователем в приложении 0.0\n",
      "Максимальное общее время в минутах, проведенное пользователем в приложении 5041.0\n",
      "Медианное значение общего времени в минутах, проведенного пользователем в приложении 39.0\n"
     ]
    }
   ],
   "source": [
    "print('Минимальное общее время в минутах, проведенное пользователем в приложении', mobile_tt['total_time'].min())\n",
    "print('Максимальное общее время в минутах, проведенное пользователем в приложении', mobile_tt['total_time'].max())\n",
    "print('Медианное значение общего времени в минутах, проведенного пользователем в приложении', mobile_tt['total_time'].median())"
   ]
  },
  {
   "cell_type": "code",
   "execution_count": 65,
   "metadata": {
    "scrolled": true
   },
   "outputs": [
    {
     "data": {
      "image/png": "[encoded data removed]",
      "text/plain": [
       "<Figure size 1080x720 with 1 Axes>"
      ]
     },
     "metadata": {
      "needs_background": "light"
     },
     "output_type": "display_data"
    }
   ],
   "source": [
    "# построили гистограммы распределения полного времени, проведенного в приложении для разных групп\n",
    "ax = mobile_tt.query('user_cat == \"fast\"')['total_time'].plot(kind='hist', alpha=1.0, label='fast', legend=True, figsize=(15, 10))\n",
    "mobile_tt.query('user_cat == \"business\"')['total_time'].plot(kind='hist',  alpha=0.7, label='business', ax=ax, grid=True, legend=True)\n",
    "mobile_tt.query('user_cat == \"serious\"')['total_time'].plot(kind='hist',  alpha=0.7, label='serious', ax=ax, grid=True, legend=True)\n",
    "mobile_tt.query('user_cat == \"slow\"')['total_time'].plot(kind='hist', alpha=0.7, label='slow', ax=ax, grid=True, legend=True)\n",
    "\n",
    "plt.title('Сравнение распределения времени, проведенного пользователем в приложении, для разных категорий')\n",
    "plt.xlabel('Суммарное время в приложении, минуты')\n",
    "\n",
    "plt.show()"
   ]
  },
  {
   "cell_type": "markdown",
   "metadata": {},
   "source": [
    "Посчитали среднее полное время, проведенное в приложении, для пользователей разных категорий. Для этого сложили продолжительность всех сессий данной категории и разделили на количество пользователей в категории. Среднее время перевели в минуты."
   ]
  },
  {
   "cell_type": "code",
   "execution_count": 66,
   "metadata": {},
   "outputs": [
    {
     "data": {
      "text/html": [
       "<div>\n",
       "<style scoped>\n",
       "    .dataframe tbody tr th:only-of-type {\n",
       "        vertical-align: middle;\n",
       "    }\n",
       "\n",
       "    .dataframe tbody tr th {\n",
       "        vertical-align: top;\n",
       "    }\n",
       "\n",
       "    .dataframe thead th {\n",
       "        text-align: right;\n",
       "    }\n",
       "</style>\n",
       "<table border=\"1\" class=\"dataframe\">\n",
       "  <thead>\n",
       "    <tr style=\"text-align: right;\">\n",
       "      <th></th>\n",
       "      <th>user_cat</th>\n",
       "      <th>user_count</th>\n",
       "      <th>total_time</th>\n",
       "      <th>total_time_mean</th>\n",
       "    </tr>\n",
       "  </thead>\n",
       "  <tbody>\n",
       "    <tr>\n",
       "      <th>1</th>\n",
       "      <td>fast</td>\n",
       "      <td>1080</td>\n",
       "      <td>287021.0</td>\n",
       "      <td>4.0</td>\n",
       "    </tr>\n",
       "    <tr>\n",
       "      <th>0</th>\n",
       "      <td>business</td>\n",
       "      <td>987</td>\n",
       "      <td>949613.0</td>\n",
       "      <td>16.0</td>\n",
       "    </tr>\n",
       "    <tr>\n",
       "      <th>2</th>\n",
       "      <td>serious</td>\n",
       "      <td>1045</td>\n",
       "      <td>2724020.0</td>\n",
       "      <td>43.0</td>\n",
       "    </tr>\n",
       "    <tr>\n",
       "      <th>3</th>\n",
       "      <td>slow</td>\n",
       "      <td>1032</td>\n",
       "      <td>18304856.0</td>\n",
       "      <td>296.0</td>\n",
       "    </tr>\n",
       "  </tbody>\n",
       "</table>\n",
       "</div>"
      ],
      "text/plain": [
       "   user_cat  user_count  total_time  total_time_mean\n",
       "1      fast        1080    287021.0              4.0\n",
       "0  business         987    949613.0             16.0\n",
       "2   serious        1045   2724020.0             43.0\n",
       "3      slow        1032  18304856.0            296.0"
      ]
     },
     "execution_count": 66,
     "metadata": {},
     "output_type": "execute_result"
    }
   ],
   "source": [
    "user_cat_tt = mobile_df.groupby('user_cat').agg({'user_id': 'nunique', 'interval':'sum'}).reset_index()\n",
    "user_cat_tt['total_time_mean']  = (user_cat_tt['interval']/ user_cat_tt['user_id']/60).round()\n",
    "user_cat_tt.rename(columns = {'user_id': 'user_count', 'interval': 'total_time'}, inplace=True)\n",
    "\n",
    "user_cat_tt.sort_values(by='total_time_mean')"
   ]
  },
  {
   "cell_type": "markdown",
   "metadata": {},
   "source": [
    "Группы пользователей, выделенные на основании характерной для них длительности сессии,  действительно сильно различаются по времени, проведенном в приложении. "
   ]
  },
  {
   "cell_type": "markdown",
   "metadata": {},
   "source": [
    "**Вывод**\n",
    "\n",
    "\"Быстрые\" обходятся в среднем за 4 минуты в месяц, а самым медленным в среднем надо примерно 5 часов в месяц."
   ]
  },
  {
   "cell_type": "markdown",
   "metadata": {},
   "source": [
    "### Как различается частота действий по группам"
   ]
  },
  {
   "cell_type": "code",
   "execution_count": 67,
   "metadata": {},
   "outputs": [
    {
     "data": {
      "text/html": [
       "<div>\n",
       "<style scoped>\n",
       "    .dataframe tbody tr th:only-of-type {\n",
       "        vertical-align: middle;\n",
       "    }\n",
       "\n",
       "    .dataframe tbody tr th {\n",
       "        vertical-align: top;\n",
       "    }\n",
       "\n",
       "    .dataframe thead th {\n",
       "        text-align: right;\n",
       "    }\n",
       "</style>\n",
       "<table border=\"1\" class=\"dataframe\">\n",
       "  <thead>\n",
       "    <tr style=\"text-align: right;\">\n",
       "      <th></th>\n",
       "      <th>event</th>\n",
       "      <th>user_count</th>\n",
       "      <th>user_ratio</th>\n",
       "    </tr>\n",
       "  </thead>\n",
       "  <tbody>\n",
       "    <tr>\n",
       "      <th>7</th>\n",
       "      <td>tips_show</td>\n",
       "      <td>2735</td>\n",
       "      <td>66.00</td>\n",
       "    </tr>\n",
       "    <tr>\n",
       "      <th>5</th>\n",
       "      <td>search</td>\n",
       "      <td>1624</td>\n",
       "      <td>39.19</td>\n",
       "    </tr>\n",
       "    <tr>\n",
       "      <th>3</th>\n",
       "      <td>map</td>\n",
       "      <td>1426</td>\n",
       "      <td>34.41</td>\n",
       "    </tr>\n",
       "    <tr>\n",
       "      <th>4</th>\n",
       "      <td>photos_show</td>\n",
       "      <td>1055</td>\n",
       "      <td>25.46</td>\n",
       "    </tr>\n",
       "    <tr>\n",
       "      <th>1</th>\n",
       "      <td>contacts_show</td>\n",
       "      <td>952</td>\n",
       "      <td>22.97</td>\n",
       "    </tr>\n",
       "    <tr>\n",
       "      <th>0</th>\n",
       "      <td>advert_open</td>\n",
       "      <td>741</td>\n",
       "      <td>17.88</td>\n",
       "    </tr>\n",
       "    <tr>\n",
       "      <th>2</th>\n",
       "      <td>favorites_add</td>\n",
       "      <td>342</td>\n",
       "      <td>8.25</td>\n",
       "    </tr>\n",
       "    <tr>\n",
       "      <th>6</th>\n",
       "      <td>tips_click</td>\n",
       "      <td>317</td>\n",
       "      <td>7.65</td>\n",
       "    </tr>\n",
       "  </tbody>\n",
       "</table>\n",
       "</div>"
      ],
      "text/plain": [
       "           event  user_count  user_ratio\n",
       "7      tips_show        2735       66.00\n",
       "5         search        1624       39.19\n",
       "3            map        1426       34.41\n",
       "4    photos_show        1055       25.46\n",
       "1  contacts_show         952       22.97\n",
       "0    advert_open         741       17.88\n",
       "2  favorites_add         342        8.25\n",
       "6     tips_click         317        7.65"
      ]
     },
     "execution_count": 67,
     "metadata": {},
     "output_type": "execute_result"
    }
   ],
   "source": [
    "order = mobile.pivot_table(index='event_name', values='user_id', aggfunc='nunique',).reset_index()\n",
    "order.columns = ['event', 'user_count']\n",
    "order['user_ratio'] = (order['user_count'] /len(mobile['user_id'].unique())*100).round(2)\n",
    "order = order.sort_values('user_count', ascending=False)\n",
    "\n",
    "order"
   ]
  },
  {
   "cell_type": "code",
   "execution_count": 68,
   "metadata": {},
   "outputs": [],
   "source": [
    "# закрепили последовательность событий в порядке уменьшения частоты \n",
    "\n",
    "#order.index"
   ]
  },
  {
   "cell_type": "code",
   "execution_count": 69,
   "metadata": {},
   "outputs": [
    {
     "data": {
      "image/png": "[encoded data removed]",
      "text/plain": [
       "<Figure size 1080x720 with 1 Axes>"
      ]
     },
     "metadata": {
      "needs_background": "light"
     },
     "output_type": "display_data"
    }
   ],
   "source": [
    "# строим диаграмму частоты событий \n",
    "plt.figure(figsize=(15,10))\n",
    "ax = sns.barplot(x='user_ratio', y='event', data=order, color='blue') \n",
    "\n",
    "plt.title('Частота совершения событий')\n",
    "\n",
    "plt.xlabel('количество пользователей')\n",
    "plt.ylabel('название события')\n",
    "\n",
    "plt.show();"
   ]
  },
  {
   "cell_type": "code",
   "execution_count": 70,
   "metadata": {},
   "outputs": [
    {
     "data": {
      "text/html": [
       "<div>\n",
       "<style scoped>\n",
       "    .dataframe tbody tr th:only-of-type {\n",
       "        vertical-align: middle;\n",
       "    }\n",
       "\n",
       "    .dataframe tbody tr th {\n",
       "        vertical-align: top;\n",
       "    }\n",
       "\n",
       "    .dataframe thead th {\n",
       "        text-align: right;\n",
       "    }\n",
       "</style>\n",
       "<table border=\"1\" class=\"dataframe\">\n",
       "  <thead>\n",
       "    <tr style=\"text-align: right;\">\n",
       "      <th>user_cat</th>\n",
       "      <th>business</th>\n",
       "      <th>fast</th>\n",
       "      <th>serious</th>\n",
       "      <th>slow</th>\n",
       "    </tr>\n",
       "    <tr>\n",
       "      <th>event_name</th>\n",
       "      <th></th>\n",
       "      <th></th>\n",
       "      <th></th>\n",
       "      <th></th>\n",
       "    </tr>\n",
       "  </thead>\n",
       "  <tbody>\n",
       "    <tr>\n",
       "      <th>tips_show</th>\n",
       "      <td>670</td>\n",
       "      <td>625</td>\n",
       "      <td>736</td>\n",
       "      <td>704</td>\n",
       "    </tr>\n",
       "    <tr>\n",
       "      <th>search</th>\n",
       "      <td>377</td>\n",
       "      <td>447</td>\n",
       "      <td>399</td>\n",
       "      <td>401</td>\n",
       "    </tr>\n",
       "    <tr>\n",
       "      <th>map</th>\n",
       "      <td>329</td>\n",
       "      <td>313</td>\n",
       "      <td>393</td>\n",
       "      <td>391</td>\n",
       "    </tr>\n",
       "    <tr>\n",
       "      <th>photos_show</th>\n",
       "      <td>248</td>\n",
       "      <td>271</td>\n",
       "      <td>254</td>\n",
       "      <td>282</td>\n",
       "    </tr>\n",
       "    <tr>\n",
       "      <th>advert_open</th>\n",
       "      <td>175</td>\n",
       "      <td>166</td>\n",
       "      <td>184</td>\n",
       "      <td>216</td>\n",
       "    </tr>\n",
       "    <tr>\n",
       "      <th>contacts_show</th>\n",
       "      <td>175</td>\n",
       "      <td>157</td>\n",
       "      <td>238</td>\n",
       "      <td>382</td>\n",
       "    </tr>\n",
       "    <tr>\n",
       "      <th>favorites_add</th>\n",
       "      <td>48</td>\n",
       "      <td>59</td>\n",
       "      <td>86</td>\n",
       "      <td>149</td>\n",
       "    </tr>\n",
       "    <tr>\n",
       "      <th>tips_click</th>\n",
       "      <td>61</td>\n",
       "      <td>33</td>\n",
       "      <td>90</td>\n",
       "      <td>133</td>\n",
       "    </tr>\n",
       "  </tbody>\n",
       "</table>\n",
       "</div>"
      ],
      "text/plain": [
       "user_cat       business  fast  serious  slow\n",
       "event_name                                  \n",
       "tips_show           670   625      736   704\n",
       "search              377   447      399   401\n",
       "map                 329   313      393   391\n",
       "photos_show         248   271      254   282\n",
       "advert_open         175   166      184   216\n",
       "contacts_show       175   157      238   382\n",
       "favorites_add        48    59       86   149\n",
       "tips_click           61    33       90   133"
      ]
     },
     "execution_count": 70,
     "metadata": {},
     "output_type": "execute_result"
    }
   ],
   "source": [
    "# посмотрели число пользователей в каждой из  групп в разрезе событий\n",
    "df_event = (mobile.pivot_table(\n",
    "    index='event_name',\n",
    "    columns='user_cat', \n",
    "    values='user_id', \n",
    "    aggfunc='nunique')\n",
    "           .sort_values('fast', ascending=False).reset_index())\n",
    "df_event = df_event.set_index('event_name')\n",
    "df_event"
   ]
  },
  {
   "cell_type": "code",
   "execution_count": 71,
   "metadata": {},
   "outputs": [
    {
     "data": {
      "text/html": [
       "<div>\n",
       "<style scoped>\n",
       "    .dataframe tbody tr th:only-of-type {\n",
       "        vertical-align: middle;\n",
       "    }\n",
       "\n",
       "    .dataframe tbody tr th {\n",
       "        vertical-align: top;\n",
       "    }\n",
       "\n",
       "    .dataframe thead th {\n",
       "        text-align: right;\n",
       "    }\n",
       "</style>\n",
       "<table border=\"1\" class=\"dataframe\">\n",
       "  <thead>\n",
       "    <tr style=\"text-align: right;\">\n",
       "      <th></th>\n",
       "      <th>user_cat</th>\n",
       "      <th>full</th>\n",
       "    </tr>\n",
       "  </thead>\n",
       "  <tbody>\n",
       "    <tr>\n",
       "      <th>0</th>\n",
       "      <td>business</td>\n",
       "      <td>987</td>\n",
       "    </tr>\n",
       "    <tr>\n",
       "      <th>1</th>\n",
       "      <td>fast</td>\n",
       "      <td>1080</td>\n",
       "    </tr>\n",
       "    <tr>\n",
       "      <th>2</th>\n",
       "      <td>serious</td>\n",
       "      <td>1045</td>\n",
       "    </tr>\n",
       "    <tr>\n",
       "      <th>3</th>\n",
       "      <td>slow</td>\n",
       "      <td>1032</td>\n",
       "    </tr>\n",
       "  </tbody>\n",
       "</table>\n",
       "</div>"
      ],
      "text/plain": [
       "   user_cat  full\n",
       "0  business   987\n",
       "1      fast  1080\n",
       "2   serious  1045\n",
       "3      slow  1032"
      ]
     },
     "execution_count": 71,
     "metadata": {},
     "output_type": "execute_result"
    }
   ],
   "source": [
    "# сщздали колонку с числом пользователей в каждой группе\n",
    "df_full = mobile.pivot_table(index='user_cat', values='user_id', aggfunc='nunique',).reset_index()\n",
    "df_full.columns = ['user_cat', 'full']\n",
    "df_full"
   ]
  },
  {
   "cell_type": "code",
   "execution_count": 72,
   "metadata": {},
   "outputs": [
    {
     "data": {
      "text/html": [
       "<div>\n",
       "<style scoped>\n",
       "    .dataframe tbody tr th:only-of-type {\n",
       "        vertical-align: middle;\n",
       "    }\n",
       "\n",
       "    .dataframe tbody tr th {\n",
       "        vertical-align: top;\n",
       "    }\n",
       "\n",
       "    .dataframe thead th {\n",
       "        text-align: right;\n",
       "    }\n",
       "</style>\n",
       "<table border=\"1\" class=\"dataframe\">\n",
       "  <thead>\n",
       "    <tr style=\"text-align: right;\">\n",
       "      <th></th>\n",
       "      <th>user_cat</th>\n",
       "      <th>tips_show</th>\n",
       "      <th>search</th>\n",
       "      <th>map</th>\n",
       "      <th>photos_show</th>\n",
       "      <th>advert_open</th>\n",
       "      <th>contacts_show</th>\n",
       "      <th>favorites_add</th>\n",
       "      <th>tips_click</th>\n",
       "      <th>full</th>\n",
       "    </tr>\n",
       "  </thead>\n",
       "  <tbody>\n",
       "    <tr>\n",
       "      <th>0</th>\n",
       "      <td>business</td>\n",
       "      <td>670</td>\n",
       "      <td>377</td>\n",
       "      <td>329</td>\n",
       "      <td>248</td>\n",
       "      <td>175</td>\n",
       "      <td>175</td>\n",
       "      <td>48</td>\n",
       "      <td>61</td>\n",
       "      <td>987</td>\n",
       "    </tr>\n",
       "    <tr>\n",
       "      <th>1</th>\n",
       "      <td>fast</td>\n",
       "      <td>625</td>\n",
       "      <td>447</td>\n",
       "      <td>313</td>\n",
       "      <td>271</td>\n",
       "      <td>166</td>\n",
       "      <td>157</td>\n",
       "      <td>59</td>\n",
       "      <td>33</td>\n",
       "      <td>1080</td>\n",
       "    </tr>\n",
       "    <tr>\n",
       "      <th>2</th>\n",
       "      <td>serious</td>\n",
       "      <td>736</td>\n",
       "      <td>399</td>\n",
       "      <td>393</td>\n",
       "      <td>254</td>\n",
       "      <td>184</td>\n",
       "      <td>238</td>\n",
       "      <td>86</td>\n",
       "      <td>90</td>\n",
       "      <td>1045</td>\n",
       "    </tr>\n",
       "    <tr>\n",
       "      <th>3</th>\n",
       "      <td>slow</td>\n",
       "      <td>704</td>\n",
       "      <td>401</td>\n",
       "      <td>391</td>\n",
       "      <td>282</td>\n",
       "      <td>216</td>\n",
       "      <td>382</td>\n",
       "      <td>149</td>\n",
       "      <td>133</td>\n",
       "      <td>1032</td>\n",
       "    </tr>\n",
       "  </tbody>\n",
       "</table>\n",
       "</div>"
      ],
      "text/plain": [
       "   user_cat  tips_show  search  map  photos_show  advert_open  contacts_show  \\\n",
       "0  business        670     377  329          248          175            175   \n",
       "1      fast        625     447  313          271          166            157   \n",
       "2   serious        736     399  393          254          184            238   \n",
       "3      slow        704     401  391          282          216            382   \n",
       "\n",
       "   favorites_add  tips_click  full  \n",
       "0             48          61   987  \n",
       "1             59          33  1080  \n",
       "2             86          90  1045  \n",
       "3            149         133  1032  "
      ]
     },
     "execution_count": 72,
     "metadata": {},
     "output_type": "execute_result"
    }
   ],
   "source": [
    "# повернули таблицу с количеством пользователей по группам и присоединили количество пользователей в группе всего\n",
    "df_event = df_event.T\n",
    "df = pd.merge(df_event, df_full, on='user_cat')\n",
    "df\n"
   ]
  },
  {
   "cell_type": "code",
   "execution_count": 73,
   "metadata": {},
   "outputs": [
    {
     "data": {
      "text/html": [
       "<div>\n",
       "<style scoped>\n",
       "    .dataframe tbody tr th:only-of-type {\n",
       "        vertical-align: middle;\n",
       "    }\n",
       "\n",
       "    .dataframe tbody tr th {\n",
       "        vertical-align: top;\n",
       "    }\n",
       "\n",
       "    .dataframe thead th {\n",
       "        text-align: right;\n",
       "    }\n",
       "</style>\n",
       "<table border=\"1\" class=\"dataframe\">\n",
       "  <thead>\n",
       "    <tr style=\"text-align: right;\">\n",
       "      <th></th>\n",
       "      <th>user_cat</th>\n",
       "      <th>tips_show</th>\n",
       "      <th>search</th>\n",
       "      <th>map</th>\n",
       "      <th>photos_show</th>\n",
       "      <th>advert_open</th>\n",
       "      <th>contacts_show</th>\n",
       "      <th>favorites_add</th>\n",
       "      <th>tips_click</th>\n",
       "      <th>full</th>\n",
       "    </tr>\n",
       "  </thead>\n",
       "  <tbody>\n",
       "    <tr>\n",
       "      <th>0</th>\n",
       "      <td>business</td>\n",
       "      <td>0.678825</td>\n",
       "      <td>0.381966</td>\n",
       "      <td>0.333333</td>\n",
       "      <td>0.251266</td>\n",
       "      <td>0.177305</td>\n",
       "      <td>0.177305</td>\n",
       "      <td>0.048632</td>\n",
       "      <td>0.061803</td>\n",
       "      <td>987</td>\n",
       "    </tr>\n",
       "    <tr>\n",
       "      <th>1</th>\n",
       "      <td>fast</td>\n",
       "      <td>0.578704</td>\n",
       "      <td>0.413889</td>\n",
       "      <td>0.289815</td>\n",
       "      <td>0.250926</td>\n",
       "      <td>0.153704</td>\n",
       "      <td>0.145370</td>\n",
       "      <td>0.054630</td>\n",
       "      <td>0.030556</td>\n",
       "      <td>1080</td>\n",
       "    </tr>\n",
       "    <tr>\n",
       "      <th>2</th>\n",
       "      <td>serious</td>\n",
       "      <td>0.704306</td>\n",
       "      <td>0.381818</td>\n",
       "      <td>0.376077</td>\n",
       "      <td>0.243062</td>\n",
       "      <td>0.176077</td>\n",
       "      <td>0.227751</td>\n",
       "      <td>0.082297</td>\n",
       "      <td>0.086124</td>\n",
       "      <td>1045</td>\n",
       "    </tr>\n",
       "    <tr>\n",
       "      <th>3</th>\n",
       "      <td>slow</td>\n",
       "      <td>0.682171</td>\n",
       "      <td>0.388566</td>\n",
       "      <td>0.378876</td>\n",
       "      <td>0.273256</td>\n",
       "      <td>0.209302</td>\n",
       "      <td>0.370155</td>\n",
       "      <td>0.144380</td>\n",
       "      <td>0.128876</td>\n",
       "      <td>1032</td>\n",
       "    </tr>\n",
       "  </tbody>\n",
       "</table>\n",
       "</div>"
      ],
      "text/plain": [
       "   user_cat  tips_show    search       map  photos_show  advert_open  \\\n",
       "0  business   0.678825  0.381966  0.333333     0.251266     0.177305   \n",
       "1      fast   0.578704  0.413889  0.289815     0.250926     0.153704   \n",
       "2   serious   0.704306  0.381818  0.376077     0.243062     0.176077   \n",
       "3      slow   0.682171  0.388566  0.378876     0.273256     0.209302   \n",
       "\n",
       "   contacts_show  favorites_add  tips_click  full  \n",
       "0       0.177305       0.048632    0.061803   987  \n",
       "1       0.145370       0.054630    0.030556  1080  \n",
       "2       0.227751       0.082297    0.086124  1045  \n",
       "3       0.370155       0.144380    0.128876  1032  "
      ]
     },
     "execution_count": 73,
     "metadata": {},
     "output_type": "execute_result"
    }
   ],
   "source": [
    "# посчитали частоту различных действий для каждой группы\n",
    "df.iloc[:, [1, 2, 3, 4, 5, 6, 7, 8]] = df.iloc[:, [1, 2, 3, 4, 5, 6, 7, 8]].div(df.iloc[:, 9].values, axis=0)\n",
    "df"
   ]
  },
  {
   "cell_type": "code",
   "execution_count": 74,
   "metadata": {},
   "outputs": [
    {
     "data": {
      "text/html": [
       "<div>\n",
       "<style scoped>\n",
       "    .dataframe tbody tr th:only-of-type {\n",
       "        vertical-align: middle;\n",
       "    }\n",
       "\n",
       "    .dataframe tbody tr th {\n",
       "        vertical-align: top;\n",
       "    }\n",
       "\n",
       "    .dataframe thead th {\n",
       "        text-align: right;\n",
       "    }\n",
       "</style>\n",
       "<table border=\"1\" class=\"dataframe\">\n",
       "  <thead>\n",
       "    <tr style=\"text-align: right;\">\n",
       "      <th></th>\n",
       "      <th>event_name</th>\n",
       "      <th>user_cat</th>\n",
       "      <th>user_id</th>\n",
       "      <th>user_ratio</th>\n",
       "    </tr>\n",
       "  </thead>\n",
       "  <tbody>\n",
       "    <tr>\n",
       "      <th>0</th>\n",
       "      <td>tips_show</td>\n",
       "      <td>serious</td>\n",
       "      <td>736</td>\n",
       "      <td>17.76</td>\n",
       "    </tr>\n",
       "    <tr>\n",
       "      <th>1</th>\n",
       "      <td>tips_show</td>\n",
       "      <td>slow</td>\n",
       "      <td>704</td>\n",
       "      <td>16.99</td>\n",
       "    </tr>\n",
       "    <tr>\n",
       "      <th>2</th>\n",
       "      <td>tips_show</td>\n",
       "      <td>business</td>\n",
       "      <td>670</td>\n",
       "      <td>16.17</td>\n",
       "    </tr>\n",
       "    <tr>\n",
       "      <th>3</th>\n",
       "      <td>tips_show</td>\n",
       "      <td>fast</td>\n",
       "      <td>625</td>\n",
       "      <td>15.08</td>\n",
       "    </tr>\n",
       "    <tr>\n",
       "      <th>4</th>\n",
       "      <td>search</td>\n",
       "      <td>fast</td>\n",
       "      <td>447</td>\n",
       "      <td>10.79</td>\n",
       "    </tr>\n",
       "    <tr>\n",
       "      <th>5</th>\n",
       "      <td>search</td>\n",
       "      <td>slow</td>\n",
       "      <td>401</td>\n",
       "      <td>9.68</td>\n",
       "    </tr>\n",
       "    <tr>\n",
       "      <th>6</th>\n",
       "      <td>search</td>\n",
       "      <td>serious</td>\n",
       "      <td>399</td>\n",
       "      <td>9.63</td>\n",
       "    </tr>\n",
       "    <tr>\n",
       "      <th>7</th>\n",
       "      <td>map</td>\n",
       "      <td>serious</td>\n",
       "      <td>393</td>\n",
       "      <td>9.48</td>\n",
       "    </tr>\n",
       "    <tr>\n",
       "      <th>8</th>\n",
       "      <td>map</td>\n",
       "      <td>slow</td>\n",
       "      <td>391</td>\n",
       "      <td>9.44</td>\n",
       "    </tr>\n",
       "    <tr>\n",
       "      <th>9</th>\n",
       "      <td>contacts_show</td>\n",
       "      <td>slow</td>\n",
       "      <td>382</td>\n",
       "      <td>9.22</td>\n",
       "    </tr>\n",
       "    <tr>\n",
       "      <th>10</th>\n",
       "      <td>search</td>\n",
       "      <td>business</td>\n",
       "      <td>377</td>\n",
       "      <td>9.10</td>\n",
       "    </tr>\n",
       "    <tr>\n",
       "      <th>11</th>\n",
       "      <td>map</td>\n",
       "      <td>business</td>\n",
       "      <td>329</td>\n",
       "      <td>7.94</td>\n",
       "    </tr>\n",
       "    <tr>\n",
       "      <th>12</th>\n",
       "      <td>map</td>\n",
       "      <td>fast</td>\n",
       "      <td>313</td>\n",
       "      <td>7.55</td>\n",
       "    </tr>\n",
       "    <tr>\n",
       "      <th>13</th>\n",
       "      <td>photos_show</td>\n",
       "      <td>slow</td>\n",
       "      <td>282</td>\n",
       "      <td>6.81</td>\n",
       "    </tr>\n",
       "    <tr>\n",
       "      <th>14</th>\n",
       "      <td>photos_show</td>\n",
       "      <td>fast</td>\n",
       "      <td>271</td>\n",
       "      <td>6.54</td>\n",
       "    </tr>\n",
       "    <tr>\n",
       "      <th>15</th>\n",
       "      <td>photos_show</td>\n",
       "      <td>serious</td>\n",
       "      <td>254</td>\n",
       "      <td>6.13</td>\n",
       "    </tr>\n",
       "    <tr>\n",
       "      <th>16</th>\n",
       "      <td>photos_show</td>\n",
       "      <td>business</td>\n",
       "      <td>248</td>\n",
       "      <td>5.98</td>\n",
       "    </tr>\n",
       "    <tr>\n",
       "      <th>17</th>\n",
       "      <td>contacts_show</td>\n",
       "      <td>serious</td>\n",
       "      <td>238</td>\n",
       "      <td>5.74</td>\n",
       "    </tr>\n",
       "    <tr>\n",
       "      <th>18</th>\n",
       "      <td>advert_open</td>\n",
       "      <td>slow</td>\n",
       "      <td>216</td>\n",
       "      <td>5.21</td>\n",
       "    </tr>\n",
       "    <tr>\n",
       "      <th>19</th>\n",
       "      <td>advert_open</td>\n",
       "      <td>serious</td>\n",
       "      <td>184</td>\n",
       "      <td>4.44</td>\n",
       "    </tr>\n",
       "    <tr>\n",
       "      <th>20</th>\n",
       "      <td>contacts_show</td>\n",
       "      <td>business</td>\n",
       "      <td>175</td>\n",
       "      <td>4.22</td>\n",
       "    </tr>\n",
       "    <tr>\n",
       "      <th>21</th>\n",
       "      <td>advert_open</td>\n",
       "      <td>business</td>\n",
       "      <td>175</td>\n",
       "      <td>4.22</td>\n",
       "    </tr>\n",
       "    <tr>\n",
       "      <th>22</th>\n",
       "      <td>advert_open</td>\n",
       "      <td>fast</td>\n",
       "      <td>166</td>\n",
       "      <td>4.01</td>\n",
       "    </tr>\n",
       "    <tr>\n",
       "      <th>23</th>\n",
       "      <td>contacts_show</td>\n",
       "      <td>fast</td>\n",
       "      <td>157</td>\n",
       "      <td>3.79</td>\n",
       "    </tr>\n",
       "    <tr>\n",
       "      <th>24</th>\n",
       "      <td>favorites_add</td>\n",
       "      <td>slow</td>\n",
       "      <td>149</td>\n",
       "      <td>3.60</td>\n",
       "    </tr>\n",
       "    <tr>\n",
       "      <th>25</th>\n",
       "      <td>tips_click</td>\n",
       "      <td>slow</td>\n",
       "      <td>133</td>\n",
       "      <td>3.21</td>\n",
       "    </tr>\n",
       "    <tr>\n",
       "      <th>26</th>\n",
       "      <td>tips_click</td>\n",
       "      <td>serious</td>\n",
       "      <td>90</td>\n",
       "      <td>2.17</td>\n",
       "    </tr>\n",
       "    <tr>\n",
       "      <th>27</th>\n",
       "      <td>favorites_add</td>\n",
       "      <td>serious</td>\n",
       "      <td>86</td>\n",
       "      <td>2.08</td>\n",
       "    </tr>\n",
       "    <tr>\n",
       "      <th>28</th>\n",
       "      <td>tips_click</td>\n",
       "      <td>business</td>\n",
       "      <td>61</td>\n",
       "      <td>1.47</td>\n",
       "    </tr>\n",
       "    <tr>\n",
       "      <th>29</th>\n",
       "      <td>favorites_add</td>\n",
       "      <td>fast</td>\n",
       "      <td>59</td>\n",
       "      <td>1.42</td>\n",
       "    </tr>\n",
       "    <tr>\n",
       "      <th>30</th>\n",
       "      <td>favorites_add</td>\n",
       "      <td>business</td>\n",
       "      <td>48</td>\n",
       "      <td>1.16</td>\n",
       "    </tr>\n",
       "    <tr>\n",
       "      <th>31</th>\n",
       "      <td>tips_click</td>\n",
       "      <td>fast</td>\n",
       "      <td>33</td>\n",
       "      <td>0.80</td>\n",
       "    </tr>\n",
       "  </tbody>\n",
       "</table>\n",
       "</div>"
      ],
      "text/plain": [
       "       event_name  user_cat  user_id  user_ratio\n",
       "0       tips_show   serious      736       17.76\n",
       "1       tips_show      slow      704       16.99\n",
       "2       tips_show  business      670       16.17\n",
       "3       tips_show      fast      625       15.08\n",
       "4          search      fast      447       10.79\n",
       "5          search      slow      401        9.68\n",
       "6          search   serious      399        9.63\n",
       "7             map   serious      393        9.48\n",
       "8             map      slow      391        9.44\n",
       "9   contacts_show      slow      382        9.22\n",
       "10         search  business      377        9.10\n",
       "11            map  business      329        7.94\n",
       "12            map      fast      313        7.55\n",
       "13    photos_show      slow      282        6.81\n",
       "14    photos_show      fast      271        6.54\n",
       "15    photos_show   serious      254        6.13\n",
       "16    photos_show  business      248        5.98\n",
       "17  contacts_show   serious      238        5.74\n",
       "18    advert_open      slow      216        5.21\n",
       "19    advert_open   serious      184        4.44\n",
       "20  contacts_show  business      175        4.22\n",
       "21    advert_open  business      175        4.22\n",
       "22    advert_open      fast      166        4.01\n",
       "23  contacts_show      fast      157        3.79\n",
       "24  favorites_add      slow      149        3.60\n",
       "25     tips_click      slow      133        3.21\n",
       "26     tips_click   serious       90        2.17\n",
       "27  favorites_add   serious       86        2.08\n",
       "28     tips_click  business       61        1.47\n",
       "29  favorites_add      fast       59        1.42\n",
       "30  favorites_add  business       48        1.16\n",
       "31     tips_click      fast       33        0.80"
      ]
     },
     "execution_count": 74,
     "metadata": {},
     "output_type": "execute_result"
    }
   ],
   "source": [
    "# посчитали частоту различных действий по группам относительно всей  выборки\n",
    "funnel = mobile.groupby(['event_name', 'user_cat'])['user_id'].nunique().sort_values(ascending=False).reset_index()\n",
    "\n",
    "funnel['user_ratio'] = (funnel['user_id'] /len(mobile['user_id'].unique())*100).round(2)\n",
    "funnel = funnel.sort_values('user_ratio', ascending=False)\n",
    "\n",
    "funnel"
   ]
  },
  {
   "cell_type": "code",
   "execution_count": 75,
   "metadata": {},
   "outputs": [
    {
     "data": {
      "image/png": "[encoded data removed]",
      "text/plain": [
       "<Figure size 1080x720 with 1 Axes>"
      ]
     },
     "metadata": {
      "needs_background": "light"
     },
     "output_type": "display_data"
    }
   ],
   "source": [
    "plt.figure(figsize=(15, 10))\n",
    "ax = sns.barplot(\n",
    "    x= 'user_ratio', \n",
    "    y='event_name', \n",
    "    hue='user_cat', \n",
    "    data=funnel,\n",
    ")\n",
    "    \n",
    "ax.set(\n",
    "    title = \"Частота событий для разных категорий\",\n",
    "    xlabel = \"частота событий\",\n",
    "    ylabel = \"названия событий\",\n",
    "    );"
   ]
  },
  {
   "cell_type": "markdown",
   "metadata": {},
   "source": [
    "**Вывод**\n",
    "\n",
    "Категории пользователей, сформированные на основании длительности сессии демонстрируют различную частоту действий. \n",
    "\n",
    "Рекомендованные объявления, демострируются всем, однако \"быстрые\" пользователи (меньше 7 минут сессия) видимо умудряются её избегать, ловкость рук. Реже всех открывают рекомендованные объявления.  \n",
    "\n",
    "И поиск по сайту они совершают чаще всех остальных. Уверенно пользуются приложением. \n",
    "\n",
    "Все группы чаще смотрят карты, чем фотографии, добавление в избранное не популярная опция, чаще всего используют \"медленные\" ( более 50 минут сессия).\n",
    "\n",
    "\"Медленные\" чаще всех совершают целевое действие - просмотр контакта, а также больше всех смотрят фотографии, добавляют в избранное, откликаются на рекомендованные объявления. У них на всё хватает времени.\n",
    "\n",
    " Синие - \"деловые\" (от 7 до 17 минут сессия) и зелёные - \"серьёзные\" (от  17 до 50 минут сессия) демонстрируют похожее поведение по частоте событий. Но из них \"серьёзные\"  чаще смотрят карты и контакт продавца.\n",
    " "
   ]
  },
  {
   "cell_type": "markdown",
   "metadata": {},
   "source": [
    "### Какие пользователи часто делают целевое событие `contacts_show` - смотрят контакты продавца."
   ]
  },
  {
   "cell_type": "markdown",
   "metadata": {},
   "source": [
    "Чтобы построить кривые конверсии для разных категорий пользователей, воспользовались функцией. Профили пользователей уже построили при изучении удержания, момент и горизонт анализа оставили прежними: последний день наблюдения и 7 дней. Данные о времени совершения целевого события получили из таблицы `моbile`. "
   ]
  },
  {
   "cell_type": "code",
   "execution_count": 76,
   "metadata": {},
   "outputs": [],
   "source": [
    "# функция для расчёта конверсии\n",
    "\n",
    "def get_conversion(\n",
    "    profiles,\n",
    "    mobile,\n",
    "    observation_date,\n",
    "    horizon_days,\n",
    "    dimensions=[],\n",
    "    ignore_horizon=False,\n",
    "):\n",
    "\n",
    "    # исключаем пользователей, не «доживших» до горизонта анализа\n",
    "    last_suitable_acquisition_date = observation_date\n",
    "    if not ignore_horizon:\n",
    "        last_suitable_acquisition_date = observation_date - timedelta(\n",
    "            days=horizon_days - 1\n",
    "        )\n",
    "    result_raw = profiles.query('dt <= @last_suitable_acquisition_date')\n",
    "\n",
    "    # определяем дату и время первого нажатия пользователем  кнопки \"посмотреть контактный телефон\"\n",
    "    first_contacts_show = (\n",
    "        mobile.query('event_name == \"contacts_show\"').sort_values(by=['user_id', 'event_time'])\n",
    "        .groupby('user_id')\n",
    "        .agg({'event_time': 'first'})\n",
    "        .reset_index()\n",
    "    )\n",
    "\n",
    "    # добавляем данные о покупках в профили\n",
    "    result_raw = result_raw.merge(\n",
    "        first_contacts_show[['user_id', 'event_time']], on='user_id', how='left'\n",
    "    )\n",
    "\n",
    "    # рассчитываем лайфтайм для каждой покупки\n",
    "    result_raw['lifetime'] = (\n",
    "        result_raw['event_time'] - result_raw['first_ts']\n",
    "    ).dt.days\n",
    "\n",
    "    # группируем по cohort, если в dimensions ничего нет\n",
    "    if len(dimensions) == 0:\n",
    "        result_raw['cohort'] = 'All users' \n",
    "        dimensions = dimensions + ['cohort']\n",
    "\n",
    "    # функция для группировки таблицы по желаемым признакам\n",
    "    def group_by_dimensions(df, dims, horizon_days):\n",
    "        result = df.pivot_table(\n",
    "            index=dims, columns='lifetime', values='user_id', aggfunc='nunique'\n",
    "        )\n",
    "        result = result.fillna(0).cumsum(axis = 1)\n",
    "        cohort_sizes = (\n",
    "            df.groupby(dims)\n",
    "            .agg({'user_id': 'nunique'})\n",
    "            .rename(columns={'user_id': 'cohort_size'})\n",
    "        )\n",
    "        result = cohort_sizes.merge(result, on=dims, how='left').fillna(0)\n",
    "        # делим каждую «ячейку» в строке на размер когорты\n",
    "        # и получаем conversion rate\n",
    "        result = result.div(result['cohort_size'], axis=0)\n",
    "        result = result[['cohort_size'] + list(range(horizon_days))]\n",
    "        result['cohort_size'] = cohort_sizes\n",
    "        return result\n",
    "\n",
    "    # получаем таблицу конверсии\n",
    "    result_grouped = group_by_dimensions(result_raw, dimensions, horizon_days)\n",
    "\n",
    "    # для таблицы динамики конверсии убираем 'cohort' из dimensions\n",
    "    if 'cohort' in dimensions: \n",
    "        dimensions = []\n",
    "\n",
    "    # получаем таблицу динамики конверсии\n",
    "    result_in_time = group_by_dimensions(\n",
    "        result_raw, dimensions + ['dt'], horizon_days\n",
    "    )\n",
    "\n",
    "    # возвращаем обе таблицы и сырые данные\n",
    "    return result_raw, result_grouped, result_in_time \n"
   ]
  },
  {
   "cell_type": "code",
   "execution_count": 77,
   "metadata": {},
   "outputs": [
    {
     "data": {
      "image/png": "[encoded data removed]",
      "text/plain": [
       "<Figure size 720x360 with 1 Axes>"
      ]
     },
     "metadata": {
      "needs_background": "light"
     },
     "output_type": "display_data"
    }
   ],
   "source": [
    "# получаем сырые данные, таблицу конверсии и таблицу динамики конверсии\n",
    "conversion_raw, conversion, conversion_history = get_conversion(\n",
    "    profiles, mobile, profiles['first_ts'].max(), horizon_days, dimensions=['user_cat']\n",
    ")\n",
    "plt.figure(figsize = (10, 5)) # задаём размер «подложки»\n",
    "\n",
    "# исключаем размеры когорт\n",
    "\n",
    "report = conversion.drop(columns = ['cohort_size'])\n",
    "\n",
    "\n",
    "report.T.plot(\n",
    "    grid=True, xticks=list(report.columns.values), ax=plt.subplot(1, 2, 2)\n",
    ")  # во второй — кривые конверсии\n",
    "plt.title('Кривые конверсии  в целевое событие contacts_show по категориям пользователей')\n",
    "\n",
    "plt.show() "
   ]
  },
  {
   "cell_type": "markdown",
   "metadata": {},
   "source": [
    "**Вывод**\n",
    "\n",
    "Конверсия в целевое событие \"посмотреть контакт\" возростает со средней  продолжительностью сессии пользователей. \"Медленные лидируют с заметным отрывом."
   ]
  },
  {
   "cell_type": "markdown",
   "metadata": {},
   "source": [
    "## Проверка гипотез"
   ]
  },
  {
   "cell_type": "markdown",
   "metadata": {},
   "source": [
    "### Гипотеза заказчика. Две  группы демонстрируют разную конверсию в просмотры контактов: пришедшие по ссылке из yandex и из google."
   ]
  },
  {
   "cell_type": "markdown",
   "metadata": {},
   "source": [
    "Для проверки гипотезы заказчика применили z-test. Убедились, что пользователи не попали более, чем в одну группу. "
   ]
  },
  {
   "cell_type": "code",
   "execution_count": 78,
   "metadata": {},
   "outputs": [
    {
     "data": {
      "text/plain": [
       "0"
      ]
     },
     "execution_count": 78,
     "metadata": {},
     "output_type": "execute_result"
    }
   ],
   "source": [
    "mobile.groupby('user_id').agg({'source':'nunique'}).query('source > 1').shape[0]"
   ]
  },
  {
   "cell_type": "markdown",
   "metadata": {},
   "source": [
    "Всё в порядке - каждый пришел из одного источника."
   ]
  },
  {
   "cell_type": "markdown",
   "metadata": {},
   "source": [
    "\n",
    "**Нулевая гипотеза:** доли уникальных посетителей из google  и из yandex, совершивших целевое действие, одинаковы.\n",
    "\n",
    "**Альтенативная гипотеза:** между долями уникальных посетителей из google  и из yandex , совершивших целевое действие, есть значимая разница.\n"
   ]
  },
  {
   "cell_type": "code",
   "execution_count": 79,
   "metadata": {},
   "outputs": [],
   "source": [
    "# функциzя для z_testa\n",
    "def z_test(successes1, successes2, trials1, trials2, alpha=0.05):\n",
    "\n",
    "    p1 = successes1/trials1\n",
    "\n",
    "    p2 = successes2/trials2\n",
    "\n",
    "    p_combined = (successes1 + successes2) / (trials1 + trials2)\n",
    "\n",
    "    difference = p1 - p2 \n",
    "\n",
    "    z_value = difference / mth.sqrt(p_combined * (1 - p_combined) * (1 / trials1 + 1 / trials2))\n",
    "\n",
    "    distr = st.norm(0, 1)\n",
    "\n",
    "    p_value = (1 - distr.cdf(abs(z_value))) * 2\n",
    "\n",
    "    print('p-значение: ', p_value)\n",
    "\n",
    "    if p_value < alpha:\n",
    "        print('Отвергаем нулевую гипотезу: между долями есть значимая разница')\n",
    "    else:\n",
    "        print('Не получилось отвергнуть нулевую гипотезу, нет оснований считать доли разными') "
   ]
  },
  {
   "cell_type": "code",
   "execution_count": 80,
   "metadata": {},
   "outputs": [
    {
     "data": {
      "text/html": [
       "<div>\n",
       "<style scoped>\n",
       "    .dataframe tbody tr th:only-of-type {\n",
       "        vertical-align: middle;\n",
       "    }\n",
       "\n",
       "    .dataframe tbody tr th {\n",
       "        vertical-align: top;\n",
       "    }\n",
       "\n",
       "    .dataframe thead th {\n",
       "        text-align: right;\n",
       "    }\n",
       "</style>\n",
       "<table border=\"1\" class=\"dataframe\">\n",
       "  <thead>\n",
       "    <tr style=\"text-align: right;\">\n",
       "      <th></th>\n",
       "      <th>source</th>\n",
       "      <th>user_count_x</th>\n",
       "      <th>user_count_y</th>\n",
       "    </tr>\n",
       "  </thead>\n",
       "  <tbody>\n",
       "    <tr>\n",
       "      <th>0</th>\n",
       "      <td>google</td>\n",
       "      <td>1097</td>\n",
       "      <td>269</td>\n",
       "    </tr>\n",
       "    <tr>\n",
       "      <th>1</th>\n",
       "      <td>other</td>\n",
       "      <td>1179</td>\n",
       "      <td>221</td>\n",
       "    </tr>\n",
       "    <tr>\n",
       "      <th>2</th>\n",
       "      <td>yandex</td>\n",
       "      <td>1868</td>\n",
       "      <td>462</td>\n",
       "    </tr>\n",
       "  </tbody>\n",
       "</table>\n",
       "</div>"
      ],
      "text/plain": [
       "   source  user_count_x  user_count_y\n",
       "0  google          1097           269\n",
       "1   other          1179           221\n",
       "2  yandex          1868           462"
      ]
     },
     "execution_count": 80,
     "metadata": {},
     "output_type": "execute_result"
    }
   ],
   "source": [
    "# подготовили таблицу для теста\n",
    "df_1 = mobile.groupby('source').agg(user_count=('user_id', 'nunique')).reset_index()\n",
    "df_2 = mobile.query('event_name == \"contacts_show\"').groupby('source').agg(user_count=('user_id', 'nunique')).reset_index()\n",
    "df_source = pd.merge(df_1, df_2, on='source')\n",
    "df_source"
   ]
  },
  {
   "cell_type": "code",
   "execution_count": 81,
   "metadata": {},
   "outputs": [
    {
     "name": "stdout",
     "output_type": "stream",
     "text": [
      "p-значение:  0.8976357028525019\n",
      "Не получилось отвергнуть нулевую гипотезу, нет оснований считать доли разными\n"
     ]
    }
   ],
   "source": [
    "\n",
    "z_test(df_source.at[0, 'user_count_y'],df_source.at[2, 'user_count_y'],df_source.at[0, 'user_count_x'],df_source.at[2, 'user_count_x'])"
   ]
  },
  {
   "cell_type": "markdown",
   "metadata": {},
   "source": [
    "**Вывод**\n",
    "\n",
    "Гипотеза заказчика не подтвердилась. Не удалось показать, что конверсии в целевое событие \"просмотр контакта\" различается для тех, кто пришел из google, и тех кто пришел из yandex "
   ]
  },
  {
   "cell_type": "markdown",
   "metadata": {},
   "source": [
    "### Собственная гипотеза. Пользователи, завершающие сессию добавлением в избранное или просмотром карты,  демострируют разное удержание."
   ]
  },
  {
   "cell_type": "markdown",
   "metadata": {},
   "source": [
    "Нам стало известно, что в приложение недавно добавили новые опции: просмотр фотографий, просмотр геолокации продавца и добавление в избранное. Сделали срезы таблицы mobile_dt по значению признака last_event последнее действие за сессию. Оценили размеры выборок."
   ]
  },
  {
   "cell_type": "code",
   "execution_count": 84,
   "metadata": {},
   "outputs": [
    {
     "name": "stdout",
     "output_type": "stream",
     "text": [
      "В конце сессии добавили в избранное 152\n",
      "В конце сессиипосмотрели карту 194\n"
     ]
    }
   ],
   "source": [
    "mobile_f = mobile_df.query('last_event == \"favorites_add\"')\n",
    "mobile_m = mobile_df.query('last_event == \"map\"')\n",
    "print('В конце сессии добавили в избранное', mobile_f.shape[0])\n",
    "print('В конце сессиипосмотрели карту', mobile_m.shape[0])"
   ]
  },
  {
   "cell_type": "code",
   "execution_count": 85,
   "metadata": {},
   "outputs": [
    {
     "data": {
      "text/html": [
       "<div>\n",
       "<style scoped>\n",
       "    .dataframe tbody tr th:only-of-type {\n",
       "        vertical-align: middle;\n",
       "    }\n",
       "\n",
       "    .dataframe tbody tr th {\n",
       "        vertical-align: top;\n",
       "    }\n",
       "\n",
       "    .dataframe thead th {\n",
       "        text-align: right;\n",
       "    }\n",
       "</style>\n",
       "<table border=\"1\" class=\"dataframe\">\n",
       "  <thead>\n",
       "    <tr style=\"text-align: right;\">\n",
       "      <th></th>\n",
       "      <th>user_id</th>\n",
       "      <th>session</th>\n",
       "      <th>start</th>\n",
       "      <th>finish</th>\n",
       "      <th>first_event</th>\n",
       "      <th>last_event</th>\n",
       "      <th>count_event</th>\n",
       "      <th>interval</th>\n",
       "      <th>user_cat</th>\n",
       "    </tr>\n",
       "  </thead>\n",
       "  <tbody>\n",
       "    <tr>\n",
       "      <th>69</th>\n",
       "      <td>030fbe1b-7e5b-49a4-af82-570189847f10</td>\n",
       "      <td>2019-10-15</td>\n",
       "      <td>2019-10-15 10:38:12</td>\n",
       "      <td>2019-10-15 10:40:06</td>\n",
       "      <td>search</td>\n",
       "      <td>favorites_add</td>\n",
       "      <td>3</td>\n",
       "      <td>114.0</td>\n",
       "      <td>fast</td>\n",
       "    </tr>\n",
       "    <tr>\n",
       "      <th>177</th>\n",
       "      <td>06b73062-0e64-4e7a-91e7-2c2773234919</td>\n",
       "      <td>2019-10-22</td>\n",
       "      <td>2019-10-22 22:51:47</td>\n",
       "      <td>2019-10-22 23:06:44</td>\n",
       "      <td>search</td>\n",
       "      <td>favorites_add</td>\n",
       "      <td>12</td>\n",
       "      <td>897.0</td>\n",
       "      <td>fast</td>\n",
       "    </tr>\n",
       "    <tr>\n",
       "      <th>178</th>\n",
       "      <td>06b73062-0e64-4e7a-91e7-2c2773234919</td>\n",
       "      <td>2019-10-23</td>\n",
       "      <td>2019-10-23 20:44:44</td>\n",
       "      <td>2019-10-23 20:45:47</td>\n",
       "      <td>search</td>\n",
       "      <td>favorites_add</td>\n",
       "      <td>2</td>\n",
       "      <td>63.0</td>\n",
       "      <td>fast</td>\n",
       "    </tr>\n",
       "    <tr>\n",
       "      <th>211</th>\n",
       "      <td>07efcf91-4d1a-45c4-aba3-6590bb22ec52</td>\n",
       "      <td>2019-10-17</td>\n",
       "      <td>2019-10-17 19:34:07</td>\n",
       "      <td>2019-10-17 19:41:30</td>\n",
       "      <td>search</td>\n",
       "      <td>favorites_add</td>\n",
       "      <td>2</td>\n",
       "      <td>443.0</td>\n",
       "      <td>slow</td>\n",
       "    </tr>\n",
       "    <tr>\n",
       "      <th>228</th>\n",
       "      <td>082fdad3-ec9a-48f6-89c8-ecd28bbc09e0</td>\n",
       "      <td>2019-10-15</td>\n",
       "      <td>2019-10-15 18:08:36</td>\n",
       "      <td>2019-10-15 23:08:15</td>\n",
       "      <td>contacts_show</td>\n",
       "      <td>favorites_add</td>\n",
       "      <td>2</td>\n",
       "      <td>17979.0</td>\n",
       "      <td>slow</td>\n",
       "    </tr>\n",
       "  </tbody>\n",
       "</table>\n",
       "</div>"
      ],
      "text/plain": [
       "                                  user_id     session               start  \\\n",
       "69   030fbe1b-7e5b-49a4-af82-570189847f10  2019-10-15 2019-10-15 10:38:12   \n",
       "177  06b73062-0e64-4e7a-91e7-2c2773234919  2019-10-22 2019-10-22 22:51:47   \n",
       "178  06b73062-0e64-4e7a-91e7-2c2773234919  2019-10-23 2019-10-23 20:44:44   \n",
       "211  07efcf91-4d1a-45c4-aba3-6590bb22ec52  2019-10-17 2019-10-17 19:34:07   \n",
       "228  082fdad3-ec9a-48f6-89c8-ecd28bbc09e0  2019-10-15 2019-10-15 18:08:36   \n",
       "\n",
       "                 finish    first_event     last_event  count_event  interval  \\\n",
       "69  2019-10-15 10:40:06         search  favorites_add            3     114.0   \n",
       "177 2019-10-22 23:06:44         search  favorites_add           12     897.0   \n",
       "178 2019-10-23 20:45:47         search  favorites_add            2      63.0   \n",
       "211 2019-10-17 19:41:30         search  favorites_add            2     443.0   \n",
       "228 2019-10-15 23:08:15  contacts_show  favorites_add            2   17979.0   \n",
       "\n",
       "    user_cat  \n",
       "69      fast  \n",
       "177     fast  \n",
       "178     fast  \n",
       "211     slow  \n",
       "228     slow  "
      ]
     },
     "execution_count": 85,
     "metadata": {},
     "output_type": "execute_result"
    }
   ],
   "source": [
    "mobile_f.head()"
   ]
  },
  {
   "cell_type": "code",
   "execution_count": 86,
   "metadata": {},
   "outputs": [
    {
     "data": {
      "text/html": [
       "<div>\n",
       "<style scoped>\n",
       "    .dataframe tbody tr th:only-of-type {\n",
       "        vertical-align: middle;\n",
       "    }\n",
       "\n",
       "    .dataframe tbody tr th {\n",
       "        vertical-align: top;\n",
       "    }\n",
       "\n",
       "    .dataframe thead th {\n",
       "        text-align: right;\n",
       "    }\n",
       "</style>\n",
       "<table border=\"1\" class=\"dataframe\">\n",
       "  <thead>\n",
       "    <tr style=\"text-align: right;\">\n",
       "      <th></th>\n",
       "      <th>user_id</th>\n",
       "      <th>first_ts</th>\n",
       "      <th>source</th>\n",
       "      <th>user_cat</th>\n",
       "      <th>event_name</th>\n",
       "      <th>dt</th>\n",
       "    </tr>\n",
       "  </thead>\n",
       "  <tbody>\n",
       "    <tr>\n",
       "      <th>0</th>\n",
       "      <td>0001b1d5-b74a-4cbf-aeb0-7df5947bf349</td>\n",
       "      <td>2019-10-07 13:39:45</td>\n",
       "      <td>other</td>\n",
       "      <td>business</td>\n",
       "      <td>tips_show</td>\n",
       "      <td>2019-10-07</td>\n",
       "    </tr>\n",
       "    <tr>\n",
       "      <th>1</th>\n",
       "      <td>00157779-810c-4498-9e05-a1e9e3cedf93</td>\n",
       "      <td>2019-10-19 21:34:33</td>\n",
       "      <td>yandex</td>\n",
       "      <td>serious</td>\n",
       "      <td>search</td>\n",
       "      <td>2019-10-19</td>\n",
       "    </tr>\n",
       "    <tr>\n",
       "      <th>2</th>\n",
       "      <td>00463033-5717-4bf1-91b4-09183923b9df</td>\n",
       "      <td>2019-11-01 13:54:35</td>\n",
       "      <td>yandex</td>\n",
       "      <td>serious</td>\n",
       "      <td>photos_show</td>\n",
       "      <td>2019-11-01</td>\n",
       "    </tr>\n",
       "    <tr>\n",
       "      <th>3</th>\n",
       "      <td>004690c3-5a84-4bb7-a8af-e0c8f8fca64e</td>\n",
       "      <td>2019-10-18 22:14:05</td>\n",
       "      <td>google</td>\n",
       "      <td>business</td>\n",
       "      <td>search</td>\n",
       "      <td>2019-10-18</td>\n",
       "    </tr>\n",
       "    <tr>\n",
       "      <th>4</th>\n",
       "      <td>00551e79-152e-4441-9cf7-565d7eb04090</td>\n",
       "      <td>2019-10-25 16:44:41</td>\n",
       "      <td>yandex</td>\n",
       "      <td>business</td>\n",
       "      <td>contacts_show</td>\n",
       "      <td>2019-10-25</td>\n",
       "    </tr>\n",
       "  </tbody>\n",
       "</table>\n",
       "</div>"
      ],
      "text/plain": [
       "                                user_id            first_ts  source  user_cat  \\\n",
       "0  0001b1d5-b74a-4cbf-aeb0-7df5947bf349 2019-10-07 13:39:45   other  business   \n",
       "1  00157779-810c-4498-9e05-a1e9e3cedf93 2019-10-19 21:34:33  yandex   serious   \n",
       "2  00463033-5717-4bf1-91b4-09183923b9df 2019-11-01 13:54:35  yandex   serious   \n",
       "3  004690c3-5a84-4bb7-a8af-e0c8f8fca64e 2019-10-18 22:14:05  google  business   \n",
       "4  00551e79-152e-4441-9cf7-565d7eb04090 2019-10-25 16:44:41  yandex  business   \n",
       "\n",
       "      event_name          dt  \n",
       "0      tips_show  2019-10-07  \n",
       "1         search  2019-10-19  \n",
       "2    photos_show  2019-11-01  \n",
       "3         search  2019-10-18  \n",
       "4  contacts_show  2019-10-25  "
      ]
     },
     "execution_count": 86,
     "metadata": {},
     "output_type": "execute_result"
    }
   ],
   "source": [
    "profiles.head()"
   ]
  },
  {
   "cell_type": "markdown",
   "metadata": {},
   "source": [
    "Размеры выборок маловаты для оценки статистической значимости. Но решили попробовать."
   ]
  },
  {
   "cell_type": "code",
   "execution_count": 87,
   "metadata": {},
   "outputs": [
    {
     "data": {
      "text/html": [
       "<div>\n",
       "<style scoped>\n",
       "    .dataframe tbody tr th:only-of-type {\n",
       "        vertical-align: middle;\n",
       "    }\n",
       "\n",
       "    .dataframe tbody tr th {\n",
       "        vertical-align: top;\n",
       "    }\n",
       "\n",
       "    .dataframe thead th {\n",
       "        text-align: right;\n",
       "    }\n",
       "</style>\n",
       "<table border=\"1\" class=\"dataframe\">\n",
       "  <thead>\n",
       "    <tr style=\"text-align: right;\">\n",
       "      <th>source</th>\n",
       "      <th>google</th>\n",
       "      <th>other</th>\n",
       "      <th>yandex</th>\n",
       "    </tr>\n",
       "  </thead>\n",
       "  <tbody>\n",
       "    <tr>\n",
       "      <th>0.0</th>\n",
       "      <td>0.020879</td>\n",
       "      <td>0.012645</td>\n",
       "      <td>0.020473</td>\n",
       "    </tr>\n",
       "    <tr>\n",
       "      <th>1.0</th>\n",
       "      <td>0.000000</td>\n",
       "      <td>0.000000</td>\n",
       "      <td>0.002559</td>\n",
       "    </tr>\n",
       "    <tr>\n",
       "      <th>2.0</th>\n",
       "      <td>0.002198</td>\n",
       "      <td>0.002107</td>\n",
       "      <td>0.003199</td>\n",
       "    </tr>\n",
       "    <tr>\n",
       "      <th>3.0</th>\n",
       "      <td>0.001099</td>\n",
       "      <td>0.001054</td>\n",
       "      <td>0.001919</td>\n",
       "    </tr>\n",
       "    <tr>\n",
       "      <th>4.0</th>\n",
       "      <td>0.000000</td>\n",
       "      <td>0.001054</td>\n",
       "      <td>0.002559</td>\n",
       "    </tr>\n",
       "    <tr>\n",
       "      <th>5.0</th>\n",
       "      <td>0.002198</td>\n",
       "      <td>0.002107</td>\n",
       "      <td>0.001919</td>\n",
       "    </tr>\n",
       "    <tr>\n",
       "      <th>6.0</th>\n",
       "      <td>0.002198</td>\n",
       "      <td>0.002107</td>\n",
       "      <td>0.000000</td>\n",
       "    </tr>\n",
       "  </tbody>\n",
       "</table>\n",
       "</div>"
      ],
      "text/plain": [
       "source    google     other    yandex\n",
       "0.0     0.020879  0.012645  0.020473\n",
       "1.0     0.000000  0.000000  0.002559\n",
       "2.0     0.002198  0.002107  0.003199\n",
       "3.0     0.001099  0.001054  0.001919\n",
       "4.0     0.000000  0.001054  0.002559\n",
       "5.0     0.002198  0.002107  0.001919\n",
       "6.0     0.002198  0.002107  0.000000"
      ]
     },
     "execution_count": 87,
     "metadata": {},
     "output_type": "execute_result"
    }
   ],
   "source": [
    "# расчитали удержание для завершающих сессию добавлением в избранное \n",
    "\n",
    "retention_raw, retention = get_retention(\n",
    "    profiles, mobile_f, profiles['first_ts'].max(), horizon_days, dimensions=['source']\n",
    ")  \n",
    "test_f = retention.drop(columns = ['cohort_size'])\n",
    "test_f = test_f.T\n",
    "test_f"
   ]
  },
  {
   "cell_type": "code",
   "execution_count": 88,
   "metadata": {},
   "outputs": [
    {
     "data": {
      "text/html": [
       "<div>\n",
       "<style scoped>\n",
       "    .dataframe tbody tr th:only-of-type {\n",
       "        vertical-align: middle;\n",
       "    }\n",
       "\n",
       "    .dataframe tbody tr th {\n",
       "        vertical-align: top;\n",
       "    }\n",
       "\n",
       "    .dataframe thead th {\n",
       "        text-align: right;\n",
       "    }\n",
       "</style>\n",
       "<table border=\"1\" class=\"dataframe\">\n",
       "  <thead>\n",
       "    <tr style=\"text-align: right;\">\n",
       "      <th>source</th>\n",
       "      <th>google</th>\n",
       "      <th>other</th>\n",
       "      <th>yandex</th>\n",
       "    </tr>\n",
       "  </thead>\n",
       "  <tbody>\n",
       "    <tr>\n",
       "      <th>0.0</th>\n",
       "      <td>0.024176</td>\n",
       "      <td>0.045311</td>\n",
       "      <td>0.035189</td>\n",
       "    </tr>\n",
       "    <tr>\n",
       "      <th>1.0</th>\n",
       "      <td>0.001099</td>\n",
       "      <td>0.002107</td>\n",
       "      <td>0.003199</td>\n",
       "    </tr>\n",
       "    <tr>\n",
       "      <th>2.0</th>\n",
       "      <td>0.000000</td>\n",
       "      <td>0.003161</td>\n",
       "      <td>0.002559</td>\n",
       "    </tr>\n",
       "    <tr>\n",
       "      <th>3.0</th>\n",
       "      <td>0.001099</td>\n",
       "      <td>0.002107</td>\n",
       "      <td>0.001919</td>\n",
       "    </tr>\n",
       "    <tr>\n",
       "      <th>4.0</th>\n",
       "      <td>0.000000</td>\n",
       "      <td>0.002107</td>\n",
       "      <td>0.001919</td>\n",
       "    </tr>\n",
       "    <tr>\n",
       "      <th>5.0</th>\n",
       "      <td>0.000000</td>\n",
       "      <td>0.000000</td>\n",
       "      <td>0.001919</td>\n",
       "    </tr>\n",
       "    <tr>\n",
       "      <th>6.0</th>\n",
       "      <td>0.000000</td>\n",
       "      <td>0.000000</td>\n",
       "      <td>0.000640</td>\n",
       "    </tr>\n",
       "  </tbody>\n",
       "</table>\n",
       "</div>"
      ],
      "text/plain": [
       "source    google     other    yandex\n",
       "0.0     0.024176  0.045311  0.035189\n",
       "1.0     0.001099  0.002107  0.003199\n",
       "2.0     0.000000  0.003161  0.002559\n",
       "3.0     0.001099  0.002107  0.001919\n",
       "4.0     0.000000  0.002107  0.001919\n",
       "5.0     0.000000  0.000000  0.001919\n",
       "6.0     0.000000  0.000000  0.000640"
      ]
     },
     "execution_count": 88,
     "metadata": {},
     "output_type": "execute_result"
    }
   ],
   "source": [
    "# рассчитали удержание для завершающих сессию просмотром карты\n",
    "retention_raw, retention = get_retention(\n",
    "    profiles, mobile_m, profiles['first_ts'].max(), horizon_days, dimensions=['source']\n",
    ")  \n",
    "test_m = retention.drop(columns = ['cohort_size'])\n",
    "test_m = test_m.T\n",
    "test_m"
   ]
  },
  {
   "cell_type": "code",
   "execution_count": 89,
   "metadata": {},
   "outputs": [
    {
     "data": {
      "text/plain": [
       "0.0    0.035189\n",
       "1.0    0.003199\n",
       "2.0    0.002559\n",
       "3.0    0.001919\n",
       "4.0    0.001919\n",
       "5.0    0.001919\n",
       "6.0    0.000640\n",
       "Name: yandex, dtype: float64"
      ]
     },
     "execution_count": 89,
     "metadata": {},
     "output_type": "execute_result"
    }
   ],
   "source": [
    "test_m['yandex']"
   ]
  },
  {
   "cell_type": "markdown",
   "metadata": {},
   "source": [
    "Все допущения, сделанные при  проверке предыдущей гипотезы остаются в силе. Для проверки гипотезы о неравенстве удержания взяли пользователей из yandex."
   ]
  },
  {
   "cell_type": "markdown",
   "metadata": {},
   "source": [
    "Нулевую гипотезу Н0 сформулируем так: \"Удержание пользователей, скачавших приложение из yandex, завешающих сессию добавлением в избранное или просмотром карты, однаковое\" Пороговое значение установили 0.005. Если вероятность получить данные, не противоречащие нулевой гипотезе, будет выше 0.005, то утверждение о равенстве удержания пользователей  имеет право на существование.\n",
    "\n",
    "Альтернативная гипотеза H1: \"Удержание пользователей, скачавших приложение из yandex, завешающих сессию добавлением в избранное или просмотром карты, различное\". Если вероятность получить данные, не противоречащие гипотезе о равенстве удержания двух разных завершений сессии будет меньше порогового значения, то нулевую гипотезу надо отвергнуть. Предположение  о различии удержания  для пользователей с разными завершающими сессию событиями является обоснованной."
   ]
  },
  {
   "cell_type": "code",
   "execution_count": 91,
   "metadata": {},
   "outputs": [
    {
     "name": "stdout",
     "output_type": "stream",
     "text": [
      "р-значение: 0.707870639891677\n",
      "Не получилось отвергнуть нулевую гипотезу\n"
     ]
    }
   ],
   "source": [
    "alpha = .005\n",
    "results = st.ttest_ind(test_f['yandex'], test_m['yandex'], equal_var=False)\n",
    "print('р-значение:', results.pvalue)\n",
    "if results.pvalue < alpha:\n",
    "    print(\"Отвергаем нулевую гипотезу\")\n",
    "else:\n",
    "    print(\"Не получилось отвергнуть нулевую гипотезу\")"
   ]
  },
  {
   "cell_type": "markdown",
   "metadata": {},
   "source": [
    "**Вывод**\n",
    "\n",
    "Наша теория тоже не подтвердилась, возможно из-за маленьких выборок, а возможно, что те, кто вчера посмотрел карту и те, кто добавил в избранное с одинаковой вероятностью вернуться в приложение позже."
   ]
  },
  {
   "cell_type": "markdown",
   "metadata": {},
   "source": [
    "## Выводы"
   ]
  },
  {
   "cell_type": "markdown",
   "metadata": {},
   "source": [
    "Проведено исследование данных о событиях, совершенных в мобильном приложении \"Ненужные вещи\". В нем пользователи продают свои ненужные вещи, размещая их на доске объявлений.\n",
    "\n",
    "В датасете содержатся данные пользователей, впервые совершивших действия в приложении после 7 октября 2019 года. Последняя дата наблюдения 3 ноября 2019 года.\n",
    "\n",
    "После очистки данных от неявных дубликатов и случайных событий (длительность сессии меньше секунды) и аномально длинных событий (сессия длиннее 9 часов), остались сведения о 4144 пользователе.\n",
    "\n",
    "В целях исследования установили, что одна сессия - это все события, совершенные в течение суток. Длительность сессии определили, как интервал между первым и последним событием за сутки.\n",
    "\n",
    "Разделили пользователей на 4 приблизительно равные категории исходя из длительности сессии:\n",
    "- до 7 минут (420 секунд)                   fast    1080 пользователей; \n",
    "- от 7 до 17 минут(421 - 1020 секунд)       business 987 пользователей;\n",
    "- 17 минут до 50 минут (1021 - 3000 секунд) serious 1045 пользователей;\n",
    "- больше 50 минут (3001 )                   slow    1032 пользователя.\n",
    "\n",
    "Группы не совсем равного размера из-за округления граничных значений до минут.\n",
    "\n",
    "Самые короткие сессии 1 секунда, самые длинные после отсечения аномальных около 9 часов. Пользователи совершают за одну сессию от 2 до  170 событий, но в общем виде рост продолжительности сессии не приводит к увеличению количества совершенных внутри неё событий. Бурная деятельность наблюдается на коротких сессиях.\n",
    "\n",
    "Ежедневно в среднем приложением пользуется (DAU) 272 человека, из них 59 быстрых, 56 деловых, 61 серьёзный  96 медленных. С учетом равенства групп, медленные посещают приложение чаще.\n",
    "\n",
    "Количество сессий одного пользователя за исследованный период варьируется от 1 до 25. Большинство пользователей посетили приложение 1 раз за исследуемый период. расчитали `retention` и построили кривые удержания для каждой категории, выяснили, что удержание пользователей, которые проводят в приложении в среднем более 50 минут в день, сильно превосходит остальные категории.\n",
    "**\"Медленные\" чаще других склонны возвращаться.**\n",
    "\n",
    "Чтобы посчитать **время, проведенное пользователем в приложении за весь исследуемый период,** сложили длительность всех его сессий. Минимальное время меньше 1 минуты, максимальное время 84 часа (это больше 3 часов ежедневно - барахольщик), медианное значение времени, проведенного пользователем в приложении 39 минут за весь период. По показателю общего времени, проведенного в приложении за исследуемый период категории пользователей распределились следующим образом: fast 4 минуты, business 16 минут, serious 43 минуты, slow 296 минут (почти 5 часов).\n",
    "\n",
    "**Частота совершаемых действий** имеет свои особенности для разных категорий пользователей. Рекомендованные объявления, демострируются всем, однако \"быстрые\" пользователи умудряются её избегать, реже всех открывают рекомендованные объявления.  \n",
    "И поиск по сайту они совершают чаще всех остальных. Уверенно пользуются приложением. Но целевое действие \"просмотр контактов\" совершают реже всех. \"Медленные\" чаще всех совершают целевое действие - просмотр контакта, а также больше всех смотрят фотографии, добавляют в избранное, откликаются на рекомендованные объявления. У них на всё хватает времени.  \"Деловые\" (от 7 до 17 минут сессия) и \"серьёзные\" (от  17 до 50 минут сессия) демонстрируют похожее между собой поведение по частоте событий. Но из них \"серьёзные\"  чаще смотрят карты и контакт продавца.\n",
    "Все группы чаще смотрят карты, чем фотографии, добавление в избранное не популярная опция, чаще всего ею пользуются \"медленные\" ( более 50 минут сессия).\n",
    "На рекомендованные объявления чаще всех кликают \"медленные\" пользователи.\n",
    "\n",
    "Для ответа на вопрос **\"Какие пользователи часто делают целевое событие `contacts_show` - смотрят контакты продавца?\"** построили кривые конверсии в целевое событие. По мете увеличения продолжительности сессии конверсия в группе растёт, но группа \"медленных\" пользователей лидирует с существенным отрывом.\n",
    " \n",
    " **Проверка предложенной гипотезы.** Не удалось показать, что конверсии в целевое событие \"просмотр контакта\" различается для тех, кто пришел из google, и тех кто пришел из yandex.\n",
    "**Прверка собственной гипотезы.** Не удалось показать, что пользователи, завершающие сессию добавлением в избранное или просмотром карты, демострируют разное удержание. Выборки пользователей с нужными признаками оказались слишком маленькими.\n",
    " \n",
    "По результатам провденного исследования обратили внимание на следующие аспекты функционирования приложения:\n",
    " -  показ рекомендованных объявлений подавляющее большинсто пользователей игнорируют;\n",
    " -  целевой аудиторией приложения являются \"медленные\" пользователи, длительность одной сессии у них более 50 минут, их ежедневное присутствие составляет 35% от общего числа присутствующих, а размер группы 25% всех пользователей. Среди них есть товарищи, посещавшие приложение 25 дней из 28, удержание на шестой день составляе 9%, другие группы меньше 4%. Они чаще всего откликаются на рекомендованные объявления, а конверсия в целевое действие на шестой день достигает 35%, для сравнения у \"быстрых\" 13%;\n",
    " - выбранный критерий для категоризации покупателей (продолжительность сессии) характеризует особенности поведения пользователя, его заинтересованность в приобретении чего-то, умение обращаться с приложением, наличие свободного времени, ловкость пальцев,  наконец. \n",
    " - мы исследовали данные о пользователях, которые покупают ненужные вещи. Полагаем, что полезно будет сопоставить сведения о покупателях со сведениями о продавцах. Увеличение числа посещений при росте продолжительности сессии и снижении количества действий, совершенных внутри одной сессии, может означать, что в этой категории много пользователей, которые что-то продают в приложении.\n",
    "  "
   ]
  }
 ],
 "metadata": {
  "ExecuteTimeLog": [
   {
    "duration": 1247,
    "start_time": "2022-07-20T10:04:03.218Z"
   },
   {
    "duration": 173,
    "start_time": "2022-07-20T10:08:52.526Z"
   },
   {
    "duration": 321,
    "start_time": "2022-07-20T10:09:56.219Z"
   },
   {
    "duration": 114,
    "start_time": "2022-07-20T10:15:13.018Z"
   },
   {
    "duration": 9,
    "start_time": "2022-07-20T10:15:32.686Z"
   },
   {
    "duration": 86,
    "start_time": "2022-07-20T10:16:07.298Z"
   },
   {
    "duration": 4,
    "start_time": "2022-07-20T10:17:31.526Z"
   },
   {
    "duration": 9,
    "start_time": "2022-07-20T10:23:28.001Z"
   },
   {
    "duration": 8,
    "start_time": "2022-07-20T10:25:50.787Z"
   },
   {
    "duration": 5,
    "start_time": "2022-07-20T10:26:15.326Z"
   },
   {
    "duration": 10,
    "start_time": "2022-07-20T10:26:42.767Z"
   },
   {
    "duration": 7,
    "start_time": "2022-07-20T10:27:21.564Z"
   },
   {
    "duration": 5,
    "start_time": "2022-07-20T10:29:30.638Z"
   },
   {
    "duration": 5,
    "start_time": "2022-07-20T10:37:03.622Z"
   },
   {
    "duration": 7,
    "start_time": "2022-07-20T10:45:12.788Z"
   },
   {
    "duration": 27,
    "start_time": "2022-07-20T10:50:05.215Z"
   },
   {
    "duration": 21,
    "start_time": "2022-07-20T10:53:05.249Z"
   },
   {
    "duration": 33,
    "start_time": "2022-07-20T10:54:05.888Z"
   },
   {
    "duration": 72,
    "start_time": "2022-07-20T10:59:48.675Z"
   },
   {
    "duration": 25,
    "start_time": "2022-07-20T11:00:00.759Z"
   },
   {
    "duration": 33,
    "start_time": "2022-07-20T11:18:57.654Z"
   },
   {
    "duration": 33,
    "start_time": "2022-07-20T11:22:16.921Z"
   },
   {
    "duration": 22,
    "start_time": "2022-07-20T11:25:07.686Z"
   },
   {
    "duration": 22,
    "start_time": "2022-07-20T11:28:37.871Z"
   },
   {
    "duration": 46,
    "start_time": "2022-07-20T11:36:09.930Z"
   },
   {
    "duration": 12,
    "start_time": "2022-07-20T11:37:12.457Z"
   },
   {
    "duration": 19,
    "start_time": "2022-07-20T13:19:50.319Z"
   },
   {
    "duration": 17,
    "start_time": "2022-07-20T13:40:03.291Z"
   },
   {
    "duration": 5,
    "start_time": "2022-07-20T14:15:18.046Z"
   },
   {
    "duration": 431,
    "start_time": "2022-07-20T14:17:22.964Z"
   },
   {
    "duration": 15,
    "start_time": "2022-07-20T14:27:00.694Z"
   },
   {
    "duration": 28,
    "start_time": "2022-07-20T14:27:55.317Z"
   },
   {
    "duration": 28,
    "start_time": "2022-07-20T14:28:38.756Z"
   },
   {
    "duration": 20,
    "start_time": "2022-07-20T14:31:34.971Z"
   },
   {
    "duration": 15,
    "start_time": "2022-07-20T14:32:15.459Z"
   },
   {
    "duration": 22,
    "start_time": "2022-07-20T14:32:58.457Z"
   },
   {
    "duration": 8,
    "start_time": "2022-07-20T14:41:31.990Z"
   },
   {
    "duration": 0,
    "start_time": "2022-07-20T14:45:42.687Z"
   },
   {
    "duration": 0,
    "start_time": "2022-07-20T14:45:42.688Z"
   },
   {
    "duration": 0,
    "start_time": "2022-07-20T14:45:42.689Z"
   },
   {
    "duration": 0,
    "start_time": "2022-07-20T14:45:42.690Z"
   },
   {
    "duration": 0,
    "start_time": "2022-07-20T14:45:42.692Z"
   },
   {
    "duration": 0,
    "start_time": "2022-07-20T14:45:42.692Z"
   },
   {
    "duration": 0,
    "start_time": "2022-07-20T14:45:42.694Z"
   },
   {
    "duration": 0,
    "start_time": "2022-07-20T14:45:42.695Z"
   },
   {
    "duration": 0,
    "start_time": "2022-07-20T14:45:42.696Z"
   },
   {
    "duration": 0,
    "start_time": "2022-07-20T14:45:42.697Z"
   },
   {
    "duration": 0,
    "start_time": "2022-07-20T14:45:42.698Z"
   },
   {
    "duration": 0,
    "start_time": "2022-07-20T14:45:42.699Z"
   },
   {
    "duration": 0,
    "start_time": "2022-07-20T14:45:42.700Z"
   },
   {
    "duration": 0,
    "start_time": "2022-07-20T14:45:42.701Z"
   },
   {
    "duration": 0,
    "start_time": "2022-07-20T14:45:42.702Z"
   },
   {
    "duration": 0,
    "start_time": "2022-07-20T14:45:42.703Z"
   },
   {
    "duration": 0,
    "start_time": "2022-07-20T14:45:42.704Z"
   },
   {
    "duration": 0,
    "start_time": "2022-07-20T14:45:42.705Z"
   },
   {
    "duration": 0,
    "start_time": "2022-07-20T14:45:42.706Z"
   },
   {
    "duration": 0,
    "start_time": "2022-07-20T14:45:42.707Z"
   },
   {
    "duration": 0,
    "start_time": "2022-07-20T14:45:42.711Z"
   },
   {
    "duration": 3,
    "start_time": "2022-07-20T14:45:46.967Z"
   },
   {
    "duration": 4,
    "start_time": "2022-07-20T14:45:58.896Z"
   },
   {
    "duration": 104,
    "start_time": "2022-07-20T14:45:58.919Z"
   },
   {
    "duration": 5,
    "start_time": "2022-07-20T14:45:59.025Z"
   },
   {
    "duration": 9,
    "start_time": "2022-07-20T14:45:59.032Z"
   },
   {
    "duration": 8,
    "start_time": "2022-07-20T14:45:59.043Z"
   },
   {
    "duration": 6,
    "start_time": "2022-07-20T14:45:59.054Z"
   },
   {
    "duration": 198,
    "start_time": "2022-07-20T14:45:59.062Z"
   },
   {
    "duration": 8,
    "start_time": "2022-07-20T14:45:59.262Z"
   },
   {
    "duration": 59,
    "start_time": "2022-07-20T14:45:59.271Z"
   },
   {
    "duration": 29,
    "start_time": "2022-07-20T14:45:59.332Z"
   },
   {
    "duration": 32,
    "start_time": "2022-07-20T14:45:59.363Z"
   },
   {
    "duration": 55,
    "start_time": "2022-07-20T14:45:59.397Z"
   },
   {
    "duration": 23,
    "start_time": "2022-07-20T14:45:59.454Z"
   },
   {
    "duration": 49,
    "start_time": "2022-07-20T14:45:59.479Z"
   },
   {
    "duration": 32,
    "start_time": "2022-07-20T14:45:59.531Z"
   },
   {
    "duration": 25,
    "start_time": "2022-07-20T14:45:59.565Z"
   },
   {
    "duration": 6,
    "start_time": "2022-07-20T14:45:59.592Z"
   },
   {
    "duration": 337,
    "start_time": "2022-07-20T14:45:59.600Z"
   },
   {
    "duration": 13,
    "start_time": "2022-07-20T14:47:30.910Z"
   },
   {
    "duration": 79,
    "start_time": "2022-07-20T14:47:30.925Z"
   },
   {
    "duration": 0,
    "start_time": "2022-07-20T14:47:31.006Z"
   },
   {
    "duration": 289,
    "start_time": "2022-07-20T15:06:28.051Z"
   },
   {
    "duration": 1041,
    "start_time": "2022-07-20T15:08:22.747Z"
   },
   {
    "duration": 150,
    "start_time": "2022-07-20T15:08:23.789Z"
   },
   {
    "duration": 6,
    "start_time": "2022-07-20T15:08:23.940Z"
   },
   {
    "duration": 10,
    "start_time": "2022-07-20T15:08:23.948Z"
   },
   {
    "duration": 11,
    "start_time": "2022-07-20T15:08:23.960Z"
   },
   {
    "duration": 5,
    "start_time": "2022-07-20T15:08:23.973Z"
   },
   {
    "duration": 204,
    "start_time": "2022-07-20T15:08:23.980Z"
   },
   {
    "duration": 5,
    "start_time": "2022-07-20T15:08:24.186Z"
   },
   {
    "duration": 65,
    "start_time": "2022-07-20T15:08:24.193Z"
   },
   {
    "duration": 19,
    "start_time": "2022-07-20T15:08:24.259Z"
   },
   {
    "duration": 35,
    "start_time": "2022-07-20T15:08:24.280Z"
   },
   {
    "duration": 61,
    "start_time": "2022-07-20T15:08:24.316Z"
   },
   {
    "duration": 23,
    "start_time": "2022-07-20T15:08:24.379Z"
   },
   {
    "duration": 58,
    "start_time": "2022-07-20T15:08:24.405Z"
   },
   {
    "duration": 13,
    "start_time": "2022-07-20T15:08:24.465Z"
   },
   {
    "duration": 21,
    "start_time": "2022-07-20T15:08:24.479Z"
   },
   {
    "duration": 4,
    "start_time": "2022-07-20T15:08:24.502Z"
   },
   {
    "duration": 432,
    "start_time": "2022-07-20T15:08:24.507Z"
   },
   {
    "duration": 88044,
    "start_time": "2022-07-20T15:08:24.941Z"
   },
   {
    "duration": 14,
    "start_time": "2022-07-20T15:09:52.986Z"
   },
   {
    "duration": 27,
    "start_time": "2022-07-20T15:09:53.002Z"
   },
   {
    "duration": 17,
    "start_time": "2022-07-20T15:31:13.859Z"
   },
   {
    "duration": 87,
    "start_time": "2022-07-20T15:33:53.823Z"
   },
   {
    "duration": 88589,
    "start_time": "2022-07-20T15:36:14.252Z"
   },
   {
    "duration": 27,
    "start_time": "2022-07-20T15:41:36.554Z"
   },
   {
    "duration": 30,
    "start_time": "2022-07-20T15:42:35.456Z"
   },
   {
    "duration": 37,
    "start_time": "2022-07-20T15:44:19.221Z"
   },
   {
    "duration": 35,
    "start_time": "2022-07-20T15:44:49.252Z"
   },
   {
    "duration": 10,
    "start_time": "2022-07-20T15:57:17.764Z"
   },
   {
    "duration": 22,
    "start_time": "2022-07-20T17:51:14.167Z"
   },
   {
    "duration": 229,
    "start_time": "2022-07-20T17:54:10.222Z"
   },
   {
    "duration": 210,
    "start_time": "2022-07-20T17:54:25.767Z"
   },
   {
    "duration": 9,
    "start_time": "2022-07-20T18:13:59.644Z"
   },
   {
    "duration": 31,
    "start_time": "2022-07-20T18:14:23.556Z"
   },
   {
    "duration": 25,
    "start_time": "2022-07-20T18:14:48.963Z"
   },
   {
    "duration": 26,
    "start_time": "2022-07-20T18:16:37.171Z"
   },
   {
    "duration": 25,
    "start_time": "2022-07-20T18:22:10.119Z"
   },
   {
    "duration": 30,
    "start_time": "2022-07-20T18:24:17.521Z"
   },
   {
    "duration": 59,
    "start_time": "2022-07-20T18:27:19.728Z"
   },
   {
    "duration": 6,
    "start_time": "2022-07-20T18:28:18.086Z"
   },
   {
    "duration": 3,
    "start_time": "2022-07-20T18:30:56.657Z"
   },
   {
    "duration": 148,
    "start_time": "2022-07-20T18:30:56.673Z"
   },
   {
    "duration": 4,
    "start_time": "2022-07-20T18:30:56.823Z"
   },
   {
    "duration": 10,
    "start_time": "2022-07-20T18:30:56.829Z"
   },
   {
    "duration": 8,
    "start_time": "2022-07-20T18:30:56.841Z"
   },
   {
    "duration": 28,
    "start_time": "2022-07-20T18:30:56.851Z"
   },
   {
    "duration": 650,
    "start_time": "2022-07-20T18:30:56.881Z"
   },
   {
    "duration": 7,
    "start_time": "2022-07-20T18:30:57.533Z"
   },
   {
    "duration": 70,
    "start_time": "2022-07-20T18:30:57.542Z"
   },
   {
    "duration": 18,
    "start_time": "2022-07-20T18:30:57.613Z"
   },
   {
    "duration": 51,
    "start_time": "2022-07-20T18:30:57.635Z"
   },
   {
    "duration": 32,
    "start_time": "2022-07-20T18:30:57.688Z"
   },
   {
    "duration": 50,
    "start_time": "2022-07-20T18:30:57.721Z"
   },
   {
    "duration": 54,
    "start_time": "2022-07-20T18:30:57.774Z"
   },
   {
    "duration": 22,
    "start_time": "2022-07-20T18:30:57.830Z"
   },
   {
    "duration": 28,
    "start_time": "2022-07-20T18:30:57.854Z"
   },
   {
    "duration": 10,
    "start_time": "2022-07-20T18:30:57.884Z"
   },
   {
    "duration": 369,
    "start_time": "2022-07-20T18:30:57.896Z"
   },
   {
    "duration": 22,
    "start_time": "2022-07-20T18:30:58.268Z"
   },
   {
    "duration": 32,
    "start_time": "2022-07-20T18:30:58.292Z"
   },
   {
    "duration": 73,
    "start_time": "2022-07-20T18:30:58.326Z"
   },
   {
    "duration": 7,
    "start_time": "2022-07-20T18:30:58.402Z"
   },
   {
    "duration": 30,
    "start_time": "2022-07-20T18:32:36.109Z"
   },
   {
    "duration": 31,
    "start_time": "2022-07-20T18:34:00.345Z"
   },
   {
    "duration": 32,
    "start_time": "2022-07-20T18:35:52.743Z"
   },
   {
    "duration": 33,
    "start_time": "2022-07-20T18:38:11.248Z"
   },
   {
    "duration": 12,
    "start_time": "2022-07-20T18:41:46.329Z"
   },
   {
    "duration": 192,
    "start_time": "2022-07-20T18:42:00.331Z"
   },
   {
    "duration": 222,
    "start_time": "2022-07-20T18:42:17.423Z"
   },
   {
    "duration": 11,
    "start_time": "2022-07-20T19:01:20.666Z"
   },
   {
    "duration": 9,
    "start_time": "2022-07-20T19:02:31.786Z"
   },
   {
    "duration": 56,
    "start_time": "2022-07-23T10:45:37.080Z"
   },
   {
    "duration": 40,
    "start_time": "2022-07-23T10:45:45.448Z"
   },
   {
    "duration": 1164,
    "start_time": "2022-07-23T10:45:52.742Z"
   },
   {
    "duration": 109,
    "start_time": "2022-07-23T10:45:53.908Z"
   },
   {
    "duration": 5,
    "start_time": "2022-07-23T10:45:54.019Z"
   },
   {
    "duration": 12,
    "start_time": "2022-07-23T10:45:54.026Z"
   },
   {
    "duration": 9,
    "start_time": "2022-07-23T10:45:54.039Z"
   },
   {
    "duration": 11,
    "start_time": "2022-07-23T10:45:54.050Z"
   },
   {
    "duration": 192,
    "start_time": "2022-07-23T10:45:54.063Z"
   },
   {
    "duration": 5,
    "start_time": "2022-07-23T10:45:54.260Z"
   },
   {
    "duration": 56,
    "start_time": "2022-07-23T10:45:54.267Z"
   },
   {
    "duration": 19,
    "start_time": "2022-07-23T10:45:54.325Z"
   },
   {
    "duration": 35,
    "start_time": "2022-07-23T10:45:54.360Z"
   },
   {
    "duration": 36,
    "start_time": "2022-07-23T10:45:54.397Z"
   },
   {
    "duration": 41,
    "start_time": "2022-07-23T10:45:54.435Z"
   },
   {
    "duration": 46,
    "start_time": "2022-07-23T10:45:54.478Z"
   },
   {
    "duration": 13,
    "start_time": "2022-07-23T10:45:54.525Z"
   },
   {
    "duration": 37,
    "start_time": "2022-07-23T10:45:54.539Z"
   },
   {
    "duration": 5,
    "start_time": "2022-07-23T10:45:54.577Z"
   },
   {
    "duration": 388,
    "start_time": "2022-07-23T10:45:54.584Z"
   },
   {
    "duration": 19,
    "start_time": "2022-07-23T10:45:54.974Z"
   },
   {
    "duration": 27,
    "start_time": "2022-07-23T10:45:54.994Z"
   },
   {
    "duration": 80,
    "start_time": "2022-07-23T10:45:55.022Z"
   },
   {
    "duration": 24,
    "start_time": "2022-07-23T10:45:55.103Z"
   },
   {
    "duration": 219,
    "start_time": "2022-07-23T10:45:55.129Z"
   },
   {
    "duration": 12,
    "start_time": "2022-07-23T10:45:55.349Z"
   },
   {
    "duration": 53,
    "start_time": "2022-07-23T10:45:55.362Z"
   },
   {
    "duration": 7,
    "start_time": "2022-07-23T10:47:44.686Z"
   },
   {
    "duration": 24,
    "start_time": "2022-07-23T10:50:12.744Z"
   },
   {
    "duration": 7,
    "start_time": "2022-07-23T10:50:43.636Z"
   },
   {
    "duration": 17,
    "start_time": "2022-07-23T10:50:49.039Z"
   },
   {
    "duration": 9,
    "start_time": "2022-07-23T10:53:07.949Z"
   },
   {
    "duration": 17,
    "start_time": "2022-07-23T11:27:45.386Z"
   },
   {
    "duration": 26,
    "start_time": "2022-07-23T11:28:09.476Z"
   },
   {
    "duration": 4,
    "start_time": "2022-07-23T11:31:32.345Z"
   },
   {
    "duration": 305,
    "start_time": "2022-07-23T11:31:48.170Z"
   },
   {
    "duration": 18,
    "start_time": "2022-07-23T11:32:18.507Z"
   },
   {
    "duration": 19,
    "start_time": "2022-07-23T11:32:41.545Z"
   },
   {
    "duration": 64,
    "start_time": "2022-07-23T11:34:11.444Z"
   },
   {
    "duration": 21,
    "start_time": "2022-07-23T11:34:50.776Z"
   },
   {
    "duration": 60,
    "start_time": "2022-07-23T11:42:22.388Z"
   },
   {
    "duration": 46,
    "start_time": "2022-07-23T11:45:12.556Z"
   },
   {
    "duration": 62,
    "start_time": "2022-07-23T13:26:38.037Z"
   },
   {
    "duration": 35,
    "start_time": "2022-07-23T13:29:03.612Z"
   },
   {
    "duration": 37,
    "start_time": "2022-07-23T13:32:29.325Z"
   },
   {
    "duration": 11,
    "start_time": "2022-07-23T13:35:45.560Z"
   },
   {
    "duration": 12,
    "start_time": "2022-07-23T13:36:57.250Z"
   },
   {
    "duration": 25,
    "start_time": "2022-07-23T13:37:38.112Z"
   },
   {
    "duration": 13,
    "start_time": "2022-07-23T14:05:26.113Z"
   },
   {
    "duration": 14,
    "start_time": "2022-07-23T14:06:22.398Z"
   },
   {
    "duration": 4,
    "start_time": "2022-07-23T14:09:46.204Z"
   },
   {
    "duration": 1000,
    "start_time": "2022-07-23T14:09:57.580Z"
   },
   {
    "duration": 815,
    "start_time": "2022-07-23T14:10:40.750Z"
   },
   {
    "duration": 11,
    "start_time": "2022-07-23T14:11:25.267Z"
   },
   {
    "duration": 13,
    "start_time": "2022-07-23T14:11:43.882Z"
   },
   {
    "duration": 872,
    "start_time": "2022-07-23T14:12:24.806Z"
   },
   {
    "duration": 930,
    "start_time": "2022-07-23T14:13:47.498Z"
   },
   {
    "duration": 14,
    "start_time": "2022-07-23T14:14:14.341Z"
   },
   {
    "duration": 16,
    "start_time": "2022-07-23T14:17:14.954Z"
   },
   {
    "duration": 65,
    "start_time": "2022-07-23T14:25:53.968Z"
   },
   {
    "duration": 585,
    "start_time": "2022-07-23T14:26:46.307Z"
   },
   {
    "duration": 58,
    "start_time": "2022-07-23T14:31:06.271Z"
   },
   {
    "duration": 45,
    "start_time": "2022-07-23T14:32:12.238Z"
   },
   {
    "duration": 78,
    "start_time": "2022-07-23T14:32:39.016Z"
   },
   {
    "duration": 56,
    "start_time": "2022-07-23T14:32:57.275Z"
   },
   {
    "duration": 51,
    "start_time": "2022-07-23T14:35:46.241Z"
   },
   {
    "duration": 75,
    "start_time": "2022-07-23T14:36:03.289Z"
   },
   {
    "duration": 11,
    "start_time": "2022-07-23T14:36:12.474Z"
   },
   {
    "duration": 11,
    "start_time": "2022-07-23T14:37:07.776Z"
   },
   {
    "duration": 28,
    "start_time": "2022-07-23T14:37:36.842Z"
   },
   {
    "duration": 29,
    "start_time": "2022-07-23T14:47:38.540Z"
   },
   {
    "duration": 27,
    "start_time": "2022-07-23T14:53:08.662Z"
   },
   {
    "duration": 28,
    "start_time": "2022-07-23T14:53:53.681Z"
   },
   {
    "duration": 49,
    "start_time": "2022-07-23T14:56:54.289Z"
   },
   {
    "duration": 37,
    "start_time": "2022-07-23T14:57:17.274Z"
   },
   {
    "duration": 47,
    "start_time": "2022-07-23T15:33:04.090Z"
   },
   {
    "duration": 266,
    "start_time": "2022-07-23T15:37:31.647Z"
   },
   {
    "duration": 39,
    "start_time": "2022-07-23T15:37:57.341Z"
   },
   {
    "duration": 37,
    "start_time": "2022-07-23T15:39:56.741Z"
   },
   {
    "duration": 37,
    "start_time": "2022-07-23T16:16:07.766Z"
   },
   {
    "duration": 132,
    "start_time": "2022-07-23T16:21:29.087Z"
   },
   {
    "duration": 3,
    "start_time": "2022-07-23T16:29:32.065Z"
   },
   {
    "duration": 39,
    "start_time": "2022-07-23T16:58:31.172Z"
   },
   {
    "duration": 39,
    "start_time": "2022-07-23T17:03:13.980Z"
   },
   {
    "duration": 47,
    "start_time": "2022-07-23T17:08:00.842Z"
   },
   {
    "duration": 308,
    "start_time": "2022-07-23T17:09:43.422Z"
   },
   {
    "duration": 255,
    "start_time": "2022-07-23T17:22:21.379Z"
   },
   {
    "duration": 243,
    "start_time": "2022-07-23T17:23:22.256Z"
   },
   {
    "duration": 4,
    "start_time": "2022-07-23T17:26:22.485Z"
   },
   {
    "duration": 5,
    "start_time": "2022-07-23T17:26:46.427Z"
   },
   {
    "duration": 4,
    "start_time": "2022-07-23T17:27:07.546Z"
   },
   {
    "duration": 7,
    "start_time": "2022-07-23T17:27:35.905Z"
   },
   {
    "duration": 9,
    "start_time": "2022-07-23T17:28:31.752Z"
   },
   {
    "duration": 8,
    "start_time": "2022-07-23T17:28:54.040Z"
   },
   {
    "duration": 10,
    "start_time": "2022-07-23T17:32:04.968Z"
   },
   {
    "duration": 18,
    "start_time": "2022-07-23T17:32:57.387Z"
   },
   {
    "duration": 9,
    "start_time": "2022-07-23T17:36:03.190Z"
   },
   {
    "duration": 8,
    "start_time": "2022-07-23T17:36:45.574Z"
   },
   {
    "duration": 9,
    "start_time": "2022-07-23T17:40:32.286Z"
   },
   {
    "duration": 10,
    "start_time": "2022-07-23T17:41:32.554Z"
   },
   {
    "duration": 241,
    "start_time": "2022-07-23T17:44:45.336Z"
   },
   {
    "duration": 297,
    "start_time": "2022-07-23T17:45:19.449Z"
   },
   {
    "duration": 48,
    "start_time": "2022-07-23T17:46:56.817Z"
   },
   {
    "duration": 50,
    "start_time": "2022-07-23T17:52:07.700Z"
   },
   {
    "duration": 944,
    "start_time": "2022-07-23T17:52:15.711Z"
   },
   {
    "duration": 256,
    "start_time": "2022-07-23T17:53:21.542Z"
   },
   {
    "duration": 36,
    "start_time": "2022-07-23T18:01:32.987Z"
   },
   {
    "duration": 1125,
    "start_time": "2022-07-23T18:02:20.848Z"
   },
   {
    "duration": 3,
    "start_time": "2022-07-23T18:02:27.455Z"
   },
   {
    "duration": 51,
    "start_time": "2022-07-23T18:02:27.474Z"
   },
   {
    "duration": 5,
    "start_time": "2022-07-23T18:02:27.527Z"
   },
   {
    "duration": 8,
    "start_time": "2022-07-23T18:02:27.533Z"
   },
   {
    "duration": 6,
    "start_time": "2022-07-23T18:02:27.550Z"
   },
   {
    "duration": 8,
    "start_time": "2022-07-23T18:02:27.557Z"
   },
   {
    "duration": 273,
    "start_time": "2022-07-23T18:02:27.573Z"
   },
   {
    "duration": 14,
    "start_time": "2022-07-23T18:02:27.848Z"
   },
   {
    "duration": 52,
    "start_time": "2022-07-23T18:02:27.865Z"
   },
   {
    "duration": 17,
    "start_time": "2022-07-23T18:02:27.919Z"
   },
   {
    "duration": 63,
    "start_time": "2022-07-23T18:02:27.938Z"
   },
   {
    "duration": 33,
    "start_time": "2022-07-23T18:02:28.003Z"
   },
   {
    "duration": 53,
    "start_time": "2022-07-23T18:02:28.037Z"
   },
   {
    "duration": 47,
    "start_time": "2022-07-23T18:02:28.091Z"
   },
   {
    "duration": 28,
    "start_time": "2022-07-23T18:02:28.139Z"
   },
   {
    "duration": 24,
    "start_time": "2022-07-23T18:02:28.172Z"
   },
   {
    "duration": 23,
    "start_time": "2022-07-23T18:02:28.197Z"
   },
   {
    "duration": 4,
    "start_time": "2022-07-23T18:02:28.222Z"
   },
   {
    "duration": 340,
    "start_time": "2022-07-23T18:02:28.227Z"
   },
   {
    "duration": 21,
    "start_time": "2022-07-23T18:02:28.569Z"
   },
   {
    "duration": 20,
    "start_time": "2022-07-23T18:02:28.592Z"
   },
   {
    "duration": 93,
    "start_time": "2022-07-23T18:02:28.613Z"
   },
   {
    "duration": 21,
    "start_time": "2022-07-23T18:02:28.708Z"
   },
   {
    "duration": 312,
    "start_time": "2022-07-23T18:02:28.731Z"
   },
   {
    "duration": 16,
    "start_time": "2022-07-23T18:02:29.044Z"
   },
   {
    "duration": 14,
    "start_time": "2022-07-23T18:02:29.062Z"
   },
   {
    "duration": 19,
    "start_time": "2022-07-23T18:02:29.078Z"
   },
   {
    "duration": 63,
    "start_time": "2022-07-23T18:02:29.099Z"
   },
   {
    "duration": 278,
    "start_time": "2022-07-23T18:02:29.164Z"
   },
   {
    "duration": 19,
    "start_time": "2022-07-23T18:02:29.443Z"
   },
   {
    "duration": 12,
    "start_time": "2022-07-23T18:02:29.463Z"
   },
   {
    "duration": 285,
    "start_time": "2022-07-23T18:02:29.477Z"
   },
   {
    "duration": 25,
    "start_time": "2022-07-23T18:03:14.151Z"
   },
   {
    "duration": 31,
    "start_time": "2022-07-23T18:12:13.054Z"
   },
   {
    "duration": 18,
    "start_time": "2022-07-23T18:13:10.654Z"
   },
   {
    "duration": 19,
    "start_time": "2022-07-23T18:13:57.247Z"
   },
   {
    "duration": 22,
    "start_time": "2022-07-23T18:14:52.914Z"
   },
   {
    "duration": 17,
    "start_time": "2022-07-23T18:16:06.836Z"
   },
   {
    "duration": 22,
    "start_time": "2022-07-23T18:18:31.927Z"
   },
   {
    "duration": 8,
    "start_time": "2022-07-23T18:31:48.431Z"
   },
   {
    "duration": 56,
    "start_time": "2022-07-23T18:32:14.617Z"
   },
   {
    "duration": 9,
    "start_time": "2022-07-23T18:32:56.438Z"
   },
   {
    "duration": 6,
    "start_time": "2022-07-23T18:34:26.523Z"
   },
   {
    "duration": 15,
    "start_time": "2022-07-23T18:39:11.413Z"
   },
   {
    "duration": 280,
    "start_time": "2022-07-23T18:39:34.202Z"
   },
   {
    "duration": 279,
    "start_time": "2022-07-23T18:40:10.570Z"
   },
   {
    "duration": 266,
    "start_time": "2022-07-23T18:40:18.327Z"
   },
   {
    "duration": 356,
    "start_time": "2022-07-23T18:40:42.859Z"
   },
   {
    "duration": 261,
    "start_time": "2022-07-23T18:44:50.971Z"
   },
   {
    "duration": 246,
    "start_time": "2022-07-23T18:50:44.816Z"
   },
   {
    "duration": 45,
    "start_time": "2022-07-24T09:55:22.836Z"
   },
   {
    "duration": 1167,
    "start_time": "2022-07-24T09:55:33.417Z"
   },
   {
    "duration": 212,
    "start_time": "2022-07-24T09:55:34.586Z"
   },
   {
    "duration": 4,
    "start_time": "2022-07-24T09:55:34.800Z"
   },
   {
    "duration": 9,
    "start_time": "2022-07-24T09:55:34.805Z"
   },
   {
    "duration": 9,
    "start_time": "2022-07-24T09:55:34.816Z"
   },
   {
    "duration": 5,
    "start_time": "2022-07-24T09:55:34.827Z"
   },
   {
    "duration": 329,
    "start_time": "2022-07-24T09:55:34.833Z"
   },
   {
    "duration": 5,
    "start_time": "2022-07-24T09:55:35.164Z"
   },
   {
    "duration": 52,
    "start_time": "2022-07-24T09:55:35.170Z"
   },
   {
    "duration": 31,
    "start_time": "2022-07-24T09:55:35.224Z"
   },
   {
    "duration": 34,
    "start_time": "2022-07-24T09:55:35.257Z"
   },
   {
    "duration": 52,
    "start_time": "2022-07-24T09:55:35.293Z"
   },
   {
    "duration": 23,
    "start_time": "2022-07-24T09:55:35.347Z"
   },
   {
    "duration": 48,
    "start_time": "2022-07-24T09:55:35.372Z"
   },
   {
    "duration": 31,
    "start_time": "2022-07-24T09:55:35.422Z"
   },
   {
    "duration": 26,
    "start_time": "2022-07-24T09:55:35.455Z"
   },
   {
    "duration": 30,
    "start_time": "2022-07-24T09:55:35.483Z"
   },
   {
    "duration": 5,
    "start_time": "2022-07-24T09:55:35.515Z"
   },
   {
    "duration": 397,
    "start_time": "2022-07-24T09:55:35.521Z"
   },
   {
    "duration": 26,
    "start_time": "2022-07-24T09:55:35.920Z"
   },
   {
    "duration": 22,
    "start_time": "2022-07-24T09:55:35.948Z"
   },
   {
    "duration": 83,
    "start_time": "2022-07-24T09:55:35.971Z"
   },
   {
    "duration": 28,
    "start_time": "2022-07-24T09:55:36.056Z"
   },
   {
    "duration": 214,
    "start_time": "2022-07-24T09:55:36.086Z"
   },
   {
    "duration": 10,
    "start_time": "2022-07-24T09:55:36.301Z"
   },
   {
    "duration": 13,
    "start_time": "2022-07-24T09:55:36.312Z"
   },
   {
    "duration": 30,
    "start_time": "2022-07-24T09:55:36.327Z"
   },
   {
    "duration": 57,
    "start_time": "2022-07-24T09:55:36.360Z"
   },
   {
    "duration": 268,
    "start_time": "2022-07-24T09:55:36.418Z"
   },
   {
    "duration": 10,
    "start_time": "2022-07-24T09:55:36.689Z"
   },
   {
    "duration": 21,
    "start_time": "2022-07-24T09:55:36.700Z"
   },
   {
    "duration": 24,
    "start_time": "2022-07-24T09:55:36.722Z"
   },
   {
    "duration": 14,
    "start_time": "2022-07-24T09:55:36.748Z"
   },
   {
    "duration": 315,
    "start_time": "2022-07-24T09:55:36.763Z"
   },
   {
    "duration": 6,
    "start_time": "2022-07-24T10:28:57.557Z"
   },
   {
    "duration": 10,
    "start_time": "2022-07-24T10:30:06.916Z"
   },
   {
    "duration": 1198,
    "start_time": "2022-07-24T11:10:06.861Z"
   },
   {
    "duration": 2,
    "start_time": "2022-07-24T11:10:37.704Z"
   },
   {
    "duration": 44,
    "start_time": "2022-07-24T11:10:37.714Z"
   },
   {
    "duration": 5,
    "start_time": "2022-07-24T11:10:37.760Z"
   },
   {
    "duration": 7,
    "start_time": "2022-07-24T11:10:37.767Z"
   },
   {
    "duration": 9,
    "start_time": "2022-07-24T11:10:37.776Z"
   },
   {
    "duration": 6,
    "start_time": "2022-07-24T11:10:37.787Z"
   },
   {
    "duration": 351,
    "start_time": "2022-07-24T11:10:37.794Z"
   },
   {
    "duration": 7,
    "start_time": "2022-07-24T11:10:38.147Z"
   },
   {
    "duration": 59,
    "start_time": "2022-07-24T11:10:38.157Z"
   },
   {
    "duration": 34,
    "start_time": "2022-07-24T11:10:38.218Z"
   },
   {
    "duration": 35,
    "start_time": "2022-07-24T11:10:38.254Z"
   },
   {
    "duration": 34,
    "start_time": "2022-07-24T11:10:38.291Z"
   },
   {
    "duration": 27,
    "start_time": "2022-07-24T11:10:38.346Z"
   },
   {
    "duration": 48,
    "start_time": "2022-07-24T11:10:38.375Z"
   },
   {
    "duration": 36,
    "start_time": "2022-07-24T11:10:38.424Z"
   },
   {
    "duration": 26,
    "start_time": "2022-07-24T11:10:38.462Z"
   },
   {
    "duration": 25,
    "start_time": "2022-07-24T11:10:38.490Z"
   },
   {
    "duration": 31,
    "start_time": "2022-07-24T11:10:38.517Z"
   },
   {
    "duration": 432,
    "start_time": "2022-07-24T11:10:38.550Z"
   },
   {
    "duration": 32,
    "start_time": "2022-07-24T11:10:38.986Z"
   },
   {
    "duration": 52,
    "start_time": "2022-07-24T11:10:39.020Z"
   },
   {
    "duration": 114,
    "start_time": "2022-07-24T11:10:39.074Z"
   },
   {
    "duration": 26,
    "start_time": "2022-07-24T11:10:39.190Z"
   },
   {
    "duration": 196,
    "start_time": "2022-07-24T11:10:39.218Z"
   },
   {
    "duration": 5,
    "start_time": "2022-07-24T11:10:39.416Z"
   },
   {
    "duration": 936,
    "start_time": "2022-07-24T11:10:39.422Z"
   },
   {
    "duration": 0,
    "start_time": "2022-07-24T11:10:40.360Z"
   },
   {
    "duration": 0,
    "start_time": "2022-07-24T11:10:40.361Z"
   },
   {
    "duration": 0,
    "start_time": "2022-07-24T11:10:40.362Z"
   },
   {
    "duration": 0,
    "start_time": "2022-07-24T11:10:40.363Z"
   },
   {
    "duration": 0,
    "start_time": "2022-07-24T11:10:40.365Z"
   },
   {
    "duration": 0,
    "start_time": "2022-07-24T11:10:40.366Z"
   },
   {
    "duration": 0,
    "start_time": "2022-07-24T11:10:40.367Z"
   },
   {
    "duration": 0,
    "start_time": "2022-07-24T11:10:40.368Z"
   },
   {
    "duration": 0,
    "start_time": "2022-07-24T11:10:40.369Z"
   },
   {
    "duration": 5,
    "start_time": "2022-07-24T11:11:20.479Z"
   },
   {
    "duration": 9,
    "start_time": "2022-07-24T11:11:52.979Z"
   },
   {
    "duration": 930,
    "start_time": "2022-07-24T11:12:27.738Z"
   },
   {
    "duration": 1004,
    "start_time": "2022-07-24T11:18:51.466Z"
   },
   {
    "duration": 7,
    "start_time": "2022-07-24T11:19:37.704Z"
   },
   {
    "duration": 4,
    "start_time": "2022-07-24T11:25:13.856Z"
   },
   {
    "duration": 29,
    "start_time": "2022-07-24T11:25:34.509Z"
   },
   {
    "duration": 194,
    "start_time": "2022-07-24T11:25:48.643Z"
   },
   {
    "duration": 6,
    "start_time": "2022-07-24T11:25:57.893Z"
   },
   {
    "duration": 56,
    "start_time": "2022-07-24T11:27:07.808Z"
   },
   {
    "duration": 5,
    "start_time": "2022-07-24T11:28:04.258Z"
   },
   {
    "duration": 797,
    "start_time": "2022-07-24T11:28:48.982Z"
   },
   {
    "duration": 767,
    "start_time": "2022-07-24T11:29:27.308Z"
   },
   {
    "duration": 28,
    "start_time": "2022-07-24T11:31:08.409Z"
   },
   {
    "duration": 29,
    "start_time": "2022-07-24T11:32:06.523Z"
   },
   {
    "duration": 175,
    "start_time": "2022-07-24T11:32:11.862Z"
   },
   {
    "duration": 5,
    "start_time": "2022-07-24T11:32:18.061Z"
   },
   {
    "duration": 6,
    "start_time": "2022-07-24T11:32:39.923Z"
   },
   {
    "duration": 12,
    "start_time": "2022-07-24T11:35:55.359Z"
   },
   {
    "duration": 8,
    "start_time": "2022-07-24T11:36:14.685Z"
   },
   {
    "duration": 17,
    "start_time": "2022-07-24T11:36:36.538Z"
   },
   {
    "duration": 246,
    "start_time": "2022-07-24T11:41:49.130Z"
   },
   {
    "duration": 52,
    "start_time": "2022-07-24T11:47:56.628Z"
   },
   {
    "duration": 249,
    "start_time": "2022-07-24T11:50:10.516Z"
   },
   {
    "duration": 7,
    "start_time": "2022-07-24T11:51:17.129Z"
   },
   {
    "duration": 18,
    "start_time": "2022-07-24T11:51:57.707Z"
   },
   {
    "duration": 7,
    "start_time": "2022-07-24T11:52:40.661Z"
   },
   {
    "duration": 16,
    "start_time": "2022-07-24T12:27:56.778Z"
   },
   {
    "duration": 18,
    "start_time": "2022-07-24T12:28:45.692Z"
   },
   {
    "duration": 6,
    "start_time": "2022-07-24T12:29:23.231Z"
   },
   {
    "duration": 14,
    "start_time": "2022-07-24T12:34:15.597Z"
   },
   {
    "duration": 6,
    "start_time": "2022-07-24T12:36:35.525Z"
   },
   {
    "duration": 12,
    "start_time": "2022-07-24T12:39:23.220Z"
   },
   {
    "duration": 12,
    "start_time": "2022-07-24T12:39:34.329Z"
   },
   {
    "duration": 26,
    "start_time": "2022-07-24T12:39:53.703Z"
   },
   {
    "duration": 25,
    "start_time": "2022-07-24T12:41:49.896Z"
   },
   {
    "duration": 6,
    "start_time": "2022-07-24T12:46:43.204Z"
   },
   {
    "duration": 7,
    "start_time": "2022-07-24T12:47:39.897Z"
   },
   {
    "duration": 9,
    "start_time": "2022-07-24T12:48:16.401Z"
   },
   {
    "duration": 47,
    "start_time": "2022-07-24T12:49:28.578Z"
   },
   {
    "duration": 12,
    "start_time": "2022-07-24T12:49:57.878Z"
   },
   {
    "duration": 977,
    "start_time": "2022-07-24T12:51:13.368Z"
   },
   {
    "duration": 109,
    "start_time": "2022-07-24T12:51:14.347Z"
   },
   {
    "duration": 4,
    "start_time": "2022-07-24T12:51:14.458Z"
   },
   {
    "duration": 10,
    "start_time": "2022-07-24T12:51:14.464Z"
   },
   {
    "duration": 10,
    "start_time": "2022-07-24T12:51:14.476Z"
   },
   {
    "duration": 10,
    "start_time": "2022-07-24T12:51:14.488Z"
   },
   {
    "duration": 174,
    "start_time": "2022-07-24T12:51:14.499Z"
   },
   {
    "duration": 6,
    "start_time": "2022-07-24T12:51:14.677Z"
   },
   {
    "duration": 61,
    "start_time": "2022-07-24T12:51:14.685Z"
   },
   {
    "duration": 17,
    "start_time": "2022-07-24T12:51:14.749Z"
   },
   {
    "duration": 33,
    "start_time": "2022-07-24T12:51:14.768Z"
   },
   {
    "duration": 57,
    "start_time": "2022-07-24T12:51:14.803Z"
   },
   {
    "duration": 21,
    "start_time": "2022-07-24T12:51:14.862Z"
   },
   {
    "duration": 43,
    "start_time": "2022-07-24T12:51:14.885Z"
   },
   {
    "duration": 11,
    "start_time": "2022-07-24T12:51:14.945Z"
   },
   {
    "duration": 17,
    "start_time": "2022-07-24T12:51:14.958Z"
   },
   {
    "duration": 23,
    "start_time": "2022-07-24T12:51:14.977Z"
   },
   {
    "duration": 4,
    "start_time": "2022-07-24T12:51:15.002Z"
   },
   {
    "duration": 379,
    "start_time": "2022-07-24T12:51:15.007Z"
   },
   {
    "duration": 19,
    "start_time": "2022-07-24T12:51:15.388Z"
   },
   {
    "duration": 37,
    "start_time": "2022-07-24T12:51:15.409Z"
   },
   {
    "duration": 72,
    "start_time": "2022-07-24T12:51:15.448Z"
   },
   {
    "duration": 44,
    "start_time": "2022-07-24T12:51:15.522Z"
   },
   {
    "duration": 189,
    "start_time": "2022-07-24T12:51:15.568Z"
   },
   {
    "duration": 5,
    "start_time": "2022-07-24T12:51:15.759Z"
   },
   {
    "duration": 18,
    "start_time": "2022-07-24T12:51:15.766Z"
   },
   {
    "duration": 65,
    "start_time": "2022-07-24T12:51:15.786Z"
   },
   {
    "duration": 273,
    "start_time": "2022-07-24T12:51:15.854Z"
   },
   {
    "duration": 7,
    "start_time": "2022-07-24T12:51:16.129Z"
   },
   {
    "duration": 17,
    "start_time": "2022-07-24T12:51:16.146Z"
   },
   {
    "duration": 10,
    "start_time": "2022-07-24T12:51:16.165Z"
   },
   {
    "duration": 12,
    "start_time": "2022-07-24T12:51:16.177Z"
   },
   {
    "duration": 22,
    "start_time": "2022-07-24T12:51:16.191Z"
   },
   {
    "duration": 269,
    "start_time": "2022-07-24T12:51:16.215Z"
   },
   {
    "duration": 25,
    "start_time": "2022-07-24T12:52:23.331Z"
   },
   {
    "duration": 1357,
    "start_time": "2022-07-24T12:55:32.129Z"
   },
   {
    "duration": 8,
    "start_time": "2022-07-24T12:55:49.996Z"
   },
   {
    "duration": 28,
    "start_time": "2022-07-24T12:58:21.507Z"
   },
   {
    "duration": 13,
    "start_time": "2022-07-24T13:12:33.959Z"
   },
   {
    "duration": 4,
    "start_time": "2022-07-24T13:14:34.010Z"
   },
   {
    "duration": 5,
    "start_time": "2022-07-24T13:14:55.373Z"
   },
   {
    "duration": 6,
    "start_time": "2022-07-24T13:19:35.291Z"
   },
   {
    "duration": 15,
    "start_time": "2022-07-24T15:37:49.285Z"
   },
   {
    "duration": 24,
    "start_time": "2022-07-24T15:46:17.454Z"
   },
   {
    "duration": 0,
    "start_time": "2022-07-24T15:53:37.553Z"
   },
   {
    "duration": 0,
    "start_time": "2022-07-24T15:53:37.554Z"
   },
   {
    "duration": 0,
    "start_time": "2022-07-24T15:53:37.555Z"
   },
   {
    "duration": 0,
    "start_time": "2022-07-24T15:53:37.556Z"
   },
   {
    "duration": 0,
    "start_time": "2022-07-24T15:53:37.557Z"
   },
   {
    "duration": 0,
    "start_time": "2022-07-24T15:53:37.558Z"
   },
   {
    "duration": 0,
    "start_time": "2022-07-24T15:53:37.560Z"
   },
   {
    "duration": 0,
    "start_time": "2022-07-24T15:53:37.561Z"
   },
   {
    "duration": 0,
    "start_time": "2022-07-24T15:53:37.562Z"
   },
   {
    "duration": 0,
    "start_time": "2022-07-24T15:53:37.563Z"
   },
   {
    "duration": 0,
    "start_time": "2022-07-24T15:53:37.565Z"
   },
   {
    "duration": 0,
    "start_time": "2022-07-24T15:53:37.565Z"
   },
   {
    "duration": 0,
    "start_time": "2022-07-24T15:53:37.567Z"
   },
   {
    "duration": 0,
    "start_time": "2022-07-24T15:53:37.568Z"
   },
   {
    "duration": 0,
    "start_time": "2022-07-24T15:53:37.569Z"
   },
   {
    "duration": 0,
    "start_time": "2022-07-24T15:53:37.570Z"
   },
   {
    "duration": 0,
    "start_time": "2022-07-24T15:53:37.571Z"
   },
   {
    "duration": 0,
    "start_time": "2022-07-24T15:53:37.572Z"
   },
   {
    "duration": 0,
    "start_time": "2022-07-24T15:53:37.573Z"
   },
   {
    "duration": 0,
    "start_time": "2022-07-24T15:53:37.574Z"
   },
   {
    "duration": 0,
    "start_time": "2022-07-24T15:53:37.575Z"
   },
   {
    "duration": 0,
    "start_time": "2022-07-24T15:53:37.576Z"
   },
   {
    "duration": 0,
    "start_time": "2022-07-24T15:53:37.577Z"
   },
   {
    "duration": 0,
    "start_time": "2022-07-24T15:53:37.578Z"
   },
   {
    "duration": 0,
    "start_time": "2022-07-24T15:53:37.580Z"
   },
   {
    "duration": 0,
    "start_time": "2022-07-24T15:53:37.581Z"
   },
   {
    "duration": 0,
    "start_time": "2022-07-24T15:53:37.582Z"
   },
   {
    "duration": 0,
    "start_time": "2022-07-24T15:53:37.583Z"
   },
   {
    "duration": 0,
    "start_time": "2022-07-24T15:53:37.587Z"
   },
   {
    "duration": 0,
    "start_time": "2022-07-24T15:53:37.588Z"
   },
   {
    "duration": 0,
    "start_time": "2022-07-24T15:53:37.589Z"
   },
   {
    "duration": 0,
    "start_time": "2022-07-24T15:53:37.590Z"
   },
   {
    "duration": 0,
    "start_time": "2022-07-24T15:53:37.590Z"
   },
   {
    "duration": 0,
    "start_time": "2022-07-24T15:53:37.647Z"
   },
   {
    "duration": 0,
    "start_time": "2022-07-24T15:53:37.648Z"
   },
   {
    "duration": 0,
    "start_time": "2022-07-24T15:53:37.650Z"
   },
   {
    "duration": 0,
    "start_time": "2022-07-24T15:53:37.651Z"
   },
   {
    "duration": 4,
    "start_time": "2022-07-24T15:53:38.978Z"
   },
   {
    "duration": 69,
    "start_time": "2022-07-24T15:53:38.988Z"
   },
   {
    "duration": 6,
    "start_time": "2022-07-24T15:53:39.059Z"
   },
   {
    "duration": 17,
    "start_time": "2022-07-24T15:53:39.067Z"
   },
   {
    "duration": 11,
    "start_time": "2022-07-24T15:53:39.087Z"
   },
   {
    "duration": 21,
    "start_time": "2022-07-24T15:53:39.100Z"
   },
   {
    "duration": 215,
    "start_time": "2022-07-24T15:53:39.123Z"
   },
   {
    "duration": 9,
    "start_time": "2022-07-24T15:53:39.340Z"
   },
   {
    "duration": 53,
    "start_time": "2022-07-24T15:53:39.351Z"
   },
   {
    "duration": 18,
    "start_time": "2022-07-24T15:53:39.405Z"
   },
   {
    "duration": 50,
    "start_time": "2022-07-24T15:53:39.425Z"
   },
   {
    "duration": 35,
    "start_time": "2022-07-24T15:53:39.477Z"
   },
   {
    "duration": 42,
    "start_time": "2022-07-24T15:53:39.513Z"
   },
   {
    "duration": 45,
    "start_time": "2022-07-24T15:53:39.557Z"
   },
   {
    "duration": 12,
    "start_time": "2022-07-24T15:53:39.604Z"
   },
   {
    "duration": 37,
    "start_time": "2022-07-24T15:53:39.618Z"
   },
   {
    "duration": 34,
    "start_time": "2022-07-24T15:53:39.656Z"
   },
   {
    "duration": 4,
    "start_time": "2022-07-24T15:53:39.692Z"
   },
   {
    "duration": 300,
    "start_time": "2022-07-24T15:53:39.698Z"
   },
   {
    "duration": 18,
    "start_time": "2022-07-24T15:53:40.000Z"
   },
   {
    "duration": 32,
    "start_time": "2022-07-24T15:53:40.020Z"
   },
   {
    "duration": 66,
    "start_time": "2022-07-24T15:53:40.054Z"
   },
   {
    "duration": 50,
    "start_time": "2022-07-24T15:53:40.121Z"
   },
   {
    "duration": 212,
    "start_time": "2022-07-24T15:53:40.172Z"
   },
   {
    "duration": 8,
    "start_time": "2022-07-24T15:53:40.386Z"
   },
   {
    "duration": 31,
    "start_time": "2022-07-24T15:53:40.396Z"
   },
   {
    "duration": 60,
    "start_time": "2022-07-24T15:53:40.429Z"
   },
   {
    "duration": 373,
    "start_time": "2022-07-24T15:53:40.491Z"
   },
   {
    "duration": 7,
    "start_time": "2022-07-24T15:53:40.868Z"
   },
   {
    "duration": 20,
    "start_time": "2022-07-24T15:53:40.876Z"
   },
   {
    "duration": 10,
    "start_time": "2022-07-24T15:53:40.898Z"
   },
   {
    "duration": 13,
    "start_time": "2022-07-24T15:53:40.909Z"
   },
   {
    "duration": 25,
    "start_time": "2022-07-24T15:53:40.945Z"
   },
   {
    "duration": 9,
    "start_time": "2022-07-24T15:53:40.972Z"
   },
   {
    "duration": 0,
    "start_time": "2022-07-24T15:53:40.982Z"
   },
   {
    "duration": 0,
    "start_time": "2022-07-24T15:53:40.984Z"
   },
   {
    "duration": 0,
    "start_time": "2022-07-24T15:53:40.985Z"
   },
   {
    "duration": 10,
    "start_time": "2022-07-24T15:55:57.605Z"
   },
   {
    "duration": 13,
    "start_time": "2022-07-24T16:00:09.037Z"
   },
   {
    "duration": 4,
    "start_time": "2022-07-24T16:01:56.545Z"
   },
   {
    "duration": 4,
    "start_time": "2022-07-24T16:02:07.850Z"
   },
   {
    "duration": 14,
    "start_time": "2022-07-24T16:02:24.718Z"
   },
   {
    "duration": 14,
    "start_time": "2022-07-24T16:04:00.322Z"
   },
   {
    "duration": 34,
    "start_time": "2022-07-24T16:04:55.571Z"
   },
   {
    "duration": 368,
    "start_time": "2022-07-24T16:05:08.454Z"
   },
   {
    "duration": 14,
    "start_time": "2022-07-24T16:06:45.406Z"
   },
   {
    "duration": 7,
    "start_time": "2022-07-24T16:13:51.644Z"
   },
   {
    "duration": 10,
    "start_time": "2022-07-24T16:26:42.286Z"
   },
   {
    "duration": 16,
    "start_time": "2022-07-24T16:27:47.040Z"
   },
   {
    "duration": 12,
    "start_time": "2022-07-24T16:29:17.738Z"
   },
   {
    "duration": 16,
    "start_time": "2022-07-24T16:29:34.759Z"
   },
   {
    "duration": 318,
    "start_time": "2022-07-24T16:30:25.545Z"
   },
   {
    "duration": 298,
    "start_time": "2022-07-24T16:43:59.288Z"
   },
   {
    "duration": 22,
    "start_time": "2022-07-24T16:44:08.930Z"
   },
   {
    "duration": 259,
    "start_time": "2022-07-24T16:46:23.388Z"
   },
   {
    "duration": 452,
    "start_time": "2022-07-24T17:06:16.185Z"
   },
   {
    "duration": 57,
    "start_time": "2022-07-24T17:07:14.243Z"
   },
   {
    "duration": 136,
    "start_time": "2022-07-24T17:07:23.838Z"
   },
   {
    "duration": 4,
    "start_time": "2022-07-24T18:02:13.644Z"
   },
   {
    "duration": 59,
    "start_time": "2022-07-24T18:02:13.658Z"
   },
   {
    "duration": 4,
    "start_time": "2022-07-24T18:02:13.719Z"
   },
   {
    "duration": 9,
    "start_time": "2022-07-24T18:02:13.724Z"
   },
   {
    "duration": 19,
    "start_time": "2022-07-24T18:02:13.735Z"
   },
   {
    "duration": 15,
    "start_time": "2022-07-24T18:02:13.758Z"
   },
   {
    "duration": 265,
    "start_time": "2022-07-24T18:02:13.774Z"
   },
   {
    "duration": 15,
    "start_time": "2022-07-24T18:02:14.049Z"
   },
   {
    "duration": 54,
    "start_time": "2022-07-24T18:02:14.066Z"
   },
   {
    "duration": 37,
    "start_time": "2022-07-24T18:02:14.122Z"
   },
   {
    "duration": 35,
    "start_time": "2022-07-24T18:02:14.163Z"
   },
   {
    "duration": 54,
    "start_time": "2022-07-24T18:02:14.200Z"
   },
   {
    "duration": 26,
    "start_time": "2022-07-24T18:02:14.256Z"
   },
   {
    "duration": 67,
    "start_time": "2022-07-24T18:02:14.284Z"
   },
   {
    "duration": 16,
    "start_time": "2022-07-24T18:02:14.354Z"
   },
   {
    "duration": 16,
    "start_time": "2022-07-24T18:02:14.372Z"
   },
   {
    "duration": 22,
    "start_time": "2022-07-24T18:02:14.390Z"
   },
   {
    "duration": 5,
    "start_time": "2022-07-24T18:02:14.414Z"
   },
   {
    "duration": 345,
    "start_time": "2022-07-24T18:02:14.446Z"
   },
   {
    "duration": 18,
    "start_time": "2022-07-24T18:02:14.792Z"
   },
   {
    "duration": 34,
    "start_time": "2022-07-24T18:02:14.812Z"
   },
   {
    "duration": 72,
    "start_time": "2022-07-24T18:02:14.848Z"
   },
   {
    "duration": 53,
    "start_time": "2022-07-24T18:02:14.922Z"
   },
   {
    "duration": 223,
    "start_time": "2022-07-24T18:02:14.977Z"
   },
   {
    "duration": 6,
    "start_time": "2022-07-24T18:02:15.202Z"
   },
   {
    "duration": 25,
    "start_time": "2022-07-24T18:02:15.210Z"
   },
   {
    "duration": 67,
    "start_time": "2022-07-24T18:02:15.237Z"
   },
   {
    "duration": 6,
    "start_time": "2022-07-24T18:02:15.307Z"
   },
   {
    "duration": 46,
    "start_time": "2022-07-24T18:02:15.314Z"
   },
   {
    "duration": 11,
    "start_time": "2022-07-24T18:02:15.363Z"
   },
   {
    "duration": 6,
    "start_time": "2022-07-24T18:02:15.375Z"
   },
   {
    "duration": 33,
    "start_time": "2022-07-24T18:02:15.382Z"
   },
   {
    "duration": 32,
    "start_time": "2022-07-24T18:02:15.416Z"
   },
   {
    "duration": 0,
    "start_time": "2022-07-24T18:02:15.449Z"
   },
   {
    "duration": 0,
    "start_time": "2022-07-24T18:02:15.451Z"
   },
   {
    "duration": 0,
    "start_time": "2022-07-24T18:02:15.452Z"
   },
   {
    "duration": 0,
    "start_time": "2022-07-24T18:02:15.454Z"
   },
   {
    "duration": 0,
    "start_time": "2022-07-24T18:02:15.455Z"
   },
   {
    "duration": 0,
    "start_time": "2022-07-24T18:02:15.456Z"
   },
   {
    "duration": 3,
    "start_time": "2022-07-24T18:02:51.206Z"
   },
   {
    "duration": 6,
    "start_time": "2022-07-24T18:03:16.171Z"
   },
   {
    "duration": 18,
    "start_time": "2022-07-24T18:03:24.396Z"
   },
   {
    "duration": 26,
    "start_time": "2022-07-24T18:03:29.287Z"
   },
   {
    "duration": 699,
    "start_time": "2022-07-24T18:03:33.644Z"
   },
   {
    "duration": 18,
    "start_time": "2022-07-24T18:03:51.699Z"
   },
   {
    "duration": 96675,
    "start_time": "2022-07-24T18:05:42.127Z"
   },
   {
    "duration": 134,
    "start_time": "2022-07-24T18:07:18.804Z"
   },
   {
    "duration": 20,
    "start_time": "2022-07-24T18:07:19.067Z"
   },
   {
    "duration": 1129,
    "start_time": "2022-07-24T18:07:23.481Z"
   },
   {
    "duration": 70,
    "start_time": "2022-07-24T18:07:24.612Z"
   },
   {
    "duration": 4,
    "start_time": "2022-07-24T18:07:24.684Z"
   },
   {
    "duration": 8,
    "start_time": "2022-07-24T18:07:24.690Z"
   },
   {
    "duration": 9,
    "start_time": "2022-07-24T18:07:24.700Z"
   },
   {
    "duration": 8,
    "start_time": "2022-07-24T18:07:24.711Z"
   },
   {
    "duration": 209,
    "start_time": "2022-07-24T18:07:24.720Z"
   },
   {
    "duration": 15,
    "start_time": "2022-07-24T18:07:24.931Z"
   },
   {
    "duration": 62,
    "start_time": "2022-07-24T18:07:24.949Z"
   },
   {
    "duration": 19,
    "start_time": "2022-07-24T18:07:25.014Z"
   },
   {
    "duration": 56,
    "start_time": "2022-07-24T18:07:25.035Z"
   },
   {
    "duration": 37,
    "start_time": "2022-07-24T18:07:25.092Z"
   },
   {
    "duration": 47,
    "start_time": "2022-07-24T18:07:25.130Z"
   },
   {
    "duration": 66,
    "start_time": "2022-07-24T18:07:25.179Z"
   },
   {
    "duration": 17,
    "start_time": "2022-07-24T18:07:25.250Z"
   },
   {
    "duration": 20,
    "start_time": "2022-07-24T18:07:25.269Z"
   },
   {
    "duration": 27,
    "start_time": "2022-07-24T18:07:25.291Z"
   },
   {
    "duration": 5,
    "start_time": "2022-07-24T18:07:25.319Z"
   },
   {
    "duration": 455,
    "start_time": "2022-07-24T18:07:25.347Z"
   },
   {
    "duration": 19,
    "start_time": "2022-07-24T18:07:25.804Z"
   },
   {
    "duration": 44,
    "start_time": "2022-07-24T18:07:25.825Z"
   },
   {
    "duration": 95,
    "start_time": "2022-07-24T18:07:25.871Z"
   },
   {
    "duration": 30,
    "start_time": "2022-07-24T18:07:25.968Z"
   },
   {
    "duration": 237,
    "start_time": "2022-07-24T18:07:26.000Z"
   },
   {
    "duration": 13,
    "start_time": "2022-07-24T18:07:26.239Z"
   },
   {
    "duration": 32,
    "start_time": "2022-07-24T18:07:26.254Z"
   },
   {
    "duration": 82,
    "start_time": "2022-07-24T18:07:26.288Z"
   },
   {
    "duration": 7,
    "start_time": "2022-07-24T18:07:26.373Z"
   },
   {
    "duration": 20,
    "start_time": "2022-07-24T18:07:26.381Z"
   },
   {
    "duration": 11,
    "start_time": "2022-07-24T18:07:26.403Z"
   },
   {
    "duration": 5,
    "start_time": "2022-07-24T18:07:26.415Z"
   },
   {
    "duration": 34,
    "start_time": "2022-07-24T18:07:26.447Z"
   },
   {
    "duration": 116,
    "start_time": "2022-07-24T18:07:26.482Z"
   },
   {
    "duration": 0,
    "start_time": "2022-07-24T18:07:26.599Z"
   },
   {
    "duration": 0,
    "start_time": "2022-07-24T18:07:26.600Z"
   },
   {
    "duration": 0,
    "start_time": "2022-07-24T18:07:26.602Z"
   },
   {
    "duration": 0,
    "start_time": "2022-07-24T18:07:26.603Z"
   },
   {
    "duration": 0,
    "start_time": "2022-07-24T18:07:26.604Z"
   },
   {
    "duration": 0,
    "start_time": "2022-07-24T18:07:26.604Z"
   },
   {
    "duration": 10,
    "start_time": "2022-07-24T18:07:51.721Z"
   },
   {
    "duration": 15,
    "start_time": "2022-07-24T18:07:56.960Z"
   },
   {
    "duration": 24,
    "start_time": "2022-07-24T18:08:05.381Z"
   },
   {
    "duration": 276,
    "start_time": "2022-07-24T18:08:10.637Z"
   },
   {
    "duration": 20,
    "start_time": "2022-07-24T18:08:20.633Z"
   },
   {
    "duration": 10,
    "start_time": "2022-07-24T18:09:07.299Z"
   },
   {
    "duration": 19,
    "start_time": "2022-07-24T18:09:16.443Z"
   },
   {
    "duration": 107,
    "start_time": "2022-07-24T18:10:46.966Z"
   },
   {
    "duration": 3,
    "start_time": "2022-07-24T18:41:23.286Z"
   },
   {
    "duration": 117,
    "start_time": "2022-07-24T18:41:23.291Z"
   },
   {
    "duration": 13,
    "start_time": "2022-07-24T18:56:56.269Z"
   },
   {
    "duration": 11,
    "start_time": "2022-07-24T19:38:21.320Z"
   },
   {
    "duration": 4,
    "start_time": "2022-07-24T19:38:53.007Z"
   },
   {
    "duration": 1223,
    "start_time": "2022-07-25T02:57:05.121Z"
   },
   {
    "duration": 100,
    "start_time": "2022-07-25T02:57:12.428Z"
   },
   {
    "duration": 5,
    "start_time": "2022-07-25T02:57:18.503Z"
   },
   {
    "duration": 5,
    "start_time": "2022-07-25T02:57:23.115Z"
   },
   {
    "duration": 8,
    "start_time": "2022-07-25T02:57:27.854Z"
   },
   {
    "duration": 5,
    "start_time": "2022-07-25T02:57:32.548Z"
   },
   {
    "duration": 286,
    "start_time": "2022-07-25T02:57:38.712Z"
   },
   {
    "duration": 6,
    "start_time": "2022-07-25T02:57:42.736Z"
   },
   {
    "duration": 54,
    "start_time": "2022-07-25T02:57:46.956Z"
   },
   {
    "duration": 35,
    "start_time": "2022-07-25T02:58:45.072Z"
   },
   {
    "duration": 21,
    "start_time": "2022-07-25T02:58:52.028Z"
   },
   {
    "duration": 37,
    "start_time": "2022-07-25T02:59:01.382Z"
   },
   {
    "duration": 48,
    "start_time": "2022-07-25T02:59:11.519Z"
   },
   {
    "duration": 64,
    "start_time": "2022-07-25T02:59:38.918Z"
   },
   {
    "duration": 12,
    "start_time": "2022-07-25T02:59:44.743Z"
   },
   {
    "duration": 18,
    "start_time": "2022-07-25T02:59:55.300Z"
   },
   {
    "duration": 23,
    "start_time": "2022-07-25T03:00:03.751Z"
   },
   {
    "duration": 12,
    "start_time": "2022-07-25T03:01:29.455Z"
   },
   {
    "duration": 105,
    "start_time": "2022-07-25T03:11:00.499Z"
   },
   {
    "duration": 21,
    "start_time": "2022-07-25T03:11:54.011Z"
   },
   {
    "duration": 39,
    "start_time": "2022-07-25T03:13:44.014Z"
   },
   {
    "duration": 33,
    "start_time": "2022-07-25T03:17:10.956Z"
   },
   {
    "duration": 91994,
    "start_time": "2022-07-25T03:33:27.712Z"
   },
   {
    "duration": 277,
    "start_time": "2022-07-25T03:35:35.915Z"
   },
   {
    "duration": 12,
    "start_time": "2022-07-25T03:37:55.982Z"
   },
   {
    "duration": 5172,
    "start_time": "2022-07-25T03:45:20.249Z"
   },
   {
    "duration": 15,
    "start_time": "2022-07-25T03:47:55.079Z"
   },
   {
    "duration": 21,
    "start_time": "2022-07-25T03:48:10.746Z"
   },
   {
    "duration": 92196,
    "start_time": "2022-07-25T03:50:00.173Z"
   },
   {
    "duration": 21,
    "start_time": "2022-07-25T03:54:15.492Z"
   },
   {
    "duration": 517,
    "start_time": "2022-07-25T03:56:14.374Z"
   },
   {
    "duration": 22,
    "start_time": "2022-07-25T03:59:04.716Z"
   },
   {
    "duration": 8,
    "start_time": "2022-07-25T04:02:14.505Z"
   },
   {
    "duration": 7,
    "start_time": "2022-07-25T04:06:49.580Z"
   },
   {
    "duration": 7,
    "start_time": "2022-07-25T04:07:22.235Z"
   },
   {
    "duration": 308,
    "start_time": "2022-07-25T04:14:51.335Z"
   },
   {
    "duration": 155,
    "start_time": "2022-07-25T04:15:25.391Z"
   },
   {
    "duration": 172,
    "start_time": "2022-07-25T04:15:59.168Z"
   },
   {
    "duration": 203,
    "start_time": "2022-07-25T04:17:41.241Z"
   },
   {
    "duration": 56,
    "start_time": "2022-07-25T04:35:54.443Z"
   },
   {
    "duration": 56,
    "start_time": "2022-07-25T04:36:34.689Z"
   },
   {
    "duration": 69,
    "start_time": "2022-07-25T04:37:47.386Z"
   },
   {
    "duration": 63,
    "start_time": "2022-07-25T04:38:59.884Z"
   },
   {
    "duration": 6,
    "start_time": "2022-07-25T04:40:40.374Z"
   },
   {
    "duration": 7,
    "start_time": "2022-07-25T04:42:38.693Z"
   },
   {
    "duration": 27,
    "start_time": "2022-07-25T04:45:51.568Z"
   },
   {
    "duration": 18,
    "start_time": "2022-07-25T08:31:05.534Z"
   },
   {
    "duration": 19,
    "start_time": "2022-07-25T08:31:53.575Z"
   },
   {
    "duration": 18,
    "start_time": "2022-07-25T09:56:15.672Z"
   },
   {
    "duration": 17,
    "start_time": "2022-07-25T09:57:58.087Z"
   },
   {
    "duration": 19,
    "start_time": "2022-07-25T10:01:30.476Z"
   },
   {
    "duration": 7,
    "start_time": "2022-07-25T10:02:06.608Z"
   },
   {
    "duration": 18,
    "start_time": "2022-07-25T10:02:22.310Z"
   },
   {
    "duration": 7,
    "start_time": "2022-07-25T10:03:16.409Z"
   },
   {
    "duration": 292,
    "start_time": "2022-07-25T10:05:12.291Z"
   },
   {
    "duration": 297,
    "start_time": "2022-07-25T10:06:19.276Z"
   },
   {
    "duration": 8,
    "start_time": "2022-07-25T10:14:18.452Z"
   },
   {
    "duration": 378,
    "start_time": "2022-07-25T10:15:42.871Z"
   },
   {
    "duration": 297,
    "start_time": "2022-07-25T10:16:13.240Z"
   },
   {
    "duration": 337,
    "start_time": "2022-07-25T10:17:07.808Z"
   },
   {
    "duration": 327,
    "start_time": "2022-07-25T10:19:21.967Z"
   },
   {
    "duration": 206,
    "start_time": "2022-07-25T10:25:41.447Z"
   },
   {
    "duration": 307,
    "start_time": "2022-07-25T10:26:09.141Z"
   },
   {
    "duration": 165,
    "start_time": "2022-07-25T11:18:54.745Z"
   },
   {
    "duration": 152,
    "start_time": "2022-07-25T11:22:55.647Z"
   },
   {
    "duration": 135,
    "start_time": "2022-07-25T11:24:32.800Z"
   },
   {
    "duration": 155,
    "start_time": "2022-07-25T11:27:40.987Z"
   },
   {
    "duration": 14,
    "start_time": "2022-07-25T11:35:28.956Z"
   },
   {
    "duration": 1003,
    "start_time": "2022-07-25T11:44:46.833Z"
   },
   {
    "duration": 9,
    "start_time": "2022-07-25T11:51:16.027Z"
   },
   {
    "duration": 4,
    "start_time": "2022-07-25T11:51:42.961Z"
   },
   {
    "duration": 12,
    "start_time": "2022-07-25T12:02:32.295Z"
   },
   {
    "duration": 16,
    "start_time": "2022-07-25T12:02:42.314Z"
   },
   {
    "duration": 31,
    "start_time": "2022-07-25T12:03:44.905Z"
   },
   {
    "duration": 15,
    "start_time": "2022-07-25T12:11:56.860Z"
   },
   {
    "duration": 12,
    "start_time": "2022-07-25T12:13:04.901Z"
   },
   {
    "duration": 18,
    "start_time": "2022-07-25T12:24:22.593Z"
   },
   {
    "duration": 15,
    "start_time": "2022-07-25T12:28:34.211Z"
   },
   {
    "duration": 12,
    "start_time": "2022-07-25T12:30:05.372Z"
   },
   {
    "duration": 16,
    "start_time": "2022-07-25T12:30:22.954Z"
   },
   {
    "duration": 118,
    "start_time": "2022-07-25T12:33:28.502Z"
   },
   {
    "duration": 20,
    "start_time": "2022-07-25T12:33:44.153Z"
   },
   {
    "duration": 11,
    "start_time": "2022-07-25T12:44:15.361Z"
   },
   {
    "duration": 3,
    "start_time": "2022-07-25T13:06:59.326Z"
   },
   {
    "duration": 280,
    "start_time": "2022-07-25T16:14:31.096Z"
   },
   {
    "duration": 55,
    "start_time": "2022-07-25T16:43:46.972Z"
   },
   {
    "duration": 8,
    "start_time": "2022-07-25T16:46:01.949Z"
   },
   {
    "duration": 28,
    "start_time": "2022-07-25T16:49:35.063Z"
   },
   {
    "duration": 4,
    "start_time": "2022-07-25T17:03:40.287Z"
   },
   {
    "duration": 33,
    "start_time": "2022-07-25T17:03:53.392Z"
   },
   {
    "duration": 44,
    "start_time": "2022-07-25T17:12:08.736Z"
   },
   {
    "duration": 10,
    "start_time": "2022-07-25T17:18:48.452Z"
   },
   {
    "duration": 61,
    "start_time": "2022-07-25T17:20:23.108Z"
   },
   {
    "duration": 11,
    "start_time": "2022-07-25T17:22:10.766Z"
   },
   {
    "duration": 1018,
    "start_time": "2022-07-25T17:39:59.345Z"
   },
   {
    "duration": 37,
    "start_time": "2022-07-25T17:40:46.340Z"
   },
   {
    "duration": 14,
    "start_time": "2022-07-25T18:10:11.521Z"
   },
   {
    "duration": 16,
    "start_time": "2022-07-25T18:12:25.815Z"
   },
   {
    "duration": 6,
    "start_time": "2022-07-25T18:12:50.356Z"
   },
   {
    "duration": 8,
    "start_time": "2022-07-25T18:17:46.770Z"
   },
   {
    "duration": 279,
    "start_time": "2022-07-25T18:18:04.144Z"
   },
   {
    "duration": 4,
    "start_time": "2022-07-25T19:14:26.388Z"
   },
   {
    "duration": 133,
    "start_time": "2022-07-25T19:14:43.729Z"
   },
   {
    "duration": 41,
    "start_time": "2022-07-25T19:15:37.058Z"
   },
   {
    "duration": 51750,
    "start_time": "2022-07-25T19:30:11.703Z"
   },
   {
    "duration": 38,
    "start_time": "2022-07-25T19:35:20.041Z"
   },
   {
    "duration": 64,
    "start_time": "2022-07-25T20:08:45.782Z"
   },
   {
    "duration": 48,
    "start_time": "2022-07-25T20:08:54.314Z"
   },
   {
    "duration": 56,
    "start_time": "2022-07-25T20:12:07.313Z"
   },
   {
    "duration": 280,
    "start_time": "2022-07-25T20:13:53.514Z"
   },
   {
    "duration": 16,
    "start_time": "2022-07-25T20:38:35.088Z"
   },
   {
    "duration": 53815,
    "start_time": "2022-07-25T20:39:39.856Z"
   },
   {
    "duration": 22,
    "start_time": "2022-07-25T20:42:11.655Z"
   },
   {
    "duration": 26,
    "start_time": "2022-07-25T20:46:49.892Z"
   },
   {
    "duration": 15,
    "start_time": "2022-07-25T20:47:22.857Z"
   },
   {
    "duration": 51,
    "start_time": "2022-07-25T20:49:01.225Z"
   },
   {
    "duration": 27,
    "start_time": "2022-07-25T20:53:31.584Z"
   },
   {
    "duration": 20,
    "start_time": "2022-07-25T20:54:21.872Z"
   },
   {
    "duration": 21,
    "start_time": "2022-07-25T20:58:04.845Z"
   },
   {
    "duration": 25,
    "start_time": "2022-07-25T20:58:16.091Z"
   },
   {
    "duration": 20,
    "start_time": "2022-07-25T20:58:37.801Z"
   },
   {
    "duration": 22,
    "start_time": "2022-07-25T20:59:07.504Z"
   },
   {
    "duration": 1364,
    "start_time": "2022-07-26T10:28:56.423Z"
   },
   {
    "duration": 167,
    "start_time": "2022-07-26T10:28:57.789Z"
   },
   {
    "duration": 5,
    "start_time": "2022-07-26T10:28:57.957Z"
   },
   {
    "duration": 14,
    "start_time": "2022-07-26T10:28:57.964Z"
   },
   {
    "duration": 13,
    "start_time": "2022-07-26T10:28:57.980Z"
   },
   {
    "duration": 15,
    "start_time": "2022-07-26T10:28:57.994Z"
   },
   {
    "duration": 250,
    "start_time": "2022-07-26T10:28:58.012Z"
   },
   {
    "duration": 7,
    "start_time": "2022-07-26T10:28:58.263Z"
   },
   {
    "duration": 61,
    "start_time": "2022-07-26T10:28:58.271Z"
   },
   {
    "duration": 20,
    "start_time": "2022-07-26T10:28:58.336Z"
   },
   {
    "duration": 38,
    "start_time": "2022-07-26T10:28:58.358Z"
   },
   {
    "duration": 59,
    "start_time": "2022-07-26T10:28:58.398Z"
   },
   {
    "duration": 25,
    "start_time": "2022-07-26T10:28:58.459Z"
   },
   {
    "duration": 66,
    "start_time": "2022-07-26T10:28:58.486Z"
   },
   {
    "duration": 12,
    "start_time": "2022-07-26T10:28:58.554Z"
   },
   {
    "duration": 27,
    "start_time": "2022-07-26T10:28:58.568Z"
   },
   {
    "duration": 34,
    "start_time": "2022-07-26T10:28:58.597Z"
   },
   {
    "duration": 5,
    "start_time": "2022-07-26T10:28:58.633Z"
   },
   {
    "duration": 14,
    "start_time": "2022-07-26T10:28:58.640Z"
   },
   {
    "duration": 511,
    "start_time": "2022-07-26T10:28:58.656Z"
   },
   {
    "duration": 38,
    "start_time": "2022-07-26T10:28:59.170Z"
   },
   {
    "duration": 36,
    "start_time": "2022-07-26T10:28:59.209Z"
   },
   {
    "duration": 8,
    "start_time": "2022-07-26T10:28:59.248Z"
   },
   {
    "duration": 29,
    "start_time": "2022-07-26T10:28:59.258Z"
   },
   {
    "duration": 90,
    "start_time": "2022-07-26T10:28:59.289Z"
   },
   {
    "duration": 20,
    "start_time": "2022-07-26T10:28:59.381Z"
   },
   {
    "duration": 21,
    "start_time": "2022-07-26T10:28:59.403Z"
   },
   {
    "duration": 318,
    "start_time": "2022-07-26T10:28:59.427Z"
   },
   {
    "duration": 132,
    "start_time": "2022-07-26T10:28:59.748Z"
   },
   {
    "duration": 0,
    "start_time": "2022-07-26T10:28:59.881Z"
   },
   {
    "duration": 0,
    "start_time": "2022-07-26T10:28:59.882Z"
   },
   {
    "duration": 0,
    "start_time": "2022-07-26T10:28:59.884Z"
   },
   {
    "duration": 0,
    "start_time": "2022-07-26T10:28:59.885Z"
   },
   {
    "duration": 0,
    "start_time": "2022-07-26T10:28:59.887Z"
   },
   {
    "duration": 0,
    "start_time": "2022-07-26T10:28:59.888Z"
   },
   {
    "duration": 0,
    "start_time": "2022-07-26T10:28:59.889Z"
   },
   {
    "duration": 0,
    "start_time": "2022-07-26T10:28:59.890Z"
   },
   {
    "duration": 0,
    "start_time": "2022-07-26T10:28:59.891Z"
   },
   {
    "duration": 0,
    "start_time": "2022-07-26T10:28:59.893Z"
   },
   {
    "duration": 0,
    "start_time": "2022-07-26T10:28:59.894Z"
   },
   {
    "duration": 0,
    "start_time": "2022-07-26T10:28:59.895Z"
   },
   {
    "duration": 1,
    "start_time": "2022-07-26T10:28:59.923Z"
   },
   {
    "duration": 0,
    "start_time": "2022-07-26T10:28:59.925Z"
   },
   {
    "duration": 0,
    "start_time": "2022-07-26T10:28:59.926Z"
   },
   {
    "duration": 0,
    "start_time": "2022-07-26T10:28:59.928Z"
   },
   {
    "duration": 0,
    "start_time": "2022-07-26T10:28:59.929Z"
   },
   {
    "duration": 0,
    "start_time": "2022-07-26T10:28:59.931Z"
   },
   {
    "duration": 0,
    "start_time": "2022-07-26T10:28:59.933Z"
   },
   {
    "duration": 0,
    "start_time": "2022-07-26T10:28:59.934Z"
   },
   {
    "duration": 0,
    "start_time": "2022-07-26T10:28:59.936Z"
   },
   {
    "duration": 0,
    "start_time": "2022-07-26T10:28:59.937Z"
   },
   {
    "duration": 0,
    "start_time": "2022-07-26T10:28:59.938Z"
   },
   {
    "duration": 0,
    "start_time": "2022-07-26T10:28:59.940Z"
   },
   {
    "duration": 7,
    "start_time": "2022-07-26T10:31:22.989Z"
   },
   {
    "duration": 20,
    "start_time": "2022-07-26T10:31:31.986Z"
   },
   {
    "duration": 289,
    "start_time": "2022-07-26T10:31:57.714Z"
   },
   {
    "duration": 219,
    "start_time": "2022-07-26T10:32:15.311Z"
   },
   {
    "duration": 13,
    "start_time": "2022-07-26T10:32:29.577Z"
   },
   {
    "duration": 5,
    "start_time": "2022-07-26T10:35:28.866Z"
   },
   {
    "duration": 17,
    "start_time": "2022-07-26T10:36:29.437Z"
   },
   {
    "duration": 17,
    "start_time": "2022-07-26T10:37:17.895Z"
   },
   {
    "duration": 17,
    "start_time": "2022-07-26T10:38:22.751Z"
   },
   {
    "duration": 309,
    "start_time": "2022-07-26T10:41:16.264Z"
   },
   {
    "duration": 420,
    "start_time": "2022-07-26T10:41:49.993Z"
   },
   {
    "duration": 303,
    "start_time": "2022-07-26T11:14:37.968Z"
   },
   {
    "duration": 294,
    "start_time": "2022-07-26T11:15:37.566Z"
   },
   {
    "duration": 15,
    "start_time": "2022-07-26T11:16:38.267Z"
   },
   {
    "duration": 28,
    "start_time": "2022-07-26T11:16:46.005Z"
   },
   {
    "duration": 17,
    "start_time": "2022-07-26T11:16:52.621Z"
   },
   {
    "duration": 288,
    "start_time": "2022-07-26T11:17:04.361Z"
   },
   {
    "duration": 12,
    "start_time": "2022-07-26T11:17:35.369Z"
   },
   {
    "duration": 106,
    "start_time": "2022-07-26T11:17:40.278Z"
   },
   {
    "duration": 111,
    "start_time": "2022-07-26T11:17:52.155Z"
   },
   {
    "duration": 3,
    "start_time": "2022-07-26T11:18:07.647Z"
   },
   {
    "duration": 54,
    "start_time": "2022-07-26T11:18:10.803Z"
   },
   {
    "duration": 50,
    "start_time": "2022-07-26T11:18:48.937Z"
   },
   {
    "duration": 10,
    "start_time": "2022-07-26T11:19:06.223Z"
   },
   {
    "duration": 8,
    "start_time": "2022-07-26T11:43:34.675Z"
   },
   {
    "duration": 27,
    "start_time": "2022-07-26T11:43:56.357Z"
   },
   {
    "duration": 61,
    "start_time": "2022-07-26T11:45:24.230Z"
   },
   {
    "duration": 46,
    "start_time": "2022-07-26T11:48:48.531Z"
   },
   {
    "duration": 154,
    "start_time": "2022-07-26T11:49:23.040Z"
   },
   {
    "duration": 25,
    "start_time": "2022-07-26T11:52:24.391Z"
   },
   {
    "duration": 50,
    "start_time": "2022-07-26T11:56:44.052Z"
   },
   {
    "duration": 29,
    "start_time": "2022-07-26T11:57:02.627Z"
   },
   {
    "duration": 39,
    "start_time": "2022-07-26T11:58:10.697Z"
   },
   {
    "duration": 30,
    "start_time": "2022-07-26T11:58:25.373Z"
   },
   {
    "duration": 8,
    "start_time": "2022-07-26T12:05:02.306Z"
   },
   {
    "duration": 23,
    "start_time": "2022-07-26T12:05:27.572Z"
   },
   {
    "duration": 32,
    "start_time": "2022-07-26T12:07:27.693Z"
   },
   {
    "duration": 37,
    "start_time": "2022-07-26T12:13:45.369Z"
   },
   {
    "duration": 33,
    "start_time": "2022-07-26T12:13:58.666Z"
   },
   {
    "duration": 1263,
    "start_time": "2022-07-26T12:14:12.705Z"
   },
   {
    "duration": 368,
    "start_time": "2022-07-26T12:14:35.243Z"
   },
   {
    "duration": 42,
    "start_time": "2022-07-26T12:27:43.647Z"
   },
   {
    "duration": 40,
    "start_time": "2022-07-26T12:37:09.002Z"
   },
   {
    "duration": 263,
    "start_time": "2022-07-26T12:39:35.172Z"
   },
   {
    "duration": 333,
    "start_time": "2022-07-26T12:45:57.568Z"
   },
   {
    "duration": 364,
    "start_time": "2022-07-26T12:50:14.753Z"
   },
   {
    "duration": 9,
    "start_time": "2022-07-26T13:08:43.945Z"
   },
   {
    "duration": 59,
    "start_time": "2022-07-26T13:09:18.202Z"
   },
   {
    "duration": 425,
    "start_time": "2022-07-26T13:09:28.091Z"
   },
   {
    "duration": 13,
    "start_time": "2022-07-26T13:13:21.738Z"
   },
   {
    "duration": 26,
    "start_time": "2022-07-26T13:13:34.083Z"
   },
   {
    "duration": 34,
    "start_time": "2022-07-26T13:16:19.600Z"
   },
   {
    "duration": 464,
    "start_time": "2022-07-26T13:17:38.646Z"
   },
   {
    "duration": 412,
    "start_time": "2022-07-26T13:25:07.787Z"
   },
   {
    "duration": 468,
    "start_time": "2022-07-26T13:25:28.000Z"
   },
   {
    "duration": 381,
    "start_time": "2022-07-26T13:26:31.585Z"
   },
   {
    "duration": 415,
    "start_time": "2022-07-26T13:33:36.819Z"
   },
   {
    "duration": 418,
    "start_time": "2022-07-26T13:40:45.737Z"
   },
   {
    "duration": 33,
    "start_time": "2022-07-26T13:52:56.873Z"
   },
   {
    "duration": 384,
    "start_time": "2022-07-26T13:53:10.441Z"
   },
   {
    "duration": 395,
    "start_time": "2022-07-26T13:56:15.086Z"
   },
   {
    "duration": 536,
    "start_time": "2022-07-26T13:59:40.242Z"
   },
   {
    "duration": 26,
    "start_time": "2022-07-26T15:58:12.479Z"
   },
   {
    "duration": 31,
    "start_time": "2022-07-26T15:58:46.726Z"
   },
   {
    "duration": 29,
    "start_time": "2022-07-26T15:59:23.635Z"
   },
   {
    "duration": 9,
    "start_time": "2022-07-26T15:59:55.472Z"
   },
   {
    "duration": 14,
    "start_time": "2022-07-26T16:02:49.949Z"
   },
   {
    "duration": 14,
    "start_time": "2022-07-26T16:03:04.795Z"
   },
   {
    "duration": 30,
    "start_time": "2022-07-26T16:03:26.277Z"
   },
   {
    "duration": 32,
    "start_time": "2022-07-26T16:04:24.535Z"
   },
   {
    "duration": 25,
    "start_time": "2022-07-26T16:05:02.953Z"
   },
   {
    "duration": 16,
    "start_time": "2022-07-26T16:13:25.282Z"
   },
   {
    "duration": 22,
    "start_time": "2022-07-26T16:13:45.714Z"
   },
   {
    "duration": 60,
    "start_time": "2022-07-26T16:14:06.875Z"
   },
   {
    "duration": 8,
    "start_time": "2022-07-26T16:14:37.273Z"
   },
   {
    "duration": 68,
    "start_time": "2022-07-26T16:15:07.187Z"
   },
   {
    "duration": 46,
    "start_time": "2022-07-26T16:15:25.579Z"
   },
   {
    "duration": 124,
    "start_time": "2022-07-26T16:15:45.460Z"
   },
   {
    "duration": 19,
    "start_time": "2022-07-26T16:16:21.175Z"
   },
   {
    "duration": 20,
    "start_time": "2022-07-26T16:16:59.625Z"
   },
   {
    "duration": 88,
    "start_time": "2022-07-26T16:17:23.825Z"
   },
   {
    "duration": 24,
    "start_time": "2022-07-26T16:17:38.873Z"
   },
   {
    "duration": 52,
    "start_time": "2022-07-26T16:21:01.047Z"
   },
   {
    "duration": 61,
    "start_time": "2022-07-26T16:21:39.788Z"
   },
   {
    "duration": 77,
    "start_time": "2022-07-26T16:22:04.748Z"
   },
   {
    "duration": 21,
    "start_time": "2022-07-26T16:22:25.039Z"
   },
   {
    "duration": 24,
    "start_time": "2022-07-26T16:23:44.495Z"
   },
   {
    "duration": 39,
    "start_time": "2022-07-26T16:25:27.842Z"
   },
   {
    "duration": 49,
    "start_time": "2022-07-26T16:28:25.657Z"
   },
   {
    "duration": 26,
    "start_time": "2022-07-26T16:32:24.852Z"
   },
   {
    "duration": 23,
    "start_time": "2022-07-26T16:32:41.737Z"
   },
   {
    "duration": 28,
    "start_time": "2022-07-26T16:34:19.222Z"
   },
   {
    "duration": 57,
    "start_time": "2022-07-26T16:35:08.166Z"
   },
   {
    "duration": 75,
    "start_time": "2022-07-26T16:43:39.882Z"
   },
   {
    "duration": 82,
    "start_time": "2022-07-26T16:45:08.901Z"
   },
   {
    "duration": 324,
    "start_time": "2022-07-26T17:08:58.584Z"
   },
   {
    "duration": 351,
    "start_time": "2022-07-26T17:16:54.825Z"
   },
   {
    "duration": 351,
    "start_time": "2022-07-26T17:18:10.055Z"
   },
   {
    "duration": 348,
    "start_time": "2022-07-26T17:19:22.028Z"
   },
   {
    "duration": 460,
    "start_time": "2022-07-26T17:19:44.547Z"
   },
   {
    "duration": 449,
    "start_time": "2022-07-26T17:20:08.756Z"
   },
   {
    "duration": 5,
    "start_time": "2022-07-26T17:27:08.767Z"
   },
   {
    "duration": 345,
    "start_time": "2022-07-26T17:28:30.922Z"
   },
   {
    "duration": 352,
    "start_time": "2022-07-26T17:28:52.974Z"
   },
   {
    "duration": 336,
    "start_time": "2022-07-26T17:30:18.435Z"
   },
   {
    "duration": 356,
    "start_time": "2022-07-26T17:31:26.459Z"
   },
   {
    "duration": 505,
    "start_time": "2022-07-26T17:35:18.643Z"
   },
   {
    "duration": 361,
    "start_time": "2022-07-26T17:35:59.631Z"
   },
   {
    "duration": 167,
    "start_time": "2022-07-26T17:39:04.853Z"
   },
   {
    "duration": 188,
    "start_time": "2022-07-26T17:40:46.950Z"
   },
   {
    "duration": 179,
    "start_time": "2022-07-26T17:41:18.250Z"
   },
   {
    "duration": 168,
    "start_time": "2022-07-26T17:42:19.418Z"
   },
   {
    "duration": 159,
    "start_time": "2022-07-26T17:42:36.994Z"
   },
   {
    "duration": 191,
    "start_time": "2022-07-26T17:48:45.498Z"
   },
   {
    "duration": 171,
    "start_time": "2022-07-26T17:50:04.053Z"
   },
   {
    "duration": 268,
    "start_time": "2022-07-26T17:51:10.352Z"
   },
   {
    "duration": 191,
    "start_time": "2022-07-26T17:53:57.827Z"
   },
   {
    "duration": 159,
    "start_time": "2022-07-26T17:54:24.047Z"
   },
   {
    "duration": 196,
    "start_time": "2022-07-26T17:54:41.951Z"
   },
   {
    "duration": 177,
    "start_time": "2022-07-26T17:55:05.282Z"
   },
   {
    "duration": 183,
    "start_time": "2022-07-26T17:55:20.571Z"
   },
   {
    "duration": 182,
    "start_time": "2022-07-26T17:56:08.228Z"
   },
   {
    "duration": 77,
    "start_time": "2022-07-26T17:58:38.203Z"
   },
   {
    "duration": 63,
    "start_time": "2022-07-26T18:01:20.448Z"
   },
   {
    "duration": 12,
    "start_time": "2022-07-26T18:04:06.379Z"
   },
   {
    "duration": 18,
    "start_time": "2022-07-26T18:11:43.248Z"
   },
   {
    "duration": 17,
    "start_time": "2022-07-26T18:12:36.331Z"
   },
   {
    "duration": 310,
    "start_time": "2022-07-26T18:12:53.668Z"
   },
   {
    "duration": 13,
    "start_time": "2022-07-26T18:13:03.253Z"
   },
   {
    "duration": 124,
    "start_time": "2022-07-26T18:13:17.575Z"
   },
   {
    "duration": 59,
    "start_time": "2022-07-26T18:14:12.122Z"
   },
   {
    "duration": 11,
    "start_time": "2022-07-26T18:14:25.428Z"
   },
   {
    "duration": 45,
    "start_time": "2022-07-26T18:14:45.040Z"
   },
   {
    "duration": 4,
    "start_time": "2022-07-26T18:15:04.454Z"
   },
   {
    "duration": 160,
    "start_time": "2022-07-26T18:15:04.470Z"
   },
   {
    "duration": 5,
    "start_time": "2022-07-26T18:15:04.632Z"
   },
   {
    "duration": 10,
    "start_time": "2022-07-26T18:15:04.639Z"
   },
   {
    "duration": 9,
    "start_time": "2022-07-26T18:15:04.651Z"
   },
   {
    "duration": 11,
    "start_time": "2022-07-26T18:15:04.662Z"
   },
   {
    "duration": 331,
    "start_time": "2022-07-26T18:15:04.675Z"
   },
   {
    "duration": 15,
    "start_time": "2022-07-26T18:15:05.008Z"
   },
   {
    "duration": 94,
    "start_time": "2022-07-26T18:15:05.026Z"
   },
   {
    "duration": 32,
    "start_time": "2022-07-26T18:15:05.122Z"
   },
   {
    "duration": 71,
    "start_time": "2022-07-26T18:15:05.159Z"
   },
   {
    "duration": 62,
    "start_time": "2022-07-26T18:15:05.232Z"
   },
   {
    "duration": 62,
    "start_time": "2022-07-26T18:15:05.296Z"
   },
   {
    "duration": 96,
    "start_time": "2022-07-26T18:15:05.361Z"
   },
   {
    "duration": 13,
    "start_time": "2022-07-26T18:15:05.459Z"
   },
   {
    "duration": 39,
    "start_time": "2022-07-26T18:15:05.475Z"
   },
   {
    "duration": 38,
    "start_time": "2022-07-26T18:15:05.516Z"
   },
   {
    "duration": 10,
    "start_time": "2022-07-26T18:15:05.560Z"
   },
   {
    "duration": 22,
    "start_time": "2022-07-26T18:15:05.572Z"
   },
   {
    "duration": 599,
    "start_time": "2022-07-26T18:15:05.596Z"
   },
   {
    "duration": 41,
    "start_time": "2022-07-26T18:15:06.196Z"
   },
   {
    "duration": 28,
    "start_time": "2022-07-26T18:15:06.239Z"
   },
   {
    "duration": 9,
    "start_time": "2022-07-26T18:15:06.270Z"
   },
   {
    "duration": 51,
    "start_time": "2022-07-26T18:15:06.281Z"
   },
   {
    "duration": 114,
    "start_time": "2022-07-26T18:15:06.334Z"
   },
   {
    "duration": 21,
    "start_time": "2022-07-26T18:15:06.450Z"
   },
   {
    "duration": 7,
    "start_time": "2022-07-26T18:15:06.473Z"
   },
   {
    "duration": 353,
    "start_time": "2022-07-26T18:15:06.482Z"
   },
   {
    "duration": 8,
    "start_time": "2022-07-26T18:15:06.841Z"
   },
   {
    "duration": 48,
    "start_time": "2022-07-26T18:15:06.851Z"
   },
   {
    "duration": 341,
    "start_time": "2022-07-26T18:15:06.902Z"
   },
   {
    "duration": 214,
    "start_time": "2022-07-26T18:15:07.245Z"
   },
   {
    "duration": 18,
    "start_time": "2022-07-26T18:15:07.461Z"
   },
   {
    "duration": 33,
    "start_time": "2022-07-26T18:15:07.481Z"
   },
   {
    "duration": 49,
    "start_time": "2022-07-26T18:15:07.516Z"
   },
   {
    "duration": 40,
    "start_time": "2022-07-26T18:15:07.567Z"
   },
   {
    "duration": 22,
    "start_time": "2022-07-26T18:15:07.610Z"
   },
   {
    "duration": 409,
    "start_time": "2022-07-26T18:15:07.634Z"
   },
   {
    "duration": 16,
    "start_time": "2022-07-26T18:15:08.045Z"
   },
   {
    "duration": 145,
    "start_time": "2022-07-26T18:15:08.063Z"
   },
   {
    "duration": 5,
    "start_time": "2022-07-26T18:15:08.209Z"
   },
   {
    "duration": 66,
    "start_time": "2022-07-26T18:15:08.215Z"
   },
   {
    "duration": 19,
    "start_time": "2022-07-26T18:15:08.283Z"
   },
   {
    "duration": 57,
    "start_time": "2022-07-26T18:15:08.304Z"
   },
   {
    "duration": 19,
    "start_time": "2022-07-26T18:15:08.363Z"
   },
   {
    "duration": 45,
    "start_time": "2022-07-26T18:15:08.385Z"
   },
   {
    "duration": 41,
    "start_time": "2022-07-26T18:15:08.432Z"
   },
   {
    "duration": 311,
    "start_time": "2022-07-26T18:15:08.474Z"
   },
   {
    "duration": 45,
    "start_time": "2022-07-26T18:15:08.787Z"
   },
   {
    "duration": 724,
    "start_time": "2022-07-26T18:15:08.835Z"
   },
   {
    "duration": 394,
    "start_time": "2022-07-26T18:15:09.561Z"
   },
   {
    "duration": 10,
    "start_time": "2022-07-26T18:15:09.957Z"
   },
   {
    "duration": 33,
    "start_time": "2022-07-26T18:15:09.968Z"
   },
   {
    "duration": 0,
    "start_time": "2022-07-26T18:15:10.003Z"
   },
   {
    "duration": 0,
    "start_time": "2022-07-26T18:15:10.005Z"
   },
   {
    "duration": 0,
    "start_time": "2022-07-26T18:15:10.006Z"
   },
   {
    "duration": 0,
    "start_time": "2022-07-26T18:15:10.008Z"
   },
   {
    "duration": 0,
    "start_time": "2022-07-26T18:15:10.024Z"
   },
   {
    "duration": 0,
    "start_time": "2022-07-26T18:15:10.025Z"
   },
   {
    "duration": 0,
    "start_time": "2022-07-26T18:15:10.026Z"
   },
   {
    "duration": 0,
    "start_time": "2022-07-26T18:15:10.028Z"
   },
   {
    "duration": 0,
    "start_time": "2022-07-26T18:15:10.029Z"
   },
   {
    "duration": 13,
    "start_time": "2022-07-26T19:14:15.508Z"
   },
   {
    "duration": 33,
    "start_time": "2022-07-26T19:14:53.283Z"
   },
   {
    "duration": 91,
    "start_time": "2022-07-26T19:15:20.447Z"
   },
   {
    "duration": 2,
    "start_time": "2022-07-26T19:16:18.747Z"
   },
   {
    "duration": 96,
    "start_time": "2022-07-26T19:16:18.762Z"
   },
   {
    "duration": 6,
    "start_time": "2022-07-26T19:16:18.860Z"
   },
   {
    "duration": 40,
    "start_time": "2022-07-26T19:16:18.868Z"
   },
   {
    "duration": 15,
    "start_time": "2022-07-26T19:16:18.911Z"
   },
   {
    "duration": 23,
    "start_time": "2022-07-26T19:16:18.928Z"
   },
   {
    "duration": 292,
    "start_time": "2022-07-26T19:16:18.953Z"
   },
   {
    "duration": 7,
    "start_time": "2022-07-26T19:16:19.247Z"
   },
   {
    "duration": 79,
    "start_time": "2022-07-26T19:16:19.256Z"
   },
   {
    "duration": 22,
    "start_time": "2022-07-26T19:16:19.337Z"
   },
   {
    "duration": 64,
    "start_time": "2022-07-26T19:16:19.362Z"
   },
   {
    "duration": 39,
    "start_time": "2022-07-26T19:16:19.428Z"
   },
   {
    "duration": 27,
    "start_time": "2022-07-26T19:16:19.469Z"
   },
   {
    "duration": 51,
    "start_time": "2022-07-26T19:16:19.524Z"
   },
   {
    "duration": 13,
    "start_time": "2022-07-26T19:16:19.576Z"
   },
   {
    "duration": 47,
    "start_time": "2022-07-26T19:16:19.591Z"
   },
   {
    "duration": 24,
    "start_time": "2022-07-26T19:16:19.640Z"
   },
   {
    "duration": 4,
    "start_time": "2022-07-26T19:16:19.665Z"
   },
   {
    "duration": 13,
    "start_time": "2022-07-26T19:16:19.671Z"
   },
   {
    "duration": 389,
    "start_time": "2022-07-26T19:16:19.686Z"
   },
   {
    "duration": 30,
    "start_time": "2022-07-26T19:16:20.077Z"
   },
   {
    "duration": 34,
    "start_time": "2022-07-26T19:16:20.108Z"
   },
   {
    "duration": 9,
    "start_time": "2022-07-26T19:16:20.143Z"
   },
   {
    "duration": 48,
    "start_time": "2022-07-26T19:16:20.154Z"
   },
   {
    "duration": 103,
    "start_time": "2022-07-26T19:16:20.205Z"
   },
   {
    "duration": 33,
    "start_time": "2022-07-26T19:16:20.309Z"
   },
   {
    "duration": 7,
    "start_time": "2022-07-26T19:16:20.343Z"
   },
   {
    "duration": 354,
    "start_time": "2022-07-26T19:16:20.352Z"
   },
   {
    "duration": 14,
    "start_time": "2022-07-26T19:16:20.710Z"
   },
   {
    "duration": 21,
    "start_time": "2022-07-26T19:16:20.726Z"
   },
   {
    "duration": 357,
    "start_time": "2022-07-26T19:16:20.748Z"
   },
   {
    "duration": 221,
    "start_time": "2022-07-26T19:16:21.107Z"
   },
   {
    "duration": 13,
    "start_time": "2022-07-26T19:16:21.330Z"
   },
   {
    "duration": 7,
    "start_time": "2022-07-26T19:16:21.344Z"
   },
   {
    "duration": 16,
    "start_time": "2022-07-26T19:16:21.353Z"
   },
   {
    "duration": 72,
    "start_time": "2022-07-26T19:16:21.370Z"
   },
   {
    "duration": 58,
    "start_time": "2022-07-26T19:16:21.443Z"
   },
   {
    "duration": 32,
    "start_time": "2022-07-26T19:16:21.503Z"
   },
   {
    "duration": 423,
    "start_time": "2022-07-26T19:16:21.537Z"
   },
   {
    "duration": 13,
    "start_time": "2022-07-26T19:16:21.961Z"
   },
   {
    "duration": 136,
    "start_time": "2022-07-26T19:16:21.975Z"
   },
   {
    "duration": 10,
    "start_time": "2022-07-26T19:16:22.113Z"
   },
   {
    "duration": 89,
    "start_time": "2022-07-26T19:16:22.125Z"
   },
   {
    "duration": 15,
    "start_time": "2022-07-26T19:16:22.216Z"
   },
   {
    "duration": 78,
    "start_time": "2022-07-26T19:16:22.232Z"
   },
   {
    "duration": 18,
    "start_time": "2022-07-26T19:16:22.324Z"
   },
   {
    "duration": 70,
    "start_time": "2022-07-26T19:16:22.343Z"
   },
   {
    "duration": 101,
    "start_time": "2022-07-26T19:16:22.423Z"
   },
   {
    "duration": 287,
    "start_time": "2022-07-26T19:16:22.526Z"
   },
   {
    "duration": 30,
    "start_time": "2022-07-26T19:16:22.815Z"
   },
   {
    "duration": 445,
    "start_time": "2022-07-26T19:16:22.846Z"
   },
   {
    "duration": 386,
    "start_time": "2022-07-26T19:16:23.293Z"
   },
   {
    "duration": 94,
    "start_time": "2022-07-26T19:16:23.681Z"
   },
   {
    "duration": 0,
    "start_time": "2022-07-26T19:16:23.777Z"
   },
   {
    "duration": 0,
    "start_time": "2022-07-26T19:16:23.778Z"
   },
   {
    "duration": 0,
    "start_time": "2022-07-26T19:16:23.779Z"
   },
   {
    "duration": 0,
    "start_time": "2022-07-26T19:16:23.781Z"
   },
   {
    "duration": 0,
    "start_time": "2022-07-26T19:16:23.782Z"
   },
   {
    "duration": 0,
    "start_time": "2022-07-26T19:16:23.784Z"
   },
   {
    "duration": 0,
    "start_time": "2022-07-26T19:16:23.785Z"
   },
   {
    "duration": 0,
    "start_time": "2022-07-26T19:16:23.786Z"
   },
   {
    "duration": 0,
    "start_time": "2022-07-26T19:16:23.788Z"
   },
   {
    "duration": 117,
    "start_time": "2022-07-26T19:23:48.858Z"
   },
   {
    "duration": 91,
    "start_time": "2022-07-26T19:26:36.374Z"
   },
   {
    "duration": 91,
    "start_time": "2022-07-26T19:26:56.527Z"
   },
   {
    "duration": 3,
    "start_time": "2022-07-26T19:27:19.325Z"
   },
   {
    "duration": 45,
    "start_time": "2022-07-26T19:27:19.341Z"
   },
   {
    "duration": 4,
    "start_time": "2022-07-26T19:27:19.388Z"
   },
   {
    "duration": 6,
    "start_time": "2022-07-26T19:27:19.394Z"
   },
   {
    "duration": 14,
    "start_time": "2022-07-26T19:27:19.402Z"
   },
   {
    "duration": 7,
    "start_time": "2022-07-26T19:27:19.418Z"
   },
   {
    "duration": 177,
    "start_time": "2022-07-26T19:27:19.427Z"
   },
   {
    "duration": 5,
    "start_time": "2022-07-26T19:27:19.606Z"
   },
   {
    "duration": 55,
    "start_time": "2022-07-26T19:27:19.624Z"
   },
   {
    "duration": 19,
    "start_time": "2022-07-26T19:27:19.681Z"
   },
   {
    "duration": 37,
    "start_time": "2022-07-26T19:27:19.725Z"
   },
   {
    "duration": 61,
    "start_time": "2022-07-26T19:27:19.763Z"
   },
   {
    "duration": 27,
    "start_time": "2022-07-26T19:27:19.827Z"
   },
   {
    "duration": 78,
    "start_time": "2022-07-26T19:27:19.856Z"
   },
   {
    "duration": 14,
    "start_time": "2022-07-26T19:27:19.935Z"
   },
   {
    "duration": 18,
    "start_time": "2022-07-26T19:27:19.951Z"
   },
   {
    "duration": 26,
    "start_time": "2022-07-26T19:27:19.970Z"
   },
   {
    "duration": 6,
    "start_time": "2022-07-26T19:27:20.024Z"
   },
   {
    "duration": 24,
    "start_time": "2022-07-26T19:27:20.031Z"
   },
   {
    "duration": 352,
    "start_time": "2022-07-26T19:27:20.057Z"
   },
   {
    "duration": 31,
    "start_time": "2022-07-26T19:27:20.411Z"
   },
   {
    "duration": 23,
    "start_time": "2022-07-26T19:27:20.446Z"
   },
   {
    "duration": 6,
    "start_time": "2022-07-26T19:27:20.471Z"
   },
   {
    "duration": 163,
    "start_time": "2022-07-26T19:27:20.479Z"
   },
   {
    "duration": 79,
    "start_time": "2022-07-26T19:27:20.644Z"
   },
   {
    "duration": 19,
    "start_time": "2022-07-26T19:27:20.725Z"
   },
   {
    "duration": 5,
    "start_time": "2022-07-26T19:27:20.746Z"
   },
   {
    "duration": 318,
    "start_time": "2022-07-26T19:27:20.753Z"
   },
   {
    "duration": 8,
    "start_time": "2022-07-26T19:27:21.073Z"
   },
   {
    "duration": 28,
    "start_time": "2022-07-26T19:27:21.083Z"
   },
   {
    "duration": 314,
    "start_time": "2022-07-26T19:27:21.112Z"
   },
   {
    "duration": 211,
    "start_time": "2022-07-26T19:27:21.428Z"
   },
   {
    "duration": 13,
    "start_time": "2022-07-26T19:27:21.641Z"
   },
   {
    "duration": 20,
    "start_time": "2022-07-26T19:27:21.656Z"
   },
   {
    "duration": 30,
    "start_time": "2022-07-26T19:27:21.678Z"
   },
   {
    "duration": 32,
    "start_time": "2022-07-26T19:27:21.710Z"
   },
   {
    "duration": 17,
    "start_time": "2022-07-26T19:27:21.744Z"
   },
   {
    "duration": 304,
    "start_time": "2022-07-26T19:27:21.763Z"
   },
   {
    "duration": 13,
    "start_time": "2022-07-26T19:27:22.068Z"
   },
   {
    "duration": 127,
    "start_time": "2022-07-26T19:27:22.083Z"
   },
   {
    "duration": 3,
    "start_time": "2022-07-26T19:27:22.212Z"
   },
   {
    "duration": 50,
    "start_time": "2022-07-26T19:27:22.224Z"
   },
   {
    "duration": 11,
    "start_time": "2022-07-26T19:27:22.275Z"
   },
   {
    "duration": 59,
    "start_time": "2022-07-26T19:27:22.288Z"
   },
   {
    "duration": 10,
    "start_time": "2022-07-26T19:27:22.348Z"
   },
   {
    "duration": 40,
    "start_time": "2022-07-26T19:27:22.360Z"
   },
   {
    "duration": 52,
    "start_time": "2022-07-26T19:27:22.401Z"
   },
   {
    "duration": 299,
    "start_time": "2022-07-26T19:27:22.455Z"
   },
   {
    "duration": 27,
    "start_time": "2022-07-26T19:27:22.756Z"
   },
   {
    "duration": 574,
    "start_time": "2022-07-26T19:27:22.785Z"
   },
   {
    "duration": 363,
    "start_time": "2022-07-26T19:27:23.360Z"
   },
   {
    "duration": 13,
    "start_time": "2022-07-26T19:27:23.725Z"
   },
   {
    "duration": 0,
    "start_time": "2022-07-26T19:27:23.740Z"
   },
   {
    "duration": 0,
    "start_time": "2022-07-26T19:27:23.741Z"
   },
   {
    "duration": 0,
    "start_time": "2022-07-26T19:27:23.742Z"
   },
   {
    "duration": 0,
    "start_time": "2022-07-26T19:27:23.743Z"
   },
   {
    "duration": 0,
    "start_time": "2022-07-26T19:27:23.744Z"
   },
   {
    "duration": 0,
    "start_time": "2022-07-26T19:27:23.746Z"
   },
   {
    "duration": 0,
    "start_time": "2022-07-26T19:27:23.747Z"
   },
   {
    "duration": 0,
    "start_time": "2022-07-26T19:27:23.748Z"
   },
   {
    "duration": 0,
    "start_time": "2022-07-26T19:27:23.749Z"
   },
   {
    "duration": 27,
    "start_time": "2022-07-26T19:34:04.711Z"
   },
   {
    "duration": 17,
    "start_time": "2022-07-26T19:34:51.409Z"
   },
   {
    "duration": 16,
    "start_time": "2022-07-26T19:35:29.282Z"
   },
   {
    "duration": 18,
    "start_time": "2022-07-26T19:36:16.522Z"
   },
   {
    "duration": 30,
    "start_time": "2022-07-26T19:37:54.103Z"
   },
   {
    "duration": 28,
    "start_time": "2022-07-26T19:39:19.306Z"
   },
   {
    "duration": 5,
    "start_time": "2022-07-26T19:39:32.558Z"
   },
   {
    "duration": 286,
    "start_time": "2022-07-26T19:40:15.389Z"
   },
   {
    "duration": 32,
    "start_time": "2022-07-26T19:40:33.478Z"
   },
   {
    "duration": 44,
    "start_time": "2022-07-26T19:45:30.406Z"
   },
   {
    "duration": 3,
    "start_time": "2022-07-26T19:45:46.272Z"
   },
   {
    "duration": 572,
    "start_time": "2022-07-26T19:45:46.288Z"
   },
   {
    "duration": 5,
    "start_time": "2022-07-26T19:45:46.862Z"
   },
   {
    "duration": 7,
    "start_time": "2022-07-26T19:45:46.870Z"
   },
   {
    "duration": 8,
    "start_time": "2022-07-26T19:45:46.879Z"
   },
   {
    "duration": 12,
    "start_time": "2022-07-26T19:45:46.888Z"
   },
   {
    "duration": 405,
    "start_time": "2022-07-26T19:45:46.901Z"
   },
   {
    "duration": 6,
    "start_time": "2022-07-26T19:45:47.308Z"
   },
   {
    "duration": 52,
    "start_time": "2022-07-26T19:45:47.323Z"
   },
   {
    "duration": 19,
    "start_time": "2022-07-26T19:45:47.377Z"
   },
   {
    "duration": 35,
    "start_time": "2022-07-26T19:45:47.425Z"
   },
   {
    "duration": 36,
    "start_time": "2022-07-26T19:45:47.462Z"
   },
   {
    "duration": 46,
    "start_time": "2022-07-26T19:45:47.500Z"
   },
   {
    "duration": 51,
    "start_time": "2022-07-26T19:45:47.548Z"
   },
   {
    "duration": 32,
    "start_time": "2022-07-26T19:45:47.600Z"
   },
   {
    "duration": 27,
    "start_time": "2022-07-26T19:45:47.634Z"
   },
   {
    "duration": 34,
    "start_time": "2022-07-26T19:45:47.663Z"
   },
   {
    "duration": 7,
    "start_time": "2022-07-26T19:45:47.722Z"
   },
   {
    "duration": 23,
    "start_time": "2022-07-26T19:45:47.731Z"
   },
   {
    "duration": 367,
    "start_time": "2022-07-26T19:45:47.756Z"
   },
   {
    "duration": 30,
    "start_time": "2022-07-26T19:45:48.125Z"
   },
   {
    "duration": 23,
    "start_time": "2022-07-26T19:45:48.157Z"
   },
   {
    "duration": 8,
    "start_time": "2022-07-26T19:45:48.182Z"
   },
   {
    "duration": 52,
    "start_time": "2022-07-26T19:45:48.192Z"
   },
   {
    "duration": 85,
    "start_time": "2022-07-26T19:45:48.246Z"
   },
   {
    "duration": 20,
    "start_time": "2022-07-26T19:45:48.334Z"
   },
   {
    "duration": 6,
    "start_time": "2022-07-26T19:45:48.357Z"
   },
   {
    "duration": 332,
    "start_time": "2022-07-26T19:45:48.365Z"
   },
   {
    "duration": 8,
    "start_time": "2022-07-26T19:45:48.702Z"
   },
   {
    "duration": 27,
    "start_time": "2022-07-26T19:45:48.712Z"
   },
   {
    "duration": 407,
    "start_time": "2022-07-26T19:45:48.741Z"
   },
   {
    "duration": 334,
    "start_time": "2022-07-26T19:45:49.150Z"
   },
   {
    "duration": 14,
    "start_time": "2022-07-26T19:45:49.486Z"
   },
   {
    "duration": 22,
    "start_time": "2022-07-26T19:45:49.501Z"
   },
   {
    "duration": 16,
    "start_time": "2022-07-26T19:45:49.525Z"
   },
   {
    "duration": 39,
    "start_time": "2022-07-26T19:45:49.543Z"
   },
   {
    "duration": 21,
    "start_time": "2022-07-26T19:45:49.584Z"
   },
   {
    "duration": 356,
    "start_time": "2022-07-26T19:45:49.623Z"
   },
   {
    "duration": 12,
    "start_time": "2022-07-26T19:45:49.981Z"
   },
   {
    "duration": 130,
    "start_time": "2022-07-26T19:45:49.995Z"
   },
   {
    "duration": 3,
    "start_time": "2022-07-26T19:45:50.128Z"
   },
   {
    "duration": 105,
    "start_time": "2022-07-26T19:45:50.134Z"
   },
   {
    "duration": 13,
    "start_time": "2022-07-26T19:45:50.241Z"
   },
   {
    "duration": 39,
    "start_time": "2022-07-26T19:45:50.257Z"
   },
   {
    "duration": 842,
    "start_time": "2022-07-26T19:45:50.324Z"
   },
   {
    "duration": 0,
    "start_time": "2022-07-26T19:45:51.168Z"
   },
   {
    "duration": 0,
    "start_time": "2022-07-26T19:45:51.169Z"
   },
   {
    "duration": 0,
    "start_time": "2022-07-26T19:45:51.170Z"
   },
   {
    "duration": 0,
    "start_time": "2022-07-26T19:45:51.171Z"
   },
   {
    "duration": 0,
    "start_time": "2022-07-26T19:45:51.172Z"
   },
   {
    "duration": 0,
    "start_time": "2022-07-26T19:45:51.174Z"
   },
   {
    "duration": 0,
    "start_time": "2022-07-26T19:45:51.175Z"
   },
   {
    "duration": 0,
    "start_time": "2022-07-26T19:45:51.176Z"
   },
   {
    "duration": 0,
    "start_time": "2022-07-26T19:45:51.177Z"
   },
   {
    "duration": 0,
    "start_time": "2022-07-26T19:45:51.179Z"
   },
   {
    "duration": 0,
    "start_time": "2022-07-26T19:45:51.180Z"
   },
   {
    "duration": 0,
    "start_time": "2022-07-26T19:45:51.181Z"
   },
   {
    "duration": 0,
    "start_time": "2022-07-26T19:45:51.182Z"
   },
   {
    "duration": 0,
    "start_time": "2022-07-26T19:45:51.183Z"
   },
   {
    "duration": 0,
    "start_time": "2022-07-26T19:45:51.184Z"
   },
   {
    "duration": 75,
    "start_time": "2022-07-26T19:46:57.090Z"
   },
   {
    "duration": 3,
    "start_time": "2022-07-26T19:47:19.719Z"
   },
   {
    "duration": 124,
    "start_time": "2022-07-26T19:47:19.753Z"
   },
   {
    "duration": 5,
    "start_time": "2022-07-26T19:47:19.879Z"
   },
   {
    "duration": 10,
    "start_time": "2022-07-26T19:47:19.886Z"
   },
   {
    "duration": 14,
    "start_time": "2022-07-26T19:47:19.898Z"
   },
   {
    "duration": 12,
    "start_time": "2022-07-26T19:47:19.914Z"
   },
   {
    "duration": 271,
    "start_time": "2022-07-26T19:47:19.927Z"
   },
   {
    "duration": 7,
    "start_time": "2022-07-26T19:47:20.200Z"
   },
   {
    "duration": 57,
    "start_time": "2022-07-26T19:47:20.225Z"
   },
   {
    "duration": 38,
    "start_time": "2022-07-26T19:47:20.286Z"
   },
   {
    "duration": 34,
    "start_time": "2022-07-26T19:47:20.326Z"
   },
   {
    "duration": 63,
    "start_time": "2022-07-26T19:47:20.361Z"
   },
   {
    "duration": 26,
    "start_time": "2022-07-26T19:47:20.425Z"
   },
   {
    "duration": 74,
    "start_time": "2022-07-26T19:47:20.452Z"
   },
   {
    "duration": 13,
    "start_time": "2022-07-26T19:47:20.528Z"
   },
   {
    "duration": 32,
    "start_time": "2022-07-26T19:47:20.542Z"
   },
   {
    "duration": 24,
    "start_time": "2022-07-26T19:47:20.576Z"
   },
   {
    "duration": 25,
    "start_time": "2022-07-26T19:47:20.601Z"
   },
   {
    "duration": 19,
    "start_time": "2022-07-26T19:47:20.628Z"
   },
   {
    "duration": 390,
    "start_time": "2022-07-26T19:47:20.649Z"
   },
   {
    "duration": 32,
    "start_time": "2022-07-26T19:47:21.041Z"
   },
   {
    "duration": 23,
    "start_time": "2022-07-26T19:47:21.074Z"
   },
   {
    "duration": 31,
    "start_time": "2022-07-26T19:47:21.099Z"
   },
   {
    "duration": 29,
    "start_time": "2022-07-26T19:47:21.134Z"
   },
   {
    "duration": 91,
    "start_time": "2022-07-26T19:47:21.165Z"
   },
   {
    "duration": 21,
    "start_time": "2022-07-26T19:47:21.258Z"
   },
   {
    "duration": 8,
    "start_time": "2022-07-26T19:47:21.281Z"
   },
   {
    "duration": 318,
    "start_time": "2022-07-26T19:47:21.290Z"
   },
   {
    "duration": 15,
    "start_time": "2022-07-26T19:47:21.610Z"
   },
   {
    "duration": 21,
    "start_time": "2022-07-26T19:47:21.627Z"
   },
   {
    "duration": 308,
    "start_time": "2022-07-26T19:47:21.649Z"
   },
   {
    "duration": 209,
    "start_time": "2022-07-26T19:47:21.958Z"
   },
   {
    "duration": 13,
    "start_time": "2022-07-26T19:47:22.169Z"
   },
   {
    "duration": 13,
    "start_time": "2022-07-26T19:47:22.184Z"
   },
   {
    "duration": 27,
    "start_time": "2022-07-26T19:47:22.199Z"
   },
   {
    "duration": 27,
    "start_time": "2022-07-26T19:47:22.228Z"
   },
   {
    "duration": 24,
    "start_time": "2022-07-26T19:47:22.256Z"
   },
   {
    "duration": 442,
    "start_time": "2022-07-26T19:47:22.282Z"
   },
   {
    "duration": 12,
    "start_time": "2022-07-26T19:47:22.725Z"
   },
   {
    "duration": 137,
    "start_time": "2022-07-26T19:47:22.739Z"
   },
   {
    "duration": 4,
    "start_time": "2022-07-26T19:47:22.877Z"
   },
   {
    "duration": 67,
    "start_time": "2022-07-26T19:47:22.883Z"
   },
   {
    "duration": 11,
    "start_time": "2022-07-26T19:47:22.951Z"
   },
   {
    "duration": 60,
    "start_time": "2022-07-26T19:47:22.964Z"
   },
   {
    "duration": 11,
    "start_time": "2022-07-26T19:47:23.026Z"
   },
   {
    "duration": 36,
    "start_time": "2022-07-26T19:47:23.039Z"
   },
   {
    "duration": 67,
    "start_time": "2022-07-26T19:47:23.076Z"
   },
   {
    "duration": 296,
    "start_time": "2022-07-26T19:47:23.145Z"
   },
   {
    "duration": 27,
    "start_time": "2022-07-26T19:47:23.443Z"
   },
   {
    "duration": 460,
    "start_time": "2022-07-26T19:47:23.472Z"
   },
   {
    "duration": 361,
    "start_time": "2022-07-26T19:47:23.934Z"
   },
   {
    "duration": 36,
    "start_time": "2022-07-26T19:47:24.298Z"
   },
   {
    "duration": 4,
    "start_time": "2022-07-26T19:47:24.336Z"
   },
   {
    "duration": 296,
    "start_time": "2022-07-26T19:47:24.342Z"
   },
   {
    "duration": 155,
    "start_time": "2022-07-26T19:47:24.640Z"
   },
   {
    "duration": 0,
    "start_time": "2022-07-26T19:47:24.798Z"
   },
   {
    "duration": 0,
    "start_time": "2022-07-26T19:47:24.799Z"
   },
   {
    "duration": 0,
    "start_time": "2022-07-26T19:47:24.801Z"
   },
   {
    "duration": 0,
    "start_time": "2022-07-26T19:47:24.802Z"
   },
   {
    "duration": 0,
    "start_time": "2022-07-26T19:47:24.804Z"
   },
   {
    "duration": 35,
    "start_time": "2022-07-26T19:50:37.723Z"
   },
   {
    "duration": 34,
    "start_time": "2022-07-26T19:51:10.209Z"
   },
   {
    "duration": 36,
    "start_time": "2022-07-26T19:52:18.824Z"
   },
   {
    "duration": 21,
    "start_time": "2022-07-26T19:52:52.612Z"
   },
   {
    "duration": 19,
    "start_time": "2022-07-26T19:55:09.440Z"
   },
   {
    "duration": 21,
    "start_time": "2022-07-26T19:56:37.183Z"
   },
   {
    "duration": 23,
    "start_time": "2022-07-26T19:57:50.142Z"
   },
   {
    "duration": 30,
    "start_time": "2022-07-26T19:58:24.487Z"
   },
   {
    "duration": 6,
    "start_time": "2022-07-26T19:59:34.917Z"
   },
   {
    "duration": 279,
    "start_time": "2022-07-26T19:59:40.091Z"
   },
   {
    "duration": 346,
    "start_time": "2022-07-26T19:59:46.967Z"
   },
   {
    "duration": 193,
    "start_time": "2022-07-26T20:00:01.887Z"
   },
   {
    "duration": 204,
    "start_time": "2022-07-26T20:00:12.782Z"
   },
   {
    "duration": 179,
    "start_time": "2022-07-26T20:00:23.304Z"
   },
   {
    "duration": 210,
    "start_time": "2022-07-26T20:00:45.908Z"
   },
   {
    "duration": 178,
    "start_time": "2022-07-26T20:00:59.452Z"
   },
   {
    "duration": 30,
    "start_time": "2022-07-26T20:04:08.569Z"
   },
   {
    "duration": 8,
    "start_time": "2022-07-26T20:06:36.422Z"
   },
   {
    "duration": 8,
    "start_time": "2022-07-26T20:07:12.561Z"
   },
   {
    "duration": 359,
    "start_time": "2022-07-26T20:12:41.032Z"
   },
   {
    "duration": 468,
    "start_time": "2022-07-26T20:13:24.719Z"
   },
   {
    "duration": 199,
    "start_time": "2022-07-26T20:18:32.986Z"
   },
   {
    "duration": 194,
    "start_time": "2022-07-26T20:19:27.794Z"
   },
   {
    "duration": 191,
    "start_time": "2022-07-26T20:20:13.060Z"
   },
   {
    "duration": 204,
    "start_time": "2022-07-26T20:20:57.813Z"
   },
   {
    "duration": 183,
    "start_time": "2022-07-26T20:21:28.653Z"
   },
   {
    "duration": 42,
    "start_time": "2022-07-27T07:48:17.686Z"
   },
   {
    "duration": 1367,
    "start_time": "2022-07-27T07:48:30.050Z"
   },
   {
    "duration": 222,
    "start_time": "2022-07-27T07:48:31.419Z"
   },
   {
    "duration": 4,
    "start_time": "2022-07-27T07:48:31.643Z"
   },
   {
    "duration": 25,
    "start_time": "2022-07-27T07:48:31.650Z"
   },
   {
    "duration": 19,
    "start_time": "2022-07-27T07:48:31.677Z"
   },
   {
    "duration": 21,
    "start_time": "2022-07-27T07:48:31.698Z"
   },
   {
    "duration": 382,
    "start_time": "2022-07-27T07:48:31.721Z"
   },
   {
    "duration": 6,
    "start_time": "2022-07-27T07:48:32.104Z"
   },
   {
    "duration": 58,
    "start_time": "2022-07-27T07:48:32.111Z"
   },
   {
    "duration": 19,
    "start_time": "2022-07-27T07:48:32.172Z"
   },
   {
    "duration": 38,
    "start_time": "2022-07-27T07:48:32.193Z"
   },
   {
    "duration": 54,
    "start_time": "2022-07-27T07:48:32.232Z"
   },
   {
    "duration": 24,
    "start_time": "2022-07-27T07:48:32.287Z"
   },
   {
    "duration": 78,
    "start_time": "2022-07-27T07:48:32.313Z"
   },
   {
    "duration": 12,
    "start_time": "2022-07-27T07:48:32.393Z"
   },
   {
    "duration": 19,
    "start_time": "2022-07-27T07:48:32.407Z"
   },
   {
    "duration": 51,
    "start_time": "2022-07-27T07:48:32.427Z"
   },
   {
    "duration": 5,
    "start_time": "2022-07-27T07:48:32.479Z"
   },
   {
    "duration": 13,
    "start_time": "2022-07-27T07:48:32.485Z"
   },
   {
    "duration": 443,
    "start_time": "2022-07-27T07:48:32.500Z"
   },
   {
    "duration": 39,
    "start_time": "2022-07-27T07:48:32.944Z"
   },
   {
    "duration": 21,
    "start_time": "2022-07-27T07:48:32.984Z"
   },
   {
    "duration": 6,
    "start_time": "2022-07-27T07:48:33.007Z"
   },
   {
    "duration": 55,
    "start_time": "2022-07-27T07:48:33.015Z"
   },
   {
    "duration": 60,
    "start_time": "2022-07-27T07:48:33.072Z"
   },
   {
    "duration": 33,
    "start_time": "2022-07-27T07:48:33.134Z"
   },
   {
    "duration": 7,
    "start_time": "2022-07-27T07:48:33.170Z"
   },
   {
    "duration": 307,
    "start_time": "2022-07-27T07:48:33.183Z"
   },
   {
    "duration": 8,
    "start_time": "2022-07-27T07:48:33.492Z"
   },
   {
    "duration": 20,
    "start_time": "2022-07-27T07:48:33.501Z"
   },
   {
    "duration": 312,
    "start_time": "2022-07-27T07:48:33.523Z"
   },
   {
    "duration": 224,
    "start_time": "2022-07-27T07:48:33.837Z"
   },
   {
    "duration": 21,
    "start_time": "2022-07-27T07:48:34.063Z"
   },
   {
    "duration": 6,
    "start_time": "2022-07-27T07:48:34.087Z"
   },
   {
    "duration": 22,
    "start_time": "2022-07-27T07:48:34.095Z"
   },
   {
    "duration": 57,
    "start_time": "2022-07-27T07:48:34.119Z"
   },
   {
    "duration": 16,
    "start_time": "2022-07-27T07:48:34.177Z"
   },
   {
    "duration": 381,
    "start_time": "2022-07-27T07:48:34.194Z"
   },
   {
    "duration": 12,
    "start_time": "2022-07-27T07:48:34.577Z"
   },
   {
    "duration": 121,
    "start_time": "2022-07-27T07:48:34.591Z"
   },
   {
    "duration": 4,
    "start_time": "2022-07-27T07:48:34.713Z"
   },
   {
    "duration": 64,
    "start_time": "2022-07-27T07:48:34.718Z"
   },
   {
    "duration": 10,
    "start_time": "2022-07-27T07:48:34.784Z"
   },
   {
    "duration": 113,
    "start_time": "2022-07-27T07:48:34.796Z"
   },
   {
    "duration": 16,
    "start_time": "2022-07-27T07:48:34.911Z"
   },
   {
    "duration": 68,
    "start_time": "2022-07-27T07:48:34.928Z"
   },
   {
    "duration": 89,
    "start_time": "2022-07-27T07:48:34.997Z"
   },
   {
    "duration": 284,
    "start_time": "2022-07-27T07:48:35.088Z"
   },
   {
    "duration": 25,
    "start_time": "2022-07-27T07:48:35.374Z"
   },
   {
    "duration": 406,
    "start_time": "2022-07-27T07:48:35.401Z"
   },
   {
    "duration": 334,
    "start_time": "2022-07-27T07:48:35.809Z"
   },
   {
    "duration": 33,
    "start_time": "2022-07-27T07:48:36.145Z"
   },
   {
    "duration": 34,
    "start_time": "2022-07-27T07:48:36.180Z"
   },
   {
    "duration": 6,
    "start_time": "2022-07-27T07:48:36.216Z"
   },
   {
    "duration": 275,
    "start_time": "2022-07-27T07:48:36.223Z"
   },
   {
    "duration": 433,
    "start_time": "2022-07-27T07:48:36.500Z"
   },
   {
    "duration": 185,
    "start_time": "2022-07-27T07:48:36.935Z"
   },
   {
    "duration": 186,
    "start_time": "2022-07-27T07:48:37.121Z"
   },
   {
    "duration": 185,
    "start_time": "2022-07-27T07:48:37.308Z"
   },
   {
    "duration": 183,
    "start_time": "2022-07-27T07:48:37.494Z"
   },
   {
    "duration": 165,
    "start_time": "2022-07-27T07:48:37.679Z"
   },
   {
    "duration": 99,
    "start_time": "2022-07-27T08:00:27.716Z"
   },
   {
    "duration": 62,
    "start_time": "2022-07-27T08:01:12.764Z"
   },
   {
    "duration": 96,
    "start_time": "2022-07-27T08:01:25.169Z"
   },
   {
    "duration": 17,
    "start_time": "2022-07-27T08:01:39.977Z"
   },
   {
    "duration": 54,
    "start_time": "2022-07-27T08:01:39.996Z"
   },
   {
    "duration": 20,
    "start_time": "2022-07-27T08:01:40.052Z"
   },
   {
    "duration": 0,
    "start_time": "2022-07-27T08:01:40.074Z"
   },
   {
    "duration": 0,
    "start_time": "2022-07-27T08:01:40.075Z"
   },
   {
    "duration": 0,
    "start_time": "2022-07-27T08:01:40.076Z"
   },
   {
    "duration": 408,
    "start_time": "2022-07-27T08:01:40.078Z"
   },
   {
    "duration": 330,
    "start_time": "2022-07-27T08:01:40.488Z"
   },
   {
    "duration": 19,
    "start_time": "2022-07-27T08:01:40.819Z"
   },
   {
    "duration": 47,
    "start_time": "2022-07-27T08:01:40.840Z"
   },
   {
    "duration": 7,
    "start_time": "2022-07-27T08:01:40.889Z"
   },
   {
    "duration": 395,
    "start_time": "2022-07-27T08:01:40.898Z"
   },
   {
    "duration": 345,
    "start_time": "2022-07-27T08:01:41.295Z"
   },
   {
    "duration": 192,
    "start_time": "2022-07-27T08:01:41.642Z"
   },
   {
    "duration": 187,
    "start_time": "2022-07-27T08:01:41.836Z"
   },
   {
    "duration": 221,
    "start_time": "2022-07-27T08:01:42.025Z"
   },
   {
    "duration": 184,
    "start_time": "2022-07-27T08:01:42.248Z"
   },
   {
    "duration": 180,
    "start_time": "2022-07-27T08:01:42.434Z"
   },
   {
    "duration": 4,
    "start_time": "2022-07-27T08:02:24.732Z"
   },
   {
    "duration": 93,
    "start_time": "2022-07-27T08:02:24.744Z"
   },
   {
    "duration": 6,
    "start_time": "2022-07-27T08:02:24.839Z"
   },
   {
    "duration": 29,
    "start_time": "2022-07-27T08:02:24.846Z"
   },
   {
    "duration": 9,
    "start_time": "2022-07-27T08:02:24.878Z"
   },
   {
    "duration": 8,
    "start_time": "2022-07-27T08:02:24.889Z"
   },
   {
    "duration": 473,
    "start_time": "2022-07-27T08:02:24.899Z"
   },
   {
    "duration": 7,
    "start_time": "2022-07-27T08:02:25.374Z"
   },
   {
    "duration": 93,
    "start_time": "2022-07-27T08:02:25.383Z"
   },
   {
    "duration": 30,
    "start_time": "2022-07-27T08:02:25.479Z"
   },
   {
    "duration": 72,
    "start_time": "2022-07-27T08:02:25.513Z"
   },
   {
    "duration": 37,
    "start_time": "2022-07-27T08:02:25.588Z"
   },
   {
    "duration": 50,
    "start_time": "2022-07-27T08:02:25.627Z"
   },
   {
    "duration": 45,
    "start_time": "2022-07-27T08:02:25.679Z"
   },
   {
    "duration": 35,
    "start_time": "2022-07-27T08:02:25.726Z"
   },
   {
    "duration": 21,
    "start_time": "2022-07-27T08:02:25.762Z"
   },
   {
    "duration": 36,
    "start_time": "2022-07-27T08:02:25.786Z"
   },
   {
    "duration": 5,
    "start_time": "2022-07-27T08:02:25.823Z"
   },
   {
    "duration": 28,
    "start_time": "2022-07-27T08:02:25.853Z"
   },
   {
    "duration": 362,
    "start_time": "2022-07-27T08:02:25.883Z"
   },
   {
    "duration": 43,
    "start_time": "2022-07-27T08:02:26.257Z"
   },
   {
    "duration": 31,
    "start_time": "2022-07-27T08:02:26.303Z"
   },
   {
    "duration": 26,
    "start_time": "2022-07-27T08:02:26.335Z"
   },
   {
    "duration": 30,
    "start_time": "2022-07-27T08:02:26.363Z"
   },
   {
    "duration": 105,
    "start_time": "2022-07-27T08:02:26.395Z"
   },
   {
    "duration": 18,
    "start_time": "2022-07-27T08:02:26.502Z"
   },
   {
    "duration": 5,
    "start_time": "2022-07-27T08:02:26.522Z"
   },
   {
    "duration": 418,
    "start_time": "2022-07-27T08:02:26.528Z"
   },
   {
    "duration": 17,
    "start_time": "2022-07-27T08:02:26.953Z"
   },
   {
    "duration": 21,
    "start_time": "2022-07-27T08:02:26.972Z"
   },
   {
    "duration": 280,
    "start_time": "2022-07-27T08:02:26.995Z"
   },
   {
    "duration": 206,
    "start_time": "2022-07-27T08:02:27.277Z"
   },
   {
    "duration": 20,
    "start_time": "2022-07-27T08:02:27.485Z"
   },
   {
    "duration": 5,
    "start_time": "2022-07-27T08:02:27.507Z"
   },
   {
    "duration": 57,
    "start_time": "2022-07-27T08:02:27.514Z"
   },
   {
    "duration": 27,
    "start_time": "2022-07-27T08:02:27.573Z"
   },
   {
    "duration": 22,
    "start_time": "2022-07-27T08:02:27.602Z"
   },
   {
    "duration": 298,
    "start_time": "2022-07-27T08:02:27.626Z"
   },
   {
    "duration": 12,
    "start_time": "2022-07-27T08:02:27.926Z"
   },
   {
    "duration": 107,
    "start_time": "2022-07-27T08:02:27.956Z"
   },
   {
    "duration": 4,
    "start_time": "2022-07-27T08:02:28.070Z"
   },
   {
    "duration": 47,
    "start_time": "2022-07-27T08:02:28.076Z"
   },
   {
    "duration": 12,
    "start_time": "2022-07-27T08:02:28.124Z"
   },
   {
    "duration": 53,
    "start_time": "2022-07-27T08:02:28.137Z"
   },
   {
    "duration": 14,
    "start_time": "2022-07-27T08:10:49.731Z"
   },
   {
    "duration": 31,
    "start_time": "2022-07-27T08:11:46.352Z"
   },
   {
    "duration": 37,
    "start_time": "2022-07-27T08:12:52.474Z"
   },
   {
    "duration": 40,
    "start_time": "2022-07-27T08:13:11.817Z"
   },
   {
    "duration": 36,
    "start_time": "2022-07-27T08:15:34.146Z"
   },
   {
    "duration": 86,
    "start_time": "2022-07-27T08:16:25.204Z"
   },
   {
    "duration": 29,
    "start_time": "2022-07-27T08:16:42.211Z"
   },
   {
    "duration": 36,
    "start_time": "2022-07-27T08:22:10.303Z"
   },
   {
    "duration": 26,
    "start_time": "2022-07-27T08:27:07.284Z"
   },
   {
    "duration": 34,
    "start_time": "2022-07-27T08:27:17.616Z"
   },
   {
    "duration": 17,
    "start_time": "2022-07-27T08:35:37.540Z"
   },
   {
    "duration": 18,
    "start_time": "2022-07-27T08:35:56.199Z"
   },
   {
    "duration": 27,
    "start_time": "2022-07-27T08:38:34.960Z"
   },
   {
    "duration": 16,
    "start_time": "2022-07-27T08:38:52.208Z"
   },
   {
    "duration": 23,
    "start_time": "2022-07-27T08:40:09.267Z"
   },
   {
    "duration": 18,
    "start_time": "2022-07-27T08:41:16.266Z"
   },
   {
    "duration": 28,
    "start_time": "2022-07-27T08:53:08.166Z"
   },
   {
    "duration": 27,
    "start_time": "2022-07-27T08:53:17.497Z"
   },
   {
    "duration": 2357,
    "start_time": "2022-07-27T08:55:03.044Z"
   },
   {
    "duration": 27,
    "start_time": "2022-07-27T08:55:20.817Z"
   },
   {
    "duration": 13,
    "start_time": "2022-07-27T09:11:29.033Z"
   },
   {
    "duration": 13,
    "start_time": "2022-07-27T09:13:58.470Z"
   },
   {
    "duration": 12,
    "start_time": "2022-07-27T09:15:52.532Z"
   },
   {
    "duration": 13,
    "start_time": "2022-07-27T09:15:58.096Z"
   },
   {
    "duration": 15,
    "start_time": "2022-07-27T09:16:03.959Z"
   },
   {
    "duration": 14,
    "start_time": "2022-07-27T09:16:08.675Z"
   },
   {
    "duration": 15,
    "start_time": "2022-07-27T09:16:14.509Z"
   },
   {
    "duration": 14,
    "start_time": "2022-07-27T09:18:45.377Z"
   },
   {
    "duration": 26,
    "start_time": "2022-07-27T09:19:59.172Z"
   },
   {
    "duration": 9,
    "start_time": "2022-07-27T09:23:04.941Z"
   },
   {
    "duration": 32,
    "start_time": "2022-07-27T09:28:27.739Z"
   },
   {
    "duration": 34,
    "start_time": "2022-07-27T10:17:46.408Z"
   },
   {
    "duration": 263,
    "start_time": "2022-07-27T10:18:10.940Z"
   },
   {
    "duration": 24,
    "start_time": "2022-07-27T10:20:01.056Z"
   },
   {
    "duration": 24,
    "start_time": "2022-07-27T10:25:19.408Z"
   },
   {
    "duration": 16,
    "start_time": "2022-07-27T10:45:25.703Z"
   },
   {
    "duration": 25,
    "start_time": "2022-07-27T10:46:32.457Z"
   },
   {
    "duration": 26,
    "start_time": "2022-07-27T10:47:37.837Z"
   },
   {
    "duration": 18,
    "start_time": "2022-07-27T11:13:05.675Z"
   },
   {
    "duration": 18,
    "start_time": "2022-07-27T11:13:10.214Z"
   },
   {
    "duration": 26,
    "start_time": "2022-07-27T11:13:17.648Z"
   },
   {
    "duration": 25,
    "start_time": "2022-07-27T11:25:54.049Z"
   },
   {
    "duration": 29,
    "start_time": "2022-07-27T11:26:34.422Z"
   },
   {
    "duration": 19,
    "start_time": "2022-07-27T11:27:05.828Z"
   },
   {
    "duration": 35,
    "start_time": "2022-07-27T11:27:24.627Z"
   },
   {
    "duration": 1265,
    "start_time": "2022-07-27T12:25:27.953Z"
   },
   {
    "duration": 13,
    "start_time": "2022-07-27T12:26:29.068Z"
   },
   {
    "duration": 10,
    "start_time": "2022-07-27T12:27:15.332Z"
   },
   {
    "duration": 10,
    "start_time": "2022-07-27T12:30:09.469Z"
   },
   {
    "duration": 23,
    "start_time": "2022-07-27T12:38:42.271Z"
   },
   {
    "duration": 24,
    "start_time": "2022-07-27T12:39:35.257Z"
   },
   {
    "duration": 9,
    "start_time": "2022-07-27T12:40:02.422Z"
   },
   {
    "duration": 26,
    "start_time": "2022-07-27T12:40:44.313Z"
   },
   {
    "duration": 8,
    "start_time": "2022-07-27T12:41:21.268Z"
   },
   {
    "duration": 26,
    "start_time": "2022-07-27T12:46:28.540Z"
   },
   {
    "duration": 23,
    "start_time": "2022-07-27T12:52:17.649Z"
   },
   {
    "duration": 365,
    "start_time": "2022-07-27T12:53:16.628Z"
   },
   {
    "duration": 10,
    "start_time": "2022-07-27T12:58:44.685Z"
   },
   {
    "duration": 11,
    "start_time": "2022-07-27T12:59:11.732Z"
   },
   {
    "duration": 1602,
    "start_time": "2022-07-27T13:01:01.504Z"
   },
   {
    "duration": 10,
    "start_time": "2022-07-27T13:02:04.395Z"
   },
   {
    "duration": 13,
    "start_time": "2022-07-27T13:03:42.001Z"
   },
   {
    "duration": 14,
    "start_time": "2022-07-27T13:05:10.108Z"
   },
   {
    "duration": 15,
    "start_time": "2022-07-27T13:06:12.107Z"
   },
   {
    "duration": 15,
    "start_time": "2022-07-27T13:06:29.049Z"
   },
   {
    "duration": 123,
    "start_time": "2022-07-27T13:07:25.669Z"
   },
   {
    "duration": 25,
    "start_time": "2022-07-27T13:08:18.473Z"
   },
   {
    "duration": 5,
    "start_time": "2022-07-27T13:08:29.807Z"
   },
   {
    "duration": 5,
    "start_time": "2022-07-27T13:09:06.898Z"
   },
   {
    "duration": 238,
    "start_time": "2022-07-27T13:09:55.351Z"
   },
   {
    "duration": 7,
    "start_time": "2022-07-27T14:28:19.055Z"
   },
   {
    "duration": 4,
    "start_time": "2022-07-27T14:28:34.675Z"
   },
   {
    "duration": 7,
    "start_time": "2022-07-27T14:28:40.506Z"
   },
   {
    "duration": 4,
    "start_time": "2022-07-27T14:29:10.843Z"
   },
   {
    "duration": 54,
    "start_time": "2022-07-27T14:29:16.318Z"
   },
   {
    "duration": 68,
    "start_time": "2022-07-27T14:30:22.779Z"
   },
   {
    "duration": 5,
    "start_time": "2022-07-27T14:54:12.461Z"
   },
   {
    "duration": 7,
    "start_time": "2022-07-27T16:07:50.034Z"
   },
   {
    "duration": 7,
    "start_time": "2022-07-27T17:05:14.678Z"
   },
   {
    "duration": 211,
    "start_time": "2022-07-27T17:13:06.156Z"
   },
   {
    "duration": 61,
    "start_time": "2022-07-27T17:23:46.311Z"
   },
   {
    "duration": 5,
    "start_time": "2022-07-27T17:25:59.704Z"
   },
   {
    "duration": 16,
    "start_time": "2022-07-27T17:51:09.073Z"
   },
   {
    "duration": 1482,
    "start_time": "2022-07-27T17:53:35.275Z"
   },
   {
    "duration": 14,
    "start_time": "2022-07-27T17:54:46.880Z"
   },
   {
    "duration": 48,
    "start_time": "2022-07-27T19:39:15.678Z"
   },
   {
    "duration": 4,
    "start_time": "2022-07-27T19:42:27.452Z"
   },
   {
    "duration": 70,
    "start_time": "2022-07-27T19:53:54.864Z"
   },
   {
    "duration": 10,
    "start_time": "2022-07-27T19:54:15.801Z"
   },
   {
    "duration": 32,
    "start_time": "2022-07-27T19:55:47.126Z"
   },
   {
    "duration": 327,
    "start_time": "2022-07-27T20:05:05.065Z"
   },
   {
    "duration": 15,
    "start_time": "2022-07-27T20:08:52.882Z"
   },
   {
    "duration": 1285,
    "start_time": "2022-07-28T09:40:48.100Z"
   },
   {
    "duration": 111,
    "start_time": "2022-07-28T09:40:49.387Z"
   },
   {
    "duration": 4,
    "start_time": "2022-07-28T09:40:49.499Z"
   },
   {
    "duration": 8,
    "start_time": "2022-07-28T09:40:49.505Z"
   },
   {
    "duration": 9,
    "start_time": "2022-07-28T09:40:49.514Z"
   },
   {
    "duration": 6,
    "start_time": "2022-07-28T09:40:49.524Z"
   },
   {
    "duration": 315,
    "start_time": "2022-07-28T09:40:49.531Z"
   },
   {
    "duration": 6,
    "start_time": "2022-07-28T09:40:49.847Z"
   },
   {
    "duration": 52,
    "start_time": "2022-07-28T09:40:49.854Z"
   },
   {
    "duration": 33,
    "start_time": "2022-07-28T09:40:49.909Z"
   },
   {
    "duration": 36,
    "start_time": "2022-07-28T09:40:49.943Z"
   },
   {
    "duration": 35,
    "start_time": "2022-07-28T09:40:49.980Z"
   },
   {
    "duration": 23,
    "start_time": "2022-07-28T09:40:50.036Z"
   },
   {
    "duration": 45,
    "start_time": "2022-07-28T09:40:50.060Z"
   },
   {
    "duration": 35,
    "start_time": "2022-07-28T09:40:50.106Z"
   },
   {
    "duration": 17,
    "start_time": "2022-07-28T09:40:50.142Z"
   },
   {
    "duration": 21,
    "start_time": "2022-07-28T09:40:50.161Z"
   },
   {
    "duration": 4,
    "start_time": "2022-07-28T09:40:50.183Z"
   },
   {
    "duration": 13,
    "start_time": "2022-07-28T09:40:50.188Z"
   },
   {
    "duration": 419,
    "start_time": "2022-07-28T09:40:50.203Z"
   },
   {
    "duration": 31,
    "start_time": "2022-07-28T09:40:50.623Z"
   },
   {
    "duration": 22,
    "start_time": "2022-07-28T09:40:50.656Z"
   },
   {
    "duration": 5,
    "start_time": "2022-07-28T09:40:50.679Z"
   },
   {
    "duration": 31,
    "start_time": "2022-07-28T09:40:50.686Z"
   },
   {
    "duration": 79,
    "start_time": "2022-07-28T09:40:50.719Z"
   },
   {
    "duration": 16,
    "start_time": "2022-07-28T09:40:50.800Z"
   },
   {
    "duration": 20,
    "start_time": "2022-07-28T09:40:50.817Z"
   },
   {
    "duration": 314,
    "start_time": "2022-07-28T09:40:50.841Z"
   },
   {
    "duration": 6,
    "start_time": "2022-07-28T09:40:51.157Z"
   },
   {
    "duration": 31,
    "start_time": "2022-07-28T09:40:51.165Z"
   },
   {
    "duration": 263,
    "start_time": "2022-07-28T09:40:51.198Z"
   },
   {
    "duration": 199,
    "start_time": "2022-07-28T09:40:51.463Z"
   },
   {
    "duration": 13,
    "start_time": "2022-07-28T09:40:51.664Z"
   },
   {
    "duration": 12,
    "start_time": "2022-07-28T09:40:51.679Z"
   },
   {
    "duration": 16,
    "start_time": "2022-07-28T09:40:51.693Z"
   },
   {
    "duration": 40,
    "start_time": "2022-07-28T09:40:51.711Z"
   },
   {
    "duration": 15,
    "start_time": "2022-07-28T09:40:51.752Z"
   },
   {
    "duration": 281,
    "start_time": "2022-07-28T09:40:51.768Z"
   },
   {
    "duration": 12,
    "start_time": "2022-07-28T09:40:52.051Z"
   },
   {
    "duration": 184,
    "start_time": "2022-07-28T09:40:52.065Z"
   },
   {
    "duration": 3,
    "start_time": "2022-07-28T09:40:52.251Z"
   },
   {
    "duration": 50,
    "start_time": "2022-07-28T09:40:52.256Z"
   },
   {
    "duration": 30,
    "start_time": "2022-07-28T09:40:52.308Z"
   },
   {
    "duration": 36,
    "start_time": "2022-07-28T09:40:52.340Z"
   },
   {
    "duration": 22,
    "start_time": "2022-07-28T09:40:52.378Z"
   },
   {
    "duration": 56,
    "start_time": "2022-07-28T09:40:52.401Z"
   },
   {
    "duration": 22,
    "start_time": "2022-07-28T09:40:52.459Z"
   },
   {
    "duration": 19,
    "start_time": "2022-07-28T09:40:52.482Z"
   },
   {
    "duration": 14,
    "start_time": "2022-07-28T09:40:52.503Z"
   },
   {
    "duration": 16,
    "start_time": "2022-07-28T09:40:52.536Z"
   },
   {
    "duration": 15,
    "start_time": "2022-07-28T09:40:52.553Z"
   },
   {
    "duration": 14,
    "start_time": "2022-07-28T09:40:52.569Z"
   },
   {
    "duration": 8,
    "start_time": "2022-07-28T09:40:52.585Z"
   },
   {
    "duration": 65,
    "start_time": "2022-07-28T09:40:52.594Z"
   },
   {
    "duration": 264,
    "start_time": "2022-07-28T09:40:52.660Z"
   },
   {
    "duration": 32,
    "start_time": "2022-07-28T09:40:52.925Z"
   },
   {
    "duration": 384,
    "start_time": "2022-07-28T09:40:52.959Z"
   },
   {
    "duration": 329,
    "start_time": "2022-07-28T09:40:53.344Z"
   },
   {
    "duration": 4,
    "start_time": "2022-07-28T09:40:53.675Z"
   },
   {
    "duration": 78,
    "start_time": "2022-07-28T09:40:53.680Z"
   },
   {
    "duration": 99,
    "start_time": "2022-07-28T09:40:53.759Z"
   },
   {
    "duration": 0,
    "start_time": "2022-07-28T09:40:53.860Z"
   },
   {
    "duration": 0,
    "start_time": "2022-07-28T09:40:53.861Z"
   },
   {
    "duration": 0,
    "start_time": "2022-07-28T09:40:53.862Z"
   },
   {
    "duration": 0,
    "start_time": "2022-07-28T09:40:53.863Z"
   },
   {
    "duration": 0,
    "start_time": "2022-07-28T09:40:53.864Z"
   },
   {
    "duration": 1,
    "start_time": "2022-07-28T09:40:53.864Z"
   },
   {
    "duration": 0,
    "start_time": "2022-07-28T09:40:53.865Z"
   },
   {
    "duration": 0,
    "start_time": "2022-07-28T09:40:53.866Z"
   },
   {
    "duration": 0,
    "start_time": "2022-07-28T09:40:53.867Z"
   },
   {
    "duration": 0,
    "start_time": "2022-07-28T09:40:53.869Z"
   },
   {
    "duration": 5,
    "start_time": "2022-07-28T09:42:18.653Z"
   },
   {
    "duration": 5,
    "start_time": "2022-07-28T09:42:30.831Z"
   },
   {
    "duration": 217,
    "start_time": "2022-07-28T09:42:37.335Z"
   },
   {
    "duration": 28,
    "start_time": "2022-07-28T09:42:51.930Z"
   },
   {
    "duration": 5,
    "start_time": "2022-07-28T09:43:13.980Z"
   },
   {
    "duration": 272,
    "start_time": "2022-07-28T09:43:18.272Z"
   },
   {
    "duration": 398,
    "start_time": "2022-07-28T09:43:24.176Z"
   },
   {
    "duration": 15,
    "start_time": "2022-07-28T09:43:32.421Z"
   },
   {
    "duration": 45,
    "start_time": "2022-07-28T09:44:14.297Z"
   },
   {
    "duration": 34,
    "start_time": "2022-07-28T09:44:36.596Z"
   },
   {
    "duration": 34,
    "start_time": "2022-07-28T09:44:54.355Z"
   },
   {
    "duration": 35,
    "start_time": "2022-07-28T10:10:13.087Z"
   },
   {
    "duration": 36,
    "start_time": "2022-07-28T10:10:29.915Z"
   },
   {
    "duration": 35,
    "start_time": "2022-07-28T10:10:48.568Z"
   },
   {
    "duration": 34,
    "start_time": "2022-07-28T10:21:58.549Z"
   },
   {
    "duration": 14,
    "start_time": "2022-07-28T10:31:29.343Z"
   },
   {
    "duration": 14,
    "start_time": "2022-07-28T10:35:35.067Z"
   },
   {
    "duration": 874,
    "start_time": "2022-07-28T10:39:33.276Z"
   },
   {
    "duration": 1021,
    "start_time": "2022-07-28T10:41:09.280Z"
   },
   {
    "duration": 993,
    "start_time": "2022-07-28T10:42:30.552Z"
   },
   {
    "duration": 16,
    "start_time": "2022-07-28T10:43:23.598Z"
   },
   {
    "duration": 24,
    "start_time": "2022-07-28T11:31:59.003Z"
   },
   {
    "duration": 17,
    "start_time": "2022-07-28T11:32:10.822Z"
   },
   {
    "duration": 17,
    "start_time": "2022-07-28T11:33:13.325Z"
   },
   {
    "duration": 171,
    "start_time": "2022-07-28T11:37:42.578Z"
   },
   {
    "duration": 51,
    "start_time": "2022-07-28T11:37:48.970Z"
   },
   {
    "duration": 18,
    "start_time": "2022-07-28T11:40:11.886Z"
   },
   {
    "duration": 21,
    "start_time": "2022-07-28T11:41:13.536Z"
   },
   {
    "duration": 18,
    "start_time": "2022-07-28T11:42:49.825Z"
   },
   {
    "duration": 18,
    "start_time": "2022-07-28T11:45:18.609Z"
   },
   {
    "duration": 20,
    "start_time": "2022-07-28T11:50:12.893Z"
   },
   {
    "duration": 22,
    "start_time": "2022-07-28T11:50:35.894Z"
   },
   {
    "duration": 56,
    "start_time": "2022-07-28T12:04:02.390Z"
   },
   {
    "duration": 36,
    "start_time": "2022-07-28T12:23:58.456Z"
   },
   {
    "duration": 23,
    "start_time": "2022-07-28T12:31:03.848Z"
   },
   {
    "duration": 180,
    "start_time": "2022-07-28T12:33:16.315Z"
   },
   {
    "duration": 186,
    "start_time": "2022-07-28T12:33:29.445Z"
   },
   {
    "duration": 12,
    "start_time": "2022-07-28T12:34:53.529Z"
   },
   {
    "duration": 196,
    "start_time": "2022-07-28T12:35:54.656Z"
   },
   {
    "duration": 15,
    "start_time": "2022-07-28T12:39:36.744Z"
   },
   {
    "duration": 16,
    "start_time": "2022-07-28T12:41:00.924Z"
   },
   {
    "duration": 11,
    "start_time": "2022-07-28T12:54:26.249Z"
   },
   {
    "duration": 32,
    "start_time": "2022-07-28T12:57:05.864Z"
   },
   {
    "duration": 22,
    "start_time": "2022-07-28T13:01:04.806Z"
   },
   {
    "duration": 22,
    "start_time": "2022-07-28T13:01:28.855Z"
   },
   {
    "duration": 19,
    "start_time": "2022-07-28T13:01:56.767Z"
   },
   {
    "duration": 18,
    "start_time": "2022-07-28T13:02:37.730Z"
   },
   {
    "duration": 18,
    "start_time": "2022-07-28T13:02:51.964Z"
   },
   {
    "duration": 142,
    "start_time": "2022-07-28T13:03:57.055Z"
   },
   {
    "duration": 350,
    "start_time": "2022-07-28T13:04:24.127Z"
   },
   {
    "duration": 440,
    "start_time": "2022-07-28T13:05:10.930Z"
   },
   {
    "duration": 8,
    "start_time": "2022-07-28T14:17:38.652Z"
   },
   {
    "duration": 228,
    "start_time": "2022-07-28T14:24:13.095Z"
   },
   {
    "duration": 40,
    "start_time": "2022-07-28T14:29:48.870Z"
   },
   {
    "duration": 9,
    "start_time": "2022-07-28T14:31:14.178Z"
   },
   {
    "duration": 30,
    "start_time": "2022-07-28T14:34:37.833Z"
   },
   {
    "duration": 15,
    "start_time": "2022-07-28T14:36:10.839Z"
   },
   {
    "duration": 8,
    "start_time": "2022-07-28T14:36:35.134Z"
   },
   {
    "duration": 77,
    "start_time": "2022-07-28T14:36:38.850Z"
   },
   {
    "duration": 835,
    "start_time": "2022-07-28T14:38:38.008Z"
   },
   {
    "duration": 831,
    "start_time": "2022-07-28T14:41:44.052Z"
   },
   {
    "duration": 264,
    "start_time": "2022-07-28T14:42:31.005Z"
   },
   {
    "duration": 246,
    "start_time": "2022-07-28T14:42:47.369Z"
   },
   {
    "duration": 257,
    "start_time": "2022-07-28T15:15:13.463Z"
   },
   {
    "duration": 69,
    "start_time": "2022-07-28T15:33:32.146Z"
   },
   {
    "duration": 20,
    "start_time": "2022-07-28T15:54:43.907Z"
   },
   {
    "duration": 4,
    "start_time": "2022-07-28T15:55:46.558Z"
   },
   {
    "duration": 10,
    "start_time": "2022-07-28T15:55:58.005Z"
   },
   {
    "duration": 13,
    "start_time": "2022-07-28T15:57:15.599Z"
   },
   {
    "duration": 4,
    "start_time": "2022-07-28T15:58:45.471Z"
   },
   {
    "duration": 5,
    "start_time": "2022-07-28T15:58:58.214Z"
   },
   {
    "duration": 6,
    "start_time": "2022-07-28T15:59:13.507Z"
   },
   {
    "duration": 45,
    "start_time": "2022-07-28T16:09:38.292Z"
   },
   {
    "duration": 27,
    "start_time": "2022-07-28T16:22:39.598Z"
   },
   {
    "duration": 19,
    "start_time": "2022-07-28T16:23:07.067Z"
   },
   {
    "duration": 18,
    "start_time": "2022-07-28T16:25:36.412Z"
   },
   {
    "duration": 18,
    "start_time": "2022-07-28T16:28:52.232Z"
   },
   {
    "duration": 11,
    "start_time": "2022-07-28T16:43:43.937Z"
   },
   {
    "duration": 8,
    "start_time": "2022-07-28T16:44:12.164Z"
   },
   {
    "duration": 9,
    "start_time": "2022-07-28T16:48:14.471Z"
   },
   {
    "duration": 30,
    "start_time": "2022-07-28T16:48:30.907Z"
   },
   {
    "duration": 38,
    "start_time": "2022-07-28T17:15:51.481Z"
   },
   {
    "duration": 36,
    "start_time": "2022-07-28T17:17:31.799Z"
   },
   {
    "duration": 36,
    "start_time": "2022-07-28T17:19:25.170Z"
   },
   {
    "duration": 37,
    "start_time": "2022-07-28T17:21:19.041Z"
   },
   {
    "duration": 37,
    "start_time": "2022-07-28T17:25:21.005Z"
   },
   {
    "duration": 50,
    "start_time": "2022-07-28T17:30:29.016Z"
   },
   {
    "duration": 41,
    "start_time": "2022-07-28T17:30:54.756Z"
   },
   {
    "duration": 25,
    "start_time": "2022-07-28T17:31:50.216Z"
   },
   {
    "duration": 8,
    "start_time": "2022-07-28T17:32:47.196Z"
   },
   {
    "duration": 37,
    "start_time": "2022-07-28T17:34:05.310Z"
   },
   {
    "duration": 40,
    "start_time": "2022-07-28T17:35:02.680Z"
   },
   {
    "duration": 5,
    "start_time": "2022-07-28T17:53:45.666Z"
   },
   {
    "duration": 940,
    "start_time": "2022-07-28T18:03:46.902Z"
   },
   {
    "duration": 1172,
    "start_time": "2022-07-28T18:04:18.364Z"
   },
   {
    "duration": 105,
    "start_time": "2022-07-28T18:04:19.539Z"
   },
   {
    "duration": 5,
    "start_time": "2022-07-28T18:04:19.645Z"
   },
   {
    "duration": 7,
    "start_time": "2022-07-28T18:04:19.652Z"
   },
   {
    "duration": 8,
    "start_time": "2022-07-28T18:04:19.661Z"
   },
   {
    "duration": 5,
    "start_time": "2022-07-28T18:04:19.670Z"
   },
   {
    "duration": 239,
    "start_time": "2022-07-28T18:04:19.677Z"
   },
   {
    "duration": 6,
    "start_time": "2022-07-28T18:04:19.918Z"
   },
   {
    "duration": 51,
    "start_time": "2022-07-28T18:04:19.937Z"
   },
   {
    "duration": 20,
    "start_time": "2022-07-28T18:04:19.990Z"
   },
   {
    "duration": 56,
    "start_time": "2022-07-28T18:04:20.012Z"
   },
   {
    "duration": 36,
    "start_time": "2022-07-28T18:04:20.070Z"
   },
   {
    "duration": 48,
    "start_time": "2022-07-28T18:04:20.108Z"
   },
   {
    "duration": 49,
    "start_time": "2022-07-28T18:04:20.158Z"
   },
   {
    "duration": 32,
    "start_time": "2022-07-28T18:04:20.209Z"
   },
   {
    "duration": 19,
    "start_time": "2022-07-28T18:04:20.243Z"
   },
   {
    "duration": 36,
    "start_time": "2022-07-28T18:04:20.264Z"
   },
   {
    "duration": 5,
    "start_time": "2022-07-28T18:04:20.302Z"
   },
   {
    "duration": 19,
    "start_time": "2022-07-28T18:04:20.338Z"
   },
   {
    "duration": 418,
    "start_time": "2022-07-28T18:04:20.359Z"
   },
   {
    "duration": 31,
    "start_time": "2022-07-28T18:04:20.778Z"
   },
   {
    "duration": 40,
    "start_time": "2022-07-28T18:04:20.811Z"
   },
   {
    "duration": 6,
    "start_time": "2022-07-28T18:04:20.853Z"
   },
   {
    "duration": 47,
    "start_time": "2022-07-28T18:04:20.861Z"
   },
   {
    "duration": 77,
    "start_time": "2022-07-28T18:04:20.911Z"
   },
   {
    "duration": 27,
    "start_time": "2022-07-28T18:04:20.990Z"
   },
   {
    "duration": 21,
    "start_time": "2022-07-28T18:04:21.019Z"
   },
   {
    "duration": 292,
    "start_time": "2022-07-28T18:04:21.046Z"
   },
   {
    "duration": 7,
    "start_time": "2022-07-28T18:04:21.340Z"
   },
   {
    "duration": 19,
    "start_time": "2022-07-28T18:04:21.348Z"
   },
   {
    "duration": 283,
    "start_time": "2022-07-28T18:04:21.369Z"
   },
   {
    "duration": 204,
    "start_time": "2022-07-28T18:04:21.654Z"
   },
   {
    "duration": 14,
    "start_time": "2022-07-28T18:04:21.859Z"
   },
   {
    "duration": 9,
    "start_time": "2022-07-28T18:04:21.874Z"
   },
   {
    "duration": 17,
    "start_time": "2022-07-28T18:04:21.884Z"
   },
   {
    "duration": 49,
    "start_time": "2022-07-28T18:04:21.902Z"
   },
   {
    "duration": 16,
    "start_time": "2022-07-28T18:04:21.953Z"
   },
   {
    "duration": 382,
    "start_time": "2022-07-28T18:04:21.970Z"
   },
   {
    "duration": 11,
    "start_time": "2022-07-28T18:04:22.354Z"
   },
   {
    "duration": 126,
    "start_time": "2022-07-28T18:04:22.367Z"
   },
   {
    "duration": 3,
    "start_time": "2022-07-28T18:04:22.495Z"
   },
   {
    "duration": 57,
    "start_time": "2022-07-28T18:04:22.500Z"
   },
   {
    "duration": 10,
    "start_time": "2022-07-28T18:04:22.558Z"
   },
   {
    "duration": 35,
    "start_time": "2022-07-28T18:04:22.570Z"
   },
   {
    "duration": 48,
    "start_time": "2022-07-28T18:04:22.606Z"
   },
   {
    "duration": 30,
    "start_time": "2022-07-28T18:04:22.655Z"
   },
   {
    "duration": 22,
    "start_time": "2022-07-28T18:04:22.687Z"
   },
   {
    "duration": 40,
    "start_time": "2022-07-28T18:04:22.711Z"
   },
   {
    "duration": 18,
    "start_time": "2022-07-28T18:04:22.753Z"
   },
   {
    "duration": 20,
    "start_time": "2022-07-28T18:04:22.773Z"
   },
   {
    "duration": 42,
    "start_time": "2022-07-28T18:04:22.794Z"
   },
   {
    "duration": 22,
    "start_time": "2022-07-28T18:04:22.839Z"
   },
   {
    "duration": 12,
    "start_time": "2022-07-28T18:04:22.863Z"
   },
   {
    "duration": 64,
    "start_time": "2022-07-28T18:04:22.876Z"
   },
   {
    "duration": 336,
    "start_time": "2022-07-28T18:04:22.942Z"
   },
   {
    "duration": 36,
    "start_time": "2022-07-28T18:04:23.280Z"
   },
   {
    "duration": 452,
    "start_time": "2022-07-28T18:04:23.318Z"
   },
   {
    "duration": 407,
    "start_time": "2022-07-28T18:04:23.772Z"
   },
   {
    "duration": 4,
    "start_time": "2022-07-28T18:04:24.180Z"
   },
   {
    "duration": 81,
    "start_time": "2022-07-28T18:04:24.186Z"
   },
   {
    "duration": 7,
    "start_time": "2022-07-28T18:04:24.269Z"
   },
   {
    "duration": 9,
    "start_time": "2022-07-28T18:04:24.281Z"
   },
   {
    "duration": 268,
    "start_time": "2022-07-28T18:04:24.292Z"
   },
   {
    "duration": 43,
    "start_time": "2022-07-28T18:04:24.562Z"
   },
   {
    "duration": 6,
    "start_time": "2022-07-28T18:04:24.607Z"
   },
   {
    "duration": 523,
    "start_time": "2022-07-28T18:04:24.615Z"
   },
   {
    "duration": 26,
    "start_time": "2022-07-28T18:04:25.141Z"
   },
   {
    "duration": 28,
    "start_time": "2022-07-28T18:04:25.169Z"
   },
   {
    "duration": 127,
    "start_time": "2022-07-28T18:04:25.199Z"
   },
   {
    "duration": 0,
    "start_time": "2022-07-28T18:04:25.328Z"
   },
   {
    "duration": 0,
    "start_time": "2022-07-28T18:04:25.329Z"
   },
   {
    "duration": 0,
    "start_time": "2022-07-28T18:04:25.336Z"
   },
   {
    "duration": 0,
    "start_time": "2022-07-28T18:04:25.337Z"
   },
   {
    "duration": 0,
    "start_time": "2022-07-28T18:04:25.338Z"
   },
   {
    "duration": 0,
    "start_time": "2022-07-28T18:04:25.339Z"
   },
   {
    "duration": 0,
    "start_time": "2022-07-28T18:04:25.340Z"
   },
   {
    "duration": 0,
    "start_time": "2022-07-28T18:04:25.341Z"
   },
   {
    "duration": 0,
    "start_time": "2022-07-28T18:04:25.342Z"
   },
   {
    "duration": 0,
    "start_time": "2022-07-28T18:04:25.344Z"
   },
   {
    "duration": 0,
    "start_time": "2022-07-28T18:04:25.344Z"
   },
   {
    "duration": 0,
    "start_time": "2022-07-28T18:04:25.345Z"
   },
   {
    "duration": 31,
    "start_time": "2022-07-28T18:26:15.954Z"
   },
   {
    "duration": 19,
    "start_time": "2022-07-28T18:27:47.292Z"
   },
   {
    "duration": 51,
    "start_time": "2022-07-28T18:50:58.973Z"
   },
   {
    "duration": 46,
    "start_time": "2022-07-28T18:54:29.463Z"
   },
   {
    "duration": 11,
    "start_time": "2022-07-28T18:55:21.456Z"
   },
   {
    "duration": 33,
    "start_time": "2022-07-28T18:55:36.444Z"
   },
   {
    "duration": 29,
    "start_time": "2022-07-28T18:55:50.286Z"
   },
   {
    "duration": 27,
    "start_time": "2022-07-28T18:56:08.003Z"
   },
   {
    "duration": 4,
    "start_time": "2022-07-28T19:01:00.631Z"
   },
   {
    "duration": 74,
    "start_time": "2022-07-28T19:01:00.647Z"
   },
   {
    "duration": 8,
    "start_time": "2022-07-28T19:01:00.723Z"
   },
   {
    "duration": 13,
    "start_time": "2022-07-28T19:01:00.732Z"
   },
   {
    "duration": 10,
    "start_time": "2022-07-28T19:01:00.748Z"
   },
   {
    "duration": 5,
    "start_time": "2022-07-28T19:01:00.759Z"
   },
   {
    "duration": 221,
    "start_time": "2022-07-28T19:01:00.766Z"
   },
   {
    "duration": 8,
    "start_time": "2022-07-28T19:01:00.990Z"
   },
   {
    "duration": 71,
    "start_time": "2022-07-28T19:01:01.000Z"
   },
   {
    "duration": 19,
    "start_time": "2022-07-28T19:01:01.073Z"
   },
   {
    "duration": 73,
    "start_time": "2022-07-28T19:01:01.095Z"
   },
   {
    "duration": 67,
    "start_time": "2022-07-28T19:01:01.170Z"
   },
   {
    "duration": 48,
    "start_time": "2022-07-28T19:01:01.239Z"
   },
   {
    "duration": 57,
    "start_time": "2022-07-28T19:01:01.289Z"
   },
   {
    "duration": 17,
    "start_time": "2022-07-28T19:01:01.348Z"
   },
   {
    "duration": 36,
    "start_time": "2022-07-28T19:01:01.367Z"
   },
   {
    "duration": 58,
    "start_time": "2022-07-28T19:01:01.405Z"
   },
   {
    "duration": 11,
    "start_time": "2022-07-28T19:01:01.466Z"
   },
   {
    "duration": 19,
    "start_time": "2022-07-28T19:01:01.478Z"
   },
   {
    "duration": 314,
    "start_time": "2022-07-28T19:01:01.499Z"
   },
   {
    "duration": 59,
    "start_time": "2022-07-28T19:01:01.816Z"
   },
   {
    "duration": 24,
    "start_time": "2022-07-28T19:01:01.877Z"
   },
   {
    "duration": 9,
    "start_time": "2022-07-28T19:01:01.903Z"
   },
   {
    "duration": 46,
    "start_time": "2022-07-28T19:01:01.913Z"
   },
   {
    "duration": 80,
    "start_time": "2022-07-28T19:01:01.961Z"
   },
   {
    "duration": 29,
    "start_time": "2022-07-28T19:01:02.103Z"
   },
   {
    "duration": 7,
    "start_time": "2022-07-28T19:01:02.135Z"
   },
   {
    "duration": 306,
    "start_time": "2022-07-28T19:01:02.144Z"
   },
   {
    "duration": 6,
    "start_time": "2022-07-28T19:01:02.452Z"
   },
   {
    "duration": 18,
    "start_time": "2022-07-28T19:01:02.460Z"
   },
   {
    "duration": 281,
    "start_time": "2022-07-28T19:01:02.480Z"
   },
   {
    "duration": 201,
    "start_time": "2022-07-28T19:01:02.763Z"
   },
   {
    "duration": 13,
    "start_time": "2022-07-28T19:01:02.965Z"
   },
   {
    "duration": 6,
    "start_time": "2022-07-28T19:01:02.980Z"
   },
   {
    "duration": 15,
    "start_time": "2022-07-28T19:01:02.987Z"
   },
   {
    "duration": 49,
    "start_time": "2022-07-28T19:01:03.003Z"
   },
   {
    "duration": 16,
    "start_time": "2022-07-28T19:01:03.061Z"
   },
   {
    "duration": 299,
    "start_time": "2022-07-28T19:01:03.079Z"
   },
   {
    "duration": 14,
    "start_time": "2022-07-28T19:01:03.380Z"
   },
   {
    "duration": 224,
    "start_time": "2022-07-28T19:01:03.395Z"
   },
   {
    "duration": 56,
    "start_time": "2022-07-28T19:01:03.621Z"
   },
   {
    "duration": 12,
    "start_time": "2022-07-28T19:01:03.679Z"
   },
   {
    "duration": 59,
    "start_time": "2022-07-28T19:01:03.693Z"
   },
   {
    "duration": 24,
    "start_time": "2022-07-28T19:01:03.753Z"
   },
   {
    "duration": 28,
    "start_time": "2022-07-28T19:01:03.779Z"
   },
   {
    "duration": 47,
    "start_time": "2022-07-28T19:01:03.809Z"
   },
   {
    "duration": 22,
    "start_time": "2022-07-28T19:01:03.858Z"
   },
   {
    "duration": 15,
    "start_time": "2022-07-28T19:01:03.882Z"
   },
   {
    "duration": 40,
    "start_time": "2022-07-28T19:01:03.899Z"
   },
   {
    "duration": 20,
    "start_time": "2022-07-28T19:01:03.940Z"
   },
   {
    "duration": 29,
    "start_time": "2022-07-28T19:01:03.962Z"
   },
   {
    "duration": 12,
    "start_time": "2022-07-28T19:01:03.993Z"
   },
   {
    "duration": 0,
    "start_time": "2022-07-28T19:01:04.008Z"
   },
   {
    "duration": 0,
    "start_time": "2022-07-28T19:01:04.009Z"
   },
   {
    "duration": 0,
    "start_time": "2022-07-28T19:01:04.010Z"
   },
   {
    "duration": 0,
    "start_time": "2022-07-28T19:01:04.012Z"
   },
   {
    "duration": 0,
    "start_time": "2022-07-28T19:01:04.037Z"
   },
   {
    "duration": 0,
    "start_time": "2022-07-28T19:01:04.038Z"
   },
   {
    "duration": 0,
    "start_time": "2022-07-28T19:01:04.039Z"
   },
   {
    "duration": 0,
    "start_time": "2022-07-28T19:01:04.041Z"
   },
   {
    "duration": 0,
    "start_time": "2022-07-28T19:01:04.043Z"
   },
   {
    "duration": 0,
    "start_time": "2022-07-28T19:01:04.044Z"
   },
   {
    "duration": 0,
    "start_time": "2022-07-28T19:01:04.045Z"
   },
   {
    "duration": 0,
    "start_time": "2022-07-28T19:01:04.046Z"
   },
   {
    "duration": 0,
    "start_time": "2022-07-28T19:01:04.048Z"
   },
   {
    "duration": 0,
    "start_time": "2022-07-28T19:01:04.049Z"
   },
   {
    "duration": 0,
    "start_time": "2022-07-28T19:01:04.050Z"
   },
   {
    "duration": 0,
    "start_time": "2022-07-28T19:01:04.051Z"
   },
   {
    "duration": 0,
    "start_time": "2022-07-28T19:01:04.052Z"
   },
   {
    "duration": 0,
    "start_time": "2022-07-28T19:01:04.053Z"
   },
   {
    "duration": 0,
    "start_time": "2022-07-28T19:01:04.054Z"
   },
   {
    "duration": 0,
    "start_time": "2022-07-28T19:01:04.055Z"
   },
   {
    "duration": 0,
    "start_time": "2022-07-28T19:01:04.056Z"
   },
   {
    "duration": 0,
    "start_time": "2022-07-28T19:01:04.057Z"
   },
   {
    "duration": 0,
    "start_time": "2022-07-28T19:01:04.059Z"
   },
   {
    "duration": 0,
    "start_time": "2022-07-28T19:01:04.060Z"
   },
   {
    "duration": 0,
    "start_time": "2022-07-28T19:01:04.060Z"
   },
   {
    "duration": 0,
    "start_time": "2022-07-28T19:01:04.061Z"
   },
   {
    "duration": 0,
    "start_time": "2022-07-28T19:01:04.062Z"
   },
   {
    "duration": 0,
    "start_time": "2022-07-28T19:01:04.064Z"
   },
   {
    "duration": 9,
    "start_time": "2022-07-28T19:17:13.190Z"
   },
   {
    "duration": 53,
    "start_time": "2022-07-28T19:23:39.032Z"
   },
   {
    "duration": 279,
    "start_time": "2022-07-28T19:23:57.474Z"
   },
   {
    "duration": 24,
    "start_time": "2022-07-28T19:24:28.148Z"
   },
   {
    "duration": 356,
    "start_time": "2022-07-28T19:25:39.554Z"
   },
   {
    "duration": 321,
    "start_time": "2022-07-28T19:25:47.569Z"
   },
   {
    "duration": 5,
    "start_time": "2022-07-28T19:26:08.593Z"
   },
   {
    "duration": 310,
    "start_time": "2022-07-28T19:26:54.735Z"
   },
   {
    "duration": 68,
    "start_time": "2022-07-28T19:27:47.886Z"
   },
   {
    "duration": 7,
    "start_time": "2022-07-28T19:28:03.660Z"
   },
   {
    "duration": 6,
    "start_time": "2022-07-28T19:28:14.014Z"
   },
   {
    "duration": 218,
    "start_time": "2022-07-28T19:28:23.988Z"
   },
   {
    "duration": 27,
    "start_time": "2022-07-28T19:31:34.050Z"
   },
   {
    "duration": 5,
    "start_time": "2022-07-28T19:31:56.230Z"
   },
   {
    "duration": 323,
    "start_time": "2022-07-28T19:32:37.904Z"
   },
   {
    "duration": 17,
    "start_time": "2022-07-28T19:33:14.513Z"
   },
   {
    "duration": 18,
    "start_time": "2022-07-28T19:35:00.616Z"
   },
   {
    "duration": 18,
    "start_time": "2022-07-28T19:36:24.806Z"
   },
   {
    "duration": 19,
    "start_time": "2022-07-28T19:37:26.024Z"
   },
   {
    "duration": 15,
    "start_time": "2022-07-28T19:38:33.802Z"
   },
   {
    "duration": 25,
    "start_time": "2022-07-28T19:39:19.975Z"
   },
   {
    "duration": 19,
    "start_time": "2022-07-28T19:39:28.829Z"
   },
   {
    "duration": 16,
    "start_time": "2022-07-28T19:39:37.741Z"
   },
   {
    "duration": 23,
    "start_time": "2022-07-28T19:41:57.655Z"
   },
   {
    "duration": 26,
    "start_time": "2022-07-28T19:43:10.279Z"
   },
   {
    "duration": 261,
    "start_time": "2022-07-28T19:43:17.889Z"
   },
   {
    "duration": 28,
    "start_time": "2022-07-28T19:43:51.407Z"
   },
   {
    "duration": 35,
    "start_time": "2022-07-28T19:44:10.168Z"
   },
   {
    "duration": 289,
    "start_time": "2022-07-28T19:44:29.907Z"
   },
   {
    "duration": 36,
    "start_time": "2022-07-28T19:45:14.500Z"
   },
   {
    "duration": 279,
    "start_time": "2022-07-28T19:45:36.395Z"
   },
   {
    "duration": 48,
    "start_time": "2022-07-28T19:50:07.767Z"
   },
   {
    "duration": 2,
    "start_time": "2022-07-28T19:51:05.011Z"
   },
   {
    "duration": 72,
    "start_time": "2022-07-28T19:53:09.308Z"
   },
   {
    "duration": 317,
    "start_time": "2022-07-28T19:53:32.437Z"
   },
   {
    "duration": 8,
    "start_time": "2022-07-28T19:55:36.524Z"
   },
   {
    "duration": 247,
    "start_time": "2022-07-28T19:55:48.669Z"
   },
   {
    "duration": 67,
    "start_time": "2022-07-28T20:03:12.103Z"
   },
   {
    "duration": 10,
    "start_time": "2022-07-28T20:18:52.889Z"
   },
   {
    "duration": 4,
    "start_time": "2022-07-28T20:18:58.769Z"
   },
   {
    "duration": 9,
    "start_time": "2022-07-28T20:19:06.656Z"
   },
   {
    "duration": 36,
    "start_time": "2022-07-28T20:19:11.340Z"
   },
   {
    "duration": 35,
    "start_time": "2022-07-28T20:19:18.749Z"
   },
   {
    "duration": 4,
    "start_time": "2022-07-28T20:19:24.614Z"
   },
   {
    "duration": 37,
    "start_time": "2022-07-28T20:25:06.168Z"
   },
   {
    "duration": 332,
    "start_time": "2022-07-28T20:27:05.327Z"
   },
   {
    "duration": 45,
    "start_time": "2022-07-28T20:37:31.091Z"
   },
   {
    "duration": 47,
    "start_time": "2022-07-28T20:46:41.823Z"
   },
   {
    "duration": 4,
    "start_time": "2022-07-28T20:47:01.910Z"
   },
   {
    "duration": 37,
    "start_time": "2022-07-28T20:48:49.750Z"
   },
   {
    "duration": 9,
    "start_time": "2022-07-28T20:56:40.392Z"
   },
   {
    "duration": 26,
    "start_time": "2022-07-28T21:03:29.730Z"
   },
   {
    "duration": 13,
    "start_time": "2022-07-28T21:09:42.068Z"
   },
   {
    "duration": 20,
    "start_time": "2022-07-28T21:31:04.876Z"
   },
   {
    "duration": 8,
    "start_time": "2022-07-28T21:33:46.553Z"
   },
   {
    "duration": 17,
    "start_time": "2022-07-28T21:34:06.902Z"
   },
   {
    "duration": 1097,
    "start_time": "2022-07-30T06:08:43.748Z"
   },
   {
    "duration": 55,
    "start_time": "2022-07-30T06:08:44.847Z"
   },
   {
    "duration": 4,
    "start_time": "2022-07-30T06:08:44.904Z"
   },
   {
    "duration": 11,
    "start_time": "2022-07-30T06:08:44.910Z"
   },
   {
    "duration": 8,
    "start_time": "2022-07-30T06:08:44.922Z"
   },
   {
    "duration": 9,
    "start_time": "2022-07-30T06:08:44.931Z"
   },
   {
    "duration": 236,
    "start_time": "2022-07-30T06:08:44.941Z"
   },
   {
    "duration": 5,
    "start_time": "2022-07-30T06:08:45.179Z"
   },
   {
    "duration": 47,
    "start_time": "2022-07-30T06:08:45.186Z"
   },
   {
    "duration": 39,
    "start_time": "2022-07-30T06:08:45.236Z"
   },
   {
    "duration": 42,
    "start_time": "2022-07-30T06:08:45.278Z"
   },
   {
    "duration": 32,
    "start_time": "2022-07-30T06:08:45.322Z"
   },
   {
    "duration": 22,
    "start_time": "2022-07-30T06:08:45.374Z"
   },
   {
    "duration": 44,
    "start_time": "2022-07-30T06:08:45.398Z"
   },
   {
    "duration": 29,
    "start_time": "2022-07-30T06:08:45.444Z"
   },
   {
    "duration": 15,
    "start_time": "2022-07-30T06:08:45.475Z"
   },
   {
    "duration": 22,
    "start_time": "2022-07-30T06:08:45.492Z"
   },
   {
    "duration": 4,
    "start_time": "2022-07-30T06:08:45.516Z"
   },
   {
    "duration": 13,
    "start_time": "2022-07-30T06:08:45.522Z"
   },
   {
    "duration": 405,
    "start_time": "2022-07-30T06:08:45.536Z"
   },
   {
    "duration": 33,
    "start_time": "2022-07-30T06:08:45.943Z"
   },
   {
    "duration": 27,
    "start_time": "2022-07-30T06:08:45.978Z"
   },
   {
    "duration": 18,
    "start_time": "2022-07-30T06:08:46.007Z"
   },
   {
    "duration": 23,
    "start_time": "2022-07-30T06:08:46.026Z"
   },
   {
    "duration": 81,
    "start_time": "2022-07-30T06:08:46.051Z"
   },
   {
    "duration": 19,
    "start_time": "2022-07-30T06:08:46.134Z"
   },
   {
    "duration": 23,
    "start_time": "2022-07-30T06:08:46.154Z"
   },
   {
    "duration": 262,
    "start_time": "2022-07-30T06:08:46.181Z"
   },
   {
    "duration": 6,
    "start_time": "2022-07-30T06:08:46.445Z"
   },
   {
    "duration": 34,
    "start_time": "2022-07-30T06:08:46.452Z"
   },
   {
    "duration": 246,
    "start_time": "2022-07-30T06:08:46.488Z"
   },
   {
    "duration": 180,
    "start_time": "2022-07-30T06:08:46.736Z"
   },
   {
    "duration": 12,
    "start_time": "2022-07-30T06:08:46.917Z"
   },
   {
    "duration": 20,
    "start_time": "2022-07-30T06:08:46.931Z"
   },
   {
    "duration": 32,
    "start_time": "2022-07-30T06:08:46.952Z"
   },
   {
    "duration": 31,
    "start_time": "2022-07-30T06:08:46.985Z"
   },
   {
    "duration": 15,
    "start_time": "2022-07-30T06:08:47.018Z"
   },
   {
    "duration": 350,
    "start_time": "2022-07-30T06:08:47.035Z"
   },
   {
    "duration": 11,
    "start_time": "2022-07-30T06:08:47.386Z"
   },
   {
    "duration": 110,
    "start_time": "2022-07-30T06:08:47.398Z"
   },
   {
    "duration": 41,
    "start_time": "2022-07-30T06:08:47.509Z"
   },
   {
    "duration": 25,
    "start_time": "2022-07-30T06:08:47.552Z"
   },
   {
    "duration": 31,
    "start_time": "2022-07-30T06:08:47.579Z"
   },
   {
    "duration": 21,
    "start_time": "2022-07-30T06:08:47.612Z"
   },
   {
    "duration": 56,
    "start_time": "2022-07-30T06:08:47.635Z"
   },
   {
    "duration": 19,
    "start_time": "2022-07-30T06:08:47.693Z"
   },
   {
    "duration": 23,
    "start_time": "2022-07-30T06:08:47.714Z"
   },
   {
    "duration": 16,
    "start_time": "2022-07-30T06:08:47.739Z"
   },
   {
    "duration": 40,
    "start_time": "2022-07-30T06:08:47.757Z"
   },
   {
    "duration": 19,
    "start_time": "2022-07-30T06:08:47.798Z"
   },
   {
    "duration": 16,
    "start_time": "2022-07-30T06:08:47.818Z"
   },
   {
    "duration": 46,
    "start_time": "2022-07-30T06:08:47.835Z"
   },
   {
    "duration": 252,
    "start_time": "2022-07-30T06:08:47.883Z"
   },
   {
    "duration": 23,
    "start_time": "2022-07-30T06:08:48.136Z"
   },
   {
    "duration": 326,
    "start_time": "2022-07-30T06:08:48.161Z"
   },
   {
    "duration": 287,
    "start_time": "2022-07-30T06:08:48.488Z"
   },
   {
    "duration": 3,
    "start_time": "2022-07-30T06:08:48.777Z"
   },
   {
    "duration": 100,
    "start_time": "2022-07-30T06:08:48.782Z"
   },
   {
    "duration": 6,
    "start_time": "2022-07-30T06:08:48.883Z"
   },
   {
    "duration": 21,
    "start_time": "2022-07-30T06:08:48.890Z"
   },
   {
    "duration": 205,
    "start_time": "2022-07-30T06:08:48.913Z"
   },
   {
    "duration": 27,
    "start_time": "2022-07-30T06:08:49.120Z"
   },
   {
    "duration": 5,
    "start_time": "2022-07-30T06:08:49.148Z"
   },
   {
    "duration": 282,
    "start_time": "2022-07-30T06:08:49.173Z"
   },
   {
    "duration": 18,
    "start_time": "2022-07-30T06:08:49.456Z"
   },
   {
    "duration": 33,
    "start_time": "2022-07-30T06:08:49.476Z"
   },
   {
    "duration": 2,
    "start_time": "2022-07-30T06:08:49.511Z"
   },
   {
    "duration": 295,
    "start_time": "2022-07-30T06:08:49.515Z"
   },
   {
    "duration": 35,
    "start_time": "2022-07-30T06:08:49.812Z"
   },
   {
    "duration": 42,
    "start_time": "2022-07-30T06:08:49.849Z"
   },
   {
    "duration": 11,
    "start_time": "2022-07-30T06:08:49.892Z"
   },
   {
    "duration": 16,
    "start_time": "2022-07-30T06:08:49.904Z"
   },
   {
    "duration": 57,
    "start_time": "2022-07-30T06:08:49.921Z"
   },
   {
    "duration": 343,
    "start_time": "2022-07-30T06:08:49.980Z"
   },
   {
    "duration": 7,
    "start_time": "2022-07-30T06:08:50.325Z"
   },
   {
    "duration": 232,
    "start_time": "2022-07-30T06:08:50.334Z"
   },
   {
    "duration": 65,
    "start_time": "2022-07-30T06:08:50.573Z"
   },
   {
    "duration": 8,
    "start_time": "2022-07-30T06:08:50.640Z"
   },
   {
    "duration": 25,
    "start_time": "2022-07-30T06:08:50.650Z"
   },
   {
    "duration": 11,
    "start_time": "2022-07-30T06:08:50.676Z"
   },
   {
    "duration": 41,
    "start_time": "2022-07-30T06:08:50.689Z"
   },
   {
    "duration": 58,
    "start_time": "2022-07-30T06:08:50.734Z"
   },
   {
    "duration": 4,
    "start_time": "2022-07-30T06:08:50.793Z"
   },
   {
    "duration": 14,
    "start_time": "2022-07-30T06:25:32.527Z"
   },
   {
    "duration": 24,
    "start_time": "2022-07-30T06:25:54.707Z"
   },
   {
    "duration": 16,
    "start_time": "2022-07-30T06:26:19.552Z"
   },
   {
    "duration": 21,
    "start_time": "2022-07-30T06:27:31.591Z"
   },
   {
    "duration": 5,
    "start_time": "2022-07-30T06:32:01.969Z"
   },
   {
    "duration": 46,
    "start_time": "2022-07-30T07:26:16.750Z"
   },
   {
    "duration": 1306,
    "start_time": "2022-07-30T07:26:22.972Z"
   },
   {
    "duration": 59,
    "start_time": "2022-07-30T07:26:24.280Z"
   },
   {
    "duration": 6,
    "start_time": "2022-07-30T07:26:24.341Z"
   },
   {
    "duration": 13,
    "start_time": "2022-07-30T07:26:24.349Z"
   },
   {
    "duration": 9,
    "start_time": "2022-07-30T07:26:24.363Z"
   },
   {
    "duration": 4,
    "start_time": "2022-07-30T07:26:24.373Z"
   },
   {
    "duration": 272,
    "start_time": "2022-07-30T07:26:24.379Z"
   },
   {
    "duration": 6,
    "start_time": "2022-07-30T07:26:24.652Z"
   },
   {
    "duration": 67,
    "start_time": "2022-07-30T07:26:24.659Z"
   },
   {
    "duration": 32,
    "start_time": "2022-07-30T07:26:24.739Z"
   },
   {
    "duration": 39,
    "start_time": "2022-07-30T07:26:24.773Z"
   },
   {
    "duration": 67,
    "start_time": "2022-07-30T07:26:24.813Z"
   },
   {
    "duration": 23,
    "start_time": "2022-07-30T07:26:24.882Z"
   },
   {
    "duration": 67,
    "start_time": "2022-07-30T07:26:24.906Z"
   },
   {
    "duration": 13,
    "start_time": "2022-07-30T07:26:24.975Z"
   },
   {
    "duration": 20,
    "start_time": "2022-07-30T07:26:24.989Z"
   },
   {
    "duration": 53,
    "start_time": "2022-07-30T07:26:25.010Z"
   },
   {
    "duration": 5,
    "start_time": "2022-07-30T07:26:25.064Z"
   },
   {
    "duration": 19,
    "start_time": "2022-07-30T07:26:25.070Z"
   },
   {
    "duration": 431,
    "start_time": "2022-07-30T07:26:25.091Z"
   },
   {
    "duration": 45,
    "start_time": "2022-07-30T07:26:25.524Z"
   },
   {
    "duration": 22,
    "start_time": "2022-07-30T07:26:25.570Z"
   },
   {
    "duration": 6,
    "start_time": "2022-07-30T07:26:25.593Z"
   },
   {
    "duration": 46,
    "start_time": "2022-07-30T07:26:25.601Z"
   },
   {
    "duration": 69,
    "start_time": "2022-07-30T07:26:25.650Z"
   },
   {
    "duration": 39,
    "start_time": "2022-07-30T07:26:25.720Z"
   },
   {
    "duration": 5,
    "start_time": "2022-07-30T07:26:25.761Z"
   },
   {
    "duration": 307,
    "start_time": "2022-07-30T07:26:25.769Z"
   },
   {
    "duration": 6,
    "start_time": "2022-07-30T07:26:26.078Z"
   },
   {
    "duration": 18,
    "start_time": "2022-07-30T07:26:26.086Z"
   },
   {
    "duration": 304,
    "start_time": "2022-07-30T07:26:26.106Z"
   },
   {
    "duration": 199,
    "start_time": "2022-07-30T07:26:26.411Z"
   },
   {
    "duration": 13,
    "start_time": "2022-07-30T07:26:26.611Z"
   },
   {
    "duration": 16,
    "start_time": "2022-07-30T07:26:26.625Z"
   },
   {
    "duration": 26,
    "start_time": "2022-07-30T07:26:26.643Z"
   },
   {
    "duration": 27,
    "start_time": "2022-07-30T07:26:26.671Z"
   },
   {
    "duration": 18,
    "start_time": "2022-07-30T07:26:26.700Z"
   },
   {
    "duration": 375,
    "start_time": "2022-07-30T07:26:26.738Z"
   },
   {
    "duration": 12,
    "start_time": "2022-07-30T07:26:27.115Z"
   },
   {
    "duration": 115,
    "start_time": "2022-07-30T07:26:27.138Z"
   },
   {
    "duration": 44,
    "start_time": "2022-07-30T07:26:27.255Z"
   },
   {
    "duration": 18,
    "start_time": "2022-07-30T07:26:27.301Z"
   },
   {
    "duration": 65,
    "start_time": "2022-07-30T07:26:27.320Z"
   },
   {
    "duration": 21,
    "start_time": "2022-07-30T07:26:27.387Z"
   },
   {
    "duration": 45,
    "start_time": "2022-07-30T07:26:27.410Z"
   },
   {
    "duration": 23,
    "start_time": "2022-07-30T07:26:27.457Z"
   },
   {
    "duration": 18,
    "start_time": "2022-07-30T07:26:27.482Z"
   },
   {
    "duration": 38,
    "start_time": "2022-07-30T07:26:27.502Z"
   },
   {
    "duration": 19,
    "start_time": "2022-07-30T07:26:27.541Z"
   },
   {
    "duration": 18,
    "start_time": "2022-07-30T07:26:27.562Z"
   },
   {
    "duration": 8,
    "start_time": "2022-07-30T07:26:27.582Z"
   },
   {
    "duration": 66,
    "start_time": "2022-07-30T07:26:27.591Z"
   },
   {
    "duration": 260,
    "start_time": "2022-07-30T07:26:27.658Z"
   },
   {
    "duration": 35,
    "start_time": "2022-07-30T07:26:27.920Z"
   },
   {
    "duration": 364,
    "start_time": "2022-07-30T07:26:27.957Z"
   },
   {
    "duration": 340,
    "start_time": "2022-07-30T07:26:28.323Z"
   },
   {
    "duration": 5,
    "start_time": "2022-07-30T07:26:28.664Z"
   },
   {
    "duration": 93,
    "start_time": "2022-07-30T07:26:28.670Z"
   },
   {
    "duration": 5,
    "start_time": "2022-07-30T07:26:28.764Z"
   },
   {
    "duration": 7,
    "start_time": "2022-07-30T07:26:28.771Z"
   },
   {
    "duration": 280,
    "start_time": "2022-07-30T07:26:28.780Z"
   },
   {
    "duration": 37,
    "start_time": "2022-07-30T07:26:29.062Z"
   },
   {
    "duration": 6,
    "start_time": "2022-07-30T07:26:29.101Z"
   },
   {
    "duration": 369,
    "start_time": "2022-07-30T07:26:29.109Z"
   },
   {
    "duration": 16,
    "start_time": "2022-07-30T07:26:29.479Z"
   },
   {
    "duration": 55,
    "start_time": "2022-07-30T07:26:29.497Z"
   },
   {
    "duration": 2,
    "start_time": "2022-07-30T07:26:29.554Z"
   },
   {
    "duration": 306,
    "start_time": "2022-07-30T07:26:29.558Z"
   },
   {
    "duration": 35,
    "start_time": "2022-07-30T07:26:29.865Z"
   },
   {
    "duration": 39,
    "start_time": "2022-07-30T07:26:29.901Z"
   },
   {
    "duration": 16,
    "start_time": "2022-07-30T07:26:29.945Z"
   },
   {
    "duration": 15,
    "start_time": "2022-07-30T07:26:29.963Z"
   },
   {
    "duration": 64,
    "start_time": "2022-07-30T07:26:29.980Z"
   },
   {
    "duration": 370,
    "start_time": "2022-07-30T07:26:30.046Z"
   },
   {
    "duration": 8,
    "start_time": "2022-07-30T07:26:30.418Z"
   },
   {
    "duration": 268,
    "start_time": "2022-07-30T07:26:30.438Z"
   },
   {
    "duration": 84,
    "start_time": "2022-07-30T07:26:30.708Z"
   },
   {
    "duration": 10,
    "start_time": "2022-07-30T07:26:30.793Z"
   },
   {
    "duration": 17,
    "start_time": "2022-07-30T07:26:30.805Z"
   },
   {
    "duration": 40,
    "start_time": "2022-07-30T07:26:30.824Z"
   },
   {
    "duration": 16,
    "start_time": "2022-07-30T07:26:30.866Z"
   },
   {
    "duration": 9,
    "start_time": "2022-07-30T07:26:30.886Z"
   },
   {
    "duration": 61,
    "start_time": "2022-07-30T07:26:30.896Z"
   },
   {
    "duration": 37,
    "start_time": "2022-07-30T07:26:30.958Z"
   },
   {
    "duration": 6,
    "start_time": "2022-07-30T07:26:30.996Z"
   },
   {
    "duration": 22,
    "start_time": "2022-07-30T07:26:31.004Z"
   },
   {
    "duration": 273,
    "start_time": "2022-07-30T07:43:35.677Z"
   },
   {
    "duration": 273,
    "start_time": "2022-07-30T07:45:37.147Z"
   },
   {
    "duration": 274,
    "start_time": "2022-07-30T07:47:20.053Z"
   },
   {
    "duration": 283,
    "start_time": "2022-07-30T07:49:35.889Z"
   },
   {
    "duration": 227,
    "start_time": "2022-07-30T07:52:57.184Z"
   },
   {
    "duration": 279,
    "start_time": "2022-07-30T07:55:12.532Z"
   },
   {
    "duration": 249,
    "start_time": "2022-07-30T07:57:22.356Z"
   },
   {
    "duration": 342,
    "start_time": "2022-07-30T07:57:31.030Z"
   },
   {
    "duration": 322,
    "start_time": "2022-07-30T07:59:56.710Z"
   },
   {
    "duration": 294,
    "start_time": "2022-07-30T08:01:34.385Z"
   },
   {
    "duration": 477,
    "start_time": "2022-07-30T08:02:29.436Z"
   },
   {
    "duration": 63,
    "start_time": "2022-07-30T08:29:40.617Z"
   },
   {
    "duration": 11,
    "start_time": "2022-07-30T08:33:57.429Z"
   },
   {
    "duration": 3,
    "start_time": "2022-07-30T08:34:03.286Z"
   },
   {
    "duration": 44,
    "start_time": "2022-07-30T08:34:03.305Z"
   },
   {
    "duration": 4,
    "start_time": "2022-07-30T08:34:03.352Z"
   },
   {
    "duration": 11,
    "start_time": "2022-07-30T08:34:03.357Z"
   },
   {
    "duration": 8,
    "start_time": "2022-07-30T08:34:03.370Z"
   },
   {
    "duration": 4,
    "start_time": "2022-07-30T08:34:03.405Z"
   },
   {
    "duration": 237,
    "start_time": "2022-07-30T08:34:03.426Z"
   },
   {
    "duration": 5,
    "start_time": "2022-07-30T08:34:03.665Z"
   },
   {
    "duration": 52,
    "start_time": "2022-07-30T08:34:03.672Z"
   },
   {
    "duration": 19,
    "start_time": "2022-07-30T08:34:03.736Z"
   },
   {
    "duration": 36,
    "start_time": "2022-07-30T08:34:03.757Z"
   },
   {
    "duration": 60,
    "start_time": "2022-07-30T08:34:03.795Z"
   },
   {
    "duration": 23,
    "start_time": "2022-07-30T08:34:03.857Z"
   },
   {
    "duration": 61,
    "start_time": "2022-07-30T08:34:03.881Z"
   },
   {
    "duration": 13,
    "start_time": "2022-07-30T08:34:03.943Z"
   },
   {
    "duration": 19,
    "start_time": "2022-07-30T08:34:03.959Z"
   },
   {
    "duration": 22,
    "start_time": "2022-07-30T08:34:03.979Z"
   },
   {
    "duration": 34,
    "start_time": "2022-07-30T08:34:04.003Z"
   },
   {
    "duration": 14,
    "start_time": "2022-07-30T08:34:04.039Z"
   },
   {
    "duration": 345,
    "start_time": "2022-07-30T08:34:04.054Z"
   },
   {
    "duration": 42,
    "start_time": "2022-07-30T08:34:04.401Z"
   },
   {
    "duration": 22,
    "start_time": "2022-07-30T08:34:04.445Z"
   },
   {
    "duration": 5,
    "start_time": "2022-07-30T08:34:04.469Z"
   },
   {
    "duration": 24,
    "start_time": "2022-07-30T08:34:04.476Z"
   },
   {
    "duration": 94,
    "start_time": "2022-07-30T08:34:04.501Z"
   },
   {
    "duration": 19,
    "start_time": "2022-07-30T08:34:04.597Z"
   },
   {
    "duration": 6,
    "start_time": "2022-07-30T08:34:04.636Z"
   },
   {
    "duration": 340,
    "start_time": "2022-07-30T08:34:04.644Z"
   },
   {
    "duration": 7,
    "start_time": "2022-07-30T08:34:04.985Z"
   },
   {
    "duration": 22,
    "start_time": "2022-07-30T08:34:04.993Z"
   },
   {
    "duration": 322,
    "start_time": "2022-07-30T08:34:05.017Z"
   },
   {
    "duration": 214,
    "start_time": "2022-07-30T08:34:05.340Z"
   },
   {
    "duration": 12,
    "start_time": "2022-07-30T08:34:05.555Z"
   },
   {
    "duration": 7,
    "start_time": "2022-07-30T08:34:05.568Z"
   },
   {
    "duration": 15,
    "start_time": "2022-07-30T08:34:05.576Z"
   },
   {
    "duration": 45,
    "start_time": "2022-07-30T08:34:05.592Z"
   },
   {
    "duration": 16,
    "start_time": "2022-07-30T08:34:05.638Z"
   },
   {
    "duration": 291,
    "start_time": "2022-07-30T08:34:05.655Z"
   },
   {
    "duration": 112,
    "start_time": "2022-07-30T08:34:05.950Z"
   },
   {
    "duration": 132,
    "start_time": "2022-07-30T08:34:06.064Z"
   },
   {
    "duration": 52,
    "start_time": "2022-07-30T08:34:06.198Z"
   },
   {
    "duration": 16,
    "start_time": "2022-07-30T08:34:06.251Z"
   },
   {
    "duration": 36,
    "start_time": "2022-07-30T08:34:06.269Z"
   },
   {
    "duration": 43,
    "start_time": "2022-07-30T08:34:06.307Z"
   },
   {
    "duration": 29,
    "start_time": "2022-07-30T08:34:06.351Z"
   },
   {
    "duration": 19,
    "start_time": "2022-07-30T08:34:06.382Z"
   },
   {
    "duration": 34,
    "start_time": "2022-07-30T08:34:06.403Z"
   },
   {
    "duration": 14,
    "start_time": "2022-07-30T08:34:06.439Z"
   },
   {
    "duration": 14,
    "start_time": "2022-07-30T08:34:06.454Z"
   },
   {
    "duration": 18,
    "start_time": "2022-07-30T08:34:06.470Z"
   },
   {
    "duration": 10,
    "start_time": "2022-07-30T08:34:06.489Z"
   },
   {
    "duration": 62,
    "start_time": "2022-07-30T08:34:06.501Z"
   },
   {
    "duration": 265,
    "start_time": "2022-07-30T08:34:06.564Z"
   },
   {
    "duration": 29,
    "start_time": "2022-07-30T08:34:06.830Z"
   },
   {
    "duration": 380,
    "start_time": "2022-07-30T08:34:06.860Z"
   },
   {
    "duration": 311,
    "start_time": "2022-07-30T08:34:07.241Z"
   },
   {
    "duration": 4,
    "start_time": "2022-07-30T08:34:07.554Z"
   },
   {
    "duration": 79,
    "start_time": "2022-07-30T08:34:07.559Z"
   },
   {
    "duration": 6,
    "start_time": "2022-07-30T08:34:07.639Z"
   },
   {
    "duration": 9,
    "start_time": "2022-07-30T08:34:07.646Z"
   },
   {
    "duration": 218,
    "start_time": "2022-07-30T08:34:07.657Z"
   },
   {
    "duration": 27,
    "start_time": "2022-07-30T08:34:07.878Z"
   },
   {
    "duration": 5,
    "start_time": "2022-07-30T08:34:07.907Z"
   },
   {
    "duration": 323,
    "start_time": "2022-07-30T08:34:07.914Z"
   },
   {
    "duration": 17,
    "start_time": "2022-07-30T08:34:08.239Z"
   },
   {
    "duration": 37,
    "start_time": "2022-07-30T08:34:08.258Z"
   },
   {
    "duration": 2,
    "start_time": "2022-07-30T08:34:08.297Z"
   },
   {
    "duration": 211,
    "start_time": "2022-07-30T08:34:08.301Z"
   },
   {
    "duration": 47,
    "start_time": "2022-07-30T08:34:08.514Z"
   },
   {
    "duration": 25,
    "start_time": "2022-07-30T08:34:08.563Z"
   },
   {
    "duration": 12,
    "start_time": "2022-07-30T08:34:08.590Z"
   },
   {
    "duration": 38,
    "start_time": "2022-07-30T08:34:08.603Z"
   },
   {
    "duration": 42,
    "start_time": "2022-07-30T08:34:08.643Z"
   },
   {
    "duration": 498,
    "start_time": "2022-07-30T08:34:08.686Z"
   },
   {
    "duration": 8,
    "start_time": "2022-07-30T08:34:09.186Z"
   },
   {
    "duration": 244,
    "start_time": "2022-07-30T08:34:09.195Z"
   },
   {
    "duration": 12,
    "start_time": "2022-07-30T08:34:09.440Z"
   },
   {
    "duration": 0,
    "start_time": "2022-07-30T08:34:09.453Z"
   },
   {
    "duration": 0,
    "start_time": "2022-07-30T08:34:09.454Z"
   },
   {
    "duration": 0,
    "start_time": "2022-07-30T08:34:09.455Z"
   },
   {
    "duration": 0,
    "start_time": "2022-07-30T08:34:09.456Z"
   },
   {
    "duration": 0,
    "start_time": "2022-07-30T08:34:09.458Z"
   },
   {
    "duration": 0,
    "start_time": "2022-07-30T08:34:09.459Z"
   },
   {
    "duration": 0,
    "start_time": "2022-07-30T08:34:09.460Z"
   },
   {
    "duration": 0,
    "start_time": "2022-07-30T08:34:09.461Z"
   },
   {
    "duration": 0,
    "start_time": "2022-07-30T08:34:09.462Z"
   },
   {
    "duration": 0,
    "start_time": "2022-07-30T08:34:09.463Z"
   },
   {
    "duration": 2,
    "start_time": "2022-07-30T08:35:53.359Z"
   },
   {
    "duration": 66,
    "start_time": "2022-07-30T08:35:57.171Z"
   },
   {
    "duration": 9,
    "start_time": "2022-07-30T08:39:57.270Z"
   },
   {
    "duration": 31,
    "start_time": "2022-07-30T08:40:34.524Z"
   },
   {
    "duration": 24,
    "start_time": "2022-07-30T08:56:45.922Z"
   },
   {
    "duration": 17,
    "start_time": "2022-07-30T08:57:05.962Z"
   },
   {
    "duration": 36,
    "start_time": "2022-07-30T09:27:01.309Z"
   },
   {
    "duration": 8,
    "start_time": "2022-07-30T09:34:45.893Z"
   },
   {
    "duration": 4,
    "start_time": "2022-07-30T09:35:01.810Z"
   },
   {
    "duration": 9,
    "start_time": "2022-07-30T09:35:21.280Z"
   },
   {
    "duration": 1014,
    "start_time": "2022-07-30T09:36:22.367Z"
   },
   {
    "duration": 11,
    "start_time": "2022-07-30T09:37:10.255Z"
   },
   {
    "duration": 46,
    "start_time": "2022-07-30T09:40:28.957Z"
   },
   {
    "duration": 38,
    "start_time": "2022-07-30T09:41:31.128Z"
   },
   {
    "duration": 39,
    "start_time": "2022-07-30T09:42:12.483Z"
   },
   {
    "duration": 12,
    "start_time": "2022-07-30T09:46:55.187Z"
   },
   {
    "duration": 12,
    "start_time": "2022-07-30T09:50:01.637Z"
   },
   {
    "duration": 3,
    "start_time": "2022-07-30T09:50:11.925Z"
   },
   {
    "duration": 5,
    "start_time": "2022-07-30T09:50:27.542Z"
   },
   {
    "duration": 9,
    "start_time": "2022-07-30T09:56:42.814Z"
   },
   {
    "duration": 38,
    "start_time": "2022-07-30T09:57:04.094Z"
   },
   {
    "duration": 8,
    "start_time": "2022-07-30T09:57:58.827Z"
   },
   {
    "duration": 35,
    "start_time": "2022-07-30T10:00:46.338Z"
   },
   {
    "duration": 30,
    "start_time": "2022-07-30T10:01:11.166Z"
   },
   {
    "duration": 9,
    "start_time": "2022-07-30T10:01:31.748Z"
   },
   {
    "duration": 27,
    "start_time": "2022-07-30T10:01:39.668Z"
   },
   {
    "duration": 26,
    "start_time": "2022-07-30T10:02:03.437Z"
   },
   {
    "duration": 25,
    "start_time": "2022-07-30T10:02:27.034Z"
   },
   {
    "duration": 12,
    "start_time": "2022-07-30T10:06:44.315Z"
   },
   {
    "duration": 10,
    "start_time": "2022-07-30T10:09:24.404Z"
   },
   {
    "duration": 47,
    "start_time": "2022-07-30T10:09:57.380Z"
   },
   {
    "duration": 36,
    "start_time": "2022-07-30T10:10:38.295Z"
   },
   {
    "duration": 53,
    "start_time": "2022-07-30T10:10:52.733Z"
   },
   {
    "duration": 10,
    "start_time": "2022-07-30T10:12:14.399Z"
   },
   {
    "duration": 34,
    "start_time": "2022-07-30T10:16:10.490Z"
   },
   {
    "duration": 35,
    "start_time": "2022-07-30T10:16:34.079Z"
   },
   {
    "duration": 6,
    "start_time": "2022-07-30T10:16:57.035Z"
   },
   {
    "duration": 11,
    "start_time": "2022-07-30T10:19:28.384Z"
   },
   {
    "duration": 5,
    "start_time": "2022-07-30T10:21:30.484Z"
   },
   {
    "duration": 1282,
    "start_time": "2022-07-31T02:34:32.571Z"
   },
   {
    "duration": 69,
    "start_time": "2022-07-31T02:34:33.855Z"
   },
   {
    "duration": 4,
    "start_time": "2022-07-31T02:34:33.926Z"
   },
   {
    "duration": 10,
    "start_time": "2022-07-31T02:34:33.931Z"
   },
   {
    "duration": 10,
    "start_time": "2022-07-31T02:34:33.943Z"
   },
   {
    "duration": 55,
    "start_time": "2022-07-31T02:34:33.955Z"
   },
   {
    "duration": 341,
    "start_time": "2022-07-31T02:34:34.012Z"
   },
   {
    "duration": 7,
    "start_time": "2022-07-31T02:34:34.355Z"
   },
   {
    "duration": 79,
    "start_time": "2022-07-31T02:34:34.373Z"
   },
   {
    "duration": 18,
    "start_time": "2022-07-31T02:34:34.456Z"
   },
   {
    "duration": 70,
    "start_time": "2022-07-31T02:34:34.475Z"
   },
   {
    "duration": 34,
    "start_time": "2022-07-31T02:34:34.547Z"
   },
   {
    "duration": 25,
    "start_time": "2022-07-31T02:34:34.583Z"
   },
   {
    "duration": 68,
    "start_time": "2022-07-31T02:34:34.609Z"
   },
   {
    "duration": 11,
    "start_time": "2022-07-31T02:34:34.679Z"
   },
   {
    "duration": 48,
    "start_time": "2022-07-31T02:34:34.691Z"
   },
   {
    "duration": 62,
    "start_time": "2022-07-31T02:34:34.741Z"
   },
   {
    "duration": 11,
    "start_time": "2022-07-31T02:34:34.805Z"
   },
   {
    "duration": 43,
    "start_time": "2022-07-31T02:34:34.819Z"
   },
   {
    "duration": 398,
    "start_time": "2022-07-31T02:34:34.864Z"
   },
   {
    "duration": 33,
    "start_time": "2022-07-31T02:34:35.264Z"
   },
   {
    "duration": 36,
    "start_time": "2022-07-31T02:34:35.299Z"
   },
   {
    "duration": 10,
    "start_time": "2022-07-31T02:34:35.336Z"
   },
   {
    "duration": 39,
    "start_time": "2022-07-31T02:34:35.348Z"
   },
   {
    "duration": 80,
    "start_time": "2022-07-31T02:34:35.389Z"
   },
   {
    "duration": 20,
    "start_time": "2022-07-31T02:34:35.470Z"
   },
   {
    "duration": 26,
    "start_time": "2022-07-31T02:34:35.491Z"
   },
   {
    "duration": 298,
    "start_time": "2022-07-31T02:34:35.521Z"
   },
   {
    "duration": 6,
    "start_time": "2022-07-31T02:34:35.820Z"
   },
   {
    "duration": 48,
    "start_time": "2022-07-31T02:34:35.828Z"
   },
   {
    "duration": 256,
    "start_time": "2022-07-31T02:34:35.877Z"
   },
   {
    "duration": 200,
    "start_time": "2022-07-31T02:34:36.135Z"
   },
   {
    "duration": 12,
    "start_time": "2022-07-31T02:34:36.337Z"
   },
   {
    "duration": 15,
    "start_time": "2022-07-31T02:34:36.350Z"
   },
   {
    "duration": 36,
    "start_time": "2022-07-31T02:34:36.367Z"
   },
   {
    "duration": 29,
    "start_time": "2022-07-31T02:34:36.404Z"
   },
   {
    "duration": 15,
    "start_time": "2022-07-31T02:34:36.434Z"
   },
   {
    "duration": 363,
    "start_time": "2022-07-31T02:34:36.450Z"
   },
   {
    "duration": 12,
    "start_time": "2022-07-31T02:34:36.815Z"
   },
   {
    "duration": 137,
    "start_time": "2022-07-31T02:34:36.829Z"
   },
   {
    "duration": 46,
    "start_time": "2022-07-31T02:34:36.973Z"
   },
   {
    "duration": 10,
    "start_time": "2022-07-31T02:34:37.021Z"
   },
   {
    "duration": 52,
    "start_time": "2022-07-31T02:34:37.033Z"
   },
   {
    "duration": 24,
    "start_time": "2022-07-31T02:34:37.086Z"
   },
   {
    "duration": 28,
    "start_time": "2022-07-31T02:34:37.112Z"
   },
   {
    "duration": 48,
    "start_time": "2022-07-31T02:34:37.142Z"
   },
   {
    "duration": 18,
    "start_time": "2022-07-31T02:34:37.192Z"
   },
   {
    "duration": 21,
    "start_time": "2022-07-31T02:34:37.212Z"
   },
   {
    "duration": 45,
    "start_time": "2022-07-31T02:34:37.235Z"
   },
   {
    "duration": 30,
    "start_time": "2022-07-31T02:34:37.283Z"
   },
   {
    "duration": 12,
    "start_time": "2022-07-31T02:34:37.314Z"
   },
   {
    "duration": 76,
    "start_time": "2022-07-31T02:34:37.328Z"
   },
   {
    "duration": 269,
    "start_time": "2022-07-31T02:34:37.406Z"
   },
   {
    "duration": 23,
    "start_time": "2022-07-31T02:34:37.677Z"
   },
   {
    "duration": 361,
    "start_time": "2022-07-31T02:34:37.701Z"
   },
   {
    "duration": 315,
    "start_time": "2022-07-31T02:34:38.064Z"
   },
   {
    "duration": 3,
    "start_time": "2022-07-31T02:34:38.381Z"
   },
   {
    "duration": 84,
    "start_time": "2022-07-31T02:34:38.386Z"
   },
   {
    "duration": 5,
    "start_time": "2022-07-31T02:34:38.473Z"
   },
   {
    "duration": 15,
    "start_time": "2022-07-31T02:34:38.480Z"
   },
   {
    "duration": 224,
    "start_time": "2022-07-31T02:34:38.497Z"
   },
   {
    "duration": 29,
    "start_time": "2022-07-31T02:34:38.723Z"
   },
   {
    "duration": 24,
    "start_time": "2022-07-31T02:34:38.754Z"
   },
   {
    "duration": 362,
    "start_time": "2022-07-31T02:34:38.780Z"
   },
   {
    "duration": 19,
    "start_time": "2022-07-31T02:34:39.144Z"
   },
   {
    "duration": 44,
    "start_time": "2022-07-31T02:34:39.164Z"
   },
   {
    "duration": 3,
    "start_time": "2022-07-31T02:34:39.210Z"
   },
   {
    "duration": 325,
    "start_time": "2022-07-31T02:34:39.215Z"
   },
   {
    "duration": 44,
    "start_time": "2022-07-31T02:34:39.542Z"
   },
   {
    "duration": 27,
    "start_time": "2022-07-31T02:34:39.588Z"
   },
   {
    "duration": 12,
    "start_time": "2022-07-31T02:34:39.618Z"
   },
   {
    "duration": 42,
    "start_time": "2022-07-31T02:34:39.631Z"
   },
   {
    "duration": 39,
    "start_time": "2022-07-31T02:34:39.675Z"
   },
   {
    "duration": 326,
    "start_time": "2022-07-31T02:34:39.715Z"
   },
   {
    "duration": 8,
    "start_time": "2022-07-31T02:34:40.042Z"
   },
   {
    "duration": 242,
    "start_time": "2022-07-31T02:34:40.051Z"
   },
   {
    "duration": 23,
    "start_time": "2022-07-31T02:34:40.294Z"
   },
   {
    "duration": 4,
    "start_time": "2022-07-31T02:34:40.318Z"
   },
   {
    "duration": 55,
    "start_time": "2022-07-31T02:34:40.324Z"
   },
   {
    "duration": 5,
    "start_time": "2022-07-31T02:34:40.381Z"
   },
   {
    "duration": 69,
    "start_time": "2022-07-31T02:34:40.388Z"
   },
   {
    "duration": 16,
    "start_time": "2022-07-31T02:34:40.464Z"
   },
   {
    "duration": 13,
    "start_time": "2022-07-31T02:34:40.482Z"
   },
   {
    "duration": 21,
    "start_time": "2022-07-31T02:34:40.496Z"
   },
   {
    "duration": 21,
    "start_time": "2022-07-31T02:34:40.519Z"
   },
   {
    "duration": 56,
    "start_time": "2022-07-31T02:34:40.541Z"
   },
   {
    "duration": 34,
    "start_time": "2022-07-31T02:34:40.599Z"
   },
   {
    "duration": 6,
    "start_time": "2022-07-31T02:34:40.636Z"
   },
   {
    "duration": 11,
    "start_time": "2022-07-31T02:34:40.643Z"
   },
   {
    "duration": 13,
    "start_time": "2022-07-31T02:44:37.474Z"
   },
   {
    "duration": 53,
    "start_time": "2022-07-31T02:45:01.878Z"
   },
   {
    "duration": 120,
    "start_time": "2022-07-31T02:45:17.392Z"
   },
   {
    "duration": 21,
    "start_time": "2022-07-31T02:48:43.884Z"
   },
   {
    "duration": 35,
    "start_time": "2022-07-31T02:48:46.792Z"
   },
   {
    "duration": 6,
    "start_time": "2022-07-31T02:48:47.301Z"
   },
   {
    "duration": 9,
    "start_time": "2022-07-31T02:48:51.039Z"
   },
   {
    "duration": 4,
    "start_time": "2022-07-31T02:50:42.862Z"
   },
   {
    "duration": 10,
    "start_time": "2022-07-31T02:50:47.006Z"
   },
   {
    "duration": 9,
    "start_time": "2022-07-31T02:50:58.680Z"
   },
   {
    "duration": 1424,
    "start_time": "2022-07-31T10:23:32.112Z"
   },
   {
    "duration": 121,
    "start_time": "2022-07-31T10:23:33.538Z"
   },
   {
    "duration": 4,
    "start_time": "2022-07-31T10:23:33.661Z"
   },
   {
    "duration": 9,
    "start_time": "2022-07-31T10:23:33.667Z"
   },
   {
    "duration": 15,
    "start_time": "2022-07-31T10:23:33.678Z"
   },
   {
    "duration": 6,
    "start_time": "2022-07-31T10:23:33.696Z"
   },
   {
    "duration": 380,
    "start_time": "2022-07-31T10:23:33.703Z"
   },
   {
    "duration": 6,
    "start_time": "2022-07-31T10:23:34.085Z"
   },
   {
    "duration": 67,
    "start_time": "2022-07-31T10:23:34.093Z"
   },
   {
    "duration": 21,
    "start_time": "2022-07-31T10:23:34.163Z"
   },
   {
    "duration": 68,
    "start_time": "2022-07-31T10:23:34.187Z"
   },
   {
    "duration": 61,
    "start_time": "2022-07-31T10:23:34.258Z"
   },
   {
    "duration": 30,
    "start_time": "2022-07-31T10:23:34.321Z"
   },
   {
    "duration": 87,
    "start_time": "2022-07-31T10:23:34.355Z"
   },
   {
    "duration": 18,
    "start_time": "2022-07-31T10:23:34.445Z"
   },
   {
    "duration": 22,
    "start_time": "2022-07-31T10:23:34.466Z"
   },
   {
    "duration": 62,
    "start_time": "2022-07-31T10:23:34.490Z"
   },
   {
    "duration": 6,
    "start_time": "2022-07-31T10:23:34.554Z"
   },
   {
    "duration": 22,
    "start_time": "2022-07-31T10:23:34.562Z"
   },
   {
    "duration": 498,
    "start_time": "2022-07-31T10:23:34.586Z"
   },
   {
    "duration": 47,
    "start_time": "2022-07-31T10:23:35.086Z"
   },
   {
    "duration": 25,
    "start_time": "2022-07-31T10:23:35.135Z"
   },
   {
    "duration": 8,
    "start_time": "2022-07-31T10:23:35.162Z"
   },
   {
    "duration": 48,
    "start_time": "2022-07-31T10:23:35.171Z"
   },
   {
    "duration": 97,
    "start_time": "2022-07-31T10:23:35.221Z"
   },
   {
    "duration": 21,
    "start_time": "2022-07-31T10:23:35.321Z"
   },
   {
    "duration": 6,
    "start_time": "2022-07-31T10:23:35.343Z"
   },
   {
    "duration": 383,
    "start_time": "2022-07-31T10:23:35.353Z"
   },
   {
    "duration": 7,
    "start_time": "2022-07-31T10:23:35.738Z"
   },
   {
    "duration": 22,
    "start_time": "2022-07-31T10:23:35.747Z"
   },
   {
    "duration": 349,
    "start_time": "2022-07-31T10:23:35.771Z"
   },
   {
    "duration": 254,
    "start_time": "2022-07-31T10:23:36.121Z"
   },
   {
    "duration": 14,
    "start_time": "2022-07-31T10:23:36.377Z"
   },
   {
    "duration": 8,
    "start_time": "2022-07-31T10:23:36.410Z"
   },
   {
    "duration": 28,
    "start_time": "2022-07-31T10:23:36.420Z"
   },
   {
    "duration": 45,
    "start_time": "2022-07-31T10:23:36.450Z"
   },
   {
    "duration": 25,
    "start_time": "2022-07-31T10:23:36.511Z"
   },
   {
    "duration": 428,
    "start_time": "2022-07-31T10:23:36.538Z"
   },
   {
    "duration": 13,
    "start_time": "2022-07-31T10:23:36.968Z"
   },
   {
    "duration": 163,
    "start_time": "2022-07-31T10:23:36.983Z"
   },
   {
    "duration": 50,
    "start_time": "2022-07-31T10:23:37.148Z"
   },
   {
    "duration": 15,
    "start_time": "2022-07-31T10:23:37.210Z"
   },
   {
    "duration": 37,
    "start_time": "2022-07-31T10:23:37.226Z"
   },
   {
    "duration": 58,
    "start_time": "2022-07-31T10:23:37.265Z"
   },
   {
    "duration": 32,
    "start_time": "2022-07-31T10:23:37.325Z"
   },
   {
    "duration": 51,
    "start_time": "2022-07-31T10:23:37.359Z"
   },
   {
    "duration": 20,
    "start_time": "2022-07-31T10:23:37.412Z"
   },
   {
    "duration": 15,
    "start_time": "2022-07-31T10:23:37.434Z"
   },
   {
    "duration": 17,
    "start_time": "2022-07-31T10:23:37.451Z"
   },
   {
    "duration": 51,
    "start_time": "2022-07-31T10:23:37.470Z"
   },
   {
    "duration": 10,
    "start_time": "2022-07-31T10:23:37.523Z"
   },
   {
    "duration": 60,
    "start_time": "2022-07-31T10:23:37.540Z"
   },
   {
    "duration": 330,
    "start_time": "2022-07-31T10:23:37.611Z"
   },
   {
    "duration": 26,
    "start_time": "2022-07-31T10:23:37.943Z"
   },
   {
    "duration": 438,
    "start_time": "2022-07-31T10:23:37.972Z"
   },
   {
    "duration": 386,
    "start_time": "2022-07-31T10:23:38.412Z"
   },
   {
    "duration": 10,
    "start_time": "2022-07-31T10:23:38.800Z"
   },
   {
    "duration": 95,
    "start_time": "2022-07-31T10:23:38.812Z"
   },
   {
    "duration": 7,
    "start_time": "2022-07-31T10:23:38.909Z"
   },
   {
    "duration": 10,
    "start_time": "2022-07-31T10:23:38.918Z"
   },
   {
    "duration": 254,
    "start_time": "2022-07-31T10:23:38.931Z"
   },
   {
    "duration": 41,
    "start_time": "2022-07-31T10:23:39.187Z"
   },
   {
    "duration": 7,
    "start_time": "2022-07-31T10:23:39.229Z"
   },
   {
    "duration": 358,
    "start_time": "2022-07-31T10:23:39.238Z"
   },
   {
    "duration": 24,
    "start_time": "2022-07-31T10:23:39.598Z"
   },
   {
    "duration": 43,
    "start_time": "2022-07-31T10:23:39.624Z"
   },
   {
    "duration": 2,
    "start_time": "2022-07-31T10:23:39.669Z"
   },
   {
    "duration": 329,
    "start_time": "2022-07-31T10:23:39.673Z"
   },
   {
    "duration": 43,
    "start_time": "2022-07-31T10:23:40.004Z"
   },
   {
    "duration": 30,
    "start_time": "2022-07-31T10:23:40.048Z"
   },
   {
    "duration": 33,
    "start_time": "2022-07-31T10:23:40.079Z"
   },
   {
    "duration": 20,
    "start_time": "2022-07-31T10:23:40.114Z"
   },
   {
    "duration": 44,
    "start_time": "2022-07-31T10:23:40.137Z"
   },
   {
    "duration": 426,
    "start_time": "2022-07-31T10:23:40.184Z"
   },
   {
    "duration": 10,
    "start_time": "2022-07-31T10:23:40.612Z"
   },
   {
    "duration": 273,
    "start_time": "2022-07-31T10:23:40.625Z"
   },
   {
    "duration": 32,
    "start_time": "2022-07-31T10:23:40.900Z"
   },
   {
    "duration": 4,
    "start_time": "2022-07-31T10:23:40.934Z"
   },
   {
    "duration": 43,
    "start_time": "2022-07-31T10:23:40.940Z"
   },
   {
    "duration": 6,
    "start_time": "2022-07-31T10:23:40.984Z"
   },
   {
    "duration": 27,
    "start_time": "2022-07-31T10:23:41.011Z"
   },
   {
    "duration": 17,
    "start_time": "2022-07-31T10:23:41.040Z"
   },
   {
    "duration": 10,
    "start_time": "2022-07-31T10:23:41.059Z"
   },
   {
    "duration": 42,
    "start_time": "2022-07-31T10:23:41.071Z"
   },
   {
    "duration": 13,
    "start_time": "2022-07-31T10:23:41.115Z"
   },
   {
    "duration": 39,
    "start_time": "2022-07-31T10:23:41.130Z"
   },
   {
    "duration": 60,
    "start_time": "2022-07-31T10:23:41.171Z"
   },
   {
    "duration": 7,
    "start_time": "2022-07-31T10:23:41.233Z"
   },
   {
    "duration": 15,
    "start_time": "2022-07-31T10:23:41.242Z"
   },
   {
    "duration": 7,
    "start_time": "2022-07-31T10:23:41.259Z"
   },
   {
    "duration": 54,
    "start_time": "2022-08-02T05:38:47.669Z"
   },
   {
    "duration": 1137,
    "start_time": "2022-08-02T05:39:07.677Z"
   },
   {
    "duration": 96,
    "start_time": "2022-08-02T05:39:08.817Z"
   },
   {
    "duration": 5,
    "start_time": "2022-08-02T05:39:08.915Z"
   },
   {
    "duration": 31,
    "start_time": "2022-08-02T05:39:08.922Z"
   },
   {
    "duration": 16,
    "start_time": "2022-08-02T05:39:08.955Z"
   },
   {
    "duration": 7,
    "start_time": "2022-08-02T05:39:08.972Z"
   },
   {
    "duration": 386,
    "start_time": "2022-08-02T05:39:08.981Z"
   },
   {
    "duration": 5,
    "start_time": "2022-08-02T05:39:09.369Z"
   },
   {
    "duration": 60,
    "start_time": "2022-08-02T05:39:09.375Z"
   },
   {
    "duration": 25,
    "start_time": "2022-08-02T05:39:09.438Z"
   },
   {
    "duration": 31,
    "start_time": "2022-08-02T05:39:09.465Z"
   },
   {
    "duration": 52,
    "start_time": "2022-08-02T05:39:09.498Z"
   },
   {
    "duration": 21,
    "start_time": "2022-08-02T05:39:09.552Z"
   },
   {
    "duration": 57,
    "start_time": "2022-08-02T05:39:09.574Z"
   },
   {
    "duration": 15,
    "start_time": "2022-08-02T05:39:09.634Z"
   },
   {
    "duration": 17,
    "start_time": "2022-08-02T05:39:09.651Z"
   },
   {
    "duration": 22,
    "start_time": "2022-08-02T05:39:09.670Z"
   },
   {
    "duration": 5,
    "start_time": "2022-08-02T05:39:09.693Z"
   },
   {
    "duration": 46,
    "start_time": "2022-08-02T05:39:09.699Z"
   },
   {
    "duration": 410,
    "start_time": "2022-08-02T05:39:09.747Z"
   },
   {
    "duration": 26,
    "start_time": "2022-08-02T05:39:10.159Z"
   },
   {
    "duration": 19,
    "start_time": "2022-08-02T05:39:10.186Z"
   },
   {
    "duration": 26,
    "start_time": "2022-08-02T05:39:10.206Z"
   },
   {
    "duration": 23,
    "start_time": "2022-08-02T05:39:10.233Z"
   },
   {
    "duration": 57,
    "start_time": "2022-08-02T05:39:10.257Z"
   },
   {
    "duration": 34,
    "start_time": "2022-08-02T05:39:10.315Z"
   },
   {
    "duration": 5,
    "start_time": "2022-08-02T05:39:10.350Z"
   },
   {
    "duration": 289,
    "start_time": "2022-08-02T05:39:10.360Z"
   },
   {
    "duration": 7,
    "start_time": "2022-08-02T05:39:10.651Z"
   },
   {
    "duration": 18,
    "start_time": "2022-08-02T05:39:10.660Z"
   },
   {
    "duration": 287,
    "start_time": "2022-08-02T05:39:10.679Z"
   },
   {
    "duration": 202,
    "start_time": "2022-08-02T05:39:10.967Z"
   },
   {
    "duration": 11,
    "start_time": "2022-08-02T05:39:11.170Z"
   },
   {
    "duration": 5,
    "start_time": "2022-08-02T05:39:11.182Z"
   },
   {
    "duration": 12,
    "start_time": "2022-08-02T05:39:11.189Z"
   },
   {
    "duration": 52,
    "start_time": "2022-08-02T05:39:11.202Z"
   },
   {
    "duration": 14,
    "start_time": "2022-08-02T05:39:11.256Z"
   },
   {
    "duration": 356,
    "start_time": "2022-08-02T05:39:11.271Z"
   },
   {
    "duration": 17,
    "start_time": "2022-08-02T05:39:11.631Z"
   },
   {
    "duration": 127,
    "start_time": "2022-08-02T05:39:11.649Z"
   },
   {
    "duration": 41,
    "start_time": "2022-08-02T05:39:11.777Z"
   },
   {
    "duration": 15,
    "start_time": "2022-08-02T05:39:11.831Z"
   },
   {
    "duration": 30,
    "start_time": "2022-08-02T05:39:11.848Z"
   },
   {
    "duration": 21,
    "start_time": "2022-08-02T05:39:11.880Z"
   },
   {
    "duration": 53,
    "start_time": "2022-08-02T05:39:11.902Z"
   },
   {
    "duration": 19,
    "start_time": "2022-08-02T05:39:11.957Z"
   },
   {
    "duration": 16,
    "start_time": "2022-08-02T05:39:11.977Z"
   },
   {
    "duration": 38,
    "start_time": "2022-08-02T05:39:11.995Z"
   },
   {
    "duration": 17,
    "start_time": "2022-08-02T05:39:12.035Z"
   },
   {
    "duration": 17,
    "start_time": "2022-08-02T05:39:12.053Z"
   },
   {
    "duration": 9,
    "start_time": "2022-08-02T05:39:12.071Z"
   },
   {
    "duration": 55,
    "start_time": "2022-08-02T05:39:12.082Z"
   },
   {
    "duration": 254,
    "start_time": "2022-08-02T05:39:12.138Z"
   },
   {
    "duration": 21,
    "start_time": "2022-08-02T05:39:12.393Z"
   },
   {
    "duration": 342,
    "start_time": "2022-08-02T05:39:12.415Z"
   },
   {
    "duration": 294,
    "start_time": "2022-08-02T05:39:12.759Z"
   },
   {
    "duration": 4,
    "start_time": "2022-08-02T05:39:13.055Z"
   },
   {
    "duration": 72,
    "start_time": "2022-08-02T05:39:13.061Z"
   },
   {
    "duration": 5,
    "start_time": "2022-08-02T05:39:13.134Z"
   },
   {
    "duration": 14,
    "start_time": "2022-08-02T05:39:13.141Z"
   },
   {
    "duration": 204,
    "start_time": "2022-08-02T05:39:13.156Z"
   },
   {
    "duration": 36,
    "start_time": "2022-08-02T05:39:13.361Z"
   },
   {
    "duration": 6,
    "start_time": "2022-08-02T05:39:13.399Z"
   },
   {
    "duration": 310,
    "start_time": "2022-08-02T05:39:13.407Z"
   },
   {
    "duration": 20,
    "start_time": "2022-08-02T05:39:13.719Z"
   },
   {
    "duration": 33,
    "start_time": "2022-08-02T05:39:13.741Z"
   },
   {
    "duration": 2,
    "start_time": "2022-08-02T05:39:13.775Z"
   },
   {
    "duration": 274,
    "start_time": "2022-08-02T05:39:13.779Z"
   },
   {
    "duration": 36,
    "start_time": "2022-08-02T05:39:14.055Z"
   },
   {
    "duration": 39,
    "start_time": "2022-08-02T05:39:14.093Z"
   },
   {
    "duration": 14,
    "start_time": "2022-08-02T05:39:14.133Z"
   },
   {
    "duration": 19,
    "start_time": "2022-08-02T05:39:14.149Z"
   },
   {
    "duration": 46,
    "start_time": "2022-08-02T05:39:14.169Z"
   },
   {
    "duration": 317,
    "start_time": "2022-08-02T05:39:14.216Z"
   },
   {
    "duration": 10,
    "start_time": "2022-08-02T05:39:14.535Z"
   },
   {
    "duration": 223,
    "start_time": "2022-08-02T05:39:14.546Z"
   },
   {
    "duration": 20,
    "start_time": "2022-08-02T05:39:14.770Z"
   },
   {
    "duration": 4,
    "start_time": "2022-08-02T05:39:14.791Z"
   },
   {
    "duration": 56,
    "start_time": "2022-08-02T05:39:14.797Z"
   },
   {
    "duration": 5,
    "start_time": "2022-08-02T05:39:14.854Z"
   },
   {
    "duration": 25,
    "start_time": "2022-08-02T05:39:14.860Z"
   },
   {
    "duration": 14,
    "start_time": "2022-08-02T05:39:14.890Z"
   },
   {
    "duration": 8,
    "start_time": "2022-08-02T05:39:14.905Z"
   },
   {
    "duration": 29,
    "start_time": "2022-08-02T05:39:14.914Z"
   },
   {
    "duration": 17,
    "start_time": "2022-08-02T05:39:14.945Z"
   },
   {
    "duration": 32,
    "start_time": "2022-08-02T05:39:14.964Z"
   },
   {
    "duration": 52,
    "start_time": "2022-08-02T05:39:14.998Z"
   },
   {
    "duration": 5,
    "start_time": "2022-08-02T05:39:15.051Z"
   },
   {
    "duration": 14,
    "start_time": "2022-08-02T05:39:15.058Z"
   },
   {
    "duration": 5,
    "start_time": "2022-08-02T05:39:15.074Z"
   }
  ],
  "kernelspec": {
   "display_name": "Python 3 (ipykernel)",
   "language": "python",
   "name": "python3"
  },
  "language_info": {
   "codemirror_mode": {
    "name": "ipython",
    "version": 3
   },
   "file_extension": ".py",
   "mimetype": "text/x-python",
   "name": "python",
   "nbconvert_exporter": "python",
   "pygments_lexer": "ipython3",
   "version": "3.9.7"
  },
  "toc": {
   "base_numbering": 1,
   "nav_menu": {},
   "number_sections": true,
   "sideBar": true,
   "skip_h1_title": true,
   "title_cell": "Table of Contents",
   "title_sidebar": "Contents",
   "toc_cell": false,
   "toc_position": {
    "height": "calc(100% - 180px)",
    "left": "10px",
    "top": "150px",
    "width": "255.594px"
   },
   "toc_section_display": true,
   "toc_window_display": true
  }
 },
 "nbformat": 4,
 "nbformat_minor": 2
}
