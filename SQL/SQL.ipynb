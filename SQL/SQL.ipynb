{
 "cells": [
  {
   "cell_type": "markdown",
   "metadata": {},
   "source": [
    "**Анализ базы данных сервиса для чтения книг по подписке**"
   ]
  },
  {
   "cell_type": "markdown",
   "metadata": {},
   "source": [
    "\n",
    "\n",
    "    Компания  купила крупный сервис для чтения книг по подписке. \n",
    "    \n",
    "    Проанализирована база данных, в которой есть информация о книгах, издательствах, авторах, а также пользовательские обзоры книг. Результаты анализа помогут сформулировать ценностное предложение для нового продукта.\n"
   ]
  },
  {
   "cell_type": "code",
   "execution_count": 2,
   "metadata": {},
   "outputs": [],
   "source": [
    "# импортируем библиотеки\n",
    "import pandas as pd\n",
    "from sqlalchemy import create_engine"
   ]
  },
  {
   "cell_type": "code",
   "execution_count": 3,
   "metadata": {},
   "outputs": [],
   "source": [
    "# устанавливаем параметры\n",
    "db_config = {'user': 'praktikum_student', # имя пользователя\n",
    " 'pwd': 'Sdf4$2;d-d30pp', # пароль\n",
    " 'host': 'rc1b-wcoijxj3yxfsf3fs.mdb.yandexcloud.net',\n",
    " 'port': 6432, # порт подключения\n",
    " 'db': 'data-analyst-final-project-db'} # название базы данных"
   ]
  },
  {
   "cell_type": "code",
   "execution_count": 4,
   "metadata": {},
   "outputs": [],
   "source": [
    "connection_string = 'postgresql://{}:{}@{}:{}/{}'.format(db_config['user'],\n",
    " db_config['pwd'],\n",
    " db_config['host'],\n",
    " db_config['port'],\n",
    " db_config['db'])\n",
    "# сохраняем коннектор\n",
    "engine = create_engine(connection_string, connect_args={'sslmode':'require'}) "
   ]
  },
  {
   "cell_type": "markdown",
   "metadata": {},
   "source": [
    "## Знакомство с данными"
   ]
  },
  {
   "cell_type": "code",
   "execution_count": 5,
   "metadata": {},
   "outputs": [
    {
     "data": {
      "text/html": [
       "<div>\n",
       "<style scoped>\n",
       "    .dataframe tbody tr th:only-of-type {\n",
       "        vertical-align: middle;\n",
       "    }\n",
       "\n",
       "    .dataframe tbody tr th {\n",
       "        vertical-align: top;\n",
       "    }\n",
       "\n",
       "    .dataframe thead th {\n",
       "        text-align: right;\n",
       "    }\n",
       "</style>\n",
       "<table border=\"1\" class=\"dataframe\">\n",
       "  <thead>\n",
       "    <tr style=\"text-align: right;\">\n",
       "      <th></th>\n",
       "      <th>book_id</th>\n",
       "      <th>author_id</th>\n",
       "      <th>title</th>\n",
       "      <th>num_pages</th>\n",
       "      <th>publication_date</th>\n",
       "      <th>publisher_id</th>\n",
       "    </tr>\n",
       "  </thead>\n",
       "  <tbody>\n",
       "    <tr>\n",
       "      <th>0</th>\n",
       "      <td>1</td>\n",
       "      <td>546</td>\n",
       "      <td>'Salem's Lot</td>\n",
       "      <td>594</td>\n",
       "      <td>2005-11-01</td>\n",
       "      <td>93</td>\n",
       "    </tr>\n",
       "    <tr>\n",
       "      <th>1</th>\n",
       "      <td>2</td>\n",
       "      <td>465</td>\n",
       "      <td>1 000 Places to See Before You Die</td>\n",
       "      <td>992</td>\n",
       "      <td>2003-05-22</td>\n",
       "      <td>336</td>\n",
       "    </tr>\n",
       "    <tr>\n",
       "      <th>2</th>\n",
       "      <td>3</td>\n",
       "      <td>407</td>\n",
       "      <td>13 Little Blue Envelopes (Little Blue Envelope...</td>\n",
       "      <td>322</td>\n",
       "      <td>2010-12-21</td>\n",
       "      <td>135</td>\n",
       "    </tr>\n",
       "    <tr>\n",
       "      <th>3</th>\n",
       "      <td>4</td>\n",
       "      <td>82</td>\n",
       "      <td>1491: New Revelations of the Americas Before C...</td>\n",
       "      <td>541</td>\n",
       "      <td>2006-10-10</td>\n",
       "      <td>309</td>\n",
       "    </tr>\n",
       "    <tr>\n",
       "      <th>4</th>\n",
       "      <td>5</td>\n",
       "      <td>125</td>\n",
       "      <td>1776</td>\n",
       "      <td>386</td>\n",
       "      <td>2006-07-04</td>\n",
       "      <td>268</td>\n",
       "    </tr>\n",
       "  </tbody>\n",
       "</table>\n",
       "</div>"
      ],
      "text/plain": [
       "   book_id  author_id                                              title  \\\n",
       "0        1        546                                       'Salem's Lot   \n",
       "1        2        465                 1 000 Places to See Before You Die   \n",
       "2        3        407  13 Little Blue Envelopes (Little Blue Envelope...   \n",
       "3        4         82  1491: New Revelations of the Americas Before C...   \n",
       "4        5        125                                               1776   \n",
       "\n",
       "   num_pages publication_date  publisher_id  \n",
       "0        594       2005-11-01            93  \n",
       "1        992       2003-05-22           336  \n",
       "2        322       2010-12-21           135  \n",
       "3        541       2006-10-10           309  \n",
       "4        386       2006-07-04           268  "
      ]
     },
     "execution_count": 5,
     "metadata": {},
     "output_type": "execute_result"
    }
   ],
   "source": [
    "query = (\n",
    "'''\n",
    "SELECT *\n",
    "FROM books\n",
    "LIMIT 5;\n",
    "\n",
    "''')\n",
    "\n",
    "pd.io.sql.read_sql(query, con = engine)"
   ]
  },
  {
   "cell_type": "markdown",
   "metadata": {},
   "source": [
    "данные о книгах:\n",
    "- book_id — идентификатор книги;\n",
    "- author_id — идентификатор автора;\n",
    "- title — название книги;\n",
    "- num_pages — количество страниц;\n",
    "- publication_date — дата публикации книги;\n",
    "- publisher_id — идентификатор издателя."
   ]
  },
  {
   "cell_type": "code",
   "execution_count": 6,
   "metadata": {},
   "outputs": [
    {
     "data": {
      "text/html": [
       "<div>\n",
       "<style scoped>\n",
       "    .dataframe tbody tr th:only-of-type {\n",
       "        vertical-align: middle;\n",
       "    }\n",
       "\n",
       "    .dataframe tbody tr th {\n",
       "        vertical-align: top;\n",
       "    }\n",
       "\n",
       "    .dataframe thead th {\n",
       "        text-align: right;\n",
       "    }\n",
       "</style>\n",
       "<table border=\"1\" class=\"dataframe\">\n",
       "  <thead>\n",
       "    <tr style=\"text-align: right;\">\n",
       "      <th></th>\n",
       "      <th>author_id</th>\n",
       "      <th>author</th>\n",
       "    </tr>\n",
       "  </thead>\n",
       "  <tbody>\n",
       "    <tr>\n",
       "      <th>0</th>\n",
       "      <td>1</td>\n",
       "      <td>A.S. Byatt</td>\n",
       "    </tr>\n",
       "    <tr>\n",
       "      <th>1</th>\n",
       "      <td>2</td>\n",
       "      <td>Aesop/Laura Harris/Laura Gibbs</td>\n",
       "    </tr>\n",
       "    <tr>\n",
       "      <th>2</th>\n",
       "      <td>3</td>\n",
       "      <td>Agatha Christie</td>\n",
       "    </tr>\n",
       "    <tr>\n",
       "      <th>3</th>\n",
       "      <td>4</td>\n",
       "      <td>Alan Brennert</td>\n",
       "    </tr>\n",
       "    <tr>\n",
       "      <th>4</th>\n",
       "      <td>5</td>\n",
       "      <td>Alan Moore/David   Lloyd</td>\n",
       "    </tr>\n",
       "  </tbody>\n",
       "</table>\n",
       "</div>"
      ],
      "text/plain": [
       "   author_id                          author\n",
       "0          1                      A.S. Byatt\n",
       "1          2  Aesop/Laura Harris/Laura Gibbs\n",
       "2          3                 Agatha Christie\n",
       "3          4                   Alan Brennert\n",
       "4          5        Alan Moore/David   Lloyd"
      ]
     },
     "execution_count": 6,
     "metadata": {},
     "output_type": "execute_result"
    }
   ],
   "source": [
    "query = (\n",
    "'''\n",
    "SELECT *\n",
    "FROM authors\n",
    "LIMIT 5 ;\n",
    "\n",
    "''')\n",
    "\n",
    "pd.io.sql.read_sql(query, con = engine)"
   ]
  },
  {
   "cell_type": "markdown",
   "metadata": {},
   "source": [
    "данные об авторах:\n",
    "- author_id — идентификатор автора;\n",
    "- author — имя автора."
   ]
  },
  {
   "cell_type": "code",
   "execution_count": 7,
   "metadata": {},
   "outputs": [
    {
     "data": {
      "text/html": [
       "<div>\n",
       "<style scoped>\n",
       "    .dataframe tbody tr th:only-of-type {\n",
       "        vertical-align: middle;\n",
       "    }\n",
       "\n",
       "    .dataframe tbody tr th {\n",
       "        vertical-align: top;\n",
       "    }\n",
       "\n",
       "    .dataframe thead th {\n",
       "        text-align: right;\n",
       "    }\n",
       "</style>\n",
       "<table border=\"1\" class=\"dataframe\">\n",
       "  <thead>\n",
       "    <tr style=\"text-align: right;\">\n",
       "      <th></th>\n",
       "      <th>publisher_id</th>\n",
       "      <th>publisher</th>\n",
       "    </tr>\n",
       "  </thead>\n",
       "  <tbody>\n",
       "    <tr>\n",
       "      <th>0</th>\n",
       "      <td>1</td>\n",
       "      <td>Ace</td>\n",
       "    </tr>\n",
       "    <tr>\n",
       "      <th>1</th>\n",
       "      <td>2</td>\n",
       "      <td>Ace Book</td>\n",
       "    </tr>\n",
       "    <tr>\n",
       "      <th>2</th>\n",
       "      <td>3</td>\n",
       "      <td>Ace Books</td>\n",
       "    </tr>\n",
       "    <tr>\n",
       "      <th>3</th>\n",
       "      <td>4</td>\n",
       "      <td>Ace Hardcover</td>\n",
       "    </tr>\n",
       "    <tr>\n",
       "      <th>4</th>\n",
       "      <td>5</td>\n",
       "      <td>Addison Wesley Publishing Company</td>\n",
       "    </tr>\n",
       "  </tbody>\n",
       "</table>\n",
       "</div>"
      ],
      "text/plain": [
       "   publisher_id                          publisher\n",
       "0             1                                Ace\n",
       "1             2                           Ace Book\n",
       "2             3                          Ace Books\n",
       "3             4                      Ace Hardcover\n",
       "4             5  Addison Wesley Publishing Company"
      ]
     },
     "execution_count": 7,
     "metadata": {},
     "output_type": "execute_result"
    }
   ],
   "source": [
    "query = (\n",
    "'''\n",
    "select *\n",
    "from publishers\n",
    "LIMIT 5;\n",
    "\n",
    "''')\n",
    "\n",
    "pd.io.sql.read_sql(query, con = engine)"
   ]
  },
  {
   "cell_type": "markdown",
   "metadata": {},
   "source": [
    "данные об издательствах:\n",
    "- publisher_id — идентификатор издательства;\n",
    "- publisher — название издательства;"
   ]
  },
  {
   "cell_type": "code",
   "execution_count": 8,
   "metadata": {},
   "outputs": [
    {
     "data": {
      "text/html": [
       "<div>\n",
       "<style scoped>\n",
       "    .dataframe tbody tr th:only-of-type {\n",
       "        vertical-align: middle;\n",
       "    }\n",
       "\n",
       "    .dataframe tbody tr th {\n",
       "        vertical-align: top;\n",
       "    }\n",
       "\n",
       "    .dataframe thead th {\n",
       "        text-align: right;\n",
       "    }\n",
       "</style>\n",
       "<table border=\"1\" class=\"dataframe\">\n",
       "  <thead>\n",
       "    <tr style=\"text-align: right;\">\n",
       "      <th></th>\n",
       "      <th>rating_id</th>\n",
       "      <th>book_id</th>\n",
       "      <th>username</th>\n",
       "      <th>rating</th>\n",
       "    </tr>\n",
       "  </thead>\n",
       "  <tbody>\n",
       "    <tr>\n",
       "      <th>0</th>\n",
       "      <td>1</td>\n",
       "      <td>1</td>\n",
       "      <td>ryanfranco</td>\n",
       "      <td>4</td>\n",
       "    </tr>\n",
       "    <tr>\n",
       "      <th>1</th>\n",
       "      <td>2</td>\n",
       "      <td>1</td>\n",
       "      <td>grantpatricia</td>\n",
       "      <td>2</td>\n",
       "    </tr>\n",
       "    <tr>\n",
       "      <th>2</th>\n",
       "      <td>3</td>\n",
       "      <td>1</td>\n",
       "      <td>brandtandrea</td>\n",
       "      <td>5</td>\n",
       "    </tr>\n",
       "    <tr>\n",
       "      <th>3</th>\n",
       "      <td>4</td>\n",
       "      <td>2</td>\n",
       "      <td>lorichen</td>\n",
       "      <td>3</td>\n",
       "    </tr>\n",
       "    <tr>\n",
       "      <th>4</th>\n",
       "      <td>5</td>\n",
       "      <td>2</td>\n",
       "      <td>mariokeller</td>\n",
       "      <td>2</td>\n",
       "    </tr>\n",
       "  </tbody>\n",
       "</table>\n",
       "</div>"
      ],
      "text/plain": [
       "   rating_id  book_id       username  rating\n",
       "0          1        1     ryanfranco       4\n",
       "1          2        1  grantpatricia       2\n",
       "2          3        1   brandtandrea       5\n",
       "3          4        2       lorichen       3\n",
       "4          5        2    mariokeller       2"
      ]
     },
     "execution_count": 8,
     "metadata": {},
     "output_type": "execute_result"
    }
   ],
   "source": [
    "query = (\n",
    "'''\n",
    "SELECT *\n",
    "FROM ratings\n",
    "LIMIT 5;\n",
    "\n",
    "''')\n",
    "\n",
    "pd.io.sql.read_sql(query, con = engine)"
   ]
  },
  {
   "cell_type": "markdown",
   "metadata": {},
   "source": [
    "данные о пользовательских оценках книг:\n",
    "- rating_id — идентификатор оценки;\n",
    "- book_id — идентификатор книги;\n",
    "- username — имя пользователя, оставившего оценку;\n",
    "- rating — оценка книги."
   ]
  },
  {
   "cell_type": "code",
   "execution_count": 9,
   "metadata": {},
   "outputs": [
    {
     "data": {
      "text/html": [
       "<div>\n",
       "<style scoped>\n",
       "    .dataframe tbody tr th:only-of-type {\n",
       "        vertical-align: middle;\n",
       "    }\n",
       "\n",
       "    .dataframe tbody tr th {\n",
       "        vertical-align: top;\n",
       "    }\n",
       "\n",
       "    .dataframe thead th {\n",
       "        text-align: right;\n",
       "    }\n",
       "</style>\n",
       "<table border=\"1\" class=\"dataframe\">\n",
       "  <thead>\n",
       "    <tr style=\"text-align: right;\">\n",
       "      <th></th>\n",
       "      <th>review_id</th>\n",
       "      <th>book_id</th>\n",
       "      <th>username</th>\n",
       "      <th>text</th>\n",
       "    </tr>\n",
       "  </thead>\n",
       "  <tbody>\n",
       "    <tr>\n",
       "      <th>0</th>\n",
       "      <td>1</td>\n",
       "      <td>1</td>\n",
       "      <td>brandtandrea</td>\n",
       "      <td>Mention society tell send professor analysis. ...</td>\n",
       "    </tr>\n",
       "    <tr>\n",
       "      <th>1</th>\n",
       "      <td>2</td>\n",
       "      <td>1</td>\n",
       "      <td>ryanfranco</td>\n",
       "      <td>Foot glass pretty audience hit themselves. Amo...</td>\n",
       "    </tr>\n",
       "    <tr>\n",
       "      <th>2</th>\n",
       "      <td>3</td>\n",
       "      <td>2</td>\n",
       "      <td>lorichen</td>\n",
       "      <td>Listen treat keep worry. Miss husband tax but ...</td>\n",
       "    </tr>\n",
       "    <tr>\n",
       "      <th>3</th>\n",
       "      <td>4</td>\n",
       "      <td>3</td>\n",
       "      <td>johnsonamanda</td>\n",
       "      <td>Finally month interesting blue could nature cu...</td>\n",
       "    </tr>\n",
       "    <tr>\n",
       "      <th>4</th>\n",
       "      <td>5</td>\n",
       "      <td>3</td>\n",
       "      <td>scotttamara</td>\n",
       "      <td>Nation purpose heavy give wait song will. List...</td>\n",
       "    </tr>\n",
       "  </tbody>\n",
       "</table>\n",
       "</div>"
      ],
      "text/plain": [
       "   review_id  book_id       username  \\\n",
       "0          1        1   brandtandrea   \n",
       "1          2        1     ryanfranco   \n",
       "2          3        2       lorichen   \n",
       "3          4        3  johnsonamanda   \n",
       "4          5        3    scotttamara   \n",
       "\n",
       "                                                text  \n",
       "0  Mention society tell send professor analysis. ...  \n",
       "1  Foot glass pretty audience hit themselves. Amo...  \n",
       "2  Listen treat keep worry. Miss husband tax but ...  \n",
       "3  Finally month interesting blue could nature cu...  \n",
       "4  Nation purpose heavy give wait song will. List...  "
      ]
     },
     "execution_count": 9,
     "metadata": {},
     "output_type": "execute_result"
    }
   ],
   "source": [
    "query = (\n",
    "'''\n",
    "SELECT *\n",
    "FROM reviews\n",
    "LIMIT 5;\n",
    "\n",
    "''')\n",
    "\n",
    "pd.io.sql.read_sql(query, con = engine)"
   ]
  },
  {
   "cell_type": "markdown",
   "metadata": {},
   "source": [
    "данные о пользовательских обзорах на книги:\n",
    "- review_id — идентификатор обзора;\n",
    "- book_id — идентификатор книги;\n",
    "- username — имя пользователя, написавшего обзор;\n",
    "- text — текст обзор"
   ]
  },
  {
   "cell_type": "markdown",
   "metadata": {},
   "source": [
    "## Cколько книг вышло после 1 января 2000 года"
   ]
  },
  {
   "cell_type": "code",
   "execution_count": 10,
   "metadata": {},
   "outputs": [
    {
     "data": {
      "text/html": [
       "<div>\n",
       "<style scoped>\n",
       "    .dataframe tbody tr th:only-of-type {\n",
       "        vertical-align: middle;\n",
       "    }\n",
       "\n",
       "    .dataframe tbody tr th {\n",
       "        vertical-align: top;\n",
       "    }\n",
       "\n",
       "    .dataframe thead th {\n",
       "        text-align: right;\n",
       "    }\n",
       "</style>\n",
       "<table border=\"1\" class=\"dataframe\">\n",
       "  <thead>\n",
       "    <tr style=\"text-align: right;\">\n",
       "      <th></th>\n",
       "      <th>count</th>\n",
       "    </tr>\n",
       "  </thead>\n",
       "  <tbody>\n",
       "    <tr>\n",
       "      <th>0</th>\n",
       "      <td>821</td>\n",
       "    </tr>\n",
       "  </tbody>\n",
       "</table>\n",
       "</div>"
      ],
      "text/plain": [
       "   count\n",
       "0    821"
      ]
     },
     "execution_count": 10,
     "metadata": {},
     "output_type": "execute_result"
    }
   ],
   "source": [
    "query = (\n",
    "'''\n",
    "SELECT COUNT(book_id)\n",
    "FROM books\n",
    "WHERE publication_date >= '2000-01-01'\n",
    ";\n",
    "\n",
    "''')\n",
    "\n",
    "pd.io.sql.read_sql(query, con = engine)"
   ]
  },
  {
   "cell_type": "markdown",
   "metadata": {},
   "source": [
    "## Количество обзоров и средняя оценка для каждой книги"
   ]
  },
  {
   "cell_type": "code",
   "execution_count": 11,
   "metadata": {},
   "outputs": [
    {
     "data": {
      "text/html": [
       "<div>\n",
       "<style scoped>\n",
       "    .dataframe tbody tr th:only-of-type {\n",
       "        vertical-align: middle;\n",
       "    }\n",
       "\n",
       "    .dataframe tbody tr th {\n",
       "        vertical-align: top;\n",
       "    }\n",
       "\n",
       "    .dataframe thead th {\n",
       "        text-align: right;\n",
       "    }\n",
       "</style>\n",
       "<table border=\"1\" class=\"dataframe\">\n",
       "  <thead>\n",
       "    <tr style=\"text-align: right;\">\n",
       "      <th></th>\n",
       "      <th>book_id</th>\n",
       "      <th>title</th>\n",
       "      <th>count_review</th>\n",
       "      <th>avg_rating</th>\n",
       "    </tr>\n",
       "  </thead>\n",
       "  <tbody>\n",
       "    <tr>\n",
       "      <th>0</th>\n",
       "      <td>1</td>\n",
       "      <td>'Salem's Lot</td>\n",
       "      <td>2</td>\n",
       "      <td>3.666667</td>\n",
       "    </tr>\n",
       "    <tr>\n",
       "      <th>1</th>\n",
       "      <td>2</td>\n",
       "      <td>1 000 Places to See Before You Die</td>\n",
       "      <td>1</td>\n",
       "      <td>2.500000</td>\n",
       "    </tr>\n",
       "    <tr>\n",
       "      <th>2</th>\n",
       "      <td>3</td>\n",
       "      <td>13 Little Blue Envelopes (Little Blue Envelope...</td>\n",
       "      <td>3</td>\n",
       "      <td>4.666667</td>\n",
       "    </tr>\n",
       "    <tr>\n",
       "      <th>3</th>\n",
       "      <td>4</td>\n",
       "      <td>1491: New Revelations of the Americas Before C...</td>\n",
       "      <td>2</td>\n",
       "      <td>4.500000</td>\n",
       "    </tr>\n",
       "    <tr>\n",
       "      <th>4</th>\n",
       "      <td>5</td>\n",
       "      <td>1776</td>\n",
       "      <td>4</td>\n",
       "      <td>4.000000</td>\n",
       "    </tr>\n",
       "    <tr>\n",
       "      <th>...</th>\n",
       "      <td>...</td>\n",
       "      <td>...</td>\n",
       "      <td>...</td>\n",
       "      <td>...</td>\n",
       "    </tr>\n",
       "    <tr>\n",
       "      <th>995</th>\n",
       "      <td>996</td>\n",
       "      <td>Wyrd Sisters (Discworld  #6; Witches #2)</td>\n",
       "      <td>3</td>\n",
       "      <td>3.666667</td>\n",
       "    </tr>\n",
       "    <tr>\n",
       "      <th>996</th>\n",
       "      <td>997</td>\n",
       "      <td>Xenocide (Ender's Saga  #3)</td>\n",
       "      <td>3</td>\n",
       "      <td>3.400000</td>\n",
       "    </tr>\n",
       "    <tr>\n",
       "      <th>997</th>\n",
       "      <td>998</td>\n",
       "      <td>Year of Wonders</td>\n",
       "      <td>4</td>\n",
       "      <td>3.200000</td>\n",
       "    </tr>\n",
       "    <tr>\n",
       "      <th>998</th>\n",
       "      <td>999</td>\n",
       "      <td>You Suck (A Love Story  #2)</td>\n",
       "      <td>2</td>\n",
       "      <td>4.500000</td>\n",
       "    </tr>\n",
       "    <tr>\n",
       "      <th>999</th>\n",
       "      <td>1000</td>\n",
       "      <td>Zen and the Art of Motorcycle Maintenance: An ...</td>\n",
       "      <td>4</td>\n",
       "      <td>3.833333</td>\n",
       "    </tr>\n",
       "  </tbody>\n",
       "</table>\n",
       "<p>1000 rows × 4 columns</p>\n",
       "</div>"
      ],
      "text/plain": [
       "     book_id                                              title  count_review  \\\n",
       "0          1                                       'Salem's Lot             2   \n",
       "1          2                 1 000 Places to See Before You Die             1   \n",
       "2          3  13 Little Blue Envelopes (Little Blue Envelope...             3   \n",
       "3          4  1491: New Revelations of the Americas Before C...             2   \n",
       "4          5                                               1776             4   \n",
       "..       ...                                                ...           ...   \n",
       "995      996           Wyrd Sisters (Discworld  #6; Witches #2)             3   \n",
       "996      997                        Xenocide (Ender's Saga  #3)             3   \n",
       "997      998                                    Year of Wonders             4   \n",
       "998      999                        You Suck (A Love Story  #2)             2   \n",
       "999     1000  Zen and the Art of Motorcycle Maintenance: An ...             4   \n",
       "\n",
       "     avg_rating  \n",
       "0      3.666667  \n",
       "1      2.500000  \n",
       "2      4.666667  \n",
       "3      4.500000  \n",
       "4      4.000000  \n",
       "..          ...  \n",
       "995    3.666667  \n",
       "996    3.400000  \n",
       "997    3.200000  \n",
       "998    4.500000  \n",
       "999    3.833333  \n",
       "\n",
       "[1000 rows x 4 columns]"
      ]
     },
     "execution_count": 11,
     "metadata": {},
     "output_type": "execute_result"
    }
   ],
   "source": [
    "query = (\n",
    "'''\n",
    "WITH\n",
    "re AS (SELECT b.book_id AS book_id,\n",
    "              b.title AS title,\n",
    "              COUNT (re.review_id) AS count_review\n",
    "       FROM books AS b\n",
    "       LEFT JOIN reviews AS re ON b.book_id=re.book_id\n",
    "       GROUP BY b.book_id),\n",
    "ra AS (SELECT b.book_id AS book_id,\n",
    "              AVG (ra.rating) AS avg_rating\n",
    "       FROM books AS b\n",
    "       LEFT JOIN ratings AS ra ON b.book_id=ra.book_id\n",
    "       GROUP BY b.book_id)\n",
    "SELECT re.book_id,\n",
    "       re.title,\n",
    "       re.count_review,\n",
    "       ra.avg_rating\n",
    "       \n",
    "FROM re JOIN ra ON re.book_id=ra.book_id\n",
    ";\n",
    "\n",
    "''')\n",
    "\n",
    "pd.io.sql.read_sql(query, con = engine)"
   ]
  },
  {
   "cell_type": "markdown",
   "metadata": {},
   "source": [
    "## Издательство, которое выпустило наибольшее число книг, кроме брошюр. "
   ]
  },
  {
   "cell_type": "markdown",
   "metadata": {},
   "source": [
    "Брошюрами считаем книги меньше 50 страниц."
   ]
  },
  {
   "cell_type": "code",
   "execution_count": 12,
   "metadata": {},
   "outputs": [
    {
     "data": {
      "text/html": [
       "<div>\n",
       "<style scoped>\n",
       "    .dataframe tbody tr th:only-of-type {\n",
       "        vertical-align: middle;\n",
       "    }\n",
       "\n",
       "    .dataframe tbody tr th {\n",
       "        vertical-align: top;\n",
       "    }\n",
       "\n",
       "    .dataframe thead th {\n",
       "        text-align: right;\n",
       "    }\n",
       "</style>\n",
       "<table border=\"1\" class=\"dataframe\">\n",
       "  <thead>\n",
       "    <tr style=\"text-align: right;\">\n",
       "      <th></th>\n",
       "      <th>publisher</th>\n",
       "      <th>count_books</th>\n",
       "    </tr>\n",
       "  </thead>\n",
       "  <tbody>\n",
       "    <tr>\n",
       "      <th>0</th>\n",
       "      <td>Penguin Books</td>\n",
       "      <td>42</td>\n",
       "    </tr>\n",
       "  </tbody>\n",
       "</table>\n",
       "</div>"
      ],
      "text/plain": [
       "       publisher  count_books\n",
       "0  Penguin Books           42"
      ]
     },
     "execution_count": 12,
     "metadata": {},
     "output_type": "execute_result"
    }
   ],
   "source": [
    "query = (\n",
    "'''\n",
    "SELECT p.publisher,\n",
    "       COUNT (b.book_id) AS count_books\n",
    "\n",
    "FROM books AS b\n",
    "JOIN publishers AS p ON b.publisher_id=p.publisher_id\n",
    "WHERE num_pages >50\n",
    "\n",
    "GROUP BY p.publisher_id\n",
    "ORDER BY count_books DESC\n",
    "LIMIT 1;\n",
    "\n",
    "''')\n",
    "\n",
    "pd.io.sql.read_sql(query, con = engine)"
   ]
  },
  {
   "cell_type": "markdown",
   "metadata": {},
   "source": [
    "## Автор с самой высокой средней оценкой книг,  учитывали только книги с 50 и более оценками"
   ]
  },
  {
   "cell_type": "code",
   "execution_count": 16,
   "metadata": {},
   "outputs": [
    {
     "data": {
      "text/html": [
       "<div>\n",
       "<style scoped>\n",
       "    .dataframe tbody tr th:only-of-type {\n",
       "        vertical-align: middle;\n",
       "    }\n",
       "\n",
       "    .dataframe tbody tr th {\n",
       "        vertical-align: top;\n",
       "    }\n",
       "\n",
       "    .dataframe thead th {\n",
       "        text-align: right;\n",
       "    }\n",
       "</style>\n",
       "<table border=\"1\" class=\"dataframe\">\n",
       "  <thead>\n",
       "    <tr style=\"text-align: right;\">\n",
       "      <th></th>\n",
       "      <th>author_id</th>\n",
       "      <th>author</th>\n",
       "      <th>avg</th>\n",
       "    </tr>\n",
       "  </thead>\n",
       "  <tbody>\n",
       "    <tr>\n",
       "      <th>0</th>\n",
       "      <td>236</td>\n",
       "      <td>J.K. Rowling/Mary GrandPré</td>\n",
       "      <td>4.287097</td>\n",
       "    </tr>\n",
       "  </tbody>\n",
       "</table>\n",
       "</div>"
      ],
      "text/plain": [
       "   author_id                      author       avg\n",
       "0        236  J.K. Rowling/Mary GrandPré  4.287097"
      ]
     },
     "execution_count": 16,
     "metadata": {},
     "output_type": "execute_result"
    }
   ],
   "source": [
    "query = (\n",
    "'''\n",
    "SELECT a.author_id,\n",
    "       a.author,\n",
    "       AVG(ra.rating) \n",
    "       \n",
    "FROM (SELECT book_id,\n",
    "             COUNT(rating_id)\n",
    "             \n",
    "      FROM ratings\n",
    "      GROUP BY book_id\n",
    "      HAVING COUNT(rating_id) > 50) AS cr\n",
    "LEFT JOIN ratings AS ra ON cr.book_id=ra.book_id\n",
    "LEFT JOIN books AS b ON cr.book_id=b.book_id\n",
    "LEFT JOIN authors AS a ON b.author_id=a.author_id\n",
    "\n",
    "GROUP BY a.author_id\n",
    "ORDER BY AVG(ra.rating) DESC\n",
    "\n",
    "LIMIT 1;\n",
    "\n",
    "''')\n",
    "\n",
    "pd.io.sql.read_sql(query, con = engine)"
   ]
  },
  {
   "cell_type": "markdown",
   "metadata": {},
   "source": [
    "## Среднее количество обзоров от пользователей, которые поставили больше 50 оценок."
   ]
  },
  {
   "cell_type": "code",
   "execution_count": 14,
   "metadata": {},
   "outputs": [
    {
     "data": {
      "text/html": [
       "<div>\n",
       "<style scoped>\n",
       "    .dataframe tbody tr th:only-of-type {\n",
       "        vertical-align: middle;\n",
       "    }\n",
       "\n",
       "    .dataframe tbody tr th {\n",
       "        vertical-align: top;\n",
       "    }\n",
       "\n",
       "    .dataframe thead th {\n",
       "        text-align: right;\n",
       "    }\n",
       "</style>\n",
       "<table border=\"1\" class=\"dataframe\">\n",
       "  <thead>\n",
       "    <tr style=\"text-align: right;\">\n",
       "      <th></th>\n",
       "      <th>?column?</th>\n",
       "    </tr>\n",
       "  </thead>\n",
       "  <tbody>\n",
       "    <tr>\n",
       "      <th>0</th>\n",
       "      <td>24</td>\n",
       "    </tr>\n",
       "  </tbody>\n",
       "</table>\n",
       "</div>"
      ],
      "text/plain": [
       "   ?column?\n",
       "0        24"
      ]
     },
     "execution_count": 14,
     "metadata": {},
     "output_type": "execute_result"
    }
   ],
   "source": [
    "query = (\n",
    "'''\n",
    "SELECT COUNT (review_id) / COUNT(DISTINCT username)\n",
    "FROM reviews\n",
    "WHERE username IN (SELECT username\n",
    "                   FROM ratings\n",
    "                   GROUP BY username\n",
    "                   HAVING COUNT(rating_id) > 50)\n",
    "\n",
    "\n",
    "\n",
    "''')\n",
    "\n",
    "pd.io.sql.read_sql(query, con = engine)"
   ]
  }
 ],
 "metadata": {
  "ExecuteTimeLog": [
   {
    "duration": 8323,
    "start_time": "2022-08-03T15:34:18.286Z"
   },
   {
    "duration": 75,
    "start_time": "2022-08-03T15:36:11.282Z"
   },
   {
    "duration": 11,
    "start_time": "2022-08-03T15:36:46.941Z"
   },
   {
    "duration": 12,
    "start_time": "2022-08-03T15:39:00.719Z"
   },
   {
    "duration": 12,
    "start_time": "2022-08-03T15:40:51.156Z"
   },
   {
    "duration": 14,
    "start_time": "2022-08-03T15:41:41.801Z"
   },
   {
    "duration": 11,
    "start_time": "2022-08-03T15:43:06.353Z"
   },
   {
    "duration": 27,
    "start_time": "2022-08-03T15:44:05.087Z"
   },
   {
    "duration": 13,
    "start_time": "2022-08-03T15:45:46.034Z"
   },
   {
    "duration": 159,
    "start_time": "2022-08-03T15:46:58.642Z"
   },
   {
    "duration": 42,
    "start_time": "2022-08-04T02:20:38.771Z"
   },
   {
    "duration": 52,
    "start_time": "2022-08-04T02:20:53.790Z"
   },
   {
    "duration": 0,
    "start_time": "2022-08-04T02:20:53.844Z"
   },
   {
    "duration": 0,
    "start_time": "2022-08-04T02:20:53.845Z"
   },
   {
    "duration": 11,
    "start_time": "2022-08-04T02:20:53.848Z"
   },
   {
    "duration": 0,
    "start_time": "2022-08-04T02:20:53.860Z"
   },
   {
    "duration": 0,
    "start_time": "2022-08-04T02:20:53.862Z"
   },
   {
    "duration": 0,
    "start_time": "2022-08-04T02:20:53.862Z"
   },
   {
    "duration": 0,
    "start_time": "2022-08-04T02:20:53.863Z"
   },
   {
    "duration": 6,
    "start_time": "2022-08-04T02:20:53.873Z"
   },
   {
    "duration": 12,
    "start_time": "2022-08-04T02:20:53.884Z"
   },
   {
    "duration": 0,
    "start_time": "2022-08-04T02:20:53.897Z"
   },
   {
    "duration": 5861,
    "start_time": "2022-08-04T02:21:22.331Z"
   },
   {
    "duration": 236,
    "start_time": "2022-08-04T02:21:38.189Z"
   },
   {
    "duration": 69,
    "start_time": "2022-08-04T02:21:44.929Z"
   },
   {
    "duration": 67,
    "start_time": "2022-08-04T02:21:49.689Z"
   },
   {
    "duration": 69,
    "start_time": "2022-08-04T02:21:53.650Z"
   },
   {
    "duration": 76,
    "start_time": "2022-08-04T02:22:20.972Z"
   },
   {
    "duration": 66,
    "start_time": "2022-08-04T02:22:28.465Z"
   },
   {
    "duration": 102,
    "start_time": "2022-08-04T02:22:34.399Z"
   },
   {
    "duration": 68,
    "start_time": "2022-08-04T02:23:20.490Z"
   },
   {
    "duration": 167,
    "start_time": "2022-08-04T02:23:30.007Z"
   },
   {
    "duration": 72,
    "start_time": "2022-08-04T02:24:03.237Z"
   },
   {
    "duration": 72,
    "start_time": "2022-08-04T02:24:39.739Z"
   },
   {
    "duration": 71,
    "start_time": "2022-08-04T02:25:21.634Z"
   },
   {
    "duration": 69,
    "start_time": "2022-08-04T03:05:07.223Z"
   },
   {
    "duration": 85,
    "start_time": "2022-08-04T03:18:20.022Z"
   },
   {
    "duration": 72,
    "start_time": "2022-08-04T03:23:11.240Z"
   },
   {
    "duration": 128,
    "start_time": "2022-08-04T03:29:01.175Z"
   },
   {
    "duration": 82,
    "start_time": "2022-08-04T03:29:14.370Z"
   },
   {
    "duration": 69,
    "start_time": "2022-08-04T03:42:23.833Z"
   },
   {
    "duration": 6361,
    "start_time": "2022-08-04T04:00:57.655Z"
   },
   {
    "duration": 234,
    "start_time": "2022-08-04T04:01:04.018Z"
   },
   {
    "duration": 66,
    "start_time": "2022-08-04T04:01:04.254Z"
   },
   {
    "duration": 66,
    "start_time": "2022-08-04T04:01:04.322Z"
   },
   {
    "duration": 68,
    "start_time": "2022-08-04T04:01:04.389Z"
   },
   {
    "duration": 67,
    "start_time": "2022-08-04T04:01:04.458Z"
   },
   {
    "duration": 65,
    "start_time": "2022-08-04T04:01:04.526Z"
   },
   {
    "duration": 101,
    "start_time": "2022-08-04T04:01:04.592Z"
   },
   {
    "duration": 76,
    "start_time": "2022-08-04T04:01:04.695Z"
   },
   {
    "duration": 70,
    "start_time": "2022-08-04T04:01:04.774Z"
   },
   {
    "duration": 68,
    "start_time": "2022-08-04T04:01:04.846Z"
   },
   {
    "duration": 10189,
    "start_time": "2022-08-04T10:56:54.164Z"
   },
   {
    "duration": 256,
    "start_time": "2022-08-04T10:57:04.355Z"
   },
   {
    "duration": 70,
    "start_time": "2022-08-04T10:57:04.613Z"
   },
   {
    "duration": 73,
    "start_time": "2022-08-04T10:57:04.686Z"
   },
   {
    "duration": 72,
    "start_time": "2022-08-04T10:57:04.761Z"
   },
   {
    "duration": 72,
    "start_time": "2022-08-04T10:57:04.836Z"
   },
   {
    "duration": 75,
    "start_time": "2022-08-04T10:57:04.911Z"
   },
   {
    "duration": 109,
    "start_time": "2022-08-04T10:57:04.989Z"
   },
   {
    "duration": 90,
    "start_time": "2022-08-04T10:57:05.100Z"
   },
   {
    "duration": 78,
    "start_time": "2022-08-04T10:57:05.193Z"
   },
   {
    "duration": 74,
    "start_time": "2022-08-04T10:57:05.273Z"
   },
   {
    "duration": 103,
    "start_time": "2022-08-04T10:58:09.758Z"
   },
   {
    "duration": 86,
    "start_time": "2022-08-04T10:58:12.254Z"
   },
   {
    "duration": 483,
    "start_time": "2022-08-04T11:28:03.569Z"
   },
   {
    "duration": 3,
    "start_time": "2022-08-04T11:28:08.271Z"
   },
   {
    "duration": 5996,
    "start_time": "2022-08-04T11:28:13.043Z"
   },
   {
    "duration": 268,
    "start_time": "2022-08-04T11:28:27.390Z"
   },
   {
    "duration": 121,
    "start_time": "2022-08-04T11:34:38.206Z"
   },
   {
    "duration": 67,
    "start_time": "2022-08-04T11:35:09.759Z"
   },
   {
    "duration": 257,
    "start_time": "2022-08-04T11:37:42.939Z"
   },
   {
    "duration": 108,
    "start_time": "2022-08-04T11:38:35.884Z"
   },
   {
    "duration": 70,
    "start_time": "2022-08-04T11:40:59.121Z"
   },
   {
    "duration": 66,
    "start_time": "2022-08-04T11:41:31.866Z"
   },
   {
    "duration": 64,
    "start_time": "2022-08-04T11:41:36.475Z"
   },
   {
    "duration": 70,
    "start_time": "2022-08-04T11:41:40.075Z"
   },
   {
    "duration": 65,
    "start_time": "2022-08-04T11:41:44.211Z"
   },
   {
    "duration": 64,
    "start_time": "2022-08-04T11:41:48.806Z"
   },
   {
    "duration": 141,
    "start_time": "2022-08-04T11:43:08.928Z"
   },
   {
    "duration": 513,
    "start_time": "2022-08-04T11:46:24.108Z"
   },
   {
    "duration": 185,
    "start_time": "2022-08-04T11:47:19.912Z"
   },
   {
    "duration": 141,
    "start_time": "2022-08-04T11:48:09.511Z"
   },
   {
    "duration": 80,
    "start_time": "2022-08-04T11:48:25.508Z"
   },
   {
    "duration": 79,
    "start_time": "2022-08-04T11:51:43.648Z"
   },
   {
    "duration": 66,
    "start_time": "2022-08-04T11:55:34.768Z"
   },
   {
    "duration": 65,
    "start_time": "2022-08-04T11:56:58.117Z"
   },
   {
    "duration": 314,
    "start_time": "2022-08-04T11:57:21.615Z"
   },
   {
    "duration": 322,
    "start_time": "2022-08-04T11:59:23.267Z"
   },
   {
    "duration": 132,
    "start_time": "2022-08-04T12:00:16.686Z"
   },
   {
    "duration": 130,
    "start_time": "2022-08-04T12:00:46.947Z"
   },
   {
    "duration": 343,
    "start_time": "2022-08-04T12:01:39.231Z"
   },
   {
    "duration": 334,
    "start_time": "2022-08-04T12:02:04.217Z"
   },
   {
    "duration": 66,
    "start_time": "2022-08-04T12:06:42.121Z"
   },
   {
    "duration": 131,
    "start_time": "2022-08-04T12:06:58.324Z"
   },
   {
    "duration": 130,
    "start_time": "2022-08-04T12:07:11.762Z"
   },
   {
    "duration": 115,
    "start_time": "2022-08-04T12:07:51.920Z"
   },
   {
    "duration": 66,
    "start_time": "2022-08-04T12:08:30.216Z"
   },
   {
    "duration": 334,
    "start_time": "2022-08-04T12:16:34.647Z"
   },
   {
    "duration": 133,
    "start_time": "2022-08-04T12:25:52.769Z"
   },
   {
    "duration": 137,
    "start_time": "2022-08-04T12:27:04.025Z"
   },
   {
    "duration": 144,
    "start_time": "2022-08-04T12:27:43.119Z"
   },
   {
    "duration": 132,
    "start_time": "2022-08-04T12:28:31.651Z"
   },
   {
    "duration": 65,
    "start_time": "2022-08-04T12:29:01.999Z"
   },
   {
    "duration": 157,
    "start_time": "2022-08-04T12:29:51.086Z"
   },
   {
    "duration": 67,
    "start_time": "2022-08-04T12:32:11.917Z"
   },
   {
    "duration": 66,
    "start_time": "2022-08-04T12:37:14.936Z"
   },
   {
    "duration": 135,
    "start_time": "2022-08-04T12:37:30.527Z"
   },
   {
    "duration": 175,
    "start_time": "2022-08-04T12:40:07.778Z"
   },
   {
    "duration": 80,
    "start_time": "2022-08-04T12:40:30.627Z"
   },
   {
    "duration": 66,
    "start_time": "2022-08-04T12:41:24.158Z"
   },
   {
    "duration": 67,
    "start_time": "2022-08-04T12:44:50.549Z"
   },
   {
    "duration": 66,
    "start_time": "2022-08-04T12:45:04.853Z"
   },
   {
    "duration": 119,
    "start_time": "2022-08-04T12:45:19.722Z"
   },
   {
    "duration": 67,
    "start_time": "2022-08-04T12:46:37.485Z"
   },
   {
    "duration": 104,
    "start_time": "2022-08-04T12:50:40.470Z"
   },
   {
    "duration": 125,
    "start_time": "2022-08-04T12:51:05.026Z"
   },
   {
    "duration": 76,
    "start_time": "2022-08-04T12:52:02.451Z"
   },
   {
    "duration": 80,
    "start_time": "2022-08-04T12:59:57.825Z"
   },
   {
    "duration": 75,
    "start_time": "2022-08-04T13:01:36.412Z"
   },
   {
    "duration": 74,
    "start_time": "2022-08-04T13:12:39.469Z"
   },
   {
    "duration": 139,
    "start_time": "2022-08-04T13:15:50.510Z"
   },
   {
    "duration": 322,
    "start_time": "2022-08-04T13:16:00.539Z"
   },
   {
    "duration": 67,
    "start_time": "2022-08-04T13:18:51.311Z"
   },
   {
    "duration": 67,
    "start_time": "2022-08-04T13:24:52.569Z"
   },
   {
    "duration": 65,
    "start_time": "2022-08-04T13:25:18.209Z"
   },
   {
    "duration": 125,
    "start_time": "2022-08-04T13:26:57.072Z"
   },
   {
    "duration": 68,
    "start_time": "2022-08-04T13:27:28.688Z"
   },
   {
    "duration": 68,
    "start_time": "2022-08-04T13:29:19.266Z"
   },
   {
    "duration": 127,
    "start_time": "2022-08-04T13:40:16.794Z"
   },
   {
    "duration": 66,
    "start_time": "2022-08-04T13:40:25.577Z"
   },
   {
    "duration": 155,
    "start_time": "2022-08-04T13:42:29.954Z"
   },
   {
    "duration": 65,
    "start_time": "2022-08-04T13:42:39.642Z"
   },
   {
    "duration": 68,
    "start_time": "2022-08-04T13:50:23.556Z"
   },
   {
    "duration": 79,
    "start_time": "2022-08-04T13:50:49.867Z"
   },
   {
    "duration": 116,
    "start_time": "2022-08-04T13:56:02.761Z"
   },
   {
    "duration": 130,
    "start_time": "2022-08-04T13:57:14.191Z"
   },
   {
    "duration": 124,
    "start_time": "2022-08-04T13:58:28.377Z"
   },
   {
    "duration": 91,
    "start_time": "2022-08-04T13:59:28.251Z"
   },
   {
    "duration": 90,
    "start_time": "2022-08-04T14:00:55.687Z"
   },
   {
    "duration": 79,
    "start_time": "2022-08-04T14:21:31.084Z"
   },
   {
    "duration": 67,
    "start_time": "2022-08-04T14:21:48.725Z"
   },
   {
    "duration": 68,
    "start_time": "2022-08-04T14:28:30.836Z"
   },
   {
    "duration": 121,
    "start_time": "2022-08-04T14:30:35.673Z"
   },
   {
    "duration": 95,
    "start_time": "2022-08-04T14:36:11.093Z"
   },
   {
    "duration": 70,
    "start_time": "2022-08-04T14:39:26.516Z"
   },
   {
    "duration": 429,
    "start_time": "2022-08-04T14:40:04.041Z"
   },
   {
    "duration": 70,
    "start_time": "2022-08-04T14:51:05.294Z"
   },
   {
    "duration": 70,
    "start_time": "2022-08-04T14:51:17.026Z"
   },
   {
    "duration": 68,
    "start_time": "2022-08-04T15:07:24.407Z"
   },
   {
    "duration": 196,
    "start_time": "2022-08-04T15:30:19.100Z"
   },
   {
    "duration": 133,
    "start_time": "2022-08-04T15:31:17.688Z"
   },
   {
    "duration": 129,
    "start_time": "2022-08-04T15:34:28.883Z"
   },
   {
    "duration": 131,
    "start_time": "2022-08-04T15:39:35.519Z"
   },
   {
    "duration": 126,
    "start_time": "2022-08-04T15:39:53.117Z"
   },
   {
    "duration": 69,
    "start_time": "2022-08-04T16:07:21.359Z"
   },
   {
    "duration": 124,
    "start_time": "2022-08-04T16:07:55.831Z"
   },
   {
    "duration": 67,
    "start_time": "2022-08-04T16:10:41.720Z"
   },
   {
    "duration": 66,
    "start_time": "2022-08-04T16:18:59.034Z"
   },
   {
    "duration": 190,
    "start_time": "2022-08-04T16:19:11.560Z"
   },
   {
    "duration": 128,
    "start_time": "2022-08-04T16:19:38.822Z"
   },
   {
    "duration": 153,
    "start_time": "2022-08-04T16:20:49.234Z"
   },
   {
    "duration": 140,
    "start_time": "2022-08-04T16:23:59.571Z"
   },
   {
    "duration": 70,
    "start_time": "2022-08-04T16:24:37.526Z"
   },
   {
    "duration": 70,
    "start_time": "2022-08-04T16:24:49.575Z"
   },
   {
    "duration": 69,
    "start_time": "2022-08-04T16:26:39.277Z"
   },
   {
    "duration": 71,
    "start_time": "2022-08-04T16:27:03.246Z"
   },
   {
    "duration": 4,
    "start_time": "2022-08-04T16:36:33.229Z"
   },
   {
    "duration": 522,
    "start_time": "2022-08-04T16:36:33.237Z"
   },
   {
    "duration": 3,
    "start_time": "2022-08-04T16:36:33.761Z"
   },
   {
    "duration": 5056,
    "start_time": "2022-08-04T16:36:33.766Z"
   },
   {
    "duration": 268,
    "start_time": "2022-08-04T16:36:38.824Z"
   },
   {
    "duration": 72,
    "start_time": "2022-08-04T16:36:39.095Z"
   },
   {
    "duration": 69,
    "start_time": "2022-08-04T16:36:39.168Z"
   },
   {
    "duration": 69,
    "start_time": "2022-08-04T16:36:39.239Z"
   },
   {
    "duration": 69,
    "start_time": "2022-08-04T16:36:39.310Z"
   },
   {
    "duration": 67,
    "start_time": "2022-08-04T16:36:39.380Z"
   },
   {
    "duration": 102,
    "start_time": "2022-08-04T16:36:39.450Z"
   },
   {
    "duration": 70,
    "start_time": "2022-08-04T16:36:39.553Z"
   },
   {
    "duration": 75,
    "start_time": "2022-08-04T16:36:39.624Z"
   },
   {
    "duration": 71,
    "start_time": "2022-08-04T16:36:39.701Z"
   },
   {
    "duration": 73,
    "start_time": "2022-08-04T16:37:20.678Z"
   },
   {
    "duration": 4,
    "start_time": "2022-08-04T18:33:40.004Z"
   },
   {
    "duration": 575,
    "start_time": "2022-08-04T18:33:40.010Z"
   },
   {
    "duration": 3,
    "start_time": "2022-08-04T18:33:40.587Z"
   },
   {
    "duration": 8666,
    "start_time": "2022-08-04T18:33:40.592Z"
   },
   {
    "duration": 267,
    "start_time": "2022-08-04T18:33:49.260Z"
   },
   {
    "duration": 78,
    "start_time": "2022-08-04T18:33:49.529Z"
   },
   {
    "duration": 75,
    "start_time": "2022-08-04T18:33:49.609Z"
   },
   {
    "duration": 79,
    "start_time": "2022-08-04T18:33:49.686Z"
   },
   {
    "duration": 83,
    "start_time": "2022-08-04T18:33:49.768Z"
   },
   {
    "duration": 76,
    "start_time": "2022-08-04T18:33:49.852Z"
   },
   {
    "duration": 116,
    "start_time": "2022-08-04T18:33:49.930Z"
   },
   {
    "duration": 80,
    "start_time": "2022-08-04T18:33:50.048Z"
   },
   {
    "duration": 83,
    "start_time": "2022-08-04T18:33:50.130Z"
   },
   {
    "duration": 79,
    "start_time": "2022-08-04T18:33:50.215Z"
   },
   {
    "duration": 81,
    "start_time": "2022-08-04T18:33:59.990Z"
   },
   {
    "duration": 84,
    "start_time": "2022-08-04T18:34:02.439Z"
   }
  ],
  "kernelspec": {
   "display_name": "Python 3 (ipykernel)",
   "language": "python",
   "name": "python3"
  },
  "language_info": {
   "codemirror_mode": {
    "name": "ipython",
    "version": 3
   },
   "file_extension": ".py",
   "mimetype": "text/x-python",
   "name": "python",
   "nbconvert_exporter": "python",
   "pygments_lexer": "ipython3",
   "version": "3.9.7"
  },
  "toc": {
   "base_numbering": 1,
   "nav_menu": {},
   "number_sections": true,
   "sideBar": true,
   "skip_h1_title": true,
   "title_cell": "Table of Contents",
   "title_sidebar": "Contents",
   "toc_cell": false,
   "toc_position": {},
   "toc_section_display": true,
   "toc_window_display": false
  }
 },
 "nbformat": 4,
 "nbformat_minor": 2
}
